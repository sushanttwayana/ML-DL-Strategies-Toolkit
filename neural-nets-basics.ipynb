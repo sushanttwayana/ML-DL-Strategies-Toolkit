{
 "cells": [
  {
   "cell_type": "code",
   "execution_count": 1,
   "id": "cd67b3af",
   "metadata": {
    "execution": {
     "iopub.execute_input": "2024-01-05T14:56:45.431256Z",
     "iopub.status.busy": "2024-01-05T14:56:45.430877Z",
     "iopub.status.idle": "2024-01-05T14:56:45.435197Z",
     "shell.execute_reply": "2024-01-05T14:56:45.434356Z"
    },
    "papermill": {
     "duration": 0.015519,
     "end_time": "2024-01-05T14:56:45.437452",
     "exception": false,
     "start_time": "2024-01-05T14:56:45.421933",
     "status": "completed"
    },
    "tags": []
   },
   "outputs": [],
   "source": [
    "##Neural Network "
   ]
  },
  {
   "cell_type": "code",
   "execution_count": 2,
   "id": "0fceddaa",
   "metadata": {
    "execution": {
     "iopub.execute_input": "2024-01-05T14:56:45.453739Z",
     "iopub.status.busy": "2024-01-05T14:56:45.453071Z",
     "iopub.status.idle": "2024-01-05T14:56:45.457309Z",
     "shell.execute_reply": "2024-01-05T14:56:45.456429Z"
    },
    "papermill": {
     "duration": 0.014975,
     "end_time": "2024-01-05T14:56:45.459577",
     "exception": false,
     "start_time": "2024-01-05T14:56:45.444602",
     "status": "completed"
    },
    "tags": []
   },
   "outputs": [],
   "source": [
    "#feed forward Network"
   ]
  },
  {
   "cell_type": "code",
   "execution_count": 3,
   "id": "aea94ea1",
   "metadata": {
    "execution": {
     "iopub.execute_input": "2024-01-05T14:56:45.475977Z",
     "iopub.status.busy": "2024-01-05T14:56:45.474989Z",
     "iopub.status.idle": "2024-01-05T14:56:45.487401Z",
     "shell.execute_reply": "2024-01-05T14:56:45.486359Z"
    },
    "papermill": {
     "duration": 0.0233,
     "end_time": "2024-01-05T14:56:45.489919",
     "exception": false,
     "start_time": "2024-01-05T14:56:45.466619",
     "status": "completed"
    },
    "tags": []
   },
   "outputs": [],
   "source": [
    "import numpy as np"
   ]
  },
  {
   "cell_type": "code",
   "execution_count": 4,
   "id": "ca4a04e7",
   "metadata": {
    "execution": {
     "iopub.execute_input": "2024-01-05T14:56:45.505953Z",
     "iopub.status.busy": "2024-01-05T14:56:45.505060Z",
     "iopub.status.idle": "2024-01-05T14:56:45.509767Z",
     "shell.execute_reply": "2024-01-05T14:56:45.508594Z"
    },
    "papermill": {
     "duration": 0.015463,
     "end_time": "2024-01-05T14:56:45.512215",
     "exception": false,
     "start_time": "2024-01-05T14:56:45.496752",
     "status": "completed"
    },
    "tags": []
   },
   "outputs": [],
   "source": [
    "#defining Input layer consisting two node\n",
    "input_data = np.array([2, 3])"
   ]
  },
  {
   "cell_type": "code",
   "execution_count": 5,
   "id": "8274c654",
   "metadata": {
    "execution": {
     "iopub.execute_input": "2024-01-05T14:56:45.527874Z",
     "iopub.status.busy": "2024-01-05T14:56:45.527307Z",
     "iopub.status.idle": "2024-01-05T14:56:45.532443Z",
     "shell.execute_reply": "2024-01-05T14:56:45.531462Z"
    },
    "papermill": {
     "duration": 0.015549,
     "end_time": "2024-01-05T14:56:45.534652",
     "exception": false,
     "start_time": "2024-01-05T14:56:45.519103",
     "status": "completed"
    },
    "tags": []
   },
   "outputs": [],
   "source": [
    "#defining weights where there consist of one hidden-layer with two node single output node\n",
    "\n",
    "weights = {'node0': np.array([1,1]),\n",
    "          'node1': np.array([-1, 1]),\n",
    "          'output': np.array([2, -1])}"
   ]
  },
  {
   "cell_type": "code",
   "execution_count": 6,
   "id": "b6024edb",
   "metadata": {
    "execution": {
     "iopub.execute_input": "2024-01-05T14:56:45.550250Z",
     "iopub.status.busy": "2024-01-05T14:56:45.549884Z",
     "iopub.status.idle": "2024-01-05T14:56:45.556361Z",
     "shell.execute_reply": "2024-01-05T14:56:45.555211Z"
    },
    "papermill": {
     "duration": 0.017627,
     "end_time": "2024-01-05T14:56:45.559028",
     "exception": false,
     "start_time": "2024-01-05T14:56:45.541401",
     "status": "completed"
    },
    "tags": []
   },
   "outputs": [],
   "source": [
    "#calculating the value of the each node in hidden layer\n",
    "\n",
    "node0_value = (input_data * weights['node0']).sum()\n",
    "node1_value = (input_data * weights['node1']).sum()"
   ]
  },
  {
   "cell_type": "code",
   "execution_count": 7,
   "id": "56acfd46",
   "metadata": {
    "execution": {
     "iopub.execute_input": "2024-01-05T14:56:45.574517Z",
     "iopub.status.busy": "2024-01-05T14:56:45.574090Z",
     "iopub.status.idle": "2024-01-05T14:56:45.581529Z",
     "shell.execute_reply": "2024-01-05T14:56:45.580237Z"
    },
    "papermill": {
     "duration": 0.018004,
     "end_time": "2024-01-05T14:56:45.583884",
     "exception": false,
     "start_time": "2024-01-05T14:56:45.565880",
     "status": "completed"
    },
    "tags": []
   },
   "outputs": [
    {
     "name": "stdout",
     "output_type": "stream",
     "text": [
      "[5 1]\n"
     ]
    }
   ],
   "source": [
    "# Output of Hidden layer\n",
    "hidden_layer_value = np.array([node0_value, node1_value])\n",
    "print(hidden_layer_value)"
   ]
  },
  {
   "cell_type": "code",
   "execution_count": 8,
   "id": "698ddce1",
   "metadata": {
    "execution": {
     "iopub.execute_input": "2024-01-05T14:56:45.600294Z",
     "iopub.status.busy": "2024-01-05T14:56:45.599636Z",
     "iopub.status.idle": "2024-01-05T14:56:45.605594Z",
     "shell.execute_reply": "2024-01-05T14:56:45.604515Z"
    },
    "papermill": {
     "duration": 0.017442,
     "end_time": "2024-01-05T14:56:45.608331",
     "exception": false,
     "start_time": "2024-01-05T14:56:45.590889",
     "status": "completed"
    },
    "tags": []
   },
   "outputs": [
    {
     "name": "stdout",
     "output_type": "stream",
     "text": [
      "9\n"
     ]
    }
   ],
   "source": [
    "##now calculating the output of the output layer\n",
    "# output=(hiddenlayer_value*weights['output']).sum()\n",
    "output = (hidden_layer_value  * weights['output']).sum()\n",
    "print(output)"
   ]
  },
  {
   "cell_type": "code",
   "execution_count": 9,
   "id": "838f8996",
   "metadata": {
    "execution": {
     "iopub.execute_input": "2024-01-05T14:56:45.624175Z",
     "iopub.status.busy": "2024-01-05T14:56:45.623757Z",
     "iopub.status.idle": "2024-01-05T14:56:45.628226Z",
     "shell.execute_reply": "2024-01-05T14:56:45.627228Z"
    },
    "papermill": {
     "duration": 0.015496,
     "end_time": "2024-01-05T14:56:45.630916",
     "exception": false,
     "start_time": "2024-01-05T14:56:45.615420",
     "status": "completed"
    },
    "tags": []
   },
   "outputs": [],
   "source": [
    "##Neural Nets with activation function\n",
    "#allows model to capture non linearities\n",
    "#applied to node inputs to produce node outputs\n",
    "#example Tanh ReLU\n"
   ]
  },
  {
   "cell_type": "code",
   "execution_count": 10,
   "id": "2400f469",
   "metadata": {
    "execution": {
     "iopub.execute_input": "2024-01-05T14:56:45.647414Z",
     "iopub.status.busy": "2024-01-05T14:56:45.647024Z",
     "iopub.status.idle": "2024-01-05T14:56:45.652428Z",
     "shell.execute_reply": "2024-01-05T14:56:45.651394Z"
    },
    "papermill": {
     "duration": 0.016163,
     "end_time": "2024-01-05T14:56:45.654828",
     "exception": false,
     "start_time": "2024-01-05T14:56:45.638665",
     "status": "completed"
    },
    "tags": []
   },
   "outputs": [],
   "source": [
    "#calculating the vlaue of the each node in hidden layer with activation function tanh\n",
    "\n",
    "node0_input = ((input_data * weights['node0']).sum())\n",
    "node0_output = np.tanh(node0_input)\n",
    "node1_input = ((input_data *weights['node1']).sum())\n",
    "node1_output = np.tanh(node1_input)"
   ]
  },
  {
   "cell_type": "code",
   "execution_count": 11,
   "id": "2d7d1241",
   "metadata": {
    "execution": {
     "iopub.execute_input": "2024-01-05T14:56:45.670734Z",
     "iopub.status.busy": "2024-01-05T14:56:45.670373Z",
     "iopub.status.idle": "2024-01-05T14:56:45.676292Z",
     "shell.execute_reply": "2024-01-05T14:56:45.675139Z"
    },
    "papermill": {
     "duration": 0.017626,
     "end_time": "2024-01-05T14:56:45.679511",
     "exception": false,
     "start_time": "2024-01-05T14:56:45.661885",
     "status": "completed"
    },
    "tags": []
   },
   "outputs": [
    {
     "name": "stdout",
     "output_type": "stream",
     "text": [
      "[0.9999092  0.76159416]\n"
     ]
    }
   ],
   "source": [
    "##Output of Hidden layer\n",
    "hiddenlayer_value=np.array([node0_output,node1_output])\n",
    "print(hiddenlayer_value)"
   ]
  },
  {
   "cell_type": "code",
   "execution_count": 12,
   "id": "39a27975",
   "metadata": {
    "execution": {
     "iopub.execute_input": "2024-01-05T14:56:45.695964Z",
     "iopub.status.busy": "2024-01-05T14:56:45.695595Z",
     "iopub.status.idle": "2024-01-05T14:56:45.701020Z",
     "shell.execute_reply": "2024-01-05T14:56:45.699903Z"
    },
    "papermill": {
     "duration": 0.017389,
     "end_time": "2024-01-05T14:56:45.704070",
     "exception": false,
     "start_time": "2024-01-05T14:56:45.686681",
     "status": "completed"
    },
    "tags": []
   },
   "outputs": [
    {
     "name": "stdout",
     "output_type": "stream",
     "text": [
      "1.2382242525694254\n"
     ]
    }
   ],
   "source": [
    "##now calculating the output of the output layer\n",
    "output=(hiddenlayer_value*weights['output']).sum()\n",
    "print(output)"
   ]
  },
  {
   "cell_type": "code",
   "execution_count": 13,
   "id": "752d6822",
   "metadata": {
    "execution": {
     "iopub.execute_input": "2024-01-05T14:56:45.720631Z",
     "iopub.status.busy": "2024-01-05T14:56:45.720256Z",
     "iopub.status.idle": "2024-01-05T14:56:45.725170Z",
     "shell.execute_reply": "2024-01-05T14:56:45.724115Z"
    },
    "papermill": {
     "duration": 0.01632,
     "end_time": "2024-01-05T14:56:45.727727",
     "exception": false,
     "start_time": "2024-01-05T14:56:45.711407",
     "status": "completed"
    },
    "tags": []
   },
   "outputs": [],
   "source": [
    "#calculating the value of the each node in hidden layer with activation function relu\n",
    "\n",
    "def relu(input):\n",
    "    output = max(input, 0)\n",
    "    return(output)"
   ]
  },
  {
   "cell_type": "code",
   "execution_count": 14,
   "id": "b60a9183",
   "metadata": {
    "execution": {
     "iopub.execute_input": "2024-01-05T14:56:45.744947Z",
     "iopub.status.busy": "2024-01-05T14:56:45.744030Z",
     "iopub.status.idle": "2024-01-05T14:56:45.750592Z",
     "shell.execute_reply": "2024-01-05T14:56:45.749604Z"
    },
    "papermill": {
     "duration": 0.017804,
     "end_time": "2024-01-05T14:56:45.752929",
     "exception": false,
     "start_time": "2024-01-05T14:56:45.735125",
     "status": "completed"
    },
    "tags": []
   },
   "outputs": [],
   "source": [
    "node0_input=((input_data*weights['node0']).sum())\n",
    "node0_output=relu(node0_input)\n",
    "node1_input=((input_data*weights['node1']).sum())\n",
    "node1_output=relu(node1_input)"
   ]
  },
  {
   "cell_type": "code",
   "execution_count": 15,
   "id": "23264fad",
   "metadata": {
    "execution": {
     "iopub.execute_input": "2024-01-05T14:56:45.769818Z",
     "iopub.status.busy": "2024-01-05T14:56:45.768966Z",
     "iopub.status.idle": "2024-01-05T14:56:45.775062Z",
     "shell.execute_reply": "2024-01-05T14:56:45.773978Z"
    },
    "papermill": {
     "duration": 0.016842,
     "end_time": "2024-01-05T14:56:45.777316",
     "exception": false,
     "start_time": "2024-01-05T14:56:45.760474",
     "status": "completed"
    },
    "tags": []
   },
   "outputs": [
    {
     "name": "stdout",
     "output_type": "stream",
     "text": [
      "[5 1]\n"
     ]
    }
   ],
   "source": [
    "##Output of Hidden layer\n",
    "hiddenlayer_value=np.array([node0_output,node1_output])\n",
    "print(hiddenlayer_value)"
   ]
  },
  {
   "cell_type": "code",
   "execution_count": 16,
   "id": "5ba9de53",
   "metadata": {
    "execution": {
     "iopub.execute_input": "2024-01-05T14:56:45.793811Z",
     "iopub.status.busy": "2024-01-05T14:56:45.793442Z",
     "iopub.status.idle": "2024-01-05T14:56:45.799231Z",
     "shell.execute_reply": "2024-01-05T14:56:45.797988Z"
    },
    "papermill": {
     "duration": 0.01674,
     "end_time": "2024-01-05T14:56:45.801488",
     "exception": false,
     "start_time": "2024-01-05T14:56:45.784748",
     "status": "completed"
    },
    "tags": []
   },
   "outputs": [
    {
     "name": "stdout",
     "output_type": "stream",
     "text": [
      "9\n"
     ]
    }
   ],
   "source": [
    "##now calculating the output of the output layer\n",
    "output=(hiddenlayer_value*weights['output']).sum()\n",
    "print(output)"
   ]
  },
  {
   "cell_type": "code",
   "execution_count": 17,
   "id": "4e9e9304",
   "metadata": {
    "execution": {
     "iopub.execute_input": "2024-01-05T14:56:45.818198Z",
     "iopub.status.busy": "2024-01-05T14:56:45.817399Z",
     "iopub.status.idle": "2024-01-05T14:56:45.825291Z",
     "shell.execute_reply": "2024-01-05T14:56:45.824200Z"
    },
    "papermill": {
     "duration": 0.018784,
     "end_time": "2024-01-05T14:56:45.827584",
     "exception": false,
     "start_time": "2024-01-05T14:56:45.808800",
     "status": "completed"
    },
    "tags": []
   },
   "outputs": [],
   "source": [
    "# Define a whole network function for the neural nets as predict_with_network()\n",
    "def predict_with_network(input_data_row, weights):\n",
    "    # Calculate node 0 value\n",
    "    node_0_input = (input_data_row * weights['node0']).sum()\n",
    "    node_0_output = relu(node_0_input)\n",
    "    print(node_0_output)\n",
    "    # Calculate node 1 value\n",
    "    node_1_input = (input_data_row*weights['node1']).sum()\n",
    "    node_1_output = relu(node_1_input)\n",
    "    print(node_1_output)\n",
    "    # Put node values into array: hidden_layer_outputs\n",
    "    hidden_layer_outputs = np.array([node_0_output, node_1_output])\n",
    "    print(hidden_layer_outputs)\n",
    "    \n",
    "    # Calculate model output\n",
    "    input_to_final_layer = (hidden_layer_outputs*weights['output']).sum()\n",
    "    model_output = relu(input_to_final_layer)\n",
    "    \n",
    "    # Return model output\n",
    "    return(model_output)\n"
   ]
  },
  {
   "cell_type": "code",
   "execution_count": 18,
   "id": "a03899f6",
   "metadata": {
    "execution": {
     "iopub.execute_input": "2024-01-05T14:56:45.844702Z",
     "iopub.status.busy": "2024-01-05T14:56:45.844024Z",
     "iopub.status.idle": "2024-01-05T14:56:45.850290Z",
     "shell.execute_reply": "2024-01-05T14:56:45.849087Z"
    },
    "papermill": {
     "duration": 0.017269,
     "end_time": "2024-01-05T14:56:45.852436",
     "exception": false,
     "start_time": "2024-01-05T14:56:45.835167",
     "status": "completed"
    },
    "tags": []
   },
   "outputs": [
    {
     "name": "stdout",
     "output_type": "stream",
     "text": [
      "4\n",
      "0\n",
      "[4 0]\n",
      "6\n",
      "0\n",
      "[6 0]\n",
      "[8, 12]\n"
     ]
    }
   ],
   "source": [
    "# Create empty list to store prediction results\n",
    "results = []\n",
    "for input_data_row in input_data:\n",
    "   \n",
    "    # Append prediction to results\n",
    "    results.append( predict_with_network(input_data_row, weights))\n",
    "# Print results\n",
    "print(results)     \n"
   ]
  },
  {
   "cell_type": "markdown",
   "id": "25fa31e1",
   "metadata": {
    "papermill": {
     "duration": 0.007405,
     "end_time": "2024-01-05T14:56:45.867566",
     "exception": false,
     "start_time": "2024-01-05T14:56:45.860161",
     "status": "completed"
    },
    "tags": []
   },
   "source": [
    "\n",
    "The final result [8, 12] is obtained by applying the predict_with_network function to each row of the input_data and storing the predictions in the results list.\n",
    "\n",
    "Let's break down the calculations for each row:\n",
    "\n",
    "For the first row of input_data:\n",
    "\n",
    "Node 0 output: relu(4) = 4\n",
    "Node 1 output: relu(0) = 0\n",
    "Hidden layer outputs: [4, 0]\n",
    "Final output: relu((4 * weights['output'][0]) + (0 * weights['output'][1])) = relu(4 * 2) = relu(8) = 8\n",
    "For the second row of input_data:\n",
    "\n",
    "Node 0 output: relu(6) = 6\n",
    "Node 1 output: relu(0) = 0\n",
    "Hidden layer outputs: [6, 0]\n",
    "Final output: relu((6 * weights['output'][0]) + (0 * weights['output'][1])) = relu(6 * 2) = relu(12) = 12\n",
    "So, the final result is a list containing the model predictions for each row of input_data: [8, 12]."
   ]
  },
  {
   "cell_type": "code",
   "execution_count": null,
   "id": "40d3815b",
   "metadata": {
    "papermill": {
     "duration": 0.007238,
     "end_time": "2024-01-05T14:56:45.882266",
     "exception": false,
     "start_time": "2024-01-05T14:56:45.875028",
     "status": "completed"
    },
    "tags": []
   },
   "outputs": [],
   "source": []
  }
 ],
 "metadata": {
  "kaggle": {
   "accelerator": "none",
   "dataSources": [],
   "dockerImageVersionId": 30626,
   "isGpuEnabled": false,
   "isInternetEnabled": true,
   "language": "python",
   "sourceType": "notebook"
  },
  "kernelspec": {
   "display_name": "Python 3",
   "language": "python",
   "name": "python3"
  },
  "language_info": {
   "codemirror_mode": {
    "name": "ipython",
    "version": 3
   },
   "file_extension": ".py",
   "mimetype": "text/x-python",
   "name": "python",
   "nbconvert_exporter": "python",
   "pygments_lexer": "ipython3",
   "version": "3.10.12"
  },
  "papermill": {
   "default_parameters": {},
   "duration": 4.186292,
   "end_time": "2024-01-05T14:56:46.208655",
   "environment_variables": {},
   "exception": null,
   "input_path": "__notebook__.ipynb",
   "output_path": "__notebook__.ipynb",
   "parameters": {},
   "start_time": "2024-01-05T14:56:42.022363",
   "version": "2.4.0"
  }
 },
 "nbformat": 4,
 "nbformat_minor": 5
}
