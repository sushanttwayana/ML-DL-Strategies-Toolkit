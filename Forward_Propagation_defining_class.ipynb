{
  "cells": [
    {
      "cell_type": "markdown",
      "metadata": {
        "id": "view-in-github",
        "colab_type": "text"
      },
      "source": [
        "<a href=\"https://colab.research.google.com/github/sushanttwayana/ML-DL-Strategies-Toolkit/blob/main/Forward_Propagation_defining_class.ipynb\" target=\"_parent\"><img src=\"https://colab.research.google.com/assets/colab-badge.svg\" alt=\"Open In Colab\"/></a>"
      ]
    },
    {
      "cell_type": "code",
      "execution_count": 1,
      "id": "58b0efca-36ce-4896-9a3b-e854a3d986a0",
      "metadata": {
        "id": "58b0efca-36ce-4896-9a3b-e854a3d986a0"
      },
      "outputs": [],
      "source": [
        "import numpy as np\n",
        "\n",
        "# Define the sigmoid activation function\n",
        "def sigmoid(x):\n",
        "    return 1 / (1 + np.exp(-x))\n"
      ]
    },
    {
      "cell_type": "code",
      "execution_count": 2,
      "id": "02412ebe-4329-43b0-a9ff-01a84abc4482",
      "metadata": {
        "id": "02412ebe-4329-43b0-a9ff-01a84abc4482"
      },
      "outputs": [],
      "source": [
        "# Define the neural network class\n",
        "class NeuralNetwork:\n",
        "    def __init__(self):\n",
        "        # Initialize weights manually for simplicity (without random weights)\n",
        "        # Input layer (2 nodes) to hidden layer (3 nodes)\n",
        "        self.weights_input_hidden = np.array([[0.1, 0.2],\n",
        "                                              [0.3, 0.4],\n",
        "                                              [0.5, 0.6]])\n",
        "\n",
        "        # Hidden layer (3 nodes) to output layer (1 node)\n",
        "        self.weights_hidden_output = np.array([[0.7],\n",
        "                                               [0.8],\n",
        "                                               [0.9]])\n",
        "\n",
        "    def forward(self, inputs):\n",
        "        # Input to hidden layer\n",
        "        hidden_inputs = np.dot(self.weights_input_hidden, inputs)\n",
        "        hidden_outputs = sigmoid(hidden_inputs)\n",
        "\n",
        "        # Hidden layer to output\n",
        "        final_inputs = np.dot(self.weights_hidden_output.T, hidden_outputs)\n",
        "        final_output = sigmoid(final_inputs)\n",
        "\n",
        "        return final_output"
      ]
    },
    {
      "cell_type": "code",
      "execution_count": 3,
      "id": "a9fe56bb-9bb6-44bf-88e9-90f8e8c40728",
      "metadata": {
        "id": "a9fe56bb-9bb6-44bf-88e9-90f8e8c40728",
        "outputId": "5b14bdb8-169d-46c3-f81f-043b9f956124",
        "colab": {
          "base_uri": "https://localhost:8080/"
        }
      },
      "outputs": [
        {
          "output_type": "stream",
          "name": "stdout",
          "text": [
            "Output: 0.8084316449944642\n"
          ]
        }
      ],
      "source": [
        "# Test the neural network with sample input\n",
        "input_data = np.array([0.5, 0.6])  # Sample input\n",
        "neural_net = NeuralNetwork()\n",
        "output = neural_net.forward(input_data)\n",
        "print(\"Output:\", output[0])  # Output of the neural network"
      ]
    },
    {
      "cell_type": "code",
      "execution_count": 3,
      "id": "22b126af-a354-4626-904b-aa44fcd5e468",
      "metadata": {
        "id": "22b126af-a354-4626-904b-aa44fcd5e468"
      },
      "outputs": [],
      "source": []
    },
    {
      "cell_type": "code",
      "execution_count": 4,
      "id": "0125401b-9290-4c1d-baba-cd1a569e0e92",
      "metadata": {
        "id": "0125401b-9290-4c1d-baba-cd1a569e0e92"
      },
      "outputs": [],
      "source": [
        "def sigmoid_derivative(x):\n",
        "    return x * (1 - x)\n",
        "\n",
        "# Neural Network class\n",
        "class NeuralNetwork:\n",
        "    def __init__(self):\n",
        "        # Seed random numbers to make calculations deterministic\n",
        "        np.random.seed(1)\n",
        "\n",
        "        # Initialize weights for the hidden layer (2 input nodes, 2 hidden nodes)\n",
        "        self.weights_input_hidden = np.random.rand(2, 2)\n",
        "\n",
        "        # Initialize weights for the output layer (2 hidden nodes, 1 output node)\n",
        "        self.weights_hidden_output = np.random.rand(2, 1)\n",
        "\n",
        "    def feedforward(self, inputs):\n",
        "        # Calculate outputs for the hidden layer\n",
        "        hidden_layer_inputs = np.dot(inputs, self.weights_input_hidden)\n",
        "        hidden_layer_outputs = sigmoid(hidden_layer_inputs)\n",
        "\n",
        "        # Calculate outputs for the output layer\n",
        "        output_layer_inputs = np.dot(hidden_layer_outputs, self.weights_hidden_output)\n",
        "        output = sigmoid(output_layer_inputs)\n",
        "\n",
        "        return output, hidden_layer_outputs\n",
        "\n",
        "    def train(self, inputs, labels, epochs):\n",
        "        for epoch in range(epochs):\n",
        "            # Forward pass\n",
        "            output, hidden_outputs = self.feedforward(inputs)\n",
        "\n",
        "            # Calculate the error\n",
        "            output_error = labels - output\n",
        "\n",
        "            # Calculate gradients using chain rule and update weights\n",
        "            output_delta = output_error * sigmoid_derivative(output)\n",
        "            hidden_error = output_delta.dot(self.weights_hidden_output.T)\n",
        "            hidden_delta = hidden_error * sigmoid_derivative(hidden_outputs)\n",
        "\n",
        "            self.weights_hidden_output += hidden_outputs.T.dot(output_delta)\n",
        "            self.weights_input_hidden += inputs.T.dot(hidden_delta)\n",
        "\n",
        "    def predict(self, inputs):\n",
        "        # Forward pass to predict\n",
        "        output, _ = self.feedforward(inputs)\n",
        "        return output\n"
      ]
    },
    {
      "cell_type": "code",
      "execution_count": 5,
      "id": "48857536-b997-4bb9-ad4a-966c22b7c818",
      "metadata": {
        "id": "48857536-b997-4bb9-ad4a-966c22b7c818"
      },
      "outputs": [],
      "source": [
        "# Training data (inputs and labels)\n",
        "training_inputs = np.array([[0, 0], [0, 1], [1, 0], [1, 1]])\n",
        "training_labels = np.array([[0], [1], [1], [0]])"
      ]
    },
    {
      "cell_type": "code",
      "execution_count": 6,
      "id": "72061362-6f68-4e0f-b7a2-d110356fef0d",
      "metadata": {
        "id": "72061362-6f68-4e0f-b7a2-d110356fef0d"
      },
      "outputs": [],
      "source": [
        "# Create a neural network instance\n",
        "neural_network = NeuralNetwork()"
      ]
    },
    {
      "cell_type": "code",
      "execution_count": 7,
      "id": "78af2cab-6aab-4723-8455-9bbb851270a7",
      "metadata": {
        "id": "78af2cab-6aab-4723-8455-9bbb851270a7"
      },
      "outputs": [],
      "source": [
        "# Train the neural network for 10,000 epochs\n",
        "neural_network.train(training_inputs, training_labels, epochs=10000)"
      ]
    },
    {
      "cell_type": "code",
      "execution_count": 8,
      "id": "e5afdf47-3744-4ae8-ac84-2a3e7aadbdb4",
      "metadata": {
        "id": "e5afdf47-3744-4ae8-ac84-2a3e7aadbdb4",
        "outputId": "66bdc972-b8a3-4d70-da4f-bc31db0cd2d8",
        "colab": {
          "base_uri": "https://localhost:8080/"
        }
      },
      "outputs": [
        {
          "output_type": "stream",
          "name": "stdout",
          "text": [
            "Predicted output after training:\n",
            "[[0.03295058]\n",
            " [0.9305278 ]\n",
            " [0.93052773]\n",
            " [0.09263431]]\n"
          ]
        }
      ],
      "source": [
        "# Predictions on training data\n",
        "predicted_output = neural_network.predict(training_inputs)\n",
        "print(\"Predicted output after training:\")\n",
        "print(predicted_output)"
      ]
    },
    {
      "cell_type": "code",
      "execution_count": 9,
      "id": "f884a6f2-f369-4efe-bc43-16c765c1ea31",
      "metadata": {
        "id": "f884a6f2-f369-4efe-bc43-16c765c1ea31",
        "outputId": "143a7e62-074b-4b8f-f1fc-120555b46009",
        "colab": {
          "base_uri": "https://localhost:8080/"
        }
      },
      "outputs": [
        {
          "output_type": "stream",
          "name": "stdout",
          "text": [
            "Predicted output for new input [0.5, 0.5]:\n",
            "[[0.93052777]]\n"
          ]
        }
      ],
      "source": [
        "# Prediction for a new input\n",
        "new_input = np.array([[0.5, 0.5]])\n",
        "predicted_new_output = neural_network.predict(new_input)\n",
        "print(\"Predicted output for new input [0.5, 0.5]:\")\n",
        "print(predicted_new_output)"
      ]
    },
    {
      "cell_type": "code",
      "execution_count": 10,
      "id": "96d814c0-485d-434e-a6d7-7b5df280c1b2",
      "metadata": {
        "id": "96d814c0-485d-434e-a6d7-7b5df280c1b2",
        "outputId": "938e04f7-d548-4c04-9008-bde514c27cef",
        "colab": {
          "base_uri": "https://localhost:8080/"
        }
      },
      "outputs": [
        {
          "output_type": "stream",
          "name": "stdout",
          "text": [
            "Input: [[0.1]\n",
            " [0.5]\n",
            " [0.8]]\n",
            "Output: [[0.43247531]\n",
            " [0.56752469]]\n"
          ]
        }
      ],
      "source": [
        "\n",
        "\n",
        "# Define the neural network class\n",
        "class NeuralNetwork:\n",
        "    def __init__(self, input_size, hidden_size, output_size):\n",
        "        self.input_size = input_size\n",
        "        self.hidden_size = hidden_size\n",
        "        self.output_size = output_size\n",
        "\n",
        "        # Initialize weights and biases for the hidden and output layers\n",
        "        self.weights_hidden = np.random.randn(self.hidden_size, self.input_size)\n",
        "        self.bias_hidden = np.zeros((self.hidden_size, 1))\n",
        "\n",
        "        self.weights_output = np.random.randn(self.output_size, self.hidden_size)\n",
        "        self.bias_output = np.zeros((self.output_size, 1))\n",
        "\n",
        "    def sigmoid(self, x):\n",
        "        return 1 / (1 + np.exp(-x))\n",
        "\n",
        "    def softmax(self, x):\n",
        "        exp_values = np.exp(x - np.max(x, axis=0, keepdims=True))\n",
        "        return exp_values / np.sum(exp_values, axis=0, keepdims=True)\n",
        "\n",
        "    def forward(self, inputs):\n",
        "        # Forward pass through the network\n",
        "        self.inputs = inputs\n",
        "\n",
        "        # Hidden layer calculation\n",
        "        self.hidden_layer = np.dot(self.weights_hidden, inputs) + self.bias_hidden\n",
        "        self.hidden_activation = self.sigmoid(self.hidden_layer)\n",
        "\n",
        "        # Output layer calculation\n",
        "        self.output_layer = np.dot(self.weights_output, self.hidden_activation) + self.bias_output\n",
        "        self.output_activation = self.softmax(self.output_layer)\n",
        "\n",
        "        return self.output_activation\n",
        "\n",
        "# Example usage:\n",
        "# Define input size, hidden layer size, and output size\n",
        "input_size = 3\n",
        "hidden_size = 4\n",
        "output_size = 2\n",
        "\n",
        "# Create a neural network instance\n",
        "nn = NeuralNetwork(input_size, hidden_size, output_size)\n",
        "\n",
        "# Example input data (a single sample)\n",
        "input_data = np.array([[0.1], [0.5], [0.8]])\n",
        "\n",
        "# Perform a forward pass through the network\n",
        "output = nn.forward(input_data)\n",
        "\n",
        "print(\"Input:\", input_data)\n",
        "print(\"Output:\", output)\n"
      ]
    },
    {
      "cell_type": "code",
      "execution_count": 10,
      "id": "aa27fccf-efee-401c-aad1-6d226517035a",
      "metadata": {
        "id": "aa27fccf-efee-401c-aad1-6d226517035a"
      },
      "outputs": [],
      "source": []
    }
  ],
  "metadata": {
    "kernelspec": {
      "display_name": "Python 3 (ipykernel)",
      "language": "python",
      "name": "python3"
    },
    "language_info": {
      "codemirror_mode": {
        "name": "ipython",
        "version": 3
      },
      "file_extension": ".py",
      "mimetype": "text/x-python",
      "name": "python",
      "nbconvert_exporter": "python",
      "pygments_lexer": "ipython3",
      "version": "3.11.5"
    },
    "colab": {
      "provenance": [],
      "include_colab_link": true
    }
  },
  "nbformat": 4,
  "nbformat_minor": 5
}