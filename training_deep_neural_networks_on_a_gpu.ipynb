{
  "metadata": {
    "accelerator": "GPU",
    "colab": {
      "provenance": [],
      "include_colab_link": true
    },
    "kernelspec": {
      "display_name": "Python 3",
      "language": "python",
      "name": "python3"
    },
    "language_info": {
      "name": "python",
      "version": "3.10.12",
      "mimetype": "text/x-python",
      "codemirror_mode": {
        "name": "ipython",
        "version": 3
      },
      "pygments_lexer": "ipython3",
      "nbconvert_exporter": "python",
      "file_extension": ".py"
    },
    "widgets": {
      "application/vnd.jupyter.widget-state+json": {
        "060eccfc031d47b7acc99a48985a0738": {
          "model_module": "@jupyter-widgets/base",
          "model_name": "LayoutModel",
          "state": {
            "_model_module": "@jupyter-widgets/base",
            "_model_module_version": "1.2.0",
            "_model_name": "LayoutModel",
            "_view_count": null,
            "_view_module": "@jupyter-widgets/base",
            "_view_module_version": "1.2.0",
            "_view_name": "LayoutView",
            "align_content": null,
            "align_items": null,
            "align_self": null,
            "border": null,
            "bottom": null,
            "display": null,
            "flex": null,
            "flex_flow": null,
            "grid_area": null,
            "grid_auto_columns": null,
            "grid_auto_flow": null,
            "grid_auto_rows": null,
            "grid_column": null,
            "grid_gap": null,
            "grid_row": null,
            "grid_template_areas": null,
            "grid_template_columns": null,
            "grid_template_rows": null,
            "height": null,
            "justify_content": null,
            "justify_items": null,
            "left": null,
            "margin": null,
            "max_height": null,
            "max_width": null,
            "min_height": null,
            "min_width": null,
            "object_fit": null,
            "object_position": null,
            "order": null,
            "overflow": null,
            "overflow_x": null,
            "overflow_y": null,
            "padding": null,
            "right": null,
            "top": null,
            "visibility": null,
            "width": null
          },
          "model_module_version": "1.2.0"
        },
        "0f4f61f8bef24f859328471f408c6edc": {
          "model_module": "@jupyter-widgets/controls",
          "model_name": "DescriptionStyleModel",
          "state": {
            "_model_module": "@jupyter-widgets/controls",
            "_model_module_version": "1.5.0",
            "_model_name": "DescriptionStyleModel",
            "_view_count": null,
            "_view_module": "@jupyter-widgets/base",
            "_view_module_version": "1.2.0",
            "_view_name": "StyleView",
            "description_width": ""
          },
          "model_module_version": "1.5.0"
        },
        "0f9e5413663d45eaaf4c485a72392799": {
          "model_module": "@jupyter-widgets/controls",
          "model_name": "ProgressStyleModel",
          "state": {
            "_model_module": "@jupyter-widgets/controls",
            "_model_module_version": "1.5.0",
            "_model_name": "ProgressStyleModel",
            "_view_count": null,
            "_view_module": "@jupyter-widgets/base",
            "_view_module_version": "1.2.0",
            "_view_name": "StyleView",
            "bar_color": null,
            "description_width": "initial"
          },
          "model_module_version": "1.5.0"
        },
        "20d22a17b20a459b991bdbeea5180e39": {
          "model_module": "@jupyter-widgets/base",
          "model_name": "LayoutModel",
          "state": {
            "_model_module": "@jupyter-widgets/base",
            "_model_module_version": "1.2.0",
            "_model_name": "LayoutModel",
            "_view_count": null,
            "_view_module": "@jupyter-widgets/base",
            "_view_module_version": "1.2.0",
            "_view_name": "LayoutView",
            "align_content": null,
            "align_items": null,
            "align_self": null,
            "border": null,
            "bottom": null,
            "display": null,
            "flex": null,
            "flex_flow": null,
            "grid_area": null,
            "grid_auto_columns": null,
            "grid_auto_flow": null,
            "grid_auto_rows": null,
            "grid_column": null,
            "grid_gap": null,
            "grid_row": null,
            "grid_template_areas": null,
            "grid_template_columns": null,
            "grid_template_rows": null,
            "height": null,
            "justify_content": null,
            "justify_items": null,
            "left": null,
            "margin": null,
            "max_height": null,
            "max_width": null,
            "min_height": null,
            "min_width": null,
            "object_fit": null,
            "object_position": null,
            "order": null,
            "overflow": null,
            "overflow_x": null,
            "overflow_y": null,
            "padding": null,
            "right": null,
            "top": null,
            "visibility": null,
            "width": null
          },
          "model_module_version": "1.2.0"
        },
        "2a15eb8b027a4f78933e8434220f197c": {
          "model_module": "@jupyter-widgets/controls",
          "model_name": "ProgressStyleModel",
          "state": {
            "_model_module": "@jupyter-widgets/controls",
            "_model_module_version": "1.5.0",
            "_model_name": "ProgressStyleModel",
            "_view_count": null,
            "_view_module": "@jupyter-widgets/base",
            "_view_module_version": "1.2.0",
            "_view_name": "StyleView",
            "bar_color": null,
            "description_width": "initial"
          },
          "model_module_version": "1.5.0"
        },
        "33e46dfa0dce488a8ac06fe6caedd7cc": {
          "model_module": "@jupyter-widgets/base",
          "model_name": "LayoutModel",
          "state": {
            "_model_module": "@jupyter-widgets/base",
            "_model_module_version": "1.2.0",
            "_model_name": "LayoutModel",
            "_view_count": null,
            "_view_module": "@jupyter-widgets/base",
            "_view_module_version": "1.2.0",
            "_view_name": "LayoutView",
            "align_content": null,
            "align_items": null,
            "align_self": null,
            "border": null,
            "bottom": null,
            "display": null,
            "flex": null,
            "flex_flow": null,
            "grid_area": null,
            "grid_auto_columns": null,
            "grid_auto_flow": null,
            "grid_auto_rows": null,
            "grid_column": null,
            "grid_gap": null,
            "grid_row": null,
            "grid_template_areas": null,
            "grid_template_columns": null,
            "grid_template_rows": null,
            "height": null,
            "justify_content": null,
            "justify_items": null,
            "left": null,
            "margin": null,
            "max_height": null,
            "max_width": null,
            "min_height": null,
            "min_width": null,
            "object_fit": null,
            "object_position": null,
            "order": null,
            "overflow": null,
            "overflow_x": null,
            "overflow_y": null,
            "padding": null,
            "right": null,
            "top": null,
            "visibility": null,
            "width": null
          },
          "model_module_version": "1.2.0"
        },
        "359b3e243d634b1a8d49316ff0dfd540": {
          "model_module": "@jupyter-widgets/controls",
          "model_name": "ProgressStyleModel",
          "state": {
            "_model_module": "@jupyter-widgets/controls",
            "_model_module_version": "1.5.0",
            "_model_name": "ProgressStyleModel",
            "_view_count": null,
            "_view_module": "@jupyter-widgets/base",
            "_view_module_version": "1.2.0",
            "_view_name": "StyleView",
            "bar_color": null,
            "description_width": "initial"
          },
          "model_module_version": "1.5.0"
        },
        "3655c7c75b704045b44f5132e0af3538": {
          "model_module": "@jupyter-widgets/controls",
          "model_name": "FloatProgressModel",
          "state": {
            "_dom_classes": [],
            "_model_module": "@jupyter-widgets/controls",
            "_model_module_version": "1.5.0",
            "_model_name": "FloatProgressModel",
            "_view_count": null,
            "_view_module": "@jupyter-widgets/controls",
            "_view_module_version": "1.5.0",
            "_view_name": "ProgressView",
            "bar_style": "info",
            "description": "",
            "description_tooltip": null,
            "layout": "IPY_MODEL_aa7c3d224fd04db8830264bd1acc9f6c",
            "max": 1,
            "min": 0,
            "orientation": "horizontal",
            "style": "IPY_MODEL_359b3e243d634b1a8d49316ff0dfd540",
            "value": 1
          },
          "model_module_version": "1.5.0"
        },
        "38c7c91dfb9442b2b82322e88a40f22b": {
          "model_module": "@jupyter-widgets/controls",
          "model_name": "HTMLModel",
          "state": {
            "_dom_classes": [],
            "_model_module": "@jupyter-widgets/controls",
            "_model_module_version": "1.5.0",
            "_model_name": "HTMLModel",
            "_view_count": null,
            "_view_module": "@jupyter-widgets/controls",
            "_view_module_version": "1.5.0",
            "_view_name": "HTMLView",
            "description": "",
            "description_tooltip": null,
            "layout": "IPY_MODEL_da6646549f9440b990550777d7081844",
            "placeholder": "​",
            "style": "IPY_MODEL_f5cc42a16de840a4b89577f298b1c89e",
            "value": " 9920512/? [00:20&lt;00:00, 30798057.67it/s]"
          },
          "model_module_version": "1.5.0"
        },
        "3e71837ffd6542f89b99af04ec6475c8": {
          "model_module": "@jupyter-widgets/base",
          "model_name": "LayoutModel",
          "state": {
            "_model_module": "@jupyter-widgets/base",
            "_model_module_version": "1.2.0",
            "_model_name": "LayoutModel",
            "_view_count": null,
            "_view_module": "@jupyter-widgets/base",
            "_view_module_version": "1.2.0",
            "_view_name": "LayoutView",
            "align_content": null,
            "align_items": null,
            "align_self": null,
            "border": null,
            "bottom": null,
            "display": null,
            "flex": null,
            "flex_flow": null,
            "grid_area": null,
            "grid_auto_columns": null,
            "grid_auto_flow": null,
            "grid_auto_rows": null,
            "grid_column": null,
            "grid_gap": null,
            "grid_row": null,
            "grid_template_areas": null,
            "grid_template_columns": null,
            "grid_template_rows": null,
            "height": null,
            "justify_content": null,
            "justify_items": null,
            "left": null,
            "margin": null,
            "max_height": null,
            "max_width": null,
            "min_height": null,
            "min_width": null,
            "object_fit": null,
            "object_position": null,
            "order": null,
            "overflow": null,
            "overflow_x": null,
            "overflow_y": null,
            "padding": null,
            "right": null,
            "top": null,
            "visibility": null,
            "width": null
          },
          "model_module_version": "1.2.0"
        },
        "5c8ccd5ec0bc4c07a83496ddd1602235": {
          "model_module": "@jupyter-widgets/base",
          "model_name": "LayoutModel",
          "state": {
            "_model_module": "@jupyter-widgets/base",
            "_model_module_version": "1.2.0",
            "_model_name": "LayoutModel",
            "_view_count": null,
            "_view_module": "@jupyter-widgets/base",
            "_view_module_version": "1.2.0",
            "_view_name": "LayoutView",
            "align_content": null,
            "align_items": null,
            "align_self": null,
            "border": null,
            "bottom": null,
            "display": null,
            "flex": null,
            "flex_flow": null,
            "grid_area": null,
            "grid_auto_columns": null,
            "grid_auto_flow": null,
            "grid_auto_rows": null,
            "grid_column": null,
            "grid_gap": null,
            "grid_row": null,
            "grid_template_areas": null,
            "grid_template_columns": null,
            "grid_template_rows": null,
            "height": null,
            "justify_content": null,
            "justify_items": null,
            "left": null,
            "margin": null,
            "max_height": null,
            "max_width": null,
            "min_height": null,
            "min_width": null,
            "object_fit": null,
            "object_position": null,
            "order": null,
            "overflow": null,
            "overflow_x": null,
            "overflow_y": null,
            "padding": null,
            "right": null,
            "top": null,
            "visibility": null,
            "width": null
          },
          "model_module_version": "1.2.0"
        },
        "6f44eab9db00404bbf4b41c86e3c7f9d": {
          "model_module": "@jupyter-widgets/controls",
          "model_name": "DescriptionStyleModel",
          "state": {
            "_model_module": "@jupyter-widgets/controls",
            "_model_module_version": "1.5.0",
            "_model_name": "DescriptionStyleModel",
            "_view_count": null,
            "_view_module": "@jupyter-widgets/base",
            "_view_module_version": "1.2.0",
            "_view_name": "StyleView",
            "description_width": ""
          },
          "model_module_version": "1.5.0"
        },
        "71312105421c4b129c6a98f3a9a3f94a": {
          "model_module": "@jupyter-widgets/base",
          "model_name": "LayoutModel",
          "state": {
            "_model_module": "@jupyter-widgets/base",
            "_model_module_version": "1.2.0",
            "_model_name": "LayoutModel",
            "_view_count": null,
            "_view_module": "@jupyter-widgets/base",
            "_view_module_version": "1.2.0",
            "_view_name": "LayoutView",
            "align_content": null,
            "align_items": null,
            "align_self": null,
            "border": null,
            "bottom": null,
            "display": null,
            "flex": null,
            "flex_flow": null,
            "grid_area": null,
            "grid_auto_columns": null,
            "grid_auto_flow": null,
            "grid_auto_rows": null,
            "grid_column": null,
            "grid_gap": null,
            "grid_row": null,
            "grid_template_areas": null,
            "grid_template_columns": null,
            "grid_template_rows": null,
            "height": null,
            "justify_content": null,
            "justify_items": null,
            "left": null,
            "margin": null,
            "max_height": null,
            "max_width": null,
            "min_height": null,
            "min_width": null,
            "object_fit": null,
            "object_position": null,
            "order": null,
            "overflow": null,
            "overflow_x": null,
            "overflow_y": null,
            "padding": null,
            "right": null,
            "top": null,
            "visibility": null,
            "width": null
          },
          "model_module_version": "1.2.0"
        },
        "7ce8de076a9d45f38301a66406ee8064": {
          "model_module": "@jupyter-widgets/controls",
          "model_name": "FloatProgressModel",
          "state": {
            "_dom_classes": [],
            "_model_module": "@jupyter-widgets/controls",
            "_model_module_version": "1.5.0",
            "_model_name": "FloatProgressModel",
            "_view_count": null,
            "_view_module": "@jupyter-widgets/controls",
            "_view_module_version": "1.5.0",
            "_view_name": "ProgressView",
            "bar_style": "info",
            "description": "",
            "description_tooltip": null,
            "layout": "IPY_MODEL_bd300ad13a7f4b52a77185519928569f",
            "max": 1,
            "min": 0,
            "orientation": "horizontal",
            "style": "IPY_MODEL_0f9e5413663d45eaaf4c485a72392799",
            "value": 0
          },
          "model_module_version": "1.5.0"
        },
        "7d8eb8eed8d648469d7d2c03677d999c": {
          "model_module": "@jupyter-widgets/controls",
          "model_name": "HBoxModel",
          "state": {
            "_dom_classes": [],
            "_model_module": "@jupyter-widgets/controls",
            "_model_module_version": "1.5.0",
            "_model_name": "HBoxModel",
            "_view_count": null,
            "_view_module": "@jupyter-widgets/controls",
            "_view_module_version": "1.5.0",
            "_view_name": "HBoxView",
            "box_style": "",
            "children": [
              "IPY_MODEL_b6f78815579e4a1084fdabc4b46fb12b",
              "IPY_MODEL_d33eea28e99147baa5766a90ccd861f7"
            ],
            "layout": "IPY_MODEL_060eccfc031d47b7acc99a48985a0738"
          },
          "model_module_version": "1.5.0"
        },
        "9cf1439920af4e7685b2050b52a8f21e": {
          "model_module": "@jupyter-widgets/controls",
          "model_name": "HTMLModel",
          "state": {
            "_dom_classes": [],
            "_model_module": "@jupyter-widgets/controls",
            "_model_module_version": "1.5.0",
            "_model_name": "HTMLModel",
            "_view_count": null,
            "_view_module": "@jupyter-widgets/controls",
            "_view_module_version": "1.5.0",
            "_view_name": "HTMLView",
            "description": "",
            "description_tooltip": null,
            "layout": "IPY_MODEL_3e71837ffd6542f89b99af04ec6475c8",
            "placeholder": "​",
            "style": "IPY_MODEL_ac20db98d04740cf8924f4e7c3163097",
            "value": " 1654784/? [00:19&lt;00:00, 144269.84it/s]"
          },
          "model_module_version": "1.5.0"
        },
        "aa7c3d224fd04db8830264bd1acc9f6c": {
          "model_module": "@jupyter-widgets/base",
          "model_name": "LayoutModel",
          "state": {
            "_model_module": "@jupyter-widgets/base",
            "_model_module_version": "1.2.0",
            "_model_name": "LayoutModel",
            "_view_count": null,
            "_view_module": "@jupyter-widgets/base",
            "_view_module_version": "1.2.0",
            "_view_name": "LayoutView",
            "align_content": null,
            "align_items": null,
            "align_self": null,
            "border": null,
            "bottom": null,
            "display": null,
            "flex": null,
            "flex_flow": null,
            "grid_area": null,
            "grid_auto_columns": null,
            "grid_auto_flow": null,
            "grid_auto_rows": null,
            "grid_column": null,
            "grid_gap": null,
            "grid_row": null,
            "grid_template_areas": null,
            "grid_template_columns": null,
            "grid_template_rows": null,
            "height": null,
            "justify_content": null,
            "justify_items": null,
            "left": null,
            "margin": null,
            "max_height": null,
            "max_width": null,
            "min_height": null,
            "min_width": null,
            "object_fit": null,
            "object_position": null,
            "order": null,
            "overflow": null,
            "overflow_x": null,
            "overflow_y": null,
            "padding": null,
            "right": null,
            "top": null,
            "visibility": null,
            "width": null
          },
          "model_module_version": "1.2.0"
        },
        "aab196ae70c54ee29ce6329df65d6efb": {
          "model_module": "@jupyter-widgets/controls",
          "model_name": "HBoxModel",
          "state": {
            "_dom_classes": [],
            "_model_module": "@jupyter-widgets/controls",
            "_model_module_version": "1.5.0",
            "_model_name": "HBoxModel",
            "_view_count": null,
            "_view_module": "@jupyter-widgets/controls",
            "_view_module_version": "1.5.0",
            "_view_name": "HBoxView",
            "box_style": "",
            "children": [
              "IPY_MODEL_f6c9bca3180342c08a666a84e50ae8d5",
              "IPY_MODEL_9cf1439920af4e7685b2050b52a8f21e"
            ],
            "layout": "IPY_MODEL_ebfd199934654ccc9af00d09d9840e23"
          },
          "model_module_version": "1.5.0"
        },
        "ac20db98d04740cf8924f4e7c3163097": {
          "model_module": "@jupyter-widgets/controls",
          "model_name": "DescriptionStyleModel",
          "state": {
            "_model_module": "@jupyter-widgets/controls",
            "_model_module_version": "1.5.0",
            "_model_name": "DescriptionStyleModel",
            "_view_count": null,
            "_view_module": "@jupyter-widgets/base",
            "_view_module_version": "1.2.0",
            "_view_name": "StyleView",
            "description_width": ""
          },
          "model_module_version": "1.5.0"
        },
        "b5308d2444f84bee916d459c5b124817": {
          "model_module": "@jupyter-widgets/controls",
          "model_name": "HBoxModel",
          "state": {
            "_dom_classes": [],
            "_model_module": "@jupyter-widgets/controls",
            "_model_module_version": "1.5.0",
            "_model_name": "HBoxModel",
            "_view_count": null,
            "_view_module": "@jupyter-widgets/controls",
            "_view_module_version": "1.5.0",
            "_view_name": "HBoxView",
            "box_style": "",
            "children": [
              "IPY_MODEL_3655c7c75b704045b44f5132e0af3538",
              "IPY_MODEL_38c7c91dfb9442b2b82322e88a40f22b"
            ],
            "layout": "IPY_MODEL_5c8ccd5ec0bc4c07a83496ddd1602235"
          },
          "model_module_version": "1.5.0"
        },
        "b6f78815579e4a1084fdabc4b46fb12b": {
          "model_module": "@jupyter-widgets/controls",
          "model_name": "FloatProgressModel",
          "state": {
            "_dom_classes": [],
            "_model_module": "@jupyter-widgets/controls",
            "_model_module_version": "1.5.0",
            "_model_name": "FloatProgressModel",
            "_view_count": null,
            "_view_module": "@jupyter-widgets/controls",
            "_view_module_version": "1.5.0",
            "_view_name": "ProgressView",
            "bar_style": "success",
            "description": "",
            "description_tooltip": null,
            "layout": "IPY_MODEL_f9936b87526a463c80003e7fe40ebb32",
            "max": 1,
            "min": 0,
            "orientation": "horizontal",
            "style": "IPY_MODEL_e0a03df91acc471686ea672fb0d565b0",
            "value": 1
          },
          "model_module_version": "1.5.0"
        },
        "bd300ad13a7f4b52a77185519928569f": {
          "model_module": "@jupyter-widgets/base",
          "model_name": "LayoutModel",
          "state": {
            "_model_module": "@jupyter-widgets/base",
            "_model_module_version": "1.2.0",
            "_model_name": "LayoutModel",
            "_view_count": null,
            "_view_module": "@jupyter-widgets/base",
            "_view_module_version": "1.2.0",
            "_view_name": "LayoutView",
            "align_content": null,
            "align_items": null,
            "align_self": null,
            "border": null,
            "bottom": null,
            "display": null,
            "flex": null,
            "flex_flow": null,
            "grid_area": null,
            "grid_auto_columns": null,
            "grid_auto_flow": null,
            "grid_auto_rows": null,
            "grid_column": null,
            "grid_gap": null,
            "grid_row": null,
            "grid_template_areas": null,
            "grid_template_columns": null,
            "grid_template_rows": null,
            "height": null,
            "justify_content": null,
            "justify_items": null,
            "left": null,
            "margin": null,
            "max_height": null,
            "max_width": null,
            "min_height": null,
            "min_width": null,
            "object_fit": null,
            "object_position": null,
            "order": null,
            "overflow": null,
            "overflow_x": null,
            "overflow_y": null,
            "padding": null,
            "right": null,
            "top": null,
            "visibility": null,
            "width": null
          },
          "model_module_version": "1.2.0"
        },
        "c6d361c0a22e4c5c90d4eb30f45a991d": {
          "model_module": "@jupyter-widgets/controls",
          "model_name": "HBoxModel",
          "state": {
            "_dom_classes": [],
            "_model_module": "@jupyter-widgets/controls",
            "_model_module_version": "1.5.0",
            "_model_name": "HBoxModel",
            "_view_count": null,
            "_view_module": "@jupyter-widgets/controls",
            "_view_module_version": "1.5.0",
            "_view_name": "HBoxView",
            "box_style": "",
            "children": [
              "IPY_MODEL_7ce8de076a9d45f38301a66406ee8064",
              "IPY_MODEL_ef97798bebdf4786b1ec610b07b572de"
            ],
            "layout": "IPY_MODEL_33e46dfa0dce488a8ac06fe6caedd7cc"
          },
          "model_module_version": "1.5.0"
        },
        "d33eea28e99147baa5766a90ccd861f7": {
          "model_module": "@jupyter-widgets/controls",
          "model_name": "HTMLModel",
          "state": {
            "_dom_classes": [],
            "_model_module": "@jupyter-widgets/controls",
            "_model_module_version": "1.5.0",
            "_model_name": "HTMLModel",
            "_view_count": null,
            "_view_module": "@jupyter-widgets/controls",
            "_view_module_version": "1.5.0",
            "_view_name": "HTMLView",
            "description": "",
            "description_tooltip": null,
            "layout": "IPY_MODEL_fb0de3c83bac4d4ab38d6777420a4843",
            "placeholder": "​",
            "style": "IPY_MODEL_0f4f61f8bef24f859328471f408c6edc",
            "value": " 32768/? [00:00&lt;00:00, 389042.40it/s]"
          },
          "model_module_version": "1.5.0"
        },
        "da6646549f9440b990550777d7081844": {
          "model_module": "@jupyter-widgets/base",
          "model_name": "LayoutModel",
          "state": {
            "_model_module": "@jupyter-widgets/base",
            "_model_module_version": "1.2.0",
            "_model_name": "LayoutModel",
            "_view_count": null,
            "_view_module": "@jupyter-widgets/base",
            "_view_module_version": "1.2.0",
            "_view_name": "LayoutView",
            "align_content": null,
            "align_items": null,
            "align_self": null,
            "border": null,
            "bottom": null,
            "display": null,
            "flex": null,
            "flex_flow": null,
            "grid_area": null,
            "grid_auto_columns": null,
            "grid_auto_flow": null,
            "grid_auto_rows": null,
            "grid_column": null,
            "grid_gap": null,
            "grid_row": null,
            "grid_template_areas": null,
            "grid_template_columns": null,
            "grid_template_rows": null,
            "height": null,
            "justify_content": null,
            "justify_items": null,
            "left": null,
            "margin": null,
            "max_height": null,
            "max_width": null,
            "min_height": null,
            "min_width": null,
            "object_fit": null,
            "object_position": null,
            "order": null,
            "overflow": null,
            "overflow_x": null,
            "overflow_y": null,
            "padding": null,
            "right": null,
            "top": null,
            "visibility": null,
            "width": null
          },
          "model_module_version": "1.2.0"
        },
        "e0a03df91acc471686ea672fb0d565b0": {
          "model_module": "@jupyter-widgets/controls",
          "model_name": "ProgressStyleModel",
          "state": {
            "_model_module": "@jupyter-widgets/controls",
            "_model_module_version": "1.5.0",
            "_model_name": "ProgressStyleModel",
            "_view_count": null,
            "_view_module": "@jupyter-widgets/base",
            "_view_module_version": "1.2.0",
            "_view_name": "StyleView",
            "bar_color": null,
            "description_width": "initial"
          },
          "model_module_version": "1.5.0"
        },
        "ebfd199934654ccc9af00d09d9840e23": {
          "model_module": "@jupyter-widgets/base",
          "model_name": "LayoutModel",
          "state": {
            "_model_module": "@jupyter-widgets/base",
            "_model_module_version": "1.2.0",
            "_model_name": "LayoutModel",
            "_view_count": null,
            "_view_module": "@jupyter-widgets/base",
            "_view_module_version": "1.2.0",
            "_view_name": "LayoutView",
            "align_content": null,
            "align_items": null,
            "align_self": null,
            "border": null,
            "bottom": null,
            "display": null,
            "flex": null,
            "flex_flow": null,
            "grid_area": null,
            "grid_auto_columns": null,
            "grid_auto_flow": null,
            "grid_auto_rows": null,
            "grid_column": null,
            "grid_gap": null,
            "grid_row": null,
            "grid_template_areas": null,
            "grid_template_columns": null,
            "grid_template_rows": null,
            "height": null,
            "justify_content": null,
            "justify_items": null,
            "left": null,
            "margin": null,
            "max_height": null,
            "max_width": null,
            "min_height": null,
            "min_width": null,
            "object_fit": null,
            "object_position": null,
            "order": null,
            "overflow": null,
            "overflow_x": null,
            "overflow_y": null,
            "padding": null,
            "right": null,
            "top": null,
            "visibility": null,
            "width": null
          },
          "model_module_version": "1.2.0"
        },
        "ef97798bebdf4786b1ec610b07b572de": {
          "model_module": "@jupyter-widgets/controls",
          "model_name": "HTMLModel",
          "state": {
            "_dom_classes": [],
            "_model_module": "@jupyter-widgets/controls",
            "_model_module_version": "1.5.0",
            "_model_name": "HTMLModel",
            "_view_count": null,
            "_view_module": "@jupyter-widgets/controls",
            "_view_module_version": "1.5.0",
            "_view_name": "HTMLView",
            "description": "",
            "description_tooltip": null,
            "layout": "IPY_MODEL_71312105421c4b129c6a98f3a9a3f94a",
            "placeholder": "​",
            "style": "IPY_MODEL_6f44eab9db00404bbf4b41c86e3c7f9d",
            "value": " 0/? [00:00&lt;?, ?it/s]"
          },
          "model_module_version": "1.5.0"
        },
        "f5cc42a16de840a4b89577f298b1c89e": {
          "model_module": "@jupyter-widgets/controls",
          "model_name": "DescriptionStyleModel",
          "state": {
            "_model_module": "@jupyter-widgets/controls",
            "_model_module_version": "1.5.0",
            "_model_name": "DescriptionStyleModel",
            "_view_count": null,
            "_view_module": "@jupyter-widgets/base",
            "_view_module_version": "1.2.0",
            "_view_name": "StyleView",
            "description_width": ""
          },
          "model_module_version": "1.5.0"
        },
        "f6c9bca3180342c08a666a84e50ae8d5": {
          "model_module": "@jupyter-widgets/controls",
          "model_name": "FloatProgressModel",
          "state": {
            "_dom_classes": [],
            "_model_module": "@jupyter-widgets/controls",
            "_model_module_version": "1.5.0",
            "_model_name": "FloatProgressModel",
            "_view_count": null,
            "_view_module": "@jupyter-widgets/controls",
            "_view_module_version": "1.5.0",
            "_view_name": "ProgressView",
            "bar_style": "info",
            "description": "",
            "description_tooltip": null,
            "layout": "IPY_MODEL_20d22a17b20a459b991bdbeea5180e39",
            "max": 1,
            "min": 0,
            "orientation": "horizontal",
            "style": "IPY_MODEL_2a15eb8b027a4f78933e8434220f197c",
            "value": 1
          },
          "model_module_version": "1.5.0"
        },
        "f9936b87526a463c80003e7fe40ebb32": {
          "model_module": "@jupyter-widgets/base",
          "model_name": "LayoutModel",
          "state": {
            "_model_module": "@jupyter-widgets/base",
            "_model_module_version": "1.2.0",
            "_model_name": "LayoutModel",
            "_view_count": null,
            "_view_module": "@jupyter-widgets/base",
            "_view_module_version": "1.2.0",
            "_view_name": "LayoutView",
            "align_content": null,
            "align_items": null,
            "align_self": null,
            "border": null,
            "bottom": null,
            "display": null,
            "flex": null,
            "flex_flow": null,
            "grid_area": null,
            "grid_auto_columns": null,
            "grid_auto_flow": null,
            "grid_auto_rows": null,
            "grid_column": null,
            "grid_gap": null,
            "grid_row": null,
            "grid_template_areas": null,
            "grid_template_columns": null,
            "grid_template_rows": null,
            "height": null,
            "justify_content": null,
            "justify_items": null,
            "left": null,
            "margin": null,
            "max_height": null,
            "max_width": null,
            "min_height": null,
            "min_width": null,
            "object_fit": null,
            "object_position": null,
            "order": null,
            "overflow": null,
            "overflow_x": null,
            "overflow_y": null,
            "padding": null,
            "right": null,
            "top": null,
            "visibility": null,
            "width": null
          },
          "model_module_version": "1.2.0"
        },
        "fb0de3c83bac4d4ab38d6777420a4843": {
          "model_module": "@jupyter-widgets/base",
          "model_name": "LayoutModel",
          "state": {
            "_model_module": "@jupyter-widgets/base",
            "_model_module_version": "1.2.0",
            "_model_name": "LayoutModel",
            "_view_count": null,
            "_view_module": "@jupyter-widgets/base",
            "_view_module_version": "1.2.0",
            "_view_name": "LayoutView",
            "align_content": null,
            "align_items": null,
            "align_self": null,
            "border": null,
            "bottom": null,
            "display": null,
            "flex": null,
            "flex_flow": null,
            "grid_area": null,
            "grid_auto_columns": null,
            "grid_auto_flow": null,
            "grid_auto_rows": null,
            "grid_column": null,
            "grid_gap": null,
            "grid_row": null,
            "grid_template_areas": null,
            "grid_template_columns": null,
            "grid_template_rows": null,
            "height": null,
            "justify_content": null,
            "justify_items": null,
            "left": null,
            "margin": null,
            "max_height": null,
            "max_width": null,
            "min_height": null,
            "min_width": null,
            "object_fit": null,
            "object_position": null,
            "order": null,
            "overflow": null,
            "overflow_x": null,
            "overflow_y": null,
            "padding": null,
            "right": null,
            "top": null,
            "visibility": null,
            "width": null
          },
          "model_module_version": "1.2.0"
        }
      }
    },
    "kaggle": {
      "accelerator": "gpu",
      "dataSources": [],
      "dockerImageVersionId": 30627,
      "isInternetEnabled": true,
      "language": "python",
      "sourceType": "notebook",
      "isGpuEnabled": true
    }
  },
  "nbformat_minor": 0,
  "nbformat": 4,
  "cells": [
    {
      "cell_type": "markdown",
      "metadata": {
        "id": "view-in-github",
        "colab_type": "text"
      },
      "source": [
        "<a href=\"https://colab.research.google.com/github/sushanttwayana/ML-DL-Strategies-Toolkit/blob/main/training_deep_neural_networks_on_a_gpu.ipynb\" target=\"_parent\"><img src=\"https://colab.research.google.com/assets/colab-badge.svg\" alt=\"Open In Colab\"/></a>"
      ]
    },
    {
      "cell_type": "markdown",
      "source": [
        "# Training Deep Neural Networks on a GPU with PyTorch\n",
        "\n",
        "### Part 4 of \"Deep Learning with Pytorch: Zero to GANs\"\n",
        "\n",
        "This tutorial series is a hands-on beginner-friendly introduction to deep learning using [PyTorch](https://pytorch.org), an open-source neural networks library. These tutorials take a practical and coding-focused approach. The best way to learn the material is to execute the code and experiment with it yourself. Check out the full series here:\n",
        "\n",
        "1. [PyTorch Basics: Tensors & Gradients](https://jovian.ai/aakashns/01-pytorch-basics)\n",
        "2. [Gradient Descent & Linear Regression](https://jovian.ai/aakashns/02-linear-regression)\n",
        "3. [Working with Images & Logistic Regression](https://jovian.ai/aakashns/03-logistic-regression)\n",
        "4. [Training Deep Neural Networks on a GPU](https://jovian.ai/aakashns/04-feedforward-nn)\n",
        "5. [Image Classification using Convolutional Neural Networks](https://jovian.ai/aakashns/05-cifar10-cnn)\n",
        "6. [Data Augmentation, Regularization and ResNets](https://jovian.ai/aakashns/05b-cifar10-resnet)\n",
        "7. [Generating Images using Generative Adversarial Networks](https://jovian.ai/aakashns/06b-anime-dcgan/)\n"
      ],
      "metadata": {
        "id": "x0sQkmyWpeT4"
      }
    },
    {
      "cell_type": "markdown",
      "source": [
        " This tutorial covers the following topics:\n",
        "\n",
        " * Creating a deep neural network with hidden layers\n",
        " * Using a non-linear activation function\n",
        " * Using a GPU (when available) to speed up training\n",
        " * Experimenting with hyperparameters to improve the model"
      ],
      "metadata": {
        "id": "zRMQYXirpeT5"
      }
    },
    {
      "cell_type": "markdown",
      "source": [
        "### How to run the code\n",
        "\n",
        "This tutorial is an executable [Jupyter notebook](https://jupyter.org) hosted on [Jovian](https://www.jovian.ai). You can _run_ this tutorial and experiment with the code examples in a couple of ways: *using free online resources* (recommended) or *on your computer*.\n",
        "\n",
        "#### Option 1: Running using free online resources (1-click, recommended)\n",
        "\n",
        "The easiest way to start executing the code is to click the **Run** button at the top of this page and select **Run on Colab**. [Google Colab](https://colab.research.google.com) is a free online platform for running Jupyter notebooks using Google's cloud infrastructure. You can also select \"Run on Binder\" or \"Run on Kaggle\" if you face issues running the notebook on Google Colab.\n",
        "\n",
        "\n",
        "#### Option 2: Running on your computer locally\n",
        "\n",
        "To run the code on your computer locally, you'll need to set up [Python](https://www.python.org), download the notebook and install the required libraries. We recommend using the [Conda](https://docs.conda.io/projects/conda/en/latest/user-guide/install/) distribution of Python. Click the **Run** button at the top of this page, select the **Run Locally** option, and follow the instructions.\n",
        "\n",
        ">  **Jupyter Notebooks**: This tutorial is a [Jupyter notebook](https://jupyter.org) - a document made of _cells_. Each cell can contain code written in Python or explanations in plain English. You can execute code cells and view the results, e.g., numbers, messages, graphs, tables, files, etc., instantly within the notebook. Jupyter is a powerful platform for experimentation and analysis. Don't be afraid to mess around with the code & break things - you'll learn a lot by encountering and fixing errors. You can use the \"Kernel > Restart & Clear Output\" or \"Edit > Clear Outputs\" menu option to clear all outputs and start again from the top."
      ],
      "metadata": {
        "id": "-JI69VLFpeT5"
      }
    },
    {
      "cell_type": "markdown",
      "source": [
        "### Using a GPU for faster training\n",
        "\n",
        "You can use a [Graphics Processing Unit](https://en.wikipedia.org/wiki/Graphics_processing_unit) (GPU) to train your models faster if your execution platform is connected to a GPU manufactured by NVIDIA. Follow these instructions to use a GPU on the platform of your choice:\n",
        "\n",
        "* _Google Colab_: Use the menu option \"Runtime > Change Runtime Type\" and select \"GPU\" from the \"Hardware Accelerator\" dropdown.\n",
        "* _Kaggle_: In the \"Settings\" section of the sidebar, select \"GPU\" from the \"Accelerator\" dropdown. Use the button on the top-right to open the sidebar.\n",
        "* _Binder_: Notebooks running on Binder cannot use a GPU, as the machines powering Binder aren't connected to any GPUs.\n",
        "* _Linux_: If your laptop/desktop has an NVIDIA GPU (graphics card), make sure you have installed the [NVIDIA CUDA drivers](https://docs.nvidia.com/cuda/cuda-installation-guide-linux/index.html).\n",
        "* _Windows_: If your laptop/desktop has an NVIDIA GPU (graphics card), make sure you have installed the [NVIDIA CUDA drivers](https://docs.nvidia.com/cuda/cuda-installation-guide-microsoft-windows/index.html).\n",
        "* _macOS_: macOS is not compatible with NVIDIA GPUs\n",
        "\n",
        "\n",
        "If you do not have access to a GPU or aren't sure what it is, don't worry, you can execute all the code in this tutorial just fine without a GPU."
      ],
      "metadata": {
        "id": "wdphVwCopeT5"
      }
    },
    {
      "cell_type": "markdown",
      "source": [
        "## Preparing the Data\n",
        "\n",
        "In [the previous tutorial](https://jovian.ai/aakashns/03-logistic-regression), we trained a logistic regression model to identify handwritten digits from the MNIST dataset with an accuracy of around 86%. The dataset consists of 28px by 28px grayscale images of handwritten digits (0 to 9) and labels for each image indicating which digit it represents. Here are some sample images from the dataset:\n",
        "\n",
        "![mnist-sample](https://i.imgur.com/CAYnuo1.jpg)\n",
        "\n",
        "We noticed that it's quite challenging to improve the accuracy of a logistic regression model beyond 87%, since the model assumes a linear relationship between pixel intensities and image labels. In this post, we'll try to improve upon it  using a *feed-forward neural network* which can capture non-linear relationships between inputs and targets.\n",
        "\n",
        "Let's begin by installing and importing the required modules and classes from `torch`, `torchvision`, `numpy`, and `matplotlib`."
      ],
      "metadata": {
        "id": "h1N-aPtrpeT5"
      }
    },
    {
      "cell_type": "code",
      "source": [
        "# Uncomment and run the appropriate command for your operating system, if required\n",
        "\n",
        "# Linux / Binder\n",
        "# !pip install numpy matplotlib torch==1.7.0+cpu torchvision==0.8.1+cpu torchaudio==0.7.0 -f https://download.pytorch.org/whl/torch_stable.html\n",
        "\n",
        "# Windows\n",
        "# !pip install numpy matplotlib torch==1.7.0+cpu torchvision==0.8.1+cpu torchaudio==0.7.0 -f https://download.pytorch.org/whl/torch_stable.html\n",
        "\n",
        "# MacOS\n",
        "# !pip install numpy matplotlib torch torchvision torchaudio"
      ],
      "metadata": {
        "id": "28gVv8fbpeT5"
      },
      "execution_count": null,
      "outputs": []
    },
    {
      "cell_type": "code",
      "source": [
        "import torch\n",
        "import torchvision\n",
        "import numpy as np\n",
        "import matplotlib\n",
        "import matplotlib.pyplot as plt\n",
        "import torch.nn as nn\n",
        "import torch.nn.functional as F\n",
        "from torchvision.datasets import MNIST\n",
        "from torchvision.transforms import ToTensor\n",
        "from torchvision.utils import make_grid\n",
        "from torch.utils.data.dataloader import DataLoader\n",
        "from torch.utils.data import random_split\n",
        "%matplotlib inline\n",
        "\n",
        "# Use a white background for matplotlib figures\n",
        "matplotlib.rcParams['figure.facecolor'] = '#ffffff'"
      ],
      "metadata": {
        "id": "WapU423CpeT5",
        "execution": {
          "iopub.status.busy": "2023-12-25T13:25:30.317518Z",
          "iopub.execute_input": "2023-12-25T13:25:30.317825Z",
          "iopub.status.idle": "2023-12-25T13:25:34.066651Z",
          "shell.execute_reply.started": "2023-12-25T13:25:30.317799Z",
          "shell.execute_reply": "2023-12-25T13:25:34.065661Z"
        },
        "trusted": true
      },
      "execution_count": null,
      "outputs": []
    },
    {
      "cell_type": "markdown",
      "source": [
        "We can download the data and create a PyTorch dataset using the `MNIST` class from `torchvision.datasets`."
      ],
      "metadata": {
        "id": "wa8Y7hGhpeT5"
      }
    },
    {
      "cell_type": "code",
      "source": [
        "dataset = MNIST(root='data/', download=True, transform=ToTensor())"
      ],
      "metadata": {
        "colab": {
          "base_uri": "https://localhost:8080/",
          "height": 389,
          "referenced_widgets": [
            "b5308d2444f84bee916d459c5b124817",
            "5c8ccd5ec0bc4c07a83496ddd1602235",
            "3655c7c75b704045b44f5132e0af3538",
            "38c7c91dfb9442b2b82322e88a40f22b",
            "359b3e243d634b1a8d49316ff0dfd540",
            "aa7c3d224fd04db8830264bd1acc9f6c",
            "f5cc42a16de840a4b89577f298b1c89e",
            "da6646549f9440b990550777d7081844",
            "7d8eb8eed8d648469d7d2c03677d999c",
            "060eccfc031d47b7acc99a48985a0738",
            "b6f78815579e4a1084fdabc4b46fb12b",
            "d33eea28e99147baa5766a90ccd861f7",
            "e0a03df91acc471686ea672fb0d565b0",
            "f9936b87526a463c80003e7fe40ebb32",
            "0f4f61f8bef24f859328471f408c6edc",
            "fb0de3c83bac4d4ab38d6777420a4843",
            "aab196ae70c54ee29ce6329df65d6efb",
            "ebfd199934654ccc9af00d09d9840e23",
            "f6c9bca3180342c08a666a84e50ae8d5",
            "9cf1439920af4e7685b2050b52a8f21e",
            "2a15eb8b027a4f78933e8434220f197c",
            "20d22a17b20a459b991bdbeea5180e39",
            "ac20db98d04740cf8924f4e7c3163097",
            "3e71837ffd6542f89b99af04ec6475c8",
            "c6d361c0a22e4c5c90d4eb30f45a991d",
            "33e46dfa0dce488a8ac06fe6caedd7cc",
            "7ce8de076a9d45f38301a66406ee8064",
            "ef97798bebdf4786b1ec610b07b572de",
            "0f9e5413663d45eaaf4c485a72392799",
            "bd300ad13a7f4b52a77185519928569f",
            "6f44eab9db00404bbf4b41c86e3c7f9d",
            "71312105421c4b129c6a98f3a9a3f94a"
          ]
        },
        "id": "CCfhGj-IpeT5",
        "outputId": "63e6de52-71b0-4813-d90c-ed19eb0a47fd",
        "execution": {
          "iopub.status.busy": "2023-12-25T13:25:34.068690Z",
          "iopub.execute_input": "2023-12-25T13:25:34.069253Z",
          "iopub.status.idle": "2023-12-25T13:25:37.496334Z",
          "shell.execute_reply.started": "2023-12-25T13:25:34.069225Z",
          "shell.execute_reply": "2023-12-25T13:25:37.495382Z"
        },
        "trusted": true
      },
      "execution_count": null,
      "outputs": [
        {
          "name": "stdout",
          "text": "Downloading http://yann.lecun.com/exdb/mnist/train-images-idx3-ubyte.gz\nDownloading http://yann.lecun.com/exdb/mnist/train-images-idx3-ubyte.gz to data/MNIST/raw/train-images-idx3-ubyte.gz\n",
          "output_type": "stream"
        },
        {
          "name": "stderr",
          "text": "100%|██████████| 9912422/9912422 [00:00<00:00, 264720710.86it/s]\n",
          "output_type": "stream"
        },
        {
          "name": "stdout",
          "text": "Extracting data/MNIST/raw/train-images-idx3-ubyte.gz to data/MNIST/raw\n\nDownloading http://yann.lecun.com/exdb/mnist/train-labels-idx1-ubyte.gz\nDownloading http://yann.lecun.com/exdb/mnist/train-labels-idx1-ubyte.gz to data/MNIST/raw/train-labels-idx1-ubyte.gz\n",
          "output_type": "stream"
        },
        {
          "name": "stderr",
          "text": "100%|██████████| 28881/28881 [00:00<00:00, 125920679.65it/s]\n",
          "output_type": "stream"
        },
        {
          "name": "stdout",
          "text": "Extracting data/MNIST/raw/train-labels-idx1-ubyte.gz to data/MNIST/raw\n\nDownloading http://yann.lecun.com/exdb/mnist/t10k-images-idx3-ubyte.gz\nDownloading http://yann.lecun.com/exdb/mnist/t10k-images-idx3-ubyte.gz to data/MNIST/raw/t10k-images-idx3-ubyte.gz\n",
          "output_type": "stream"
        },
        {
          "name": "stderr",
          "text": "100%|██████████| 1648877/1648877 [00:00<00:00, 191937483.25it/s]\n",
          "output_type": "stream"
        },
        {
          "name": "stdout",
          "text": "Extracting data/MNIST/raw/t10k-images-idx3-ubyte.gz to data/MNIST/raw\n\nDownloading http://yann.lecun.com/exdb/mnist/t10k-labels-idx1-ubyte.gz\nDownloading http://yann.lecun.com/exdb/mnist/t10k-labels-idx1-ubyte.gz to data/MNIST/raw/t10k-labels-idx1-ubyte.gz\n",
          "output_type": "stream"
        },
        {
          "name": "stderr",
          "text": "100%|██████████| 4542/4542 [00:00<00:00, 9203153.99it/s]",
          "output_type": "stream"
        },
        {
          "name": "stdout",
          "text": "Extracting data/MNIST/raw/t10k-labels-idx1-ubyte.gz to data/MNIST/raw\n\n",
          "output_type": "stream"
        },
        {
          "name": "stderr",
          "text": "\n",
          "output_type": "stream"
        }
      ]
    },
    {
      "cell_type": "markdown",
      "source": [
        "Let's look at a couple of images from the dataset. The images are converted to PyTorch tensors with the shape `1x28x28` (the dimensions represent color channels, width and height). We can use `plt.imshow` to display the images. However, `plt.imshow` expects channels to be last dimension in an image tensor, so we use the `permute` method to reorder the dimensions of the image."
      ],
      "metadata": {
        "id": "dfEu8PLLTu24"
      }
    },
    {
      "cell_type": "markdown",
      "source": [
        "# image, label = dataset[0]\n",
        "print('image.shape:', image.shape)\n",
        "plt.imshow(image.permute(1, 2, 0), cmap='gray')\n",
        "print('Label:', label)"
      ],
      "metadata": {
        "execution": {
          "iopub.status.busy": "2023-12-24T14:21:09.196230Z",
          "iopub.execute_input": "2023-12-24T14:21:09.196736Z",
          "iopub.status.idle": "2023-12-24T14:21:09.491765Z",
          "shell.execute_reply.started": "2023-12-24T14:21:09.196703Z",
          "shell.execute_reply": "2023-12-24T14:21:09.490822Z"
        },
        "id": "EI5pwhGPTu24"
      }
    },
    {
      "cell_type": "code",
      "source": [
        "image, label = dataset[0]\n",
        "print('image.shape:', image.shape)\n",
        "plt.imshow(image.permute(1, 2, 0), cmap='gray')\n",
        "print('Label:', label)"
      ],
      "metadata": {
        "execution": {
          "iopub.status.busy": "2023-12-25T13:25:37.497724Z",
          "iopub.execute_input": "2023-12-25T13:25:37.498261Z",
          "iopub.status.idle": "2023-12-25T13:25:37.791725Z",
          "shell.execute_reply.started": "2023-12-25T13:25:37.498234Z",
          "shell.execute_reply": "2023-12-25T13:25:37.790775Z"
        },
        "trusted": true,
        "id": "DgnMmtFkTu25",
        "outputId": "6bfe5e15-741b-418a-9b10-0651239028dc"
      },
      "execution_count": null,
      "outputs": [
        {
          "name": "stdout",
          "text": "image.shape: torch.Size([1, 28, 28])\nLabel: 5\n",
          "output_type": "stream"
        },
        {
          "output_type": "display_data",
          "data": {
            "text/plain": "<Figure size 640x480 with 1 Axes>",
            "image/png": "[encoded data removed]"
          },
          "metadata": {}
        }
      ]
    },
    {
      "cell_type": "code",
      "source": [
        "print(image.shape)\n",
        "print(image.permute(1, 2, 0).shape)"
      ],
      "metadata": {
        "execution": {
          "iopub.status.busy": "2023-12-25T13:25:44.482423Z",
          "iopub.execute_input": "2023-12-25T13:25:44.482795Z",
          "iopub.status.idle": "2023-12-25T13:25:44.488181Z",
          "shell.execute_reply.started": "2023-12-25T13:25:44.482762Z",
          "shell.execute_reply": "2023-12-25T13:25:44.487229Z"
        },
        "trusted": true,
        "id": "ytUzfwrrTu26",
        "outputId": "5dff0f25-1169-414c-e01e-edc224d5d05e"
      },
      "execution_count": null,
      "outputs": [
        {
          "name": "stdout",
          "text": "torch.Size([1, 28, 28])\ntorch.Size([28, 28, 1])\n",
          "output_type": "stream"
        }
      ]
    },
    {
      "cell_type": "markdown",
      "source": [
        "Next, let's use the `random_split` helper function to set aside 10000 images for our validation set."
      ],
      "metadata": {
        "id": "4vjwsyaDpeT5"
      }
    },
    {
      "cell_type": "code",
      "source": [
        "val_size = 10000\n",
        "train_size = len(dataset) - val_size\n",
        "\n",
        "train_ds, val_ds = random_split(dataset, [train_size, val_size])\n",
        "len(train_ds), len(val_ds)"
      ],
      "metadata": {
        "colab": {
          "base_uri": "https://localhost:8080/"
        },
        "id": "Cgek18qlpeT5",
        "outputId": "1329f74b-2817-4019-f379-8d807c6413ff",
        "execution": {
          "iopub.status.busy": "2023-12-25T13:25:47.034380Z",
          "iopub.execute_input": "2023-12-25T13:25:47.035401Z",
          "iopub.status.idle": "2023-12-25T13:25:47.047961Z",
          "shell.execute_reply.started": "2023-12-25T13:25:47.035352Z",
          "shell.execute_reply": "2023-12-25T13:25:47.047047Z"
        },
        "trusted": true
      },
      "execution_count": null,
      "outputs": [
        {
          "execution_count": 8,
          "output_type": "execute_result",
          "data": {
            "text/plain": "(50000, 10000)"
          },
          "metadata": {}
        }
      ]
    },
    {
      "cell_type": "raw",
      "source": [
        "We can now create PyTorch data loaders for training and validation."
      ],
      "metadata": {
        "id": "PxB8SiaYpeT6"
      }
    },
    {
      "cell_type": "code",
      "source": [
        "batch_size=128"
      ],
      "metadata": {
        "id": "cK_hoRYSpeT6",
        "execution": {
          "iopub.status.busy": "2023-12-25T13:25:49.116449Z",
          "iopub.execute_input": "2023-12-25T13:25:49.117068Z",
          "iopub.status.idle": "2023-12-25T13:25:49.120950Z",
          "shell.execute_reply.started": "2023-12-25T13:25:49.117032Z",
          "shell.execute_reply": "2023-12-25T13:25:49.120009Z"
        },
        "trusted": true
      },
      "execution_count": null,
      "outputs": []
    },
    {
      "cell_type": "code",
      "source": [
        "train_loader = DataLoader(train_ds, batch_size, shuffle=True, num_workers=4, pin_memory=True)\n",
        "val_loader = DataLoader(val_ds, batch_size*2, num_workers=4, pin_memory=True)"
      ],
      "metadata": {
        "id": "iShTOn-vpeT6",
        "execution": {
          "iopub.status.busy": "2023-12-25T13:25:52.121628Z",
          "iopub.execute_input": "2023-12-25T13:25:52.121999Z",
          "iopub.status.idle": "2023-12-25T13:25:52.127363Z",
          "shell.execute_reply.started": "2023-12-25T13:25:52.121969Z",
          "shell.execute_reply": "2023-12-25T13:25:52.126389Z"
        },
        "trusted": true
      },
      "execution_count": null,
      "outputs": []
    },
    {
      "cell_type": "markdown",
      "source": [
        "Can you figure out the purpose of the arguments `num_workers` and `pin_memory`? Try looking into the documentation: https://pytorch.org/docs/stable/data.html .\n",
        "\n",
        "num_workers and pin_memory are arguments used when creating data loaders, specifically instances of DataLoader from the PyTorch library. Let me explain the purpose of each:\n",
        "\n",
        "* num_workers:\n",
        "\n",
        "The num_workers parameter specifies the number of worker processes to use for data loading.\n",
        "Setting num_workers to a value greater than 0 enables parallel data loading. It allows the data loader to load batches of data in parallel using multiple subprocesses.\n",
        "This can significantly speed up the data loading process, especially when dealing with large datasets.\n",
        "\n",
        "In this example, num_workers is set to 4, indicating that data loading will be performed using four worker processes.\n",
        "\n",
        "\n",
        "* pin_memory:\n",
        "\n",
        "The pin_memory parameter is a flag that, when set to True, enables the DataLoader to copy Tensors into pinned memory before returning them.\n",
        "Pinned memory is a special kind of memory that is directly accessible by the GPU. By using pin_memory, you can speed up the transfer of data from the host (CPU) to the device (GPU).\n",
        "This is particularly useful when training deep learning models with GPU acceleration, as it reduces the overhead of copying data between the CPU and GPU.\n",
        "\n",
        "In this example, pin_memory is set to True, indicating that the DataLoader should pin the memory when loading batches.\n",
        "\n",
        "Let's visualize a batch of data in a grid using the `make_grid` function from `torchvision`. We'll also use the `.permute` method on the tensor to move the channels to the last dimension, as expected by `matplotlib`."
      ],
      "metadata": {
        "id": "fjucG3lnpeT6"
      }
    },
    {
      "cell_type": "code",
      "source": [
        "for images, _ in train_loader:\n",
        "    print('images.shape:', images.shape)\n",
        "    print('grid.shape', make_grid(images, nrow = 16).shape)\n",
        "    break"
      ],
      "metadata": {
        "execution": {
          "iopub.status.busy": "2023-12-25T13:25:58.124768Z",
          "iopub.execute_input": "2023-12-25T13:25:58.125143Z",
          "iopub.status.idle": "2023-12-25T13:26:01.029246Z",
          "shell.execute_reply.started": "2023-12-25T13:25:58.125111Z",
          "shell.execute_reply": "2023-12-25T13:26:01.028184Z"
        },
        "trusted": true,
        "id": "pBqzNo-ZTu28",
        "outputId": "b24a4f98-52fd-4328-a516-cd04ade04e81"
      },
      "execution_count": null,
      "outputs": [
        {
          "name": "stdout",
          "text": "images.shape: torch.Size([128, 1, 28, 28])\ngrid.shape torch.Size([3, 242, 482])\n",
          "output_type": "stream"
        }
      ]
    },
    {
      "cell_type": "code",
      "source": [
        "\n",
        "for images, _ in train_loader:\n",
        "    print('images.shape:',images.shape)\n",
        "    plt.figure(figsize=(16,8))\n",
        "    plt.axis('off')\n",
        "    plt.imshow(make_grid(images, nrow=16).permute((1, 2 ,0)))\n",
        "    break\n",
        ""
      ],
      "metadata": {
        "colab": {
          "base_uri": "https://localhost:8080/",
          "height": 412
        },
        "id": "YshQj9srpeT6",
        "outputId": "ed518cb0-d7c8-4f03-d3b8-5f411fd3db3c",
        "execution": {
          "iopub.status.busy": "2023-12-25T13:26:01.771668Z",
          "iopub.execute_input": "2023-12-25T13:26:01.772025Z",
          "iopub.status.idle": "2023-12-25T13:26:02.389159Z",
          "shell.execute_reply.started": "2023-12-25T13:26:01.771997Z",
          "shell.execute_reply": "2023-12-25T13:26:02.387733Z"
        },
        "trusted": true
      },
      "execution_count": null,
      "outputs": [
        {
          "name": "stdout",
          "text": "images.shape: torch.Size([128, 1, 28, 28])\n",
          "output_type": "stream"
        },
        {
          "output_type": "display_data",
          "data": {
            "text/plain": "<Figure size 1600x800 with 1 Axes>",
            "image/png": "[encoded data removed]"
          },
          "metadata": {}
        }
      ]
    },
    {
      "cell_type": "markdown",
      "source": [
        "## Hidden Layers, Activation Functions and Non-Linearity\n",
        "\n",
        "We'll create a neural network with two layers: a _hidden layer_ and an _output layer_. Additionally, we'll use an _activation function_ between the two layers. Let's look at a step-by-step example to learn how hidden layers and activation functions can help capture non-linear relationships between inputs and outputs.\n",
        "\n",
        "First, let's create a batch of inputs tensors. We'll flatten the `1x28x28` images into vectors of size `784`, so they can be passed into an `nn.Linear` object."
      ],
      "metadata": {
        "id": "OKEjn2zvpeT6"
      }
    },
    {
      "cell_type": "code",
      "source": [
        "for images, labels in train_loader:\n",
        "    print('images.shape:', images.shape)\n",
        "    inputs = images.reshape(-1, 784)\n",
        "    print('inputs.shape:', inputs.shape)\n",
        "    break"
      ],
      "metadata": {
        "colab": {
          "base_uri": "https://localhost:8080/"
        },
        "id": "B5iPCdqEpeT6",
        "outputId": "4919e133-729f-4b18-a885-ee62c26cdac3",
        "execution": {
          "iopub.status.busy": "2023-12-25T13:26:09.781132Z",
          "iopub.execute_input": "2023-12-25T13:26:09.781511Z",
          "iopub.status.idle": "2023-12-25T13:26:09.970763Z",
          "shell.execute_reply.started": "2023-12-25T13:26:09.781477Z",
          "shell.execute_reply": "2023-12-25T13:26:09.969686Z"
        },
        "trusted": true
      },
      "execution_count": null,
      "outputs": [
        {
          "name": "stdout",
          "text": "images.shape: torch.Size([128, 1, 28, 28])\ninputs.shape: torch.Size([128, 784])\n",
          "output_type": "stream"
        }
      ]
    },
    {
      "cell_type": "markdown",
      "source": [
        "Next, let's create a `nn.Linear` object, which will serve as our _hidden_ layer. We'll set the size of the output from the hidden layer to 32. This number can be increased or decreased to change the _learning capacity_ of the model."
      ],
      "metadata": {
        "id": "mF__u2QfpeT6"
      }
    },
    {
      "cell_type": "code",
      "source": [
        "input_size = inputs.shape[-1]\n",
        "hidden_size = 32\n",
        "input_size"
      ],
      "metadata": {
        "id": "6zXN1c4PpeT6",
        "execution": {
          "iopub.status.busy": "2023-12-25T13:26:13.206383Z",
          "iopub.execute_input": "2023-12-25T13:26:13.207316Z",
          "iopub.status.idle": "2023-12-25T13:26:13.213745Z",
          "shell.execute_reply.started": "2023-12-25T13:26:13.207277Z",
          "shell.execute_reply": "2023-12-25T13:26:13.212725Z"
        },
        "trusted": true,
        "outputId": "24306996-ca81-4480-a15a-e6e75e469b18"
      },
      "execution_count": null,
      "outputs": [
        {
          "execution_count": 14,
          "output_type": "execute_result",
          "data": {
            "text/plain": "784"
          },
          "metadata": {}
        }
      ]
    },
    {
      "cell_type": "code",
      "source": [
        "layer1 = nn.Linear(input_size, hidden_size)"
      ],
      "metadata": {
        "id": "oOAh7CLZpeT7",
        "execution": {
          "iopub.status.busy": "2023-12-25T13:26:18.644631Z",
          "iopub.execute_input": "2023-12-25T13:26:18.645514Z",
          "iopub.status.idle": "2023-12-25T13:26:18.651455Z",
          "shell.execute_reply.started": "2023-12-25T13:26:18.645479Z",
          "shell.execute_reply": "2023-12-25T13:26:18.650479Z"
        },
        "trusted": true
      },
      "execution_count": null,
      "outputs": []
    },
    {
      "cell_type": "markdown",
      "source": [
        "We can now compute intermediate outputs for the batch of images by passing `inputs` through `layer1`."
      ],
      "metadata": {
        "id": "YzqPBDuypeT7"
      }
    },
    {
      "cell_type": "code",
      "source": [
        "inputs.shape"
      ],
      "metadata": {
        "colab": {
          "base_uri": "https://localhost:8080/"
        },
        "id": "zd0YcDIlcCKb",
        "outputId": "07b3d397-8a89-47fd-f50f-1116ae3a1f53",
        "execution": {
          "iopub.status.busy": "2023-12-25T13:26:21.150141Z",
          "iopub.execute_input": "2023-12-25T13:26:21.150807Z",
          "iopub.status.idle": "2023-12-25T13:26:21.156760Z",
          "shell.execute_reply.started": "2023-12-25T13:26:21.150773Z",
          "shell.execute_reply": "2023-12-25T13:26:21.155770Z"
        },
        "trusted": true
      },
      "execution_count": null,
      "outputs": [
        {
          "execution_count": 16,
          "output_type": "execute_result",
          "data": {
            "text/plain": "torch.Size([128, 784])"
          },
          "metadata": {}
        }
      ]
    },
    {
      "cell_type": "code",
      "source": [
        "layer1_outputs = layer1(inputs)\n",
        "print('layer1_outputs.shape:', layer1_outputs.shape)"
      ],
      "metadata": {
        "colab": {
          "base_uri": "https://localhost:8080/"
        },
        "id": "pD_FPxeipeT7",
        "outputId": "37f552e1-ac92-4e02-e948-2660b7b6fb43",
        "execution": {
          "iopub.status.busy": "2023-12-25T13:26:23.997469Z",
          "iopub.execute_input": "2023-12-25T13:26:23.997849Z",
          "iopub.status.idle": "2023-12-25T13:26:24.036993Z",
          "shell.execute_reply.started": "2023-12-25T13:26:23.997820Z",
          "shell.execute_reply": "2023-12-25T13:26:24.036036Z"
        },
        "trusted": true
      },
      "execution_count": null,
      "outputs": [
        {
          "name": "stdout",
          "text": "layer1_outputs.shape: torch.Size([128, 32])\n",
          "output_type": "stream"
        }
      ]
    },
    {
      "cell_type": "markdown",
      "source": [
        "The image vectors of size `784` are transformed into intermediate output vectors of length `32` by performing a matrix multiplication of `inputs` matrix with the transposed weights matrix of `layer1` and adding the bias. We can verify this using `torch.allclose`. For a more detailed explanation, review the tutorial on [linear regression](https://jovian.ai/aakashns/02-linear-regression).\n",
        "\n",
        "layer1 is a neural network layer, possibly an instance of nn.Linear in PyTorch.\n",
        "The transformation involves multiplying the input vectors (of size 784) by the transposed weight matrix of layer1 and adding the bias.\n",
        "The resulting layer1_outputs tensor has a shape that depends on the layer's configuration.\n",
        "To verify the correctness of the transformation, you can use torch.allclose to check if the manually calculated result matches the output obtained from the layer. If you need more details, refer to a linear regression tutorial for a deeper understanding."
      ],
      "metadata": {
        "id": "PK-eA2QTpeT7"
      }
    },
    {
      "cell_type": "code",
      "source": [
        "layer1_outputs_direct = inputs @ layer1.weight.t() + layer1.bias\n",
        "layer1_outputs_direct.shape"
      ],
      "metadata": {
        "colab": {
          "base_uri": "https://localhost:8080/"
        },
        "id": "0dEnp5VjpeT7",
        "outputId": "4bc3fbac-1947-4bf3-abdb-37ba5a21b257",
        "execution": {
          "iopub.status.busy": "2023-12-25T13:26:26.771112Z",
          "iopub.execute_input": "2023-12-25T13:26:26.772141Z",
          "iopub.status.idle": "2023-12-25T13:26:26.782202Z",
          "shell.execute_reply.started": "2023-12-25T13:26:26.772095Z",
          "shell.execute_reply": "2023-12-25T13:26:26.781354Z"
        },
        "trusted": true
      },
      "execution_count": null,
      "outputs": [
        {
          "execution_count": 18,
          "output_type": "execute_result",
          "data": {
            "text/plain": "torch.Size([128, 32])"
          },
          "metadata": {}
        }
      ]
    },
    {
      "cell_type": "code",
      "source": [
        "torch.allclose(layer1_outputs, layer1_outputs_direct, 1e-3)"
      ],
      "metadata": {
        "execution": {
          "iopub.status.busy": "2023-12-25T13:26:29.385020Z",
          "iopub.execute_input": "2023-12-25T13:26:29.385377Z",
          "iopub.status.idle": "2023-12-25T13:26:29.400404Z",
          "shell.execute_reply.started": "2023-12-25T13:26:29.385349Z",
          "shell.execute_reply": "2023-12-25T13:26:29.399540Z"
        },
        "trusted": true,
        "id": "_vWx8PNRTu3A",
        "outputId": "eed7f2d0-7675-4b88-b481-f294267cffb8"
      },
      "execution_count": null,
      "outputs": [
        {
          "execution_count": 19,
          "output_type": "execute_result",
          "data": {
            "text/plain": "True"
          },
          "metadata": {}
        }
      ]
    },
    {
      "cell_type": "markdown",
      "source": [
        "Thus, `layer1_outputs` and `inputs` have a linear relationship, i.e., each element of `layer_outputs` is a weighted sum of elements from `inputs`. Thus, even as we train the model and modify the weights, `layer1` can only capture linear relationships between `inputs` and `outputs`.\n",
        "\n",
        "<img src=\"https://i.imgur.com/inXsLuq.png\" width=\"360\">\n"
      ],
      "metadata": {
        "id": "MW9IXDPtpeT7"
      }
    },
    {
      "cell_type": "markdown",
      "source": [
        "Next, we'll use the Rectified Linear Unit (ReLU) function as the activation function for the outputs. It has the formula `relu(x) = max(0,x)` i.e. it simply replaces negative values in a given tensor with the value 0. ReLU is a non-linear function, as seen here visually:\n",
        "\n",
        "<img src=\"https://i.imgur.com/yijV4xF.png\" width=\"420\">\n",
        "\n",
        "We can use the `F.relu` method to apply ReLU to the elements of a tensor."
      ],
      "metadata": {
        "id": "9BVqTzvbTu3A"
      }
    },
    {
      "cell_type": "markdown",
      "source": [
        "* Linear Layer:\n",
        "\n",
        "In a linear layer, also known as an affine or dense layer, each neuron is connected to every neuron in the previous and next layers.\n",
        "The output of a linear layer is a linear combination of its input, usually followed by an activation function.\n",
        "Mathematically, the operation performed in a linear layer is essentially a matrix multiplication followed by addition.\n",
        "\n",
        "* Nonlinear Layer:\n",
        "\n",
        "Nonlinear layers introduce nonlinearity or activation functions to the network, allowing it to learn complex patterns and relationships in the data.\n",
        "Activation functions introduce nonlinearity by applying a mathematical operation element-wise to the output of the linear layer.\n",
        "Common activation functions include ReLU (Rectified Linear Unit), Sigmoid, and Tanh.\n",
        "Key Differences:\n",
        "\n",
        "* Functionality:\n",
        "\n",
        "Linear layers perform linear operations (matrix multiplication and addition).\n",
        "Nonlinear layers introduce nonlinearity through activation functions.\n",
        "Learning Capacity:\n",
        "\n",
        "Linear layers alone cannot capture complex patterns or relationships in the data because they only perform linear transformations.\n",
        "Nonlinear layers enable the network to learn and represent nonlinear relationships, making them crucial for modeling complex data.\n",
        "Activation Functions:\n",
        "\n",
        "Linear layers typically don't have activation functions, or they may use a simple identity function.\n",
        "Nonlinear layers always include activation functions, such as ReLU, Sigmoid, or Tanh.\n",
        "Role in Neural Networks:\n",
        "\n",
        "Linear layers are often used for transforming input features or reducing/increasing the dimensionality.\n",
        "Nonlinear layers add flexibility to the network, allowing it to learn and represent more complex functions, which is crucial for tasks like image recognition, language modeling, and other complex tasks.\n",
        "In practice, neural networks consist of multiple layers of both types. The combination of linear and nonlinear layers enables neural networks to learn and represent intricate patterns in data, making them powerful tools for a wide range of machine learning tasks."
      ],
      "metadata": {
        "id": "UpvZAtdMTu3B"
      }
    },
    {
      "cell_type": "code",
      "source": [
        "\n",
        "F.relu(torch.tensor([[1, -1, 0], [-0.1, .2, 3]]))"
      ],
      "metadata": {
        "colab": {
          "base_uri": "https://localhost:8080/"
        },
        "id": "zHMpGUGRpeT7",
        "outputId": "73821aa2-39ff-4422-cd6a-b6daaef65521",
        "execution": {
          "iopub.status.busy": "2023-12-25T13:26:35.569367Z",
          "iopub.execute_input": "2023-12-25T13:26:35.569839Z",
          "iopub.status.idle": "2023-12-25T13:26:35.588666Z",
          "shell.execute_reply.started": "2023-12-25T13:26:35.569806Z",
          "shell.execute_reply": "2023-12-25T13:26:35.587764Z"
        },
        "trusted": true
      },
      "execution_count": null,
      "outputs": [
        {
          "execution_count": 20,
          "output_type": "execute_result",
          "data": {
            "text/plain": "tensor([[1.0000, 0.0000, 0.0000],\n        [0.0000, 0.2000, 3.0000]])"
          },
          "metadata": {}
        }
      ]
    },
    {
      "cell_type": "markdown",
      "source": [
        "Let's apply the activation function to `layer1_outputs` and verify that negative values were replaced with 0."
      ],
      "metadata": {
        "id": "Y0QIFoEopeT7"
      }
    },
    {
      "cell_type": "code",
      "source": [
        "relu_outputs = F.relu(layer1_outputs)\n",
        "print('min(layer1_outputs:)', torch.min(layer1_outputs).item())\n",
        "print('min(relu_outputs:)', torch.min(relu_outputs).item())"
      ],
      "metadata": {
        "colab": {
          "base_uri": "https://localhost:8080/"
        },
        "id": "QqBj3KsnpeT7",
        "outputId": "b7d59b68-e58e-4788-b841-5c75ec574cb6",
        "execution": {
          "iopub.status.busy": "2023-12-25T13:26:38.258510Z",
          "iopub.execute_input": "2023-12-25T13:26:38.259361Z",
          "iopub.status.idle": "2023-12-25T13:26:38.266208Z",
          "shell.execute_reply.started": "2023-12-25T13:26:38.259329Z",
          "shell.execute_reply": "2023-12-25T13:26:38.265324Z"
        },
        "trusted": true
      },
      "execution_count": null,
      "outputs": [
        {
          "name": "stdout",
          "text": "min(layer1_outputs:) -0.8806273341178894\nmin(relu_outputs:) 0.0\n",
          "output_type": "stream"
        }
      ]
    },
    {
      "cell_type": "markdown",
      "source": [
        "Now that we've applied a non-linear activation function, `relu_outputs` and `inputs` do not have a linear relationship. We refer to `ReLU` as the _activation function_, because for each input certain outputs are activated (those with non-zero values) while others turned off (those with zero values)\n",
        "\n",
        "Next, let's create an output layer to convert vectors of length `hidden_size` in `relu_outputs` into vectors of length 10, which is the desired output of our model (since there are 10 target labels)."
      ],
      "metadata": {
        "id": "g42i491NpeT7"
      }
    },
    {
      "cell_type": "code",
      "source": [
        "output_size = 10\n",
        "print(hidden_size)\n",
        "layer2 = nn.Linear(hidden_size, output_size)\n",
        "print(layer2)"
      ],
      "metadata": {
        "id": "k1qY-KYzpeT7",
        "execution": {
          "iopub.status.busy": "2023-12-25T13:26:42.964795Z",
          "iopub.execute_input": "2023-12-25T13:26:42.965164Z",
          "iopub.status.idle": "2023-12-25T13:26:42.971197Z",
          "shell.execute_reply.started": "2023-12-25T13:26:42.965135Z",
          "shell.execute_reply": "2023-12-25T13:26:42.970068Z"
        },
        "trusted": true,
        "outputId": "975aacca-5b48-47cb-c11b-86c284ee1703"
      },
      "execution_count": null,
      "outputs": [
        {
          "name": "stdout",
          "text": "32\nLinear(in_features=32, out_features=10, bias=True)\n",
          "output_type": "stream"
        }
      ]
    },
    {
      "cell_type": "code",
      "source": [
        "layer2_outputs = layer2(relu_outputs)\n",
        "print(layer2_outputs.shape)"
      ],
      "metadata": {
        "colab": {
          "base_uri": "https://localhost:8080/"
        },
        "id": "D_DuKvL8peT7",
        "outputId": "4542bfde-4c73-4a38-8491-e3b808395db7",
        "execution": {
          "iopub.status.busy": "2023-12-25T13:26:46.158313Z",
          "iopub.execute_input": "2023-12-25T13:26:46.159012Z",
          "iopub.status.idle": "2023-12-25T13:26:46.166966Z",
          "shell.execute_reply.started": "2023-12-25T13:26:46.158978Z",
          "shell.execute_reply": "2023-12-25T13:26:46.165972Z"
        },
        "trusted": true
      },
      "execution_count": null,
      "outputs": [
        {
          "name": "stdout",
          "text": "torch.Size([128, 10])\n",
          "output_type": "stream"
        }
      ]
    },
    {
      "cell_type": "code",
      "source": [
        "inputs.shape"
      ],
      "metadata": {
        "colab": {
          "base_uri": "https://localhost:8080/"
        },
        "id": "caxPuaS9dQhH",
        "outputId": "d2ba04fb-a317-4dc9-d015-ae48900e983b",
        "execution": {
          "iopub.status.busy": "2023-12-25T13:26:50.323863Z",
          "iopub.execute_input": "2023-12-25T13:26:50.324249Z",
          "iopub.status.idle": "2023-12-25T13:26:50.330318Z",
          "shell.execute_reply.started": "2023-12-25T13:26:50.324221Z",
          "shell.execute_reply": "2023-12-25T13:26:50.329452Z"
        },
        "trusted": true
      },
      "execution_count": null,
      "outputs": [
        {
          "execution_count": 24,
          "output_type": "execute_result",
          "data": {
            "text/plain": "torch.Size([128, 784])"
          },
          "metadata": {}
        }
      ]
    },
    {
      "cell_type": "markdown",
      "source": [
        "As expected, `layer2_outputs` contains a batch of vectors of size 10. We can now use this output to compute the loss using `F.cross_entropy` and adjust the weights of `layer1` and `layer2` using gradient descent."
      ],
      "metadata": {
        "id": "AikFPlJppeT7"
      }
    },
    {
      "cell_type": "code",
      "source": [
        "F.cross_entropy(layer2_outputs, labels)"
      ],
      "metadata": {
        "colab": {
          "base_uri": "https://localhost:8080/"
        },
        "id": "CQ_ArLNApeT7",
        "outputId": "05ddc267-9532-4b02-d7d3-402feb78be0a",
        "execution": {
          "iopub.status.busy": "2023-12-25T13:26:52.998472Z",
          "iopub.execute_input": "2023-12-25T13:26:52.999242Z",
          "iopub.status.idle": "2023-12-25T13:26:53.013547Z",
          "shell.execute_reply.started": "2023-12-25T13:26:52.999208Z",
          "shell.execute_reply": "2023-12-25T13:26:53.012675Z"
        },
        "trusted": true
      },
      "execution_count": null,
      "outputs": [
        {
          "execution_count": 25,
          "output_type": "execute_result",
          "data": {
            "text/plain": "tensor(2.3295, grad_fn=<NllLossBackward0>)"
          },
          "metadata": {}
        }
      ]
    },
    {
      "cell_type": "markdown",
      "source": [
        "Thus, our model transforms `inputs` into `layer2_outputs` by applying a linear transformation (using `layer1`), followed by a non-linear activation (using `F.relu`), followed by another linear transformation (using `layer2`). Let's verify this by re-computing the output using basic matrix operations."
      ],
      "metadata": {
        "id": "UazxyCKHpeT7"
      }
    },
    {
      "cell_type": "code",
      "source": [
        "# Expanded version of layer2(F.relu(layer1(inputs)))\n",
        "outputs = (F.relu(inputs @ layer1.weight.t() + layer1.bias)) @ layer2.weight.t() + layer2.bias\n",
        "outputs"
      ],
      "metadata": {
        "id": "vNQ2nPijpeT7",
        "execution": {
          "iopub.status.busy": "2023-12-25T13:26:57.023230Z",
          "iopub.execute_input": "2023-12-25T13:26:57.023579Z",
          "iopub.status.idle": "2023-12-25T13:26:57.035163Z",
          "shell.execute_reply.started": "2023-12-25T13:26:57.023553Z",
          "shell.execute_reply": "2023-12-25T13:26:57.034283Z"
        },
        "trusted": true,
        "outputId": "bfc4032d-961c-4747-c19a-96648eeeac11"
      },
      "execution_count": null,
      "outputs": [
        {
          "execution_count": 26,
          "output_type": "execute_result",
          "data": {
            "text/plain": "tensor([[-0.0616,  0.0331,  0.1687,  ...,  0.0780,  0.2610,  0.0351],\n        [ 0.0535,  0.0170,  0.0875,  ...,  0.0919,  0.3017,  0.0743],\n        [ 0.0755, -0.0501,  0.0733,  ...,  0.1227,  0.3059,  0.0853],\n        ...,\n        [ 0.0429,  0.0122,  0.1335,  ...,  0.1514,  0.2790,  0.0563],\n        [-0.0118,  0.0111,  0.0345,  ...,  0.1395,  0.2697,  0.0616],\n        [ 0.0007, -0.0446,  0.1012,  ...,  0.0889,  0.3365, -0.0429]],\n       grad_fn=<AddBackward0>)"
          },
          "metadata": {}
        }
      ]
    },
    {
      "cell_type": "code",
      "source": [
        "torch.allclose(outputs, layer2_outputs, 1e-4)"
      ],
      "metadata": {
        "colab": {
          "base_uri": "https://localhost:8080/"
        },
        "id": "4BgaRib-peT7",
        "outputId": "46fe04bb-ecee-4f75-9f3b-5ca9507534ab",
        "execution": {
          "iopub.status.busy": "2023-12-25T13:26:59.758754Z",
          "iopub.execute_input": "2023-12-25T13:26:59.759472Z",
          "iopub.status.idle": "2023-12-25T13:26:59.765591Z",
          "shell.execute_reply.started": "2023-12-25T13:26:59.759442Z",
          "shell.execute_reply": "2023-12-25T13:26:59.764647Z"
        },
        "trusted": true
      },
      "execution_count": null,
      "outputs": [
        {
          "execution_count": 27,
          "output_type": "execute_result",
          "data": {
            "text/plain": "True"
          },
          "metadata": {}
        }
      ]
    },
    {
      "cell_type": "markdown",
      "source": [
        "Note that `outputs` and `inputs` do not have a linear relationship due to the non-linear activation function `F.relu`. As we train the model and adjust the weights of `layer1` and `layer2`, we can now capture non-linear relationships between the images and their labels. In other words, introducing non-linearity makes the model more powerful and versatile. Also, since `hidden_size` does not depend on the dimensions of the inputs or outputs, we vary it to increase the number of parameters within the model. We can also introduce new hidden layers and apply the same non-linear activation after each hidden layer.\n",
        "\n",
        "The model we just created is called a neural network. A _deep neural network_ is simply a neural network with one or more hidden layers. In fact, the [Universal Approximation Theorem](http://neuralnetworksanddeeplearning.com/chap4.html) states that a sufficiently large & deep neural network can compute any arbitrary function i.e. it can _learn_ rich and complex non-linear relationships between inputs and targets. Here are some examples:\n",
        "\n",
        "* Identifying if an image contains a cat or a dog (or [something else](https://machinelearningmastery.com/introduction-to-the-imagenet-large-scale-visual-recognition-challenge-ilsvrc/))\n",
        "* Identifying the genre of a song using a 10-second sample\n",
        "* Classifying movie reviews as positive or negative based on their content\n",
        "* Navigating self-driving cars using a video feed of the road\n",
        "* Translating sentences from English to French (and hundreds of other languages)\n",
        "* Converting a speech recording to text and vice versa\n",
        "* And many more...\n",
        "\n",
        "It's hard to imagine how the simple process of multiplying inputs with randomly initialized matrices, applying non-linear activations, and adjusting weights repeatedly using gradient descent can yield such astounding results. Deep learning models often contain millions of parameters, which can together capture far more complex relationships than the human brain can comprehend.\n",
        "\n",
        "If we hadn't included a non-linear activation between the two linear layers, the final relationship between inputs and outputs would still be linear. A simple refactoring of the computations illustrates this."
      ],
      "metadata": {
        "id": "ZLOjL89WpeT7"
      }
    },
    {
      "cell_type": "code",
      "source": [
        "# Same as layer2(layer1(inputs))\n",
        "outputs2 = (inputs @ layer1.weight.t() + layer1.bias) @ layer2.weight.t() + layer2.bias"
      ],
      "metadata": {
        "id": "AHWruKwlpeT7",
        "execution": {
          "iopub.status.busy": "2023-12-25T13:27:06.354226Z",
          "iopub.execute_input": "2023-12-25T13:27:06.354589Z",
          "iopub.status.idle": "2023-12-25T13:27:06.363047Z",
          "shell.execute_reply.started": "2023-12-25T13:27:06.354561Z",
          "shell.execute_reply": "2023-12-25T13:27:06.362235Z"
        },
        "trusted": true
      },
      "execution_count": null,
      "outputs": []
    },
    {
      "cell_type": "code",
      "source": [
        "# Create a single layer to replace the two linear layers\n",
        "combined_layer = nn.Linear(input_size, output_size)\n",
        "\n",
        "combined_layer.weight.data = layer2.weight @ layer1.weight\n",
        "combined_layer.bias.data = layer1.bias @ layer2.weight.t() + layer2.bias"
      ],
      "metadata": {
        "id": "BTUU8qRRpeT8",
        "execution": {
          "iopub.status.busy": "2023-12-25T13:27:09.483238Z",
          "iopub.execute_input": "2023-12-25T13:27:09.483963Z",
          "iopub.status.idle": "2023-12-25T13:27:09.495050Z",
          "shell.execute_reply.started": "2023-12-25T13:27:09.483931Z",
          "shell.execute_reply": "2023-12-25T13:27:09.494134Z"
        },
        "trusted": true
      },
      "execution_count": null,
      "outputs": []
    },
    {
      "cell_type": "markdown",
      "source": [
        "The transpose operation (t()) is applied to the weight matrix (layer2.weight) but not to the bias. This is because the weight matrices have specific dimensions that require transposing, while biases are typically one-dimensional and do not require transposition."
      ],
      "metadata": {
        "id": "ghOgDlL-Tu3N"
      }
    },
    {
      "cell_type": "code",
      "source": [
        "# Same as combined_layer(inputs)\n",
        "outputs3 = inputs @ combined_layer.weight.t() + combined_layer.bias\n",
        "outputs3"
      ],
      "metadata": {
        "execution": {
          "iopub.status.busy": "2023-12-25T13:27:13.243130Z",
          "iopub.execute_input": "2023-12-25T13:27:13.243969Z",
          "iopub.status.idle": "2023-12-25T13:27:13.252314Z",
          "shell.execute_reply.started": "2023-12-25T13:27:13.243934Z",
          "shell.execute_reply": "2023-12-25T13:27:13.251400Z"
        },
        "trusted": true,
        "id": "l3QFS-tOTu3O",
        "outputId": "6dddafd2-5217-4780-ad78-f0a0441da7f6"
      },
      "execution_count": null,
      "outputs": [
        {
          "execution_count": 31,
          "output_type": "execute_result",
          "data": {
            "text/plain": "tensor([[-0.1025,  0.1673,  0.1951,  ...,  0.1285,  0.4153,  0.1970],\n        [ 0.0869,  0.1369,  0.0930,  ...,  0.0915,  0.3729,  0.1216],\n        [ 0.1122,  0.0521, -0.0026,  ...,  0.1375,  0.4058,  0.1188],\n        ...,\n        [ 0.1195,  0.2844,  0.0859,  ...,  0.1755,  0.4197,  0.2248],\n        [ 0.0622,  0.2751,  0.0327,  ...,  0.1662,  0.4877,  0.2023],\n        [ 0.0060,  0.1131,  0.0576,  ...,  0.0840,  0.4494,  0.0008]],\n       grad_fn=<AddBackward0>)"
          },
          "metadata": {}
        }
      ]
    },
    {
      "cell_type": "code",
      "source": [
        "torch.allclose(outputs2, outputs3, 1e-3)"
      ],
      "metadata": {
        "colab": {
          "base_uri": "https://localhost:8080/"
        },
        "id": "It7A4nzQpeT8",
        "outputId": "aeaae6d4-c4cb-4fcd-b303-606a4dbe4a96",
        "execution": {
          "iopub.status.busy": "2023-12-25T13:27:17.450856Z",
          "iopub.execute_input": "2023-12-25T13:27:17.451211Z",
          "iopub.status.idle": "2023-12-25T13:27:17.457647Z",
          "shell.execute_reply.started": "2023-12-25T13:27:17.451184Z",
          "shell.execute_reply": "2023-12-25T13:27:17.456781Z"
        },
        "trusted": true
      },
      "execution_count": null,
      "outputs": [
        {
          "execution_count": 32,
          "output_type": "execute_result",
          "data": {
            "text/plain": "True"
          },
          "metadata": {}
        }
      ]
    },
    {
      "cell_type": "markdown",
      "source": [
        "The torch.allclose function in PyTorch is used to check if all elements of two tensors are close within a specified tolerance. The function returns True if all elements are within the specified absolute or relative tolerance and False otherwise."
      ],
      "metadata": {
        "id": "2NH8TJCDTu3P"
      }
    },
    {
      "cell_type": "markdown",
      "source": [],
      "metadata": {
        "id": "WKdfiUyQTu3P"
      }
    },
    {
      "cell_type": "markdown",
      "source": [
        "### Save and upload your notebook\n",
        "\n",
        "Whether you're running this Jupyter notebook online or on your computer, it's essential to save your work from time to time. You can continue working on a saved notebook later or share it with friends and colleagues to let them execute your code. [Jovian](https://jovian.ai/platform-features) offers an easy way of saving and sharing your Jupyter notebooks online."
      ],
      "metadata": {
        "id": "Y7NUCuW5wODZ"
      }
    },
    {
      "cell_type": "code",
      "source": [
        "# Install the library\n",
        "!pip install jovian --upgrade --quiet"
      ],
      "metadata": {
        "id": "W4liggZ2uq-y"
      },
      "execution_count": null,
      "outputs": []
    },
    {
      "cell_type": "code",
      "source": [
        "import jovian"
      ],
      "metadata": {
        "id": "fsdoLFqSuquB"
      },
      "execution_count": null,
      "outputs": []
    },
    {
      "cell_type": "code",
      "source": [
        "jovian.commit(project='04-feedforward-nn')"
      ],
      "metadata": {
        "colab": {
          "base_uri": "https://localhost:8080/",
          "height": 139
        },
        "id": "lWyuhJvEwSJY",
        "outputId": "f37eb179-1a09-4c54-cfae-908975528c14"
      },
      "execution_count": null,
      "outputs": [
        {
          "output_type": "display_data",
          "data": {
            "application/javascript": [
              "window.require && require([\"base/js/namespace\"],function(Jupyter){Jupyter.notebook.save_checkpoint()})"
            ],
            "text/plain": [
              "<IPython.core.display.Javascript object>"
            ]
          },
          "metadata": {}
        },
        {
          "name": "stdout",
          "output_type": "stream",
          "text": "[jovian] Attempting to save notebook..\u001b[0m\n\n[jovian] Updating notebook \"aakashns/04-feedforward-nn\" on https://jovian.ai/\u001b[0m\n\n[jovian] Uploading notebook..\u001b[0m\n\n[jovian] Capturing environment..\u001b[0m\n\n[jovian] Committed successfully! https://jovian.ai/aakashns/04-feedforward-nn\u001b[0m\n"
        },
        {
          "execution_count": 41,
          "output_type": "execute_result",
          "data": {
            "text/plain": [
              "'https://jovian.ai/aakashns/04-feedforward-nn'"
            ]
          },
          "metadata": {}
        }
      ]
    },
    {
      "cell_type": "markdown",
      "source": [
        "`jovian.commit` uploads the notebook to your Jovian account, captures the Python environment, and creates a shareable link for your notebook, as shown above. You can use this link to share your work and let anyone (including you) run your notebooks and reproduce your work."
      ],
      "metadata": {
        "id": "ur3bA-lZwZBu"
      }
    },
    {
      "cell_type": "markdown",
      "source": [
        "## Model\n",
        "\n",
        "We are now ready to define our model. As discussed above, we'll create a neural network with one hidden layer. Here's what that means:\n",
        "\n",
        "* Instead of using a single `nn.Linear` object to transform a batch of inputs (pixel intensities) into outputs (class probabilities), we'll use two `nn.Linear` objects. Each of these is called a _layer_ in the network.\n",
        "\n",
        "* The first layer (also known as the hidden layer) will transform the input matrix of shape `batch_size x 784` into an intermediate output matrix of shape `batch_size x hidden_size`. The parameter `hidden_size` can be configured manually (e.g., 32 or 64).\n",
        "\n",
        "* We'll then apply a non-linear *activation function* to the intermediate outputs. The activation function transforms individual elements of the matrix.\n",
        "\n",
        "\n",
        "Applying a non-linear activation function to the intermediate outputs of a neural network is a crucial step in enabling the network to learn complex relationships and make it capable of approximating non-linear functions. The primary reasons for using non-linear activation functions include:\n",
        "\n",
        "Enabling Complex Representations:\n",
        "\n",
        "Linear transformations (such as those achieved by using only linear activation functions or not using any activation function) are limited to producing linear combinations of input features. This limitation makes it difficult for the neural network to learn and represent complex, non-linear patterns in the data.\n",
        "Introducing Non-Linearity:\n",
        "\n",
        "Non-linear activation functions introduce non-linearity to the network, allowing it to model and understand non-linear relationships within the data. The composition of multiple non-linear transformations enables the network to learn intricate mappings from input to output.\n",
        "Expressive Power:\n",
        "\n",
        "Non-linear activation functions increase the expressive power of the neural network, enabling it to capture and represent a wider range of functions. This is important for solving real-world problems where the underlying relationships between input and output variables are often non-linear.\n",
        "Avoiding Overfitting:\n",
        "\n",
        "Non-linear activation functions also play a role in preventing overfitting. Without non-linearities, a neural network could end up learning the same linear relationships present in the input data, which might lead to overfitting and poor generalization to new, unseen data.\n",
        "Learning Hierarchical Features:\n",
        "\n",
        "Non-linear activation functions allow the network to learn hierarchical features and abstractions. As information passes through different layers of the network, non-linear activations help in capturing increasingly abstract and complex representations of the input data.\n",
        "Gradient Flow and Backpropagation:\n",
        "\n",
        "Non-linear activation functions introduce non-zero gradients, facilitating the backpropagation algorithm used during training. The ability to propagate gradients through the network is essential for updating the weights and learning the model parameters.\n",
        "Common non-linear activation functions include the rectified linear unit (ReLU), sigmoid, hyperbolic tangent (tanh), and variants like Leaky ReLU. Each of these functions introduces non-linearity in different ways, and their choice depends on the specific characteristics of the problem at hand and the properties desired in the network's learned representations.\n",
        "\n",
        "\n",
        "\n",
        "\n",
        "\n",
        "\n",
        "\n",
        "* The result of the activation function, which is also of size `batch_size x hidden_size`, is passed into the second layer (also known as the output layer).  The second layer transforms it into a matrix of size `batch_size x 10`. We can use this output to compute the loss and adjust weights using gradient descent.\n",
        "\n",
        "\n",
        "As discussed above, our model will contain one hidden layer. Here's what it looks like visually:\n",
        "\n",
        "<img src=\"https://i.imgur.com/eN7FrpF.png\" width=\"480\">\n",
        "\n",
        "\n",
        "Let's define the model by extending the `nn.Module` class from PyTorch."
      ],
      "metadata": {
        "id": "l8dOeJyfpeT8"
      }
    },
    {
      "cell_type": "code",
      "source": [
        "class MnistModel(nn.Module):\n",
        "    \"\"\"Feedfoward neural network with 1 hidden layer\"\"\"\n",
        "    def __init__(self, in_size, hidden_size, out_size):\n",
        "        super().__init__()\n",
        "        # hidden layer\n",
        "        self.linear1 = nn.Linear(in_size, hidden_size)\n",
        "        # output layer\n",
        "        self.linear2 = nn.Linear(hidden_size, out_size)\n",
        "\n",
        "    def forward(self, xb):\n",
        "        # Flatten the image tensors\n",
        "        xb = xb.view(xb.size(0), -1)\n",
        "        # Get intermediate outputs using hidden layer\n",
        "        out = self.linear1(xb)\n",
        "        # Apply activation function\n",
        "        out = F.relu(out)\n",
        "        # Get predictions using output layer\n",
        "        out = self.linear2(out)\n",
        "        return out\n",
        "\n",
        "    def training_step(self, batch):\n",
        "        images, labels = batch\n",
        "        out = self(images)                  # Generate predictions\n",
        "        loss = F.cross_entropy(out, labels) # Calculate loss\n",
        "        return loss\n",
        "\n",
        "    def validation_step(self, batch):\n",
        "        images, labels = batch\n",
        "        out = self(images)                    # Generate predictions\n",
        "        loss = F.cross_entropy(out, labels)   # Calculate loss\n",
        "        acc = accuracy(out, labels)           # Calculate accuracy\n",
        "        return {'val_loss': loss, 'val_acc': acc}\n",
        "\n",
        "    def validation_epoch_end(self, outputs):\n",
        "        batch_losses = [x['val_loss'] for x in outputs]\n",
        "        epoch_loss = torch.stack(batch_losses).mean()   # Combine losses\n",
        "        batch_accs = [x['val_acc'] for x in outputs]\n",
        "        epoch_acc = torch.stack(batch_accs).mean()      # Combine accuracies\n",
        "        return {'val_loss': epoch_loss.item(), 'val_acc': epoch_acc.item()}\n",
        "\n",
        "    def epoch_end(self, epoch, result):\n",
        "        print(\"Epoch [{}], val_loss: {:.4f}, val_acc: {:.4f}\".format(epoch, result['val_loss'], result['val_acc']))"
      ],
      "metadata": {
        "id": "_fKPW6tSpeT8",
        "execution": {
          "iopub.status.busy": "2023-12-25T13:55:15.969735Z",
          "iopub.execute_input": "2023-12-25T13:55:15.970203Z",
          "iopub.status.idle": "2023-12-25T13:55:15.983388Z",
          "shell.execute_reply.started": "2023-12-25T13:55:15.970170Z",
          "shell.execute_reply": "2023-12-25T13:55:15.982438Z"
        },
        "trusted": true
      },
      "execution_count": null,
      "outputs": []
    },
    {
      "cell_type": "markdown",
      "source": [
        "We also need to define an `accuracy` function which calculates the accuracy of the model's prediction on an batch of inputs. It's used in `validation_step` above."
      ],
      "metadata": {
        "id": "IVCJnvSWTu3R"
      }
    },
    {
      "cell_type": "code",
      "source": [
        "def accuracy(outputs, labels):\n",
        "    # torch.max(outputs, dim=1)\n",
        "    #returns a tuple containing the maximum values and their indices along dimension 1.\n",
        "    # The first element of the tuple (_) is not used here, and the second element (preds) contains the predicted class indices.\n",
        "    _, preds = torch.max(outputs, dim=1)\n",
        "\n",
        "\n",
        "    # The expression (preds == labels) creates a Boolean tensor indicating whether each prediction is correct.\n",
        "    # torch.sum(preds == labels) calculates the total number of correct predictions.\n",
        "    # torch.sum(preds == labels).item() retrieves the actual count as a Python number.\n",
        "    # Calculate the accuracy by dividing the number of correct predictions by the total number of predictions.\n",
        "\n",
        "    return torch.tensor(torch.sum(preds == labels).item() / len(preds))"
      ],
      "metadata": {
        "id": "ooA0PwVipeT8",
        "execution": {
          "iopub.status.busy": "2023-12-25T13:41:02.342566Z",
          "iopub.execute_input": "2023-12-25T13:41:02.343504Z",
          "iopub.status.idle": "2023-12-25T13:41:02.349071Z",
          "shell.execute_reply.started": "2023-12-25T13:41:02.343469Z",
          "shell.execute_reply": "2023-12-25T13:41:02.348015Z"
        },
        "trusted": true
      },
      "execution_count": null,
      "outputs": []
    },
    {
      "cell_type": "markdown",
      "source": [
        "We'll create a model that contains a hidden layer with 32 activations."
      ],
      "metadata": {
        "id": "4sSd532VpeT8"
      }
    },
    {
      "cell_type": "code",
      "source": [
        "input_size = 784\n",
        "hidden_size = 32 # you can change this\n",
        "num_classes = 10"
      ],
      "metadata": {
        "id": "beSRnIQTpeT8",
        "execution": {
          "iopub.status.busy": "2023-12-25T13:41:09.402797Z",
          "iopub.execute_input": "2023-12-25T13:41:09.403638Z",
          "iopub.status.idle": "2023-12-25T13:41:09.407725Z",
          "shell.execute_reply.started": "2023-12-25T13:41:09.403605Z",
          "shell.execute_reply": "2023-12-25T13:41:09.406649Z"
        },
        "trusted": true
      },
      "execution_count": null,
      "outputs": []
    },
    {
      "cell_type": "code",
      "source": [
        "model = MnistModel(input_size, hidden_size=32, out_size=num_classes)"
      ],
      "metadata": {
        "id": "IvSp6BFppeT8",
        "execution": {
          "iopub.status.busy": "2023-12-25T13:41:44.393641Z",
          "iopub.execute_input": "2023-12-25T13:41:44.394449Z",
          "iopub.status.idle": "2023-12-25T13:41:44.399470Z",
          "shell.execute_reply.started": "2023-12-25T13:41:44.394418Z",
          "shell.execute_reply": "2023-12-25T13:41:44.398635Z"
        },
        "trusted": true
      },
      "execution_count": null,
      "outputs": []
    },
    {
      "cell_type": "markdown",
      "source": [
        "Let's take a look at the model's parameters. We expect to see one weight and bias matrix for each of the layers."
      ],
      "metadata": {
        "id": "EtWfv0N9peT8"
      }
    },
    {
      "cell_type": "code",
      "source": [
        "for t in model.parameters():\n",
        "    print(t.shape)"
      ],
      "metadata": {
        "colab": {
          "base_uri": "https://localhost:8080/"
        },
        "id": "psecOJfZpeT8",
        "outputId": "8a7acfca-577f-47d7-d4b2-ee337318c711",
        "execution": {
          "iopub.status.busy": "2023-12-25T13:41:57.784701Z",
          "iopub.execute_input": "2023-12-25T13:41:57.785058Z",
          "iopub.status.idle": "2023-12-25T13:41:57.789937Z",
          "shell.execute_reply.started": "2023-12-25T13:41:57.785032Z",
          "shell.execute_reply": "2023-12-25T13:41:57.789037Z"
        },
        "trusted": true
      },
      "execution_count": null,
      "outputs": [
        {
          "name": "stdout",
          "text": "torch.Size([32, 784])\ntorch.Size([32])\ntorch.Size([10, 32])\ntorch.Size([10])\n",
          "output_type": "stream"
        }
      ]
    },
    {
      "cell_type": "markdown",
      "source": [
        "Let's try and generate some outputs using our model. We'll take the first batch of 128 images from our dataset and pass them into our model."
      ],
      "metadata": {
        "id": "zeFGsljIpeT8"
      }
    },
    {
      "cell_type": "code",
      "source": [
        "for images, labels in train_loader:\n",
        "    outputs = model(images)\n",
        "    loss = F.cross_entropy(outputs, labels)\n",
        "    print('Loss:', loss.item())\n",
        "    break\n",
        "\n",
        "print('outputs.shape : ', outputs.shape)\n",
        "print('Sample outputs :\\n', outputs[:2].data)"
      ],
      "metadata": {
        "colab": {
          "base_uri": "https://localhost:8080/"
        },
        "id": "jajA6VFYpeT8",
        "outputId": "0d9e12b4-c08f-4e8a-fc6f-43288e0efd65",
        "execution": {
          "iopub.status.busy": "2023-12-25T13:42:42.402109Z",
          "iopub.execute_input": "2023-12-25T13:42:42.403195Z",
          "iopub.status.idle": "2023-12-25T13:42:42.607268Z",
          "shell.execute_reply.started": "2023-12-25T13:42:42.403158Z",
          "shell.execute_reply": "2023-12-25T13:42:42.606289Z"
        },
        "trusted": true
      },
      "execution_count": null,
      "outputs": [
        {
          "name": "stdout",
          "text": "tensor([[0., 0., 0.,  ..., 0., 0., 0.],\n        [0., 0., 0.,  ..., 0., 0., 0.],\n        [0., 0., 0.,  ..., 0., 0., 0.],\n        ...,\n        [0., 0., 0.,  ..., 0., 0., 0.],\n        [0., 0., 0.,  ..., 0., 0., 0.],\n        [0., 0., 0.,  ..., 0., 0., 0.]])\nLoss: 2.318293571472168\noutputs.shape :  torch.Size([128, 10])\nSample outputs :\n tensor([[ 0.2084, -0.1027, -0.1951,  0.0283,  0.1029,  0.1795,  0.0669,  0.0635,\n          0.1684,  0.0664],\n        [ 0.1222, -0.1393, -0.1802,  0.1262,  0.1070,  0.1198,  0.0509,  0.1105,\n          0.2439, -0.0005]])\n",
          "output_type": "stream"
        }
      ]
    },
    {
      "cell_type": "markdown",
      "source": [
        "## Using a GPU\n",
        "\n",
        "As the sizes of our models and datasets increase, we need to use GPUs to train our models within a reasonable amount of time. GPUs contain hundreds of cores optimized for performing expensive matrix operations on floating-point numbers quickly, making them ideal for training deep neural networks. You can use GPUs for free on [Google Colab](https://colab.research.google.com/) and [Kaggle](https://www.kaggle.com/kernels) or rent GPU-powered machines on services like [Google Cloud Platform](https://cloud.google.com/gpu/), [Amazon Web Services](https://docs.aws.amazon.com/dlami/latest/devguide/gpu.html), and [Paperspace](https://www.paperspace.com/).\n",
        "\n",
        "We can check if a GPU is available and the required NVIDIA CUDA drivers are installed using `torch.cuda.is_available`."
      ],
      "metadata": {
        "id": "vmw6iiTXpeT8"
      }
    },
    {
      "cell_type": "code",
      "source": [
        "torch.cuda.is_available()"
      ],
      "metadata": {
        "colab": {
          "base_uri": "https://localhost:8080/"
        },
        "id": "gt2Ve_cFpeT8",
        "outputId": "c3d39897-9546-49a5-9bd7-440227c01db2",
        "execution": {
          "iopub.status.busy": "2023-12-25T13:43:16.044303Z",
          "iopub.execute_input": "2023-12-25T13:43:16.044730Z",
          "iopub.status.idle": "2023-12-25T13:43:16.051802Z",
          "shell.execute_reply.started": "2023-12-25T13:43:16.044696Z",
          "shell.execute_reply": "2023-12-25T13:43:16.050758Z"
        },
        "trusted": true
      },
      "execution_count": null,
      "outputs": [
        {
          "execution_count": 41,
          "output_type": "execute_result",
          "data": {
            "text/plain": "True"
          },
          "metadata": {}
        }
      ]
    },
    {
      "cell_type": "markdown",
      "source": [
        "Let's define a helper function to ensure that our code uses the GPU if available and defaults to using the CPU if it isn't."
      ],
      "metadata": {
        "id": "S2ffHXrnpeT8"
      }
    },
    {
      "cell_type": "code",
      "source": [
        "def get_default_device():\n",
        "    \"\"\"Pick GPU if available, else CPU\"\"\"\n",
        "    if torch.cuda.is_available():\n",
        "        return torch.device('cuda')\n",
        "    else:\n",
        "        return torch.device('cpu')"
      ],
      "metadata": {
        "id": "oY8kxA4tpeT8",
        "execution": {
          "iopub.status.busy": "2023-12-25T13:43:27.520552Z",
          "iopub.execute_input": "2023-12-25T13:43:27.520928Z",
          "iopub.status.idle": "2023-12-25T13:43:27.525905Z",
          "shell.execute_reply.started": "2023-12-25T13:43:27.520900Z",
          "shell.execute_reply": "2023-12-25T13:43:27.525028Z"
        },
        "trusted": true
      },
      "execution_count": null,
      "outputs": []
    },
    {
      "cell_type": "code",
      "source": [
        "device = get_default_device()\n",
        "device"
      ],
      "metadata": {
        "colab": {
          "base_uri": "https://localhost:8080/"
        },
        "id": "rgxTDAjtpeT8",
        "outputId": "98dcf48e-0730-4acd-c1fc-1a86f3051aa8",
        "execution": {
          "iopub.status.busy": "2023-12-25T13:43:31.087539Z",
          "iopub.execute_input": "2023-12-25T13:43:31.087909Z",
          "iopub.status.idle": "2023-12-25T13:43:31.094144Z",
          "shell.execute_reply.started": "2023-12-25T13:43:31.087877Z",
          "shell.execute_reply": "2023-12-25T13:43:31.093215Z"
        },
        "trusted": true
      },
      "execution_count": null,
      "outputs": [
        {
          "execution_count": 43,
          "output_type": "execute_result",
          "data": {
            "text/plain": "device(type='cuda')"
          },
          "metadata": {}
        }
      ]
    },
    {
      "cell_type": "markdown",
      "source": [
        "Next, let's define a function that can move data and model to a chosen device."
      ],
      "metadata": {
        "id": "U58VabR4peT8"
      }
    },
    {
      "cell_type": "code",
      "source": [
        "def to_device(data, device):\n",
        "    \"\"\"Move tensor(s) to chosen device\"\"\"\n",
        "    if isinstance(data, (list,tuple)):\n",
        "        return [to_device(x, device) for x in data]\n",
        "    return data.to(device, non_blocking=True)"
      ],
      "metadata": {
        "id": "qe39OMPmpeT8",
        "execution": {
          "iopub.status.busy": "2023-12-25T13:44:05.228848Z",
          "iopub.execute_input": "2023-12-25T13:44:05.229614Z",
          "iopub.status.idle": "2023-12-25T13:44:05.234670Z",
          "shell.execute_reply.started": "2023-12-25T13:44:05.229571Z",
          "shell.execute_reply": "2023-12-25T13:44:05.233663Z"
        },
        "trusted": true
      },
      "execution_count": null,
      "outputs": []
    },
    {
      "cell_type": "code",
      "source": [
        "for images, labels in train_loader:\n",
        "    print(images.shape)\n",
        "    images = to_device(images, device)\n",
        "    print(images.device)\n",
        "    break"
      ],
      "metadata": {
        "colab": {
          "base_uri": "https://localhost:8080/"
        },
        "id": "bdouJFtwpeT8",
        "outputId": "8610ddd3-9b4a-4a6c-8aec-324b4c4a29bd",
        "execution": {
          "iopub.status.busy": "2023-12-25T13:45:17.826457Z",
          "iopub.execute_input": "2023-12-25T13:45:17.827335Z",
          "iopub.status.idle": "2023-12-25T13:45:18.036287Z",
          "shell.execute_reply.started": "2023-12-25T13:45:17.827299Z",
          "shell.execute_reply": "2023-12-25T13:45:18.035125Z"
        },
        "trusted": true
      },
      "execution_count": null,
      "outputs": [
        {
          "name": "stdout",
          "text": "torch.Size([128, 1, 28, 28])\ncuda:0\n",
          "output_type": "stream"
        }
      ]
    },
    {
      "cell_type": "markdown",
      "source": [
        "Finally, we define a `DeviceDataLoader` class to wrap our existing data loaders and move batches of data to the selected device. Interestingly, we don't need to extend an existing class to create a PyTorch datal oader. All we need is an `__iter__` method to retrieve batches of data and an `__len__` method to get the number of batches."
      ],
      "metadata": {
        "id": "WiKbIzujpeT9"
      }
    },
    {
      "cell_type": "code",
      "source": [
        "class DeviceDataLoader():\n",
        "    \"\"\"Wrap a dataloader to move data to a device\"\"\"\n",
        "    def __init__(self, dl, device):\n",
        "        self.dl = dl\n",
        "        self.device = device\n",
        "\n",
        "    def __iter__(self):\n",
        "        \"\"\"Yield a batch of data after moving it to device\"\"\"\n",
        "        for b in self.dl:\n",
        "            yield to_device(b, self.device)\n",
        "\n",
        "    def __len__(self):\n",
        "        \"\"\"Number of batches\"\"\"\n",
        "        return len(self.dl)"
      ],
      "metadata": {
        "id": "Mncx5AEcpeT9",
        "execution": {
          "iopub.status.busy": "2023-12-25T13:46:35.178652Z",
          "iopub.execute_input": "2023-12-25T13:46:35.179583Z",
          "iopub.status.idle": "2023-12-25T13:46:35.185627Z",
          "shell.execute_reply.started": "2023-12-25T13:46:35.179544Z",
          "shell.execute_reply": "2023-12-25T13:46:35.184716Z"
        },
        "trusted": true
      },
      "execution_count": null,
      "outputs": []
    },
    {
      "cell_type": "markdown",
      "source": [
        "The `yield` keyword in Python is used to create a generator function that can be used within a `for` loop, as illustrated below."
      ],
      "metadata": {
        "id": "RxwvU5eP4r76"
      }
    },
    {
      "cell_type": "code",
      "source": [
        "def some_numbers():\n",
        "    yield 10\n",
        "    yield 20\n",
        "    yield 30\n",
        "\n",
        "for value in some_numbers():\n",
        "    print(value)"
      ],
      "metadata": {
        "colab": {
          "base_uri": "https://localhost:8080/"
        },
        "id": "7IeHPpx74slh",
        "outputId": "d218f6b2-b6d9-4cb7-c948-f2673d15a88c",
        "execution": {
          "iopub.status.busy": "2023-12-25T13:46:38.177742Z",
          "iopub.execute_input": "2023-12-25T13:46:38.178562Z",
          "iopub.status.idle": "2023-12-25T13:46:38.183499Z",
          "shell.execute_reply.started": "2023-12-25T13:46:38.178528Z",
          "shell.execute_reply": "2023-12-25T13:46:38.182500Z"
        },
        "trusted": true
      },
      "execution_count": null,
      "outputs": [
        {
          "name": "stdout",
          "text": "10\n20\n30\n",
          "output_type": "stream"
        }
      ]
    },
    {
      "cell_type": "markdown",
      "source": [
        "We can now wrap our data loaders using `DeviceDataLoader`."
      ],
      "metadata": {
        "id": "9AM28h0ipeT9"
      }
    },
    {
      "cell_type": "code",
      "source": [
        "train_loader = DeviceDataLoader(train_loader, device)\n",
        "val_loader = DeviceDataLoader(val_loader, device)"
      ],
      "metadata": {
        "id": "fwZdTIxgpeT9",
        "execution": {
          "iopub.status.busy": "2023-12-25T13:46:49.239512Z",
          "iopub.execute_input": "2023-12-25T13:46:49.239916Z",
          "iopub.status.idle": "2023-12-25T13:46:49.244277Z",
          "shell.execute_reply.started": "2023-12-25T13:46:49.239887Z",
          "shell.execute_reply": "2023-12-25T13:46:49.243358Z"
        },
        "trusted": true
      },
      "execution_count": null,
      "outputs": []
    },
    {
      "cell_type": "markdown",
      "source": [
        "Tensors moved to the GPU have a `device` property which includes that word `cuda`. Let's verify this by looking at a batch of data from `valid_dl`."
      ],
      "metadata": {
        "id": "Go0zbQTypeT9"
      }
    },
    {
      "cell_type": "code",
      "source": [
        "for xb, yb in val_loader:\n",
        "    print('xb.device:', xb.device)\n",
        "    print('yb:', yb)\n",
        "    break"
      ],
      "metadata": {
        "colab": {
          "base_uri": "https://localhost:8080/"
        },
        "id": "ZdOfMdmxpeT9",
        "outputId": "b12356a8-8d95-4236-fe33-ea75a3a491d4",
        "execution": {
          "iopub.status.busy": "2023-12-25T13:46:56.077743Z",
          "iopub.execute_input": "2023-12-25T13:46:56.078552Z",
          "iopub.status.idle": "2023-12-25T13:46:56.311193Z",
          "shell.execute_reply.started": "2023-12-25T13:46:56.078519Z",
          "shell.execute_reply": "2023-12-25T13:46:56.309915Z"
        },
        "trusted": true
      },
      "execution_count": null,
      "outputs": [
        {
          "name": "stdout",
          "text": "xb.device: cuda:0\nyb: tensor([2, 9, 9, 1, 1, 1, 2, 2, 6, 1, 0, 5, 7, 9, 5, 3, 5, 2, 8, 7, 3, 5, 7, 6,\n        1, 5, 0, 8, 3, 3, 0, 4, 3, 1, 8, 8, 1, 2, 9, 1, 6, 9, 5, 5, 3, 3, 0, 4,\n        4, 0, 9, 1, 4, 8, 6, 7, 6, 3, 5, 0, 6, 4, 3, 2, 1, 1, 2, 8, 2, 8, 4, 8,\n        9, 0, 4, 5, 6, 4, 4, 3, 1, 5, 3, 2, 7, 2, 7, 5, 1, 6, 9, 8, 8, 5, 2, 0,\n        2, 2, 0, 8, 5, 1, 9, 5, 4, 1, 2, 6, 5, 3, 7, 8, 0, 0, 2, 1, 2, 4, 8, 8,\n        7, 3, 5, 8, 4, 0, 0, 7, 1, 3, 3, 6, 6, 6, 0, 0, 9, 2, 1, 4, 0, 9, 4, 5,\n        5, 2, 9, 4, 3, 8, 9, 3, 7, 2, 1, 5, 8, 9, 5, 4, 7, 1, 6, 5, 9, 4, 5, 3,\n        2, 8, 1, 9, 6, 2, 0, 5, 2, 9, 1, 4, 7, 0, 4, 5, 8, 9, 6, 2, 3, 9, 7, 0,\n        7, 2, 9, 8, 6, 6, 2, 1, 1, 2, 3, 9, 9, 6, 6, 9, 6, 5, 2, 5, 8, 0, 0, 2,\n        4, 6, 5, 0, 0, 4, 2, 2, 6, 4, 4, 1, 8, 4, 2, 7, 1, 0, 2, 6, 5, 3, 8, 2,\n        2, 1, 0, 7, 5, 8, 7, 8, 7, 9, 4, 5, 8, 5, 4, 4], device='cuda:0')\n",
          "output_type": "stream"
        }
      ]
    },
    {
      "cell_type": "markdown",
      "source": [
        "## Training the Model\n",
        "\n",
        "We'll define two functions: `fit` and `evaluate` to train the model using gradient descent and evaluate its performance on the validation set. For a detailed walkthrough of these functions, check out the [previous tutorial](https://jovian.ai/aakashns/03-logistic-regression)."
      ],
      "metadata": {
        "id": "sfPhGrIRpeT9"
      }
    },
    {
      "cell_type": "code",
      "source": [
        "def evaluate(model, val_loader):\n",
        "    \"\"\"Evaluate the model's performance on the validation set\"\"\"\n",
        "    outputs = [model.validation_step(batch) for batch in val_loader]\n",
        "    return model.validation_epoch_end(outputs)\n",
        "\n",
        "def fit(epochs, lr, model, train_loader, val_loader, opt_func=torch.optim.SGD):\n",
        "# def fit(epochs, lr, model, train_loader, val_loader, opt_func=torch.optim.Adam):\n",
        "    \"\"\"Train the model using gradient descent\"\"\"\n",
        "    history = []\n",
        "    optimizer = opt_func(model.parameters(), lr)\n",
        "    for epoch in range(epochs):\n",
        "        # Training Phase\n",
        "        for batch in train_loader:\n",
        "            loss = model.training_step(batch)\n",
        "            loss.backward()\n",
        "            optimizer.step()\n",
        "            optimizer.zero_grad()\n",
        "        # Validation phase\n",
        "        result = evaluate(model, val_loader)\n",
        "        model.epoch_end(epoch, result)\n",
        "        history.append(result)\n",
        "    return history"
      ],
      "metadata": {
        "id": "JRw6Zf0wpeT9",
        "execution": {
          "iopub.status.busy": "2023-12-25T13:58:20.802494Z",
          "iopub.execute_input": "2023-12-25T13:58:20.802903Z",
          "iopub.status.idle": "2023-12-25T13:58:20.811486Z",
          "shell.execute_reply.started": "2023-12-25T13:58:20.802870Z",
          "shell.execute_reply": "2023-12-25T13:58:20.810429Z"
        },
        "trusted": true
      },
      "execution_count": null,
      "outputs": []
    },
    {
      "cell_type": "markdown",
      "source": [
        "Before we train the model, we need to ensure that the data and the model's parameters (weights and biases) are on the same device (CPU or GPU). We can reuse the `to_device` function to move the model's parameters to the right device."
      ],
      "metadata": {
        "id": "JuWv6GKZpeT9"
      }
    },
    {
      "cell_type": "code",
      "source": [
        "# Model (on GPU)\n",
        "model = MnistModel(input_size, hidden_size=hidden_size, out_size=num_classes)\n",
        "to_device(model, device)"
      ],
      "metadata": {
        "colab": {
          "base_uri": "https://localhost:8080/"
        },
        "id": "u1CyEQsJpeT9",
        "outputId": "94eb4f15-4349-4344-e8fb-13affa7c9928",
        "execution": {
          "iopub.status.busy": "2023-12-25T13:58:23.516555Z",
          "iopub.execute_input": "2023-12-25T13:58:23.517490Z",
          "iopub.status.idle": "2023-12-25T13:58:23.525070Z",
          "shell.execute_reply.started": "2023-12-25T13:58:23.517456Z",
          "shell.execute_reply": "2023-12-25T13:58:23.524161Z"
        },
        "trusted": true
      },
      "execution_count": null,
      "outputs": [
        {
          "execution_count": 75,
          "output_type": "execute_result",
          "data": {
            "text/plain": "MnistModel(\n  (linear1): Linear(in_features=784, out_features=32, bias=True)\n  (linear2): Linear(in_features=32, out_features=10, bias=True)\n)"
          },
          "metadata": {}
        }
      ]
    },
    {
      "cell_type": "markdown",
      "source": [
        "Let's see how the model performs on the validation set with the initial set of weights and biases."
      ],
      "metadata": {
        "id": "9N_aE2GRpeT9"
      }
    },
    {
      "cell_type": "code",
      "source": [
        "history = [evaluate(model, val_loader)]\n",
        "history"
      ],
      "metadata": {
        "colab": {
          "base_uri": "https://localhost:8080/"
        },
        "id": "bF_wEBAIpeT9",
        "outputId": "c8f587c1-1402-49f3-bb52-7acd705bacfb",
        "execution": {
          "iopub.status.busy": "2023-12-25T13:58:26.058998Z",
          "iopub.execute_input": "2023-12-25T13:58:26.059874Z",
          "iopub.status.idle": "2023-12-25T13:58:26.777208Z",
          "shell.execute_reply.started": "2023-12-25T13:58:26.059843Z",
          "shell.execute_reply": "2023-12-25T13:58:26.775922Z"
        },
        "trusted": true
      },
      "execution_count": null,
      "outputs": [
        {
          "execution_count": 76,
          "output_type": "execute_result",
          "data": {
            "text/plain": "[{'val_loss': 2.311809539794922, 'val_acc': 0.10683593899011612}]"
          },
          "metadata": {}
        }
      ]
    },
    {
      "cell_type": "markdown",
      "source": [
        "The initial accuracy is around 10%, as one might expect from a randomly initialized model (since it has a 1 in 10 chance of getting a label right by guessing randomly).\n",
        "\n",
        "Let's train the model for five epochs and look at the results. We can use a relatively high learning rate of 0.5."
      ],
      "metadata": {
        "id": "BU0tYFcPpeT9"
      }
    },
    {
      "cell_type": "code",
      "source": [
        "history += fit(5, 0.5, model, train_loader, val_loader)"
      ],
      "metadata": {
        "colab": {
          "base_uri": "https://localhost:8080/"
        },
        "id": "DE5_oVckpeT9",
        "outputId": "691a56b6-e47f-4470-9f28-353e8bd56dd8",
        "execution": {
          "iopub.status.busy": "2023-12-25T13:58:29.569964Z",
          "iopub.execute_input": "2023-12-25T13:58:29.570369Z",
          "iopub.status.idle": "2023-12-25T13:58:48.832842Z",
          "shell.execute_reply.started": "2023-12-25T13:58:29.570335Z",
          "shell.execute_reply": "2023-12-25T13:58:48.831665Z"
        },
        "trusted": true
      },
      "execution_count": null,
      "outputs": [
        {
          "name": "stdout",
          "text": "Epoch [0], val_loss: 0.2361, val_acc: 0.9328\nEpoch [1], val_loss: 0.1768, val_acc: 0.9499\nEpoch [2], val_loss: 0.1650, val_acc: 0.9497\nEpoch [3], val_loss: 0.1566, val_acc: 0.9557\nEpoch [4], val_loss: 0.1769, val_acc: 0.9529\n",
          "output_type": "stream"
        }
      ]
    },
    {
      "cell_type": "markdown",
      "source": [
        "96% is pretty good! Let's train the model for five more epochs at a lower learning rate of 0.1 to improve the accuracy further."
      ],
      "metadata": {
        "id": "_by-a2g9peT9"
      }
    },
    {
      "cell_type": "code",
      "source": [
        "history += fit(5, 0.1, model, train_loader, val_loader)"
      ],
      "metadata": {
        "colab": {
          "base_uri": "https://localhost:8080/"
        },
        "id": "AjA2dtlrpeT9",
        "outputId": "680388ae-55f0-4629-8c29-89aebfa4357c",
        "execution": {
          "iopub.status.busy": "2023-12-25T13:58:52.594667Z",
          "iopub.execute_input": "2023-12-25T13:58:52.595061Z",
          "iopub.status.idle": "2023-12-25T13:59:12.165851Z",
          "shell.execute_reply.started": "2023-12-25T13:58:52.595028Z",
          "shell.execute_reply": "2023-12-25T13:59:12.164637Z"
        },
        "trusted": true
      },
      "execution_count": null,
      "outputs": [
        {
          "name": "stdout",
          "text": "Epoch [0], val_loss: 0.1352, val_acc: 0.9619\nEpoch [1], val_loss: 0.1371, val_acc: 0.9607\nEpoch [2], val_loss: 0.1351, val_acc: 0.9626\nEpoch [3], val_loss: 0.1373, val_acc: 0.9617\nEpoch [4], val_loss: 0.1344, val_acc: 0.9628\n",
          "output_type": "stream"
        }
      ]
    },
    {
      "cell_type": "markdown",
      "source": [
        "We can now plot the losses & accuracies to study how the model improves over time."
      ],
      "metadata": {
        "id": "W7LAqJCMpeT9"
      }
    },
    {
      "cell_type": "code",
      "source": [
        "losses = [x['val_loss'] for x in history]\n",
        "plt.plot(losses, '-x')\n",
        "plt.xlabel('epoch')\n",
        "plt.ylabel('loss')\n",
        "plt.title('Loss vs. No. of epochs');"
      ],
      "metadata": {
        "colab": {
          "base_uri": "https://localhost:8080/",
          "height": 295
        },
        "id": "I3g-DRifpeT9",
        "outputId": "133e6548-c6d9-4dc1-f2d4-78ce94d619d9",
        "execution": {
          "iopub.status.busy": "2023-12-25T13:59:39.125227Z",
          "iopub.execute_input": "2023-12-25T13:59:39.126200Z",
          "iopub.status.idle": "2023-12-25T13:59:39.405432Z",
          "shell.execute_reply.started": "2023-12-25T13:59:39.126166Z",
          "shell.execute_reply": "2023-12-25T13:59:39.404608Z"
        },
        "trusted": true
      },
      "execution_count": null,
      "outputs": [
        {
          "output_type": "display_data",
          "data": {
            "text/plain": "<Figure size 640x480 with 1 Axes>",
            "image/png": "[encoded data removed]"
          },
          "metadata": {}
        }
      ]
    },
    {
      "cell_type": "code",
      "source": [
        "accuracies = [x['val_acc'] for x in history]\n",
        "plt.plot(accuracies, '-x')\n",
        "plt.xlabel('epoch')\n",
        "plt.ylabel('accuracy')\n",
        "plt.title('Accuracy vs. No. of epochs');"
      ],
      "metadata": {
        "colab": {
          "base_uri": "https://localhost:8080/",
          "height": 295
        },
        "id": "28kJvNmFpeT9",
        "outputId": "8d7336ba-6c62-4d09-e5d1-a7f66679d4b6",
        "scrolled": true,
        "execution": {
          "iopub.status.busy": "2023-12-25T14:00:11.408084Z",
          "iopub.execute_input": "2023-12-25T14:00:11.408804Z",
          "iopub.status.idle": "2023-12-25T14:00:11.698980Z",
          "shell.execute_reply.started": "2023-12-25T14:00:11.408773Z",
          "shell.execute_reply": "2023-12-25T14:00:11.698043Z"
        },
        "trusted": true
      },
      "execution_count": null,
      "outputs": [
        {
          "output_type": "display_data",
          "data": {
            "text/plain": "<Figure size 640x480 with 1 Axes>",
            "image/png": "[encoded data removed]"
          },
          "metadata": {}
        }
      ]
    },
    {
      "cell_type": "markdown",
      "source": [
        "Our current model outperforms the logistic regression model (which could only achieve around 86% accuracy) by a considerable margin! It quickly reaches an accuracy of 97% but doesn't improve much beyond this. To improve accuracy further, we need to make the model more powerful by increasing the hidden layer's size or adding more hidden layers with activations. I encourage you to try out both these approaches and see which one works better."
      ],
      "metadata": {
        "id": "zBmLGRuLpeT9"
      }
    },
    {
      "cell_type": "markdown",
      "source": [
        "## Testing with individual images\n",
        "\n",
        "While we have been tracking the overall accuracy of a model so far, it's also a good idea to look at model's results on some sample images. Let's test out our model with some images from the predefined test dataset of 10000 images. We begin by recreating the test dataset with the `ToTensor` transform."
      ],
      "metadata": {
        "id": "Lf_6nWkCBGB5"
      }
    },
    {
      "cell_type": "code",
      "source": [
        "# Define test dataset\n",
        "test_dataset = MNIST(root='data/',\n",
        "                     train=False,\n",
        "                     transform=ToTensor())"
      ],
      "metadata": {
        "id": "ZJ6E4f-iBBTm",
        "execution": {
          "iopub.status.busy": "2023-12-25T14:00:43.342922Z",
          "iopub.execute_input": "2023-12-25T14:00:43.343306Z",
          "iopub.status.idle": "2023-12-25T14:00:43.359573Z",
          "shell.execute_reply.started": "2023-12-25T14:00:43.343276Z",
          "shell.execute_reply": "2023-12-25T14:00:43.358632Z"
        },
        "trusted": true
      },
      "execution_count": null,
      "outputs": []
    },
    {
      "cell_type": "markdown",
      "source": [
        "Let's define a helper function `predict_image`, which returns the predicted label for a single image tensor."
      ],
      "metadata": {
        "id": "uGKvjeJXBTiN"
      }
    },
    {
      "cell_type": "code",
      "source": [
        "def predict_image(img, model):\n",
        "    xb = to_device(img.unsqueeze(0), device)\n",
        "    yb = model(xb)\n",
        "    _, preds  = torch.max(yb, dim=1)\n",
        "    return preds[0].item()"
      ],
      "metadata": {
        "id": "ZhxrAx6LBTNG",
        "execution": {
          "iopub.status.busy": "2023-12-25T14:00:58.338063Z",
          "iopub.execute_input": "2023-12-25T14:00:58.338856Z",
          "iopub.status.idle": "2023-12-25T14:00:58.343816Z",
          "shell.execute_reply.started": "2023-12-25T14:00:58.338823Z",
          "shell.execute_reply": "2023-12-25T14:00:58.342836Z"
        },
        "trusted": true
      },
      "execution_count": null,
      "outputs": []
    },
    {
      "cell_type": "markdown",
      "source": [
        "Let's try it out with a few images."
      ],
      "metadata": {
        "id": "N4kUaLBqBZLd"
      }
    },
    {
      "cell_type": "code",
      "source": [
        "img, label = test_dataset[0]\n",
        "plt.imshow(img[0], cmap='gray')\n",
        "print('Label:', label, ', Predicted:', predict_image(img, model))"
      ],
      "metadata": {
        "id": "JsNnl42DBXog",
        "execution": {
          "iopub.status.busy": "2023-12-25T14:01:01.367614Z",
          "iopub.execute_input": "2023-12-25T14:01:01.368448Z",
          "iopub.status.idle": "2023-12-25T14:01:01.627117Z",
          "shell.execute_reply.started": "2023-12-25T14:01:01.368416Z",
          "shell.execute_reply": "2023-12-25T14:01:01.626126Z"
        },
        "trusted": true,
        "outputId": "59cec253-abc1-4ceb-b9d4-b6cd96692562"
      },
      "execution_count": null,
      "outputs": [
        {
          "name": "stdout",
          "text": "Label: 7 , Predicted: 7\n",
          "output_type": "stream"
        },
        {
          "output_type": "display_data",
          "data": {
            "text/plain": "<Figure size 640x480 with 1 Axes>",
            "image/png": "[encoded data removed]"
          },
          "metadata": {}
        }
      ]
    },
    {
      "cell_type": "code",
      "source": [
        "img, label = test_dataset[1839]\n",
        "plt.imshow(img[0], cmap='gray')\n",
        "print('Label:', label, ', Predicted:', predict_image(img, model))"
      ],
      "metadata": {
        "id": "lu0lN0xnBiD6",
        "execution": {
          "iopub.status.busy": "2023-12-25T14:01:05.319106Z",
          "iopub.execute_input": "2023-12-25T14:01:05.320099Z",
          "iopub.status.idle": "2023-12-25T14:01:05.610402Z",
          "shell.execute_reply.started": "2023-12-25T14:01:05.320053Z",
          "shell.execute_reply": "2023-12-25T14:01:05.609402Z"
        },
        "trusted": true,
        "outputId": "bb1cd7eb-91f7-4f08-f6d2-437f4193dc8d"
      },
      "execution_count": null,
      "outputs": [
        {
          "name": "stdout",
          "text": "Label: 2 , Predicted: 2\n",
          "output_type": "stream"
        },
        {
          "output_type": "display_data",
          "data": {
            "text/plain": "<Figure size 640x480 with 1 Axes>",
            "image/png": "[encoded data removed]"
          },
          "metadata": {}
        }
      ]
    },
    {
      "cell_type": "code",
      "source": [
        "img, label = test_dataset[193]\n",
        "plt.imshow(img[0], cmap='gray')\n",
        "print('Label:', label, ', Predicted:', predict_image(img, model))"
      ],
      "metadata": {
        "id": "ZpzxiYHjBliK",
        "execution": {
          "iopub.status.busy": "2023-12-25T14:01:09.559528Z",
          "iopub.execute_input": "2023-12-25T14:01:09.560281Z",
          "iopub.status.idle": "2023-12-25T14:01:09.820912Z",
          "shell.execute_reply.started": "2023-12-25T14:01:09.560249Z",
          "shell.execute_reply": "2023-12-25T14:01:09.820014Z"
        },
        "trusted": true,
        "outputId": "c4a3ff89-209e-4b71-93fb-cfd8aa3fb62b"
      },
      "execution_count": null,
      "outputs": [
        {
          "name": "stdout",
          "text": "Label: 9 , Predicted: 9\n",
          "output_type": "stream"
        },
        {
          "output_type": "display_data",
          "data": {
            "text/plain": "<Figure size 640x480 with 1 Axes>",
            "image/png": "[encoded data removed]"
          },
          "metadata": {}
        }
      ]
    },
    {
      "cell_type": "code",
      "source": [
        "img, label = test_dataset[450]\n",
        "plt.imshow(img[0], cmap='gray')\n",
        "print('Label:', label, ', Predicted:', predict_image(img, model))"
      ],
      "metadata": {
        "execution": {
          "iopub.status.busy": "2023-12-25T14:01:52.895358Z",
          "iopub.execute_input": "2023-12-25T14:01:52.896381Z",
          "iopub.status.idle": "2023-12-25T14:01:53.184760Z",
          "shell.execute_reply.started": "2023-12-25T14:01:52.896335Z",
          "shell.execute_reply": "2023-12-25T14:01:53.183577Z"
        },
        "trusted": true,
        "id": "3ZT5fIlWTu3g",
        "outputId": "89d12c25-dcdb-4a67-9d11-f7b06c0f1ba1"
      },
      "execution_count": null,
      "outputs": [
        {
          "name": "stdout",
          "text": "Label: 3 , Predicted: 3\n",
          "output_type": "stream"
        },
        {
          "output_type": "display_data",
          "data": {
            "text/plain": "<Figure size 640x480 with 1 Axes>",
            "image/png": "[encoded data removed]"
          },
          "metadata": {}
        }
      ]
    },
    {
      "cell_type": "code",
      "source": [
        "img, label = test_dataset[1999]\n",
        "plt.imshow(img[0], cmap='gray')\n",
        "print('Label:', label, ', Predicted:', predict_image(img, model))"
      ],
      "metadata": {
        "execution": {
          "iopub.status.busy": "2023-12-25T14:02:06.381992Z",
          "iopub.execute_input": "2023-12-25T14:02:06.382779Z",
          "iopub.status.idle": "2023-12-25T14:02:06.624096Z",
          "shell.execute_reply.started": "2023-12-25T14:02:06.382745Z",
          "shell.execute_reply": "2023-12-25T14:02:06.623201Z"
        },
        "trusted": true,
        "id": "Z6fKg6H5Tu3g",
        "outputId": "1890bb12-00a4-425b-b857-6f8157573d28"
      },
      "execution_count": null,
      "outputs": [
        {
          "name": "stdout",
          "text": "Label: 5 , Predicted: 5\n",
          "output_type": "stream"
        },
        {
          "output_type": "display_data",
          "data": {
            "text/plain": "<Figure size 640x480 with 1 Axes>",
            "image/png": "[encoded data removed]"
          },
          "metadata": {}
        }
      ]
    },
    {
      "cell_type": "code",
      "source": [
        "img, label = test_dataset[7000]\n",
        "plt.imshow(img[0], cmap='gray')\n",
        "print('Label:', label, ', Predicted:', predict_image(img, model))"
      ],
      "metadata": {
        "execution": {
          "iopub.status.busy": "2023-12-25T14:02:50.541615Z",
          "iopub.execute_input": "2023-12-25T14:02:50.542454Z",
          "iopub.status.idle": "2023-12-25T14:02:50.799084Z",
          "shell.execute_reply.started": "2023-12-25T14:02:50.542421Z",
          "shell.execute_reply": "2023-12-25T14:02:50.798201Z"
        },
        "trusted": true,
        "id": "GRgtjIfLTu3g",
        "outputId": "206543a6-92eb-4334-fc0d-3dee1c6ec63f"
      },
      "execution_count": null,
      "outputs": [
        {
          "name": "stdout",
          "text": "Label: 1 , Predicted: 1\n",
          "output_type": "stream"
        },
        {
          "output_type": "display_data",
          "data": {
            "text/plain": "<Figure size 640x480 with 1 Axes>",
            "image/png": "[encoded data removed]"
          },
          "metadata": {}
        }
      ]
    },
    {
      "cell_type": "markdown",
      "source": [
        "Identifying where our model performs poorly can help us improve the model, by collecting more training data, increasing/decreasing the complexity of the model, and changing the hypeparameters.\n",
        "\n",
        "As a final step, let's also look at the overall loss and accuracy of the model on the test set."
      ],
      "metadata": {
        "id": "RqG62k05BqpC"
      }
    },
    {
      "cell_type": "code",
      "source": [
        "test_loader = DeviceDataLoader(DataLoader(test_dataset, batch_size=256), device)\n",
        "result = evaluate(model, test_loader)\n",
        "result"
      ],
      "metadata": {
        "id": "rvNoyn0RBtBm",
        "execution": {
          "iopub.status.busy": "2023-12-25T14:01:18.665407Z",
          "iopub.execute_input": "2023-12-25T14:01:18.666455Z",
          "iopub.status.idle": "2023-12-25T14:01:19.736811Z",
          "shell.execute_reply.started": "2023-12-25T14:01:18.666420Z",
          "shell.execute_reply": "2023-12-25T14:01:19.735865Z"
        },
        "trusted": true,
        "outputId": "58340573-3344-4722-9726-b0e0583edf2b"
      },
      "execution_count": null,
      "outputs": [
        {
          "execution_count": 88,
          "output_type": "execute_result",
          "data": {
            "text/plain": "{'val_loss': 0.09685821086168289, 'val_acc': 0.9725586175918579}"
          },
          "metadata": {}
        }
      ]
    },
    {
      "cell_type": "markdown",
      "source": [
        "We expect this to be similar to the accuracy/loss on the validation set. If not, we might need a better validation set that has similar data and distribution as the test set (which often comes from real world data)."
      ],
      "metadata": {
        "id": "CZz2M4WPBzlT"
      }
    },
    {
      "cell_type": "markdown",
      "source": [
        "Let's save the model's weights and attach it to the notebook using `jovian.commit`. We will also record the model's performance on the test dataset using `jovian.log_metrics`."
      ],
      "metadata": {
        "id": "Q-syIZYUB1Ls"
      }
    },
    {
      "cell_type": "code",
      "source": [
        "torch.save(model.state_dict(), 'mnist-feedforward.pth')"
      ],
      "metadata": {
        "id": "BT6v860WByIJ",
        "execution": {
          "iopub.status.busy": "2023-12-25T14:03:11.529409Z",
          "iopub.execute_input": "2023-12-25T14:03:11.529808Z",
          "iopub.status.idle": "2023-12-25T14:03:11.538639Z",
          "shell.execute_reply.started": "2023-12-25T14:03:11.529777Z",
          "shell.execute_reply": "2023-12-25T14:03:11.537584Z"
        },
        "trusted": true
      },
      "execution_count": null,
      "outputs": []
    },
    {
      "cell_type": "markdown",
      "source": [
        "## Exercises\n",
        "\n",
        "Try out the following exercises to apply the concepts and techniques you have learned so far:\n",
        "\n",
        "* Coding exercises on end-to-end model training: https://jovian.ai/aakashns/03-cifar10-feedforward\n",
        "* Starter notebook for deep learning models:  https://jovian.ai/aakashns/fashion-feedforward-minimal\n",
        "\n",
        "Training great machine learning models reliably takes practice and experience. Try experimenting with different datasets, models and hyperparameters, it's the best way to acquire this skill."
      ],
      "metadata": {
        "id": "DPk8QvFo9z3C"
      }
    },
    {
      "cell_type": "markdown",
      "source": [
        "## Summary and Further Reading\n",
        "\n",
        "Here is a summary of the topics covered in this tutorial:\n",
        "\n",
        "* We created a neural network with one hidden layer to improve upon the logistic regression model from the previous tutorial. We also used the ReLU activation function to introduce non-linearity into the model, allowing it to learn more complex relationships between the inputs (pixel densities) and outputs (class probabilities).\n",
        "\n",
        "* We defined some utilities like `get_default_device`, `to_device` and `DeviceDataLoader` to leverage a GPU if available, by moving the input data and model parameters to the appropriate device.\n",
        "\n",
        "* We were able to use the exact same training loop: the `fit` function we had define earlier to train out model and evaluate it using the validation dataset.\n",
        "\n",
        "There's a lot of scope to experiment here, and I encourage you to use the interactive nature of Jupyter to play around with the various parameters. Here are a few ideas:\n",
        "\n",
        "* Try changing the size of the hidden layer, or add more hidden layers and see if you can achieve a higher accuracy.\n",
        "\n",
        "* Try changing the batch size and learning rate to see if you can achieve the same accuracy in fewer epochs.\n",
        "\n",
        "* Compare the training times on a CPU vs. GPU. Do you see a significant difference. How does it vary with the size of the dataset and the size of the model (no. of weights and parameters)?\n",
        "\n",
        "* Try building a model for a different dataset, such as the [CIFAR10 or CIFAR100 datasets](https://www.cs.toronto.edu/~kriz/cifar.html).\n",
        "\n",
        "Here are some references for further reading:\n",
        "\n",
        "* [A visual proof that neural networks can compute any function](http://neuralnetworksanddeeplearning.com/chap4.html), also known as the Universal Approximation Theorem.\n",
        "\n",
        "* [But what *is* a neural network?](https://www.youtube.com/watch?v=aircAruvnKk) - A visual and intuitive introduction to what neural networks are and what the intermediate layers represent\n",
        "\n",
        "* [Stanford CS229 Lecture notes on Backpropagation](https://github.com/BirajCoder/File-host-repo/blob/main/backprop.pdf) - for a more mathematical treatment of how gradients are calculated and weights are updated for neural networks with multiple layers.\n",
        "\n",
        "\n",
        "You are now ready to move on to the next tutorial: [Image Classification using Convolutional Neural Networks](https://jovian.ai/aakashns/05-cifar10-cnn)."
      ],
      "metadata": {
        "id": "sSSOi-g_peT-"
      }
    }
  ]
}