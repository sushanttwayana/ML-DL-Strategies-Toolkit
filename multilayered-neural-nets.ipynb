{
 "cells": [
  {
   "cell_type": "code",
   "execution_count": 1,
   "id": "1b27b619",
   "metadata": {
    "execution": {
     "iopub.execute_input": "2024-01-05T15:35:45.641278Z",
     "iopub.status.busy": "2024-01-05T15:35:45.640694Z",
     "iopub.status.idle": "2024-01-05T15:35:45.658279Z",
     "shell.execute_reply": "2024-01-05T15:35:45.656252Z"
    },
    "papermill": {
     "duration": 0.027062,
     "end_time": "2024-01-05T15:35:45.661786",
     "exception": false,
     "start_time": "2024-01-05T15:35:45.634724",
     "status": "completed"
    },
    "tags": []
   },
   "outputs": [],
   "source": [
    "import numpy as np"
   ]
  },
  {
   "cell_type": "code",
   "execution_count": 2,
   "id": "5f0e27f5",
   "metadata": {
    "execution": {
     "iopub.execute_input": "2024-01-05T15:35:45.671035Z",
     "iopub.status.busy": "2024-01-05T15:35:45.670532Z",
     "iopub.status.idle": "2024-01-05T15:35:45.676058Z",
     "shell.execute_reply": "2024-01-05T15:35:45.674828Z"
    },
    "papermill": {
     "duration": 0.013508,
     "end_time": "2024-01-05T15:35:45.678967",
     "exception": false,
     "start_time": "2024-01-05T15:35:45.665459",
     "status": "completed"
    },
    "tags": []
   },
   "outputs": [],
   "source": [
    "#defining Input layer consisting two node\n",
    "input_data=np.array([3,5])"
   ]
  },
  {
   "cell_type": "code",
   "execution_count": 3,
   "id": "19a38101",
   "metadata": {
    "execution": {
     "iopub.execute_input": "2024-01-05T15:35:45.686899Z",
     "iopub.status.busy": "2024-01-05T15:35:45.686418Z",
     "iopub.status.idle": "2024-01-05T15:35:45.693991Z",
     "shell.execute_reply": "2024-01-05T15:35:45.692795Z"
    },
    "papermill": {
     "duration": 0.014713,
     "end_time": "2024-01-05T15:35:45.696752",
     "exception": false,
     "start_time": "2024-01-05T15:35:45.682039",
     "status": "completed"
    },
    "tags": []
   },
   "outputs": [],
   "source": [
    "#defining weights where there consist of one hiddenlayer with two node single output node\n",
    "weights={'node00':np.array([2,4]),\n",
    "         'node01':np.array([4,-5]),\n",
    "         'node10':np.array([-1,1]),\n",
    "         'node11':np.array([2,2]),\n",
    "         'output':np.array([3,7])}\n",
    "#Defining Relu Function\n",
    "def relu(input):\n",
    "    output=max(input,0)\n",
    "    return(output)\n"
   ]
  },
  {
   "cell_type": "code",
   "execution_count": 4,
   "id": "95685f1f",
   "metadata": {
    "execution": {
     "iopub.execute_input": "2024-01-05T15:35:45.706120Z",
     "iopub.status.busy": "2024-01-05T15:35:45.705650Z",
     "iopub.status.idle": "2024-01-05T15:35:45.718572Z",
     "shell.execute_reply": "2024-01-05T15:35:45.716833Z"
    },
    "papermill": {
     "duration": 0.021164,
     "end_time": "2024-01-05T15:35:45.721678",
     "exception": false,
     "start_time": "2024-01-05T15:35:45.700514",
     "status": "completed"
    },
    "tags": []
   },
   "outputs": [
    {
     "name": "stdout",
     "output_type": "stream",
     "text": [
      "364\n"
     ]
    }
   ],
   "source": [
    "def predict_with_network(input_data):\n",
    "   \n",
    "    # Calculate node 0 in the first hidden layer\n",
    "    node_0_0_input = (input_data * weights['node00']).sum()\n",
    "    node_0_0_output = relu(node_0_0_input)\n",
    "    \n",
    "    # Calculate node 1 in the first hidden layer\n",
    "    node_0_1_input = (input_data * weights['node01']).sum()\n",
    "    node_0_1_output = relu(node_0_1_input)\n",
    "\n",
    "    # Put node values into array: hidden_0_outputs\n",
    "    hidden_0_outputs = np.array([node_0_0_output, node_0_1_output])\n",
    "    \n",
    "    # Calculate node 0 in the second hidden layer\n",
    "    node_1_0_input = ( hidden_0_outputs * weights['node10']).sum()\n",
    "    node_1_0_output = relu(node_1_0_input)\n",
    "\n",
    "    # Calculate node 1 in the second hidden layer\n",
    "    node_1_1_input = ( hidden_0_outputs * weights['node11']).sum()\n",
    "    node_1_1_output = relu(node_1_1_input)\n",
    "\n",
    "\n",
    "    # Put node values into array: hidden_1_outputs\n",
    "    hidden_1_outputs = np.array([node_1_0_output, node_1_1_output])\n",
    "\n",
    "    # Calculate model output: model_output\n",
    "    model_output = (hidden_1_outputs*weights['output']).sum()\n",
    "    \n",
    "    # Return model_output\n",
    "    return(model_output)\n",
    "\n",
    "output = predict_with_network(input_data)\n",
    "print(output)\n"
   ]
  },
  {
   "cell_type": "code",
   "execution_count": null,
   "id": "518b3bb9",
   "metadata": {
    "papermill": {
     "duration": 0.00299,
     "end_time": "2024-01-05T15:35:45.728497",
     "exception": false,
     "start_time": "2024-01-05T15:35:45.725507",
     "status": "completed"
    },
    "tags": []
   },
   "outputs": [],
   "source": []
  }
 ],
 "metadata": {
  "kaggle": {
   "accelerator": "none",
   "dataSources": [],
   "dockerImageVersionId": 30626,
   "isGpuEnabled": false,
   "isInternetEnabled": true,
   "language": "python",
   "sourceType": "notebook"
  },
  "kernelspec": {
   "display_name": "Python 3",
   "language": "python",
   "name": "python3"
  },
  "language_info": {
   "codemirror_mode": {
    "name": "ipython",
    "version": 3
   },
   "file_extension": ".py",
   "mimetype": "text/x-python",
   "name": "python",
   "nbconvert_exporter": "python",
   "pygments_lexer": "ipython3",
   "version": "3.10.12"
  },
  "papermill": {
   "default_parameters": {},
   "duration": 4.840024,
   "end_time": "2024-01-05T15:35:46.155689",
   "environment_variables": {},
   "exception": null,
   "input_path": "__notebook__.ipynb",
   "output_path": "__notebook__.ipynb",
   "parameters": {},
   "start_time": "2024-01-05T15:35:41.315665",
   "version": "2.4.0"
  }
 },
 "nbformat": 4,
 "nbformat_minor": 5
}
