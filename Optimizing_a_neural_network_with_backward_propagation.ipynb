{
  "cells": [
    {
      "cell_type": "markdown",
      "metadata": {
        "id": "view-in-github",
        "colab_type": "text"
      },
      "source": [
        "<a href=\"https://colab.research.google.com/github/sushanttwayana/ML-DL-Strategies-Toolkit/blob/main/Optimizing_a_neural_network_with_backward_propagation.ipynb\" target=\"_parent\"><img src=\"https://colab.research.google.com/assets/colab-badge.svg\" alt=\"Open In Colab\"/></a>"
      ]
    },
    {
      "cell_type": "code",
      "execution_count": 1,
      "id": "c13ac2f5",
      "metadata": {
        "id": "c13ac2f5"
      },
      "outputs": [],
      "source": [
        "import numpy as np"
      ]
    },
    {
      "cell_type": "code",
      "execution_count": 2,
      "id": "bf4745ee",
      "metadata": {
        "id": "bf4745ee"
      },
      "outputs": [],
      "source": [
        "# Sigmoid activation function and its derivative\n",
        "def sigmoid(x):\n",
        "    return 1 / (1 + np.exp(-x))\n",
        "\n",
        "def sigmoid_derivative(x):\n",
        "    return x * (1 - x)"
      ]
    },
    {
      "cell_type": "code",
      "execution_count": 3,
      "id": "5ab18660",
      "metadata": {
        "id": "5ab18660"
      },
      "outputs": [],
      "source": [
        "# Neural network class\n",
        "class NeuralNetwork:\n",
        "    def __init__(self, input_size, hidden_size, output_size):\n",
        "        self.input_size = input_size\n",
        "        self.hidden_size = hidden_size\n",
        "        self.output_size = output_size\n",
        "\n",
        "        # Initialize weights and biases randomly\n",
        "        self.weights_input_hidden = np.random.randn(self.input_size, self.hidden_size)\n",
        "        self.bias_input_hidden = np.random.randn(1, self.hidden_size)\n",
        "\n",
        "        self.weights_hidden_output = np.random.randn(self.hidden_size, self.output_size)\n",
        "        self.bias_hidden_output = np.random.randn(1, self.output_size)\n",
        "\n",
        "    def forward(self, X):\n",
        "        # Forward propagation\n",
        "        self.hidden_input = np.dot(X, self.weights_input_hidden) + self.bias_input_hidden\n",
        "        self.hidden_output = sigmoid(self.hidden_input)\n",
        "\n",
        "        self.output = np.dot(self.hidden_output, self.weights_hidden_output) + self.bias_hidden_output\n",
        "        output_predicted = sigmoid(self.output)\n",
        "        return output_predicted\n",
        "\n",
        "    def backward(self, X, y, output_predicted, learning_rate):\n",
        "        # Backward propagation\n",
        "        error = y - output_predicted\n",
        "        d_output = error * sigmoid_derivative(output_predicted)\n",
        "\n",
        "        error_hidden = d_output.dot(self.weights_hidden_output.T)\n",
        "        d_hidden = error_hidden * sigmoid_derivative(self.hidden_output)\n",
        "\n",
        "        # Update weights and biases\n",
        "        self.weights_hidden_output += self.hidden_output.T.dot(d_output) * learning_rate\n",
        "        self.bias_hidden_output += np.sum(d_output, axis=0, keepdims=True) * learning_rate\n",
        "\n",
        "        self.weights_input_hidden += X.T.dot(d_hidden) * learning_rate\n",
        "        self.bias_input_hidden += np.sum(d_hidden, axis=0, keepdims=True) * learning_rate\n",
        "\n",
        "    def train(self, X, y, epochs, learning_rate):\n",
        "        for epoch in range(epochs):\n",
        "            output_predicted = self.forward(X)\n",
        "            self.backward(X, y, output_predicted, learning_rate)\n",
        "            if epoch % 1000 == 0:\n",
        "                loss = np.mean(np.square(y - output_predicted))\n",
        "                print(f'Epoch {epoch}, Loss: {loss:.4f}')\n",
        "\n"
      ]
    },
    {
      "cell_type": "code",
      "execution_count": 4,
      "id": "203d2956",
      "metadata": {
        "id": "203d2956",
        "outputId": "445d33e0-5891-45ae-dbc2-6057bca752b8",
        "colab": {
          "base_uri": "https://localhost:8080/"
        }
      },
      "outputs": [
        {
          "output_type": "stream",
          "name": "stdout",
          "text": [
            "Epoch 0, Loss: 0.2649\n",
            "Epoch 1000, Loss: 0.2312\n",
            "Epoch 2000, Loss: 0.1785\n",
            "Epoch 3000, Loss: 0.1409\n",
            "Epoch 4000, Loss: 0.0367\n",
            "Epoch 5000, Loss: 0.0136\n",
            "Epoch 6000, Loss: 0.0076\n",
            "Epoch 7000, Loss: 0.0051\n",
            "Epoch 8000, Loss: 0.0038\n",
            "Epoch 9000, Loss: 0.0030\n"
          ]
        }
      ],
      "source": [
        "# Sample data\n",
        "X = np.array([[0, 0], [0, 1], [1, 0], [1, 1]])\n",
        "y = np.array([[0], [1], [1], [0]])\n",
        "\n",
        "# Initialize neural network\n",
        "input_size = X.shape[1]\n",
        "hidden_size = 4\n",
        "output_size = 1\n",
        "\n",
        "# Create a neural network instance\n",
        "nn = NeuralNetwork(input_size, hidden_size, output_size)\n",
        "\n",
        "# Train the neural network\n",
        "nn.train(X, y, epochs=10000, learning_rate=0.1)"
      ]
    },
    {
      "cell_type": "code",
      "execution_count": 4,
      "id": "2b213514",
      "metadata": {
        "id": "2b213514"
      },
      "outputs": [],
      "source": []
    }
  ],
  "metadata": {
    "kernelspec": {
      "display_name": "Python 3 (ipykernel)",
      "language": "python",
      "name": "python3"
    },
    "language_info": {
      "codemirror_mode": {
        "name": "ipython",
        "version": 3
      },
      "file_extension": ".py",
      "mimetype": "text/x-python",
      "name": "python",
      "nbconvert_exporter": "python",
      "pygments_lexer": "ipython3",
      "version": "3.11.5"
    },
    "colab": {
      "provenance": [],
      "include_colab_link": true
    }
  },
  "nbformat": 4,
  "nbformat_minor": 5
}