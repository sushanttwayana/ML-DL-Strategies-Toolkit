{
 "cells": [
  {
   "cell_type": "markdown",
   "id": "669c3080",
   "metadata": {
    "papermill": {
     "duration": 0.028985,
     "end_time": "2023-12-19T15:27:51.055431",
     "exception": false,
     "start_time": "2023-12-19T15:27:51.026446",
     "status": "completed"
    },
    "tags": []
   },
   "source": [
    "## Gradient Descent and Linear Regression with PyTorch\n",
    "\n",
    "### Part 2 of \"Deep Learning with Pytorch: Zero to GANs\"\n",
    "\n",
    "This tutorial series is a hands-on beginner-friendly introduction to deep learning using [PyTorch](https://pytorch.org), an open-source neural networks library. These tutorials take a practical and coding-focused approach. The best way to learn the material is to execute the code and experiment with it yourself. Check out the full series here:\n",
    "\n",
    "1. [PyTorch Basics: Tensors & Gradients](https://jovian.ai/aakashns/01-pytorch-basics)\n",
    "2. [Gradient Descent & Linear Regression](https://jovian.ai/aakashns/02-linear-regression)\n",
    "3. [Working with Images & Logistic Regression](https://jovian.ai/aakashns/03-logistic-regression) \n",
    "4. [Training Deep Neural Networks on a GPU](https://jovian.ai/aakashns/04-feedforward-nn)\n",
    "5. [Image Classification using Convolutional Neural Networks](https://jovian.ai/aakashns/05-cifar10-cnn)\n",
    "6. [Data Augmentation, Regularization and ResNets](https://jovian.ai/aakashns/05b-cifar10-resnet)\n",
    "7. [Generating Images using Generative Adversarial Networks](https://jovian.ai/aakashns/06b-anime-dcgan/)\n"
   ]
  },
  {
   "cell_type": "markdown",
   "id": "ce457c53",
   "metadata": {
    "papermill": {
     "duration": 0.028303,
     "end_time": "2023-12-19T15:27:51.111921",
     "exception": false,
     "start_time": "2023-12-19T15:27:51.083618",
     "status": "completed"
    },
    "tags": []
   },
   "source": [
    "This tutorial covers the following topics:\n",
    "\n",
    "- Introduction to linear regression and gradient descent\n",
    "- Implementing a linear regression model using PyTorch tensors\n",
    "- Training a linear regression model using the gradient descent algorithm\n",
    "- Implementing gradient descent and linear regression using PyTorch built-in"
   ]
  },
  {
   "cell_type": "markdown",
   "id": "e0e13730",
   "metadata": {
    "papermill": {
     "duration": 0.028508,
     "end_time": "2023-12-19T15:27:51.169460",
     "exception": false,
     "start_time": "2023-12-19T15:27:51.140952",
     "status": "completed"
    },
    "tags": []
   },
   "source": [
    "### How to run the code\n",
    "\n",
    "This tutorial is an executable [Jupyter notebook](https://jupyter.org) hosted on [Jovian](https://www.jovian.ai) (don't worry if these terms seem unfamiliar; we'll learn more about them soon). You can _run_ this tutorial and experiment with the code examples in a couple of ways: *using free online resources* (recommended) or *on your computer*.\n",
    "\n",
    "#### Option 1: Running using free online resources (1-click, recommended)\n",
    "\n",
    "The easiest way to start executing the code is to click the **Run** button at the top of this page and select **Run on Colab**. [Google Colab](https://colab.research.google.com) is a free online platform for running Jupyter notebooks using Google's cloud infrastructure. You can also select \"Run on Binder\" or \"Run on Kaggle\" if you face issues running the notebook on Google Colab.\n",
    "\n",
    "\n",
    "#### Option 2: Running on your computer locally\n",
    "\n",
    "To run the code on your computer locally, you'll need to set up [Python](https://www.python.org), download the notebook and install the required libraries. We recommend using the [Conda](https://docs.conda.io/projects/conda/en/latest/user-guide/install/) distribution of Python. Click the **Run** button at the top of this page, select the **Run Locally** option, and follow the instructions.\n",
    "\n",
    ">  **Jupyter Notebooks**: This tutorial is a [Jupyter notebook](https://jupyter.org) - a document made of _cells_. Each cell can contain code written in Python or explanations in plain English. You can execute code cells and view the results, e.g., numbers, messages, graphs, tables, files, etc. instantly within the notebook. Jupyter is a powerful platform for experimentation and analysis. Don't be afraid to mess around with the code & break things - you'll learn a lot by encountering and fixing errors. You can use the \"Kernel > Restart & Clear Output\" or \"Edit > Clear Outputs\" menu option to clear all outputs and start again from the top."
   ]
  },
  {
   "cell_type": "markdown",
   "id": "be671a1b",
   "metadata": {
    "papermill": {
     "duration": 0.028981,
     "end_time": "2023-12-19T15:27:51.227296",
     "exception": false,
     "start_time": "2023-12-19T15:27:51.198315",
     "status": "completed"
    },
    "tags": []
   },
   "source": [
    "Before we begin, we need to install the required libraries. The installation of PyTorch may differ based on your operating system / cloud environment. You can find detailed installation instructions here: https://pytorch.org ."
   ]
  },
  {
   "cell_type": "code",
   "execution_count": 1,
   "id": "29ec3799",
   "metadata": {
    "execution": {
     "iopub.execute_input": "2023-12-19T15:27:51.285583Z",
     "iopub.status.busy": "2023-12-19T15:27:51.285160Z",
     "iopub.status.idle": "2023-12-19T15:27:51.291638Z",
     "shell.execute_reply": "2023-12-19T15:27:51.290438Z"
    },
    "papermill": {
     "duration": 0.038742,
     "end_time": "2023-12-19T15:27:51.294376",
     "exception": false,
     "start_time": "2023-12-19T15:27:51.255634",
     "status": "completed"
    },
    "tags": []
   },
   "outputs": [],
   "source": [
    "# Uncomment and run the appropriate command for your operating system, if required\n",
    "\n",
    "# Linux / Binder\n",
    "# !pip install numpy torch==1.7.0+cpu torchvision==0.8.1+cpu torchaudio==0.7.0 -f https://download.pytorch.org/whl/torch_stable.html\n",
    "\n",
    "# Windows\n",
    "# !pip install numpy torch==1.7.0+cpu torchvision==0.8.1+cpu torchaudio==0.7.0 -f https://download.pytorch.org/whl/torch_stable.html\n",
    "\n",
    "# MacOS\n",
    "# !pip install numpy torch torchvision torchaudio"
   ]
  },
  {
   "cell_type": "markdown",
   "id": "b3e08311",
   "metadata": {
    "papermill": {
     "duration": 0.028743,
     "end_time": "2023-12-19T15:27:51.415815",
     "exception": false,
     "start_time": "2023-12-19T15:27:51.387072",
     "status": "completed"
    },
    "tags": []
   },
   "source": [
    "## Introduction to Linear Regression\n",
    "\n",
    "In this tutorial, we'll discuss one of the foundational algorithms in machine learning: *Linear regression*. We'll create a model that predicts crop yields for apples and oranges (*target variables*) by looking at the average temperature, rainfall, and humidity (*input variables or features*) in a region. Here's the training data:\n",
    "\n",
    "![linear-regression-training-data](https://i.imgur.com/6Ujttb4.png)\n",
    "\n",
    "In a linear regression model, each target variable is estimated to be a weighted sum of the input variables, offset by some constant, known as a bias :\n",
    "\n",
    "```\n",
    "yield_apple  = w11 * temp + w12 * rainfall + w13 * humidity + b1\n",
    "yield_orange = w21 * temp + w22 * rainfall + w23 * humidity + b2\n",
    "```\n",
    "\n",
    "Visually, it means that the yield of apples is a linear or planar function of temperature, rainfall and humidity:\n",
    "\n",
    "![linear-regression-graph](https://i.imgur.com/4DJ9f8X.png)"
   ]
  },
  {
   "cell_type": "markdown",
   "id": "237f590d",
   "metadata": {
    "papermill": {
     "duration": 0.028204,
     "end_time": "2023-12-19T15:27:51.473146",
     "exception": false,
     "start_time": "2023-12-19T15:27:51.444942",
     "status": "completed"
    },
    "tags": []
   },
   "source": [
    "The *learning* part of linear regression is to figure out a set of weights `w11, w12,... w23, b1 & b2` using the training data, to make accurate predictions for new data. The _learned_ weights will be used to predict the yields for apples and oranges in a new region using the average temperature, rainfall, and humidity for that region. \n",
    "\n",
    "We'll _train_ our model by adjusting the weights slightly many times to make better predictions, using an optimization technique called *gradient descent*. Let's begin by importing Numpy and PyTorch."
   ]
  },
  {
   "cell_type": "code",
   "execution_count": 2,
   "id": "de17b742",
   "metadata": {
    "execution": {
     "iopub.execute_input": "2023-12-19T15:27:51.532860Z",
     "iopub.status.busy": "2023-12-19T15:27:51.531962Z",
     "iopub.status.idle": "2023-12-19T15:27:55.515957Z",
     "shell.execute_reply": "2023-12-19T15:27:55.514857Z"
    },
    "papermill": {
     "duration": 4.017142,
     "end_time": "2023-12-19T15:27:55.518899",
     "exception": false,
     "start_time": "2023-12-19T15:27:51.501757",
     "status": "completed"
    },
    "tags": []
   },
   "outputs": [],
   "source": [
    "import numpy as np\n",
    "import torch"
   ]
  },
  {
   "cell_type": "markdown",
   "id": "e05b4bf4",
   "metadata": {
    "papermill": {
     "duration": 0.028219,
     "end_time": "2023-12-19T15:27:55.577802",
     "exception": false,
     "start_time": "2023-12-19T15:27:55.549583",
     "status": "completed"
    },
    "tags": []
   },
   "source": [
    "## Training data\n",
    "\n",
    "We can represent the training data using two matrices: `inputs` and `targets`, each with one row per observation, and one column per variable."
   ]
  },
  {
   "cell_type": "code",
   "execution_count": 3,
   "id": "0d836aa6",
   "metadata": {
    "execution": {
     "iopub.execute_input": "2023-12-19T15:27:55.636306Z",
     "iopub.status.busy": "2023-12-19T15:27:55.635765Z",
     "iopub.status.idle": "2023-12-19T15:27:55.642528Z",
     "shell.execute_reply": "2023-12-19T15:27:55.641158Z"
    },
    "papermill": {
     "duration": 0.038734,
     "end_time": "2023-12-19T15:27:55.644816",
     "exception": false,
     "start_time": "2023-12-19T15:27:55.606082",
     "status": "completed"
    },
    "tags": []
   },
   "outputs": [],
   "source": [
    "# Input (temp, rainfall, humidity)\n",
    "\n",
    "inputs = np.array([[73, 67, 43],\n",
    "                  [91, 88, 64],\n",
    "                  [87, 134, 58],\n",
    "                  [102, 43, 37], [69, 96, 70]]\n",
    "                 , dtype = 'float32')"
   ]
  },
  {
   "cell_type": "code",
   "execution_count": 4,
   "id": "65e935b7",
   "metadata": {
    "execution": {
     "iopub.execute_input": "2023-12-19T15:27:55.706194Z",
     "iopub.status.busy": "2023-12-19T15:27:55.705707Z",
     "iopub.status.idle": "2023-12-19T15:27:55.711171Z",
     "shell.execute_reply": "2023-12-19T15:27:55.710156Z"
    },
    "papermill": {
     "duration": 0.03902,
     "end_time": "2023-12-19T15:27:55.713535",
     "exception": false,
     "start_time": "2023-12-19T15:27:55.674515",
     "status": "completed"
    },
    "tags": []
   },
   "outputs": [],
   "source": [
    "# Targets (apples, oranges)\n",
    "targets = np.array([[56, 70], \n",
    "                    [81, 101], \n",
    "                    [119, 133], \n",
    "                    [22, 37], \n",
    "                    [103, 119]], dtype='float32')"
   ]
  },
  {
   "cell_type": "markdown",
   "id": "41f237fd",
   "metadata": {
    "papermill": {
     "duration": 0.029366,
     "end_time": "2023-12-19T15:27:55.773457",
     "exception": false,
     "start_time": "2023-12-19T15:27:55.744091",
     "status": "completed"
    },
    "tags": []
   },
   "source": [
    "We've separated the input and target variables because we'll operate on them separately. Also, we've created numpy arrays, because this is typically how you would work with training data: read some CSV files as numpy arrays, do some processing, and then convert them to PyTorch tensors.\n",
    "\n",
    "Let's convert the arrays to PyTorch tensors."
   ]
  },
  {
   "cell_type": "code",
   "execution_count": 5,
   "id": "b83585f7",
   "metadata": {
    "execution": {
     "iopub.execute_input": "2023-12-19T15:27:55.833038Z",
     "iopub.status.busy": "2023-12-19T15:27:55.832231Z",
     "iopub.status.idle": "2023-12-19T15:27:55.956141Z",
     "shell.execute_reply": "2023-12-19T15:27:55.954492Z"
    },
    "papermill": {
     "duration": 0.156909,
     "end_time": "2023-12-19T15:27:55.959004",
     "exception": false,
     "start_time": "2023-12-19T15:27:55.802095",
     "status": "completed"
    },
    "tags": []
   },
   "outputs": [
    {
     "name": "stdout",
     "output_type": "stream",
     "text": [
      "tensor([[ 73.,  67.,  43.],\n",
      "        [ 91.,  88.,  64.],\n",
      "        [ 87., 134.,  58.],\n",
      "        [102.,  43.,  37.],\n",
      "        [ 69.,  96.,  70.]])\n",
      "tensor([[ 56.,  70.],\n",
      "        [ 81., 101.],\n",
      "        [119., 133.],\n",
      "        [ 22.,  37.],\n",
      "        [103., 119.]])\n"
     ]
    }
   ],
   "source": [
    "# Convert inputs and targets to tensors\n",
    "\n",
    "inputs = torch.from_numpy(inputs)\n",
    "targets = torch.from_numpy(targets)\n",
    "print(inputs)\n",
    "print(targets)"
   ]
  },
  {
   "cell_type": "markdown",
   "id": "02a9701d",
   "metadata": {
    "papermill": {
     "duration": 0.029654,
     "end_time": "2023-12-19T15:27:56.019122",
     "exception": false,
     "start_time": "2023-12-19T15:27:55.989468",
     "status": "completed"
    },
    "tags": []
   },
   "source": [
    "## Linear regression model from scratch\n",
    "\n",
    "The weights and biases (`w11, w12,... w23, b1 & b2`) can also be represented as matrices, initialized as random values. The first row of `w` and the first element of `b` are used to predict the first target variable, i.e., yield of apples, and similarly, the second for oranges."
   ]
  },
  {
   "cell_type": "code",
   "execution_count": 6,
   "id": "84ed9b8a",
   "metadata": {
    "execution": {
     "iopub.execute_input": "2023-12-19T15:27:56.083855Z",
     "iopub.status.busy": "2023-12-19T15:27:56.082697Z",
     "iopub.status.idle": "2023-12-19T15:27:56.100624Z",
     "shell.execute_reply": "2023-12-19T15:27:56.099181Z"
    },
    "papermill": {
     "duration": 0.052703,
     "end_time": "2023-12-19T15:27:56.103434",
     "exception": false,
     "start_time": "2023-12-19T15:27:56.050731",
     "status": "completed"
    },
    "tags": []
   },
   "outputs": [
    {
     "name": "stdout",
     "output_type": "stream",
     "text": [
      "tensor([[-2.0357, -0.9980,  0.0857],\n",
      "        [ 1.6282,  0.3013, -0.1559]], requires_grad=True)\n",
      "tensor([-0.4314, -0.2291], requires_grad=True)\n"
     ]
    }
   ],
   "source": [
    "# Weights and biases\n",
    "# w11, w12, w13 = yield_apple  = w11 * temp + w12 * rainfall + w13 * humidity + b1\n",
    "# w21, w22, w33 = yield_orange = w21 * temp + w22 * rainfall + w23 * humidity + b2\n",
    "\n",
    "# 2 rows and 3 columns\n",
    "w = torch.randn(2, 3, requires_grad=True)\n",
    "# only 2 scalar values\n",
    "b = torch.randn(2, requires_grad=True)\n",
    "\n",
    "# generally randn creates random values from -1 to 1\n",
    "print(w)\n",
    "print(b)"
   ]
  },
  {
   "cell_type": "markdown",
   "id": "0589fe3b",
   "metadata": {
    "papermill": {
     "duration": 0.030873,
     "end_time": "2023-12-19T15:27:56.164434",
     "exception": false,
     "start_time": "2023-12-19T15:27:56.133561",
     "status": "completed"
    },
    "tags": []
   },
   "source": [
    "`torch.randn` creates a tensor with the given shape, with elements picked randomly from a [normal distribution](https://en.wikipedia.org/wiki/Normal_distribution) with mean 0 and standard deviation 1.\n",
    "\n",
    "Our *model* is simply a function that performs a matrix multiplication of the `inputs` and the weights `w` (transposed,so that the dimension are matched for the matrix multiplications) and adds the bias `b` (replicated for each observation).\n",
    "\n",
    "![matrix-mult](https://i.imgur.com/WGXLFvA.png)\n",
    "\n",
    "We can define the model as follows:"
   ]
  },
  {
   "cell_type": "code",
   "execution_count": 7,
   "id": "f4344082",
   "metadata": {
    "execution": {
     "iopub.execute_input": "2023-12-19T15:27:56.228168Z",
     "iopub.status.busy": "2023-12-19T15:27:56.227661Z",
     "iopub.status.idle": "2023-12-19T15:27:56.232923Z",
     "shell.execute_reply": "2023-12-19T15:27:56.231862Z"
    },
    "papermill": {
     "duration": 0.038717,
     "end_time": "2023-12-19T15:27:56.235740",
     "exception": false,
     "start_time": "2023-12-19T15:27:56.197023",
     "status": "completed"
    },
    "tags": []
   },
   "outputs": [],
   "source": [
    "def model(x):\n",
    "    return x @ w.t() + b"
   ]
  },
  {
   "cell_type": "markdown",
   "id": "9056e506",
   "metadata": {
    "papermill": {
     "duration": 0.02894,
     "end_time": "2023-12-19T15:27:56.295396",
     "exception": false,
     "start_time": "2023-12-19T15:27:56.266456",
     "status": "completed"
    },
    "tags": []
   },
   "source": [
    "`@` represents matrix multiplication in PyTorch, and the `.t` method returns the transpose of a tensor.\n",
    "\n",
    "Since bias is a vector and the resulting is matrix, so basically what the pytorch does is, something called braodcasting. It makes a bunch of copies of vector to make it look like a matrix that matches the dimension of these vectors.\n",
    "\n",
    "The matrix obtained by passing the input data into the model is a set of predictions for the target variables."
   ]
  },
  {
   "cell_type": "code",
   "execution_count": 8,
   "id": "c1e31354",
   "metadata": {
    "execution": {
     "iopub.execute_input": "2023-12-19T15:27:56.357998Z",
     "iopub.status.busy": "2023-12-19T15:27:56.356848Z",
     "iopub.status.idle": "2023-12-19T15:27:56.382278Z",
     "shell.execute_reply": "2023-12-19T15:27:56.380670Z"
    },
    "papermill": {
     "duration": 0.060889,
     "end_time": "2023-12-19T15:27:56.385256",
     "exception": false,
     "start_time": "2023-12-19T15:27:56.324367",
     "status": "completed"
    },
    "tags": []
   },
   "outputs": [
    {
     "name": "stdout",
     "output_type": "stream",
     "text": [
      "tensor([[-212.2214,  132.1101],\n",
      "        [-268.0233,  164.4702],\n",
      "        [-306.3022,  172.7513],\n",
      "        [-247.8198,  173.0327],\n",
      "        [-230.7071,  130.1246]], grad_fn=<AddBackward0>)\n"
     ]
    }
   ],
   "source": [
    "# Generate predictions\n",
    "preds = model(inputs)\n",
    "print(preds)\n"
   ]
  },
  {
   "cell_type": "markdown",
   "id": "8c996495",
   "metadata": {
    "papermill": {
     "duration": 0.038623,
     "end_time": "2023-12-19T15:27:56.454313",
     "exception": false,
     "start_time": "2023-12-19T15:27:56.415690",
     "status": "completed"
    },
    "tags": []
   },
   "source": [
    "Let's compare the predictions of our model with the actual targets."
   ]
  },
  {
   "cell_type": "code",
   "execution_count": 9,
   "id": "d6e88034",
   "metadata": {
    "execution": {
     "iopub.execute_input": "2023-12-19T15:27:56.530177Z",
     "iopub.status.busy": "2023-12-19T15:27:56.529723Z",
     "iopub.status.idle": "2023-12-19T15:27:56.539918Z",
     "shell.execute_reply": "2023-12-19T15:27:56.537537Z"
    },
    "papermill": {
     "duration": 0.052248,
     "end_time": "2023-12-19T15:27:56.544370",
     "exception": false,
     "start_time": "2023-12-19T15:27:56.492122",
     "status": "completed"
    },
    "tags": []
   },
   "outputs": [
    {
     "name": "stdout",
     "output_type": "stream",
     "text": [
      "tensor([[ 56.,  70.],\n",
      "        [ 81., 101.],\n",
      "        [119., 133.],\n",
      "        [ 22.,  37.],\n",
      "        [103., 119.]])\n"
     ]
    }
   ],
   "source": [
    "# Compare with targets\n",
    "print(targets)"
   ]
  },
  {
   "cell_type": "markdown",
   "id": "9ae46aa2",
   "metadata": {
    "papermill": {
     "duration": 0.031862,
     "end_time": "2023-12-19T15:27:56.610163",
     "exception": false,
     "start_time": "2023-12-19T15:27:56.578301",
     "status": "completed"
    },
    "tags": []
   },
   "source": [
    "You can see a big difference between our model's predictions and the actual targets because we've initialized our model with random weights and biases. Obviously, we can't expect a randomly initialized model to *just work*."
   ]
  },
  {
   "cell_type": "markdown",
   "id": "e2fd3081",
   "metadata": {
    "papermill": {
     "duration": 0.029536,
     "end_time": "2023-12-19T15:27:56.669658",
     "exception": false,
     "start_time": "2023-12-19T15:27:56.640122",
     "status": "completed"
    },
    "tags": []
   },
   "source": [
    "## Loss function\n",
    "\n",
    "Before we improve our model, we need a way to evaluate how well our model is performing. We can compare the model's predictions with the actual targets using the following method:\n",
    "\n",
    "* Calculate the difference between the two matrices (`preds` and `targets`).\n",
    "* Square all elements of the difference matrix to remove negative values.\n",
    "* Calculate the average of the elements in the resulting matrix.\n",
    "\n",
    "The result is a single number, known as the **mean squared error** (MSE)."
   ]
  },
  {
   "cell_type": "code",
   "execution_count": 10,
   "id": "2e9aa411",
   "metadata": {
    "execution": {
     "iopub.execute_input": "2023-12-19T15:27:56.735037Z",
     "iopub.status.busy": "2023-12-19T15:27:56.734586Z",
     "iopub.status.idle": "2023-12-19T15:27:56.752912Z",
     "shell.execute_reply": "2023-12-19T15:27:56.751284Z"
    },
    "papermill": {
     "duration": 0.05429,
     "end_time": "2023-12-19T15:27:56.755761",
     "exception": false,
     "start_time": "2023-12-19T15:27:56.701471",
     "status": "completed"
    },
    "tags": []
   },
   "outputs": [
    {
     "data": {
      "text/plain": [
       "tensor(58689.9922, grad_fn=<DivBackward0>)"
      ]
     },
     "execution_count": 10,
     "metadata": {},
     "output_type": "execute_result"
    }
   ],
   "source": [
    "diff = preds - targets\n",
    "# diff\n",
    "diff_sqr = diff * diff\n",
    "# diff_sqr\n",
    "avg = torch.sum(diff_sqr) / diff.numel() # provides the no of elements \n",
    "avg"
   ]
  },
  {
   "cell_type": "code",
   "execution_count": 11,
   "id": "8eb7eccd",
   "metadata": {
    "execution": {
     "iopub.execute_input": "2023-12-19T15:27:56.820209Z",
     "iopub.status.busy": "2023-12-19T15:27:56.819689Z",
     "iopub.status.idle": "2023-12-19T15:27:56.826108Z",
     "shell.execute_reply": "2023-12-19T15:27:56.824709Z"
    },
    "papermill": {
     "duration": 0.042074,
     "end_time": "2023-12-19T15:27:56.828672",
     "exception": false,
     "start_time": "2023-12-19T15:27:56.786598",
     "status": "completed"
    },
    "tags": []
   },
   "outputs": [],
   "source": [
    "# MSE loss\n",
    "def mse(t1, t2):\n",
    "    diff = t1 - t2\n",
    "    return torch.sum(diff * diff) / diff.numel()"
   ]
  },
  {
   "cell_type": "markdown",
   "id": "50a0b9c7",
   "metadata": {
    "papermill": {
     "duration": 0.041399,
     "end_time": "2023-12-19T15:27:56.905067",
     "exception": false,
     "start_time": "2023-12-19T15:27:56.863668",
     "status": "completed"
    },
    "tags": []
   },
   "source": [
    "`torch.sum` returns the sum of all the elements in a tensor. The `.numel` method of a tensor returns the number of elements in a tensor. Let's compute the mean squared error for the current predictions of our model."
   ]
  },
  {
   "cell_type": "code",
   "execution_count": 12,
   "id": "ec20d9eb",
   "metadata": {
    "execution": {
     "iopub.execute_input": "2023-12-19T15:27:56.975301Z",
     "iopub.status.busy": "2023-12-19T15:27:56.974836Z",
     "iopub.status.idle": "2023-12-19T15:27:56.983163Z",
     "shell.execute_reply": "2023-12-19T15:27:56.981801Z"
    },
    "papermill": {
     "duration": 0.046403,
     "end_time": "2023-12-19T15:27:56.985796",
     "exception": false,
     "start_time": "2023-12-19T15:27:56.939393",
     "status": "completed"
    },
    "tags": []
   },
   "outputs": [
    {
     "name": "stdout",
     "output_type": "stream",
     "text": [
      "tensor(58689.9922, grad_fn=<DivBackward0>)\n"
     ]
    }
   ],
   "source": [
    "# Compute loss\n",
    "loss = mse(preds, targets)\n",
    "print(loss)"
   ]
  },
  {
   "cell_type": "markdown",
   "id": "fa83fd6b",
   "metadata": {
    "papermill": {
     "duration": 0.032487,
     "end_time": "2023-12-19T15:27:57.047949",
     "exception": false,
     "start_time": "2023-12-19T15:27:57.015462",
     "status": "completed"
    },
    "tags": []
   },
   "source": [
    "Here’s how we can interpret the result: *On average, each element in the prediction differs from the actual target by the square root of the loss*. And that’s pretty bad, considering the numbers we are trying to predict are themselves in the range 50–200. The result is called the *loss* because it indicates how bad the model is at predicting the target variables. It represents information loss in the model: the lower the loss, the better the model."
   ]
  },
  {
   "cell_type": "markdown",
   "id": "fa9b4010",
   "metadata": {
    "papermill": {
     "duration": 0.030967,
     "end_time": "2023-12-19T15:27:57.110698",
     "exception": false,
     "start_time": "2023-12-19T15:27:57.079731",
     "status": "completed"
    },
    "tags": []
   },
   "source": [
    "## Compute gradients\n",
    "\n",
    "With PyTorch, we can automatically compute the gradient or derivative of the loss w.r.t. to the weights and biases because they have `requires_grad` set to `True`. We'll see how this is useful in just a moment."
   ]
  },
  {
   "cell_type": "code",
   "execution_count": 13,
   "id": "51237ef4",
   "metadata": {
    "execution": {
     "iopub.execute_input": "2023-12-19T15:27:57.174917Z",
     "iopub.status.busy": "2023-12-19T15:27:57.174463Z",
     "iopub.status.idle": "2023-12-19T15:27:57.199483Z",
     "shell.execute_reply": "2023-12-19T15:27:57.198005Z"
    },
    "papermill": {
     "duration": 0.061301,
     "end_time": "2023-12-19T15:27:57.203358",
     "exception": false,
     "start_time": "2023-12-19T15:27:57.142057",
     "status": "completed"
    },
    "tags": []
   },
   "outputs": [],
   "source": [
    "# Compute gradients\n",
    "loss.backward()"
   ]
  },
  {
   "cell_type": "markdown",
   "id": "6bb628c1",
   "metadata": {
    "papermill": {
     "duration": 0.035707,
     "end_time": "2023-12-19T15:27:57.276648",
     "exception": false,
     "start_time": "2023-12-19T15:27:57.240941",
     "status": "completed"
    },
    "tags": []
   },
   "source": [
    "The gradients are stored in the `.grad` property of the respective tensors. Note that the derivative of the loss w.r.t. the weights matrix is itself a matrix with the same dimensions."
   ]
  },
  {
   "cell_type": "code",
   "execution_count": 14,
   "id": "94e556f5",
   "metadata": {
    "execution": {
     "iopub.execute_input": "2023-12-19T15:27:57.349971Z",
     "iopub.status.busy": "2023-12-19T15:27:57.349236Z",
     "iopub.status.idle": "2023-12-19T15:27:57.357823Z",
     "shell.execute_reply": "2023-12-19T15:27:57.356710Z"
    },
    "papermill": {
     "duration": 0.045006,
     "end_time": "2023-12-19T15:27:57.360795",
     "exception": false,
     "start_time": "2023-12-19T15:27:57.315789",
     "status": "completed"
    },
    "tags": []
   },
   "outputs": [
    {
     "name": "stdout",
     "output_type": "stream",
     "text": [
      "tensor([[-2.0357, -0.9980,  0.0857],\n",
      "        [ 1.6282,  0.3013, -0.1559]], requires_grad=True)\n",
      "tensor([[-27777.9941, -29862.6992, -18376.2734],\n",
      "        [  5682.2251,   4398.1602,   2970.0676]])\n"
     ]
    }
   ],
   "source": [
    "# Gradients for weights\n",
    "print(w)\n",
    "# derivative wrt the loss function for each element of w\n",
    "print(w.grad)"
   ]
  },
  {
   "cell_type": "code",
   "execution_count": 15,
   "id": "aef0e51b",
   "metadata": {
    "execution": {
     "iopub.execute_input": "2023-12-19T15:27:57.425647Z",
     "iopub.status.busy": "2023-12-19T15:27:57.424557Z",
     "iopub.status.idle": "2023-12-19T15:27:57.434952Z",
     "shell.execute_reply": "2023-12-19T15:27:57.433618Z"
    },
    "papermill": {
     "duration": 0.045362,
     "end_time": "2023-12-19T15:27:57.437740",
     "exception": false,
     "start_time": "2023-12-19T15:27:57.392378",
     "status": "completed"
    },
    "tags": []
   },
   "outputs": [
    {
     "name": "stdout",
     "output_type": "stream",
     "text": [
      "tensor([-0.4314, -0.2291], requires_grad=True)\n",
      "tensor([-329.2147,   62.4978])\n"
     ]
    }
   ],
   "source": [
    "print(b)\n",
    "print(b.grad)"
   ]
  },
  {
   "cell_type": "markdown",
   "id": "dc311e3f",
   "metadata": {
    "papermill": {
     "duration": 0.032784,
     "end_time": "2023-12-19T15:27:57.501693",
     "exception": false,
     "start_time": "2023-12-19T15:27:57.468909",
     "status": "completed"
    },
    "tags": []
   },
   "source": [
    "## Adjust weights and biases to reduce the loss\n",
    "\n",
    "The loss is a [quadratic function](https://en.wikipedia.org/wiki/Quadratic_function) of our weights and biases, and our objective is to find the set of weights where the loss is the lowest. If we plot a graph of the loss w.r.t any individual weight or bias element, it will look like the figure shown below. An important insight from calculus is that the gradient indicates the rate of change of the loss, i.e., the loss function's [slope](https://en.wikipedia.org/wiki/Slope) w.r.t. the weights and biases.\n",
    "\n",
    "If a gradient element is **positive**:\n",
    "\n",
    "* **increasing** the weight element's value slightly will **increase** the loss\n",
    "* **decreasing** the weight element's value slightly will **decrease** the loss\n",
    "\n",
    "![postive-gradient](https://i.imgur.com/WLzJ4xP.png)\n",
    "\n",
    "If a gradient element is **negative**:\n",
    "\n",
    "* **increasing** the weight element's value slightly will **decrease** the loss\n",
    "* **decreasing** the weight element's value slightly will **increase** the loss\n",
    "\n",
    "![negative=gradient](https://i.imgur.com/dvG2fxU.png)\n",
    "\n",
    "The increase or decrease in the loss by changing a weight element is proportional to the gradient of the loss w.r.t. that element. This observation forms the basis of _the gradient descent_ optimization algorithm that we'll use to improve our model (by _descending_ along the _gradient_).\n",
    "\n",
    "We can subtract from each weight element a small quantity proportional to the derivative of the loss w.r.t. that element to reduce the loss slightly."
   ]
  },
  {
   "cell_type": "code",
   "execution_count": 16,
   "id": "53863818",
   "metadata": {
    "execution": {
     "iopub.execute_input": "2023-12-19T15:27:57.567713Z",
     "iopub.status.busy": "2023-12-19T15:27:57.566950Z",
     "iopub.status.idle": "2023-12-19T15:27:57.575996Z",
     "shell.execute_reply": "2023-12-19T15:27:57.574431Z"
    },
    "papermill": {
     "duration": 0.048144,
     "end_time": "2023-12-19T15:27:57.580514",
     "exception": false,
     "start_time": "2023-12-19T15:27:57.532370",
     "status": "completed"
    },
    "tags": []
   },
   "outputs": [
    {
     "data": {
      "text/plain": [
       "tensor([[-27777.9941, -29862.6992, -18376.2734],\n",
       "        [  5682.2251,   4398.1602,   2970.0676]])"
      ]
     },
     "execution_count": 16,
     "metadata": {},
     "output_type": "execute_result"
    }
   ],
   "source": [
    "w\n",
    "w.grad"
   ]
  },
  {
   "cell_type": "code",
   "execution_count": 17,
   "id": "5beb9606",
   "metadata": {
    "execution": {
     "iopub.execute_input": "2023-12-19T15:27:57.648524Z",
     "iopub.status.busy": "2023-12-19T15:27:57.646752Z",
     "iopub.status.idle": "2023-12-19T15:27:57.656053Z",
     "shell.execute_reply": "2023-12-19T15:27:57.654061Z"
    },
    "papermill": {
     "duration": 0.047479,
     "end_time": "2023-12-19T15:27:57.659166",
     "exception": false,
     "start_time": "2023-12-19T15:27:57.611687",
     "status": "completed"
    },
    "tags": []
   },
   "outputs": [],
   "source": [
    "with torch.no_grad():\n",
    "    w -= w.grad * 1e-5\n",
    "    b -= b.grad * 1e-5"
   ]
  },
  {
   "cell_type": "markdown",
   "id": "74946a70",
   "metadata": {
    "papermill": {
     "duration": 0.030769,
     "end_time": "2023-12-19T15:27:57.720222",
     "exception": false,
     "start_time": "2023-12-19T15:27:57.689453",
     "status": "completed"
    },
    "tags": []
   },
   "source": [
    "We multiply the gradients with a very small number (`10^-5` in this case) to ensure that we don't modify the weights by a very large amount. We want to take a small step in the downhill direction of the gradient, not a giant leap. This number is called the *learning rate* of the algorithm. \n",
    "\n",
    "We use `torch.no_grad` to indicate to PyTorch that we shouldn't track, calculate, or modify gradients while updating the weights and biases."
   ]
  },
  {
   "cell_type": "code",
   "execution_count": 18,
   "id": "0793a959",
   "metadata": {
    "execution": {
     "iopub.execute_input": "2023-12-19T15:27:57.786370Z",
     "iopub.status.busy": "2023-12-19T15:27:57.785671Z",
     "iopub.status.idle": "2023-12-19T15:27:57.796737Z",
     "shell.execute_reply": "2023-12-19T15:27:57.795260Z"
    },
    "papermill": {
     "duration": 0.046309,
     "end_time": "2023-12-19T15:27:57.799497",
     "exception": false,
     "start_time": "2023-12-19T15:27:57.753188",
     "status": "completed"
    },
    "tags": []
   },
   "outputs": [
    {
     "name": "stdout",
     "output_type": "stream",
     "text": [
      "tensor(58689.9922, grad_fn=<DivBackward0>)\n"
     ]
    }
   ],
   "source": [
    "# Let's verify that the loss is actually lower\n",
    "loss = mse(preds, targets)\n",
    "print(loss)"
   ]
  },
  {
   "cell_type": "markdown",
   "id": "79607106",
   "metadata": {
    "papermill": {
     "duration": 0.031964,
     "end_time": "2023-12-19T15:27:57.862799",
     "exception": false,
     "start_time": "2023-12-19T15:27:57.830835",
     "status": "completed"
    },
    "tags": []
   },
   "source": [
    "Before we proceed, we reset the gradients to zero by invoking the `.zero_()` method. We need to do this because PyTorch accumulates gradients. Otherwise, the next time we invoke `.backward` on the loss, the new gradient values are added to the existing gradients, which may lead to unexpected results."
   ]
  },
  {
   "cell_type": "code",
   "execution_count": 19,
   "id": "441c082d",
   "metadata": {
    "execution": {
     "iopub.execute_input": "2023-12-19T15:27:57.933826Z",
     "iopub.status.busy": "2023-12-19T15:27:57.933394Z",
     "iopub.status.idle": "2023-12-19T15:27:57.941178Z",
     "shell.execute_reply": "2023-12-19T15:27:57.939708Z"
    },
    "papermill": {
     "duration": 0.047796,
     "end_time": "2023-12-19T15:27:57.943534",
     "exception": false,
     "start_time": "2023-12-19T15:27:57.895738",
     "status": "completed"
    },
    "tags": []
   },
   "outputs": [
    {
     "name": "stdout",
     "output_type": "stream",
     "text": [
      "tensor([[0., 0., 0.],\n",
      "        [0., 0., 0.]])\n",
      "tensor([0., 0.])\n"
     ]
    }
   ],
   "source": [
    "w.grad.zero_()\n",
    "b.grad.zero_()\n",
    "print(w.grad)\n",
    "print(b.grad)"
   ]
  },
  {
   "cell_type": "markdown",
   "id": "a3b80cbc",
   "metadata": {
    "papermill": {
     "duration": 0.03462,
     "end_time": "2023-12-19T15:27:58.012456",
     "exception": false,
     "start_time": "2023-12-19T15:27:57.977836",
     "status": "completed"
    },
    "tags": []
   },
   "source": [
    "## Train the model using gradient descent\n",
    "\n",
    "As seen above, we reduce the loss and improve our model using the gradient descent optimization algorithm. Thus, we can _train_ the model using the following steps:\n",
    "\n",
    "1. Generate predictions\n",
    "\n",
    "2. Calculate the loss\n",
    "\n",
    "3. Compute gradients w.r.t the weights and biases\n",
    "\n",
    "4. Adjust the weights by subtracting a small quantity proportional to the gradient\n",
    "\n",
    "5. Reset the gradients to zero\n",
    "\n",
    "Let's implement the above step by step."
   ]
  },
  {
   "cell_type": "code",
   "execution_count": 20,
   "id": "7a81aa60",
   "metadata": {
    "execution": {
     "iopub.execute_input": "2023-12-19T15:27:58.077706Z",
     "iopub.status.busy": "2023-12-19T15:27:58.077283Z",
     "iopub.status.idle": "2023-12-19T15:27:58.086133Z",
     "shell.execute_reply": "2023-12-19T15:27:58.084641Z"
    },
    "papermill": {
     "duration": 0.044685,
     "end_time": "2023-12-19T15:27:58.089000",
     "exception": false,
     "start_time": "2023-12-19T15:27:58.044315",
     "status": "completed"
    },
    "tags": []
   },
   "outputs": [
    {
     "data": {
      "text/plain": [
       "tensor([[-164.0303,  123.7376],\n",
       "        [-204.7020,  153.5275],\n",
       "        [-231.4578,  160.1909],\n",
       "        [-199.8427,  164.2461],\n",
       "        [-170.0054,  119.9020]], grad_fn=<AddBackward0>)"
      ]
     },
     "execution_count": 20,
     "metadata": {},
     "output_type": "execute_result"
    }
   ],
   "source": [
    "# Generate predictions\n",
    "preds = model(inputs)\n",
    "preds"
   ]
  },
  {
   "cell_type": "code",
   "execution_count": 21,
   "id": "8b267c19",
   "metadata": {
    "execution": {
     "iopub.execute_input": "2023-12-19T15:27:58.154306Z",
     "iopub.status.busy": "2023-12-19T15:27:58.153713Z",
     "iopub.status.idle": "2023-12-19T15:27:58.163390Z",
     "shell.execute_reply": "2023-12-19T15:27:58.161784Z"
    },
    "papermill": {
     "duration": 0.045787,
     "end_time": "2023-12-19T15:27:58.166171",
     "exception": false,
     "start_time": "2023-12-19T15:27:58.120384",
     "status": "completed"
    },
    "tags": []
   },
   "outputs": [
    {
     "name": "stdout",
     "output_type": "stream",
     "text": [
      "tensor(39918.4297, grad_fn=<DivBackward0>)\n"
     ]
    }
   ],
   "source": [
    "# Calculate the loss\n",
    "loss = mse(preds, targets)\n",
    "print(loss)"
   ]
  },
  {
   "cell_type": "code",
   "execution_count": 22,
   "id": "494b6dcc",
   "metadata": {
    "execution": {
     "iopub.execute_input": "2023-12-19T15:27:58.231048Z",
     "iopub.status.busy": "2023-12-19T15:27:58.230597Z",
     "iopub.status.idle": "2023-12-19T15:27:58.239403Z",
     "shell.execute_reply": "2023-12-19T15:27:58.237648Z"
    },
    "papermill": {
     "duration": 0.04391,
     "end_time": "2023-12-19T15:27:58.242380",
     "exception": false,
     "start_time": "2023-12-19T15:27:58.198470",
     "status": "completed"
    },
    "tags": []
   },
   "outputs": [
    {
     "name": "stdout",
     "output_type": "stream",
     "text": [
      "tensor([[-22803.2500, -24518.5781, -15078.2676],\n",
      "        [  4821.9595,   3484.9199,   2404.1594]])\n",
      "tensor([-270.2076,   52.3208])\n"
     ]
    }
   ],
   "source": [
    "# Compute gradients\n",
    "loss.backward()\n",
    "print(w.grad)\n",
    "print(b.grad)"
   ]
  },
  {
   "cell_type": "markdown",
   "id": "84e2c9c1",
   "metadata": {
    "papermill": {
     "duration": 0.029767,
     "end_time": "2023-12-19T15:27:58.302825",
     "exception": false,
     "start_time": "2023-12-19T15:27:58.273058",
     "status": "completed"
    },
    "tags": []
   },
   "source": [
    "Let's update the weights and biases using the gradients computed above."
   ]
  },
  {
   "cell_type": "code",
   "execution_count": 23,
   "id": "f2bbd2e0",
   "metadata": {
    "execution": {
     "iopub.execute_input": "2023-12-19T15:27:58.368453Z",
     "iopub.status.busy": "2023-12-19T15:27:58.367993Z",
     "iopub.status.idle": "2023-12-19T15:27:58.374727Z",
     "shell.execute_reply": "2023-12-19T15:27:58.373520Z"
    },
    "papermill": {
     "duration": 0.043004,
     "end_time": "2023-12-19T15:27:58.377709",
     "exception": false,
     "start_time": "2023-12-19T15:27:58.334705",
     "status": "completed"
    },
    "tags": []
   },
   "outputs": [],
   "source": [
    "# Adjust weights & reset gradients\n",
    "\n",
    "# dont track for the gradient related work for the following\n",
    "\n",
    "with torch.no_grad() :\n",
    "    w -= w.grad * 1e-5\n",
    "    b -= b.grad * 1e-5\n",
    "    \n",
    "    w.grad.zero_()\n",
    "    b.grad.zero_()\n",
    "    \n",
    "# print(w, b)\n",
    "\n"
   ]
  },
  {
   "cell_type": "markdown",
   "id": "da9e64a3",
   "metadata": {
    "papermill": {
     "duration": 0.032462,
     "end_time": "2023-12-19T15:27:58.442322",
     "exception": false,
     "start_time": "2023-12-19T15:27:58.409860",
     "status": "completed"
    },
    "tags": []
   },
   "source": [
    "* We use torch.no_grad to indicate to PyTorch that we shouldn't track, calculate or modify gradients while updating the weights and biases\n",
    "*  We multiply the gradients with a really small number(10^-5, in this case), to ensure that we dont modify the weights by a really large amount since we only want to take a small step in the downhill direction of the gradient. THis number is called the *learning* *rate of the algorithm*\n",
    "* After we have updated the weights , we reset the gradient back to zero to avoid affecting any future computations."
   ]
  },
  {
   "cell_type": "markdown",
   "id": "77896a3f",
   "metadata": {
    "papermill": {
     "duration": 0.03285,
     "end_time": "2023-12-19T15:27:58.507114",
     "exception": false,
     "start_time": "2023-12-19T15:27:58.474264",
     "status": "completed"
    },
    "tags": []
   },
   "source": [
    "Let's take a look at the new weights and biases."
   ]
  },
  {
   "cell_type": "code",
   "execution_count": 24,
   "id": "6e60105d",
   "metadata": {
    "execution": {
     "iopub.execute_input": "2023-12-19T15:27:58.576274Z",
     "iopub.status.busy": "2023-12-19T15:27:58.575776Z",
     "iopub.status.idle": "2023-12-19T15:27:58.585187Z",
     "shell.execute_reply": "2023-12-19T15:27:58.583504Z"
    },
    "papermill": {
     "duration": 0.048161,
     "end_time": "2023-12-19T15:27:58.588296",
     "exception": false,
     "start_time": "2023-12-19T15:27:58.540135",
     "status": "completed"
    },
    "tags": []
   },
   "outputs": [
    {
     "name": "stdout",
     "output_type": "stream",
     "text": [
      "tensor([[-1.5299, -0.4542,  0.4202],\n",
      "        [ 1.5232,  0.2224, -0.2096]], requires_grad=True)\n",
      "tensor([-0.4254, -0.2302], requires_grad=True)\n"
     ]
    }
   ],
   "source": [
    "\n",
    "# ---------------- For first values ----------------\n",
    "\n",
    "# tensor([[-1.0899, -0.0085,  0.7379],\n",
    "#         [ 0.9088,  0.2591, -1.0136]], requires_grad=True)\n",
    "\n",
    "# tensor([0.0187, 1.0230], requires_grad=True)\n",
    "print(w)\n",
    "print(b)\n",
    "\n",
    "# there is increase in the weight and biases"
   ]
  },
  {
   "cell_type": "markdown",
   "id": "2e9253c3",
   "metadata": {
    "papermill": {
     "duration": 0.030283,
     "end_time": "2023-12-19T15:27:58.649497",
     "exception": false,
     "start_time": "2023-12-19T15:27:58.619214",
     "status": "completed"
    },
    "tags": []
   },
   "source": [
    "With the new weights and biases, the model should have a lower loss."
   ]
  },
  {
   "cell_type": "code",
   "execution_count": 25,
   "id": "312c44ad",
   "metadata": {
    "execution": {
     "iopub.execute_input": "2023-12-19T15:27:58.714424Z",
     "iopub.status.busy": "2023-12-19T15:27:58.714012Z",
     "iopub.status.idle": "2023-12-19T15:27:58.721872Z",
     "shell.execute_reply": "2023-12-19T15:27:58.720191Z"
    },
    "papermill": {
     "duration": 0.042939,
     "end_time": "2023-12-19T15:27:58.724728",
     "exception": false,
     "start_time": "2023-12-19T15:27:58.681789",
     "status": "completed"
    },
    "tags": []
   },
   "outputs": [
    {
     "name": "stdout",
     "output_type": "stream",
     "text": [
      "tensor(27264.1836, grad_fn=<DivBackward0>)\n"
     ]
    }
   ],
   "source": [
    "# Calculate loss\n",
    "preds = model(inputs)\n",
    "loss = mse(preds, targets)\n",
    "print(loss)\n",
    "\n",
    "# previous loss\n",
    "# tensor(10736.7305, grad_fn=<DivBackward0>)"
   ]
  },
  {
   "cell_type": "markdown",
   "id": "b9b99755",
   "metadata": {
    "papermill": {
     "duration": 0.030737,
     "end_time": "2023-12-19T15:27:58.786812",
     "exception": false,
     "start_time": "2023-12-19T15:27:58.756075",
     "status": "completed"
    },
    "tags": []
   },
   "source": [
    "We have already achieved a significant reduction in the loss merely by adjusting the weights and biases slightly using gradient descent."
   ]
  },
  {
   "cell_type": "markdown",
   "id": "c0f3d17a",
   "metadata": {
    "papermill": {
     "duration": 0.031573,
     "end_time": "2023-12-19T15:27:58.852041",
     "exception": false,
     "start_time": "2023-12-19T15:27:58.820468",
     "status": "completed"
    },
    "tags": []
   },
   "source": [
    "## Train for multiple epochs\n",
    "\n",
    "To reduce the loss further, we can repeat the process of adjusting the weights and biases using the gradients multiple times. Each iteration is called an _epoch_. Let's train the model for 100 epochs."
   ]
  },
  {
   "cell_type": "code",
   "execution_count": 26,
   "id": "f0cc945f",
   "metadata": {
    "execution": {
     "iopub.execute_input": "2023-12-19T15:27:58.922008Z",
     "iopub.status.busy": "2023-12-19T15:27:58.920347Z",
     "iopub.status.idle": "2023-12-19T15:27:58.950094Z",
     "shell.execute_reply": "2023-12-19T15:27:58.948024Z"
    },
    "papermill": {
     "duration": 0.066974,
     "end_time": "2023-12-19T15:27:58.953110",
     "exception": false,
     "start_time": "2023-12-19T15:27:58.886136",
     "status": "completed"
    },
    "tags": []
   },
   "outputs": [],
   "source": [
    "# Train for 100 epochs\n",
    "# hyperparameters\n",
    "\n",
    "for i in range(100):\n",
    "    \n",
    "    preds = model(inputs)\n",
    "    loss = mse(preds, targets)\n",
    "    loss.backward()\n",
    "    with torch.no_grad():\n",
    "        w -= w.grad * 1e-6\n",
    "        b -= b.grad * 1e-6\n",
    "        w.grad.zero_()\n",
    "        b.grad.zero_()"
   ]
  },
  {
   "cell_type": "markdown",
   "id": "b951857a",
   "metadata": {
    "papermill": {
     "duration": 0.034061,
     "end_time": "2023-12-19T15:27:59.021662",
     "exception": false,
     "start_time": "2023-12-19T15:27:58.987601",
     "status": "completed"
    },
    "tags": []
   },
   "source": [
    "Once again, let's verify that the loss is now lower:"
   ]
  },
  {
   "cell_type": "code",
   "execution_count": 27,
   "id": "0aaafa1e",
   "metadata": {
    "execution": {
     "iopub.execute_input": "2023-12-19T15:27:59.088331Z",
     "iopub.status.busy": "2023-12-19T15:27:59.087835Z",
     "iopub.status.idle": "2023-12-19T15:27:59.095870Z",
     "shell.execute_reply": "2023-12-19T15:27:59.094521Z"
    },
    "papermill": {
     "duration": 0.044932,
     "end_time": "2023-12-19T15:27:59.098547",
     "exception": false,
     "start_time": "2023-12-19T15:27:59.053615",
     "status": "completed"
    },
    "tags": []
   },
   "outputs": [
    {
     "name": "stdout",
     "output_type": "stream",
     "text": [
      "tensor(1719.1287, grad_fn=<DivBackward0>)\n"
     ]
    }
   ],
   "source": [
    "# Calculate loss\n",
    "preds = model(inputs)\n",
    "loss = mse(preds, targets)\n",
    "print(loss)\n",
    "\n",
    "# previous loss\n",
    "# tensor(10736.7305, grad_fn=<DivBackward0>)"
   ]
  },
  {
   "cell_type": "markdown",
   "id": "e604ed42",
   "metadata": {
    "papermill": {
     "duration": 0.032675,
     "end_time": "2023-12-19T15:27:59.162583",
     "exception": false,
     "start_time": "2023-12-19T15:27:59.129908",
     "status": "completed"
    },
    "tags": []
   },
   "source": [
    "The loss is now much lower than its initial value. Let's look at the model's predictions and compare them with the targets."
   ]
  },
  {
   "cell_type": "code",
   "execution_count": 28,
   "id": "6df49cb2",
   "metadata": {
    "execution": {
     "iopub.execute_input": "2023-12-19T15:27:59.233228Z",
     "iopub.status.busy": "2023-12-19T15:27:59.232612Z",
     "iopub.status.idle": "2023-12-19T15:27:59.243355Z",
     "shell.execute_reply": "2023-12-19T15:27:59.241868Z"
    },
    "papermill": {
     "duration": 0.049781,
     "end_time": "2023-12-19T15:27:59.246008",
     "exception": false,
     "start_time": "2023-12-19T15:27:59.196227",
     "status": "completed"
    },
    "tags": []
   },
   "outputs": [
    {
     "data": {
      "text/plain": [
       "tensor([[ 27.0970,  89.9134],\n",
       "        [ 46.4117, 109.7089],\n",
       "        [ 65.4477, 112.3209],\n",
       "        [ -9.5843, 125.8071],\n",
       "        [ 70.7138,  80.7244]], grad_fn=<AddBackward0>)"
      ]
     },
     "execution_count": 28,
     "metadata": {},
     "output_type": "execute_result"
    }
   ],
   "source": [
    "# Predictions\n",
    "preds"
   ]
  },
  {
   "cell_type": "code",
   "execution_count": 29,
   "id": "084df1bf",
   "metadata": {
    "execution": {
     "iopub.execute_input": "2023-12-19T15:27:59.313111Z",
     "iopub.status.busy": "2023-12-19T15:27:59.312695Z",
     "iopub.status.idle": "2023-12-19T15:27:59.321422Z",
     "shell.execute_reply": "2023-12-19T15:27:59.320052Z"
    },
    "papermill": {
     "duration": 0.045071,
     "end_time": "2023-12-19T15:27:59.323876",
     "exception": false,
     "start_time": "2023-12-19T15:27:59.278805",
     "status": "completed"
    },
    "tags": []
   },
   "outputs": [
    {
     "data": {
      "text/plain": [
       "tensor([[ 56.,  70.],\n",
       "        [ 81., 101.],\n",
       "        [119., 133.],\n",
       "        [ 22.,  37.],\n",
       "        [103., 119.]])"
      ]
     },
     "execution_count": 29,
     "metadata": {},
     "output_type": "execute_result"
    }
   ],
   "source": [
    "# Targets\n",
    "targets"
   ]
  },
  {
   "cell_type": "markdown",
   "id": "46502e84",
   "metadata": {
    "papermill": {
     "duration": 0.032547,
     "end_time": "2023-12-19T15:27:59.389310",
     "exception": false,
     "start_time": "2023-12-19T15:27:59.356763",
     "status": "completed"
    },
    "tags": []
   },
   "source": [
    "The predictions are now quite close to the target variables. We can get even better results by training for a few more epochs. "
   ]
  },
  {
   "cell_type": "markdown",
   "id": "b688c79a",
   "metadata": {
    "papermill": {
     "duration": 0.030877,
     "end_time": "2023-12-19T15:27:59.451724",
     "exception": false,
     "start_time": "2023-12-19T15:27:59.420847",
     "status": "completed"
    },
    "tags": []
   },
   "source": [
    "## Save and upload your notebook\n",
    "\n",
    "Whether you're running this Jupyter notebook online or on your computer, it's essential to save your work from time to time. You can continue working on a saved notebook later or share it with friends and colleagues to let them execute your code. [Jovian](https://jovian.ai/platform-features) offers an easy way of saving and sharing your Jupyter notebooks online.\n",
    "\n",
    "First, you need to install the Jovian python library if it isn't already installed."
   ]
  },
  {
   "cell_type": "code",
   "execution_count": 30,
   "id": "7b4a5489",
   "metadata": {
    "execution": {
     "iopub.execute_input": "2023-12-19T15:27:59.519360Z",
     "iopub.status.busy": "2023-12-19T15:27:59.518944Z",
     "iopub.status.idle": "2023-12-19T15:28:19.346554Z",
     "shell.execute_reply": "2023-12-19T15:28:19.345065Z"
    },
    "papermill": {
     "duration": 19.865009,
     "end_time": "2023-12-19T15:28:19.349518",
     "exception": false,
     "start_time": "2023-12-19T15:27:59.484509",
     "status": "completed"
    },
    "tags": []
   },
   "outputs": [],
   "source": [
    "!pip install jovian --upgrade -q"
   ]
  },
  {
   "cell_type": "code",
   "execution_count": 31,
   "id": "acc888a6",
   "metadata": {
    "execution": {
     "iopub.execute_input": "2023-12-19T15:28:19.418175Z",
     "iopub.status.busy": "2023-12-19T15:28:19.417691Z",
     "iopub.status.idle": "2023-12-19T15:28:19.592120Z",
     "shell.execute_reply": "2023-12-19T15:28:19.590745Z"
    },
    "papermill": {
     "duration": 0.21237,
     "end_time": "2023-12-19T15:28:19.595650",
     "exception": false,
     "start_time": "2023-12-19T15:28:19.383280",
     "status": "completed"
    },
    "tags": []
   },
   "outputs": [
    {
     "data": {
      "application/javascript": [
       "if (window.IPython && IPython.notebook.kernel) IPython.notebook.kernel.execute('jovian.utils.jupyter.get_notebook_name_saved = lambda: \"' + IPython.notebook.notebook_name + '\"')"
      ],
      "text/plain": [
       "<IPython.core.display.Javascript object>"
      ]
     },
     "metadata": {},
     "output_type": "display_data"
    }
   ],
   "source": [
    "import jovian"
   ]
  },
  {
   "cell_type": "code",
   "execution_count": 32,
   "id": "58dbde65",
   "metadata": {
    "execution": {
     "iopub.execute_input": "2023-12-19T15:28:19.661550Z",
     "iopub.status.busy": "2023-12-19T15:28:19.660669Z",
     "iopub.status.idle": "2023-12-19T15:28:21.218134Z",
     "shell.execute_reply": "2023-12-19T15:28:21.216858Z"
    },
    "papermill": {
     "duration": 1.59405,
     "end_time": "2023-12-19T15:28:21.221174",
     "exception": false,
     "start_time": "2023-12-19T15:28:19.627124",
     "status": "completed"
    },
    "tags": []
   },
   "outputs": [
    {
     "data": {
      "application/javascript": [
       "window.require && require([\"base/js/namespace\"],function(Jupyter){Jupyter.notebook.save_checkpoint()})"
      ],
      "text/plain": [
       "<IPython.core.display.Javascript object>"
      ]
     },
     "metadata": {},
     "output_type": "display_data"
    },
    {
     "data": {
      "application/javascript": [
       "if (window.IPython && IPython.notebook.kernel) IPython.notebook.kernel.execute('jovian.utils.jupyter.get_notebook_name_saved = lambda: \"' + IPython.notebook.notebook_name + '\"')"
      ],
      "text/plain": [
       "<IPython.core.display.Javascript object>"
      ]
     },
     "metadata": {},
     "output_type": "display_data"
    },
    {
     "name": "stderr",
     "output_type": "stream",
     "text": [
      "\u001b[31m[jovian] Error: Failed to read the Jupyter notebook. Please re-run this cell to try again. If the issue persists, provide the \"filename\" argument to \"jovian.commit\" e.g. \"jovian.commit(filename='my-notebook.ipynb')\"\u001b[0m\n"
     ]
    }
   ],
   "source": [
    "jovian.commit(project='02-linear-regression')"
   ]
  },
  {
   "cell_type": "markdown",
   "id": "f7819ea3",
   "metadata": {
    "papermill": {
     "duration": 0.034081,
     "end_time": "2023-12-19T15:28:21.287689",
     "exception": false,
     "start_time": "2023-12-19T15:28:21.253608",
     "status": "completed"
    },
    "tags": []
   },
   "source": [
    "`jovian.commit` uploads the notebook to your Jovian account, captures the Python environment, and creates a shareable link for your notebook, as shown above. You can use this link to share your work and let anyone (including you) run your notebooks and reproduce your work.\n",
    "\n",
    "> The first time you run `jovian.commit`, you may be asked to provide an _API Key_ to securely upload the notebook to your Jovian account. You can get the API key from your [Jovian profile page](https://jovian.ai) after logging in / signing up.\n",
    "\n"
   ]
  },
  {
   "cell_type": "markdown",
   "id": "fa82999a",
   "metadata": {
    "papermill": {
     "duration": 0.033016,
     "end_time": "2023-12-19T15:28:21.353437",
     "exception": false,
     "start_time": "2023-12-19T15:28:21.320421",
     "status": "completed"
    },
    "tags": []
   },
   "source": [
    "## Linear regression using PyTorch built-ins\n",
    "\n",
    "We've implemented linear regression & gradient descent model using some basic tensor operations. However, since this is a common pattern in deep learning, PyTorch provides several built-in functions and classes to make it easy to create and train models with just a few lines of code.\n",
    "\n",
    "Let's begin by importing the `torch.nn` package from PyTorch, which contains utility classes for building neural networks."
   ]
  },
  {
   "cell_type": "code",
   "execution_count": 33,
   "id": "cd1369f7",
   "metadata": {
    "execution": {
     "iopub.execute_input": "2023-12-19T15:28:21.422231Z",
     "iopub.status.busy": "2023-12-19T15:28:21.421779Z",
     "iopub.status.idle": "2023-12-19T15:28:21.427421Z",
     "shell.execute_reply": "2023-12-19T15:28:21.426084Z"
    },
    "papermill": {
     "duration": 0.041999,
     "end_time": "2023-12-19T15:28:21.430185",
     "exception": false,
     "start_time": "2023-12-19T15:28:21.388186",
     "status": "completed"
    },
    "tags": []
   },
   "outputs": [],
   "source": [
    "import torch.nn as nn"
   ]
  },
  {
   "cell_type": "markdown",
   "id": "5998bd79",
   "metadata": {
    "papermill": {
     "duration": 0.031682,
     "end_time": "2023-12-19T15:28:21.493728",
     "exception": false,
     "start_time": "2023-12-19T15:28:21.462046",
     "status": "completed"
    },
    "tags": []
   },
   "source": [
    "As before, we represent the inputs and targets and matrices."
   ]
  },
  {
   "cell_type": "code",
   "execution_count": 34,
   "id": "420f1de4",
   "metadata": {
    "execution": {
     "iopub.execute_input": "2023-12-19T15:28:21.561292Z",
     "iopub.status.busy": "2023-12-19T15:28:21.560354Z",
     "iopub.status.idle": "2023-12-19T15:28:21.572026Z",
     "shell.execute_reply": "2023-12-19T15:28:21.571036Z"
    },
    "papermill": {
     "duration": 0.048599,
     "end_time": "2023-12-19T15:28:21.574809",
     "exception": false,
     "start_time": "2023-12-19T15:28:21.526210",
     "status": "completed"
    },
    "tags": []
   },
   "outputs": [],
   "source": [
    "# Input (temp, rainfall, humidity)\n",
    "inputs = np.array([[73, 67, 43], \n",
    "                   [91, 88, 64], \n",
    "                   [87, 134, 58], \n",
    "                   [102, 43, 37], \n",
    "                   [69, 96, 70], \n",
    "                   [74, 66, 43], \n",
    "                   [91, 87, 65], \n",
    "                   [88, 134, 59], \n",
    "                   [101, 44, 37], \n",
    "                   [68, 96, 71], \n",
    "                   [73, 66, 44], \n",
    "                   [92, 87, 64], \n",
    "                   [87, 135, 57], \n",
    "                   [103, 43, 36], \n",
    "                   [68, 97, 70]], \n",
    "                  dtype='float32')\n",
    "\n",
    "# Targets (apples, oranges)\n",
    "targets = np.array([[56, 70], \n",
    "                    [81, 101], \n",
    "                    [119, 133], \n",
    "                    [22, 37], \n",
    "                    [103, 119],\n",
    "                    [57, 69], \n",
    "                    [80, 102], \n",
    "                    [118, 132], \n",
    "                    [21, 38], \n",
    "                    [104, 118], \n",
    "                    [57, 69], \n",
    "                    [82, 100], \n",
    "                    [118, 134], \n",
    "                    [20, 38], \n",
    "                    [102, 120]], \n",
    "                   dtype='float32')\n",
    "\n",
    "inputs = torch.from_numpy(inputs)\n",
    "targets = torch.from_numpy(targets)"
   ]
  },
  {
   "cell_type": "code",
   "execution_count": 35,
   "id": "9f4b1406",
   "metadata": {
    "execution": {
     "iopub.execute_input": "2023-12-19T15:28:21.643283Z",
     "iopub.status.busy": "2023-12-19T15:28:21.642840Z",
     "iopub.status.idle": "2023-12-19T15:28:21.651142Z",
     "shell.execute_reply": "2023-12-19T15:28:21.649842Z"
    },
    "papermill": {
     "duration": 0.044985,
     "end_time": "2023-12-19T15:28:21.654149",
     "exception": false,
     "start_time": "2023-12-19T15:28:21.609164",
     "status": "completed"
    },
    "tags": []
   },
   "outputs": [
    {
     "data": {
      "text/plain": [
       "tensor([[ 73.,  67.,  43.],\n",
       "        [ 91.,  88.,  64.],\n",
       "        [ 87., 134.,  58.],\n",
       "        [102.,  43.,  37.],\n",
       "        [ 69.,  96.,  70.],\n",
       "        [ 74.,  66.,  43.],\n",
       "        [ 91.,  87.,  65.],\n",
       "        [ 88., 134.,  59.],\n",
       "        [101.,  44.,  37.],\n",
       "        [ 68.,  96.,  71.],\n",
       "        [ 73.,  66.,  44.],\n",
       "        [ 92.,  87.,  64.],\n",
       "        [ 87., 135.,  57.],\n",
       "        [103.,  43.,  36.],\n",
       "        [ 68.,  97.,  70.]])"
      ]
     },
     "execution_count": 35,
     "metadata": {},
     "output_type": "execute_result"
    }
   ],
   "source": [
    "inputs"
   ]
  },
  {
   "cell_type": "markdown",
   "id": "72ca302c",
   "metadata": {
    "papermill": {
     "duration": 0.03263,
     "end_time": "2023-12-19T15:28:21.719942",
     "exception": false,
     "start_time": "2023-12-19T15:28:21.687312",
     "status": "completed"
    },
    "tags": []
   },
   "source": [
    "We are using 15 training examples to illustrate how to work with large datasets in small batches. "
   ]
  },
  {
   "cell_type": "markdown",
   "id": "ec217fd6",
   "metadata": {
    "papermill": {
     "duration": 0.031814,
     "end_time": "2023-12-19T15:28:21.784420",
     "exception": false,
     "start_time": "2023-12-19T15:28:21.752606",
     "status": "completed"
    },
    "tags": []
   },
   "source": [
    "## Dataset and DataLoader\n",
    "\n",
    "We'll create a `TensorDataset`, which allows access to rows from `inputs` and `targets` as tuples, and provides standard APIs for working with many different types of datasets in PyTorch."
   ]
  },
  {
   "cell_type": "code",
   "execution_count": 36,
   "id": "b4f2c230",
   "metadata": {
    "execution": {
     "iopub.execute_input": "2023-12-19T15:28:21.851513Z",
     "iopub.status.busy": "2023-12-19T15:28:21.851063Z",
     "iopub.status.idle": "2023-12-19T15:28:21.856043Z",
     "shell.execute_reply": "2023-12-19T15:28:21.854818Z"
    },
    "papermill": {
     "duration": 0.041389,
     "end_time": "2023-12-19T15:28:21.858737",
     "exception": false,
     "start_time": "2023-12-19T15:28:21.817348",
     "status": "completed"
    },
    "tags": []
   },
   "outputs": [],
   "source": [
    "from torch.utils.data import TensorDataset"
   ]
  },
  {
   "cell_type": "code",
   "execution_count": 37,
   "id": "f61e6de9",
   "metadata": {
    "execution": {
     "iopub.execute_input": "2023-12-19T15:28:21.927396Z",
     "iopub.status.busy": "2023-12-19T15:28:21.926949Z",
     "iopub.status.idle": "2023-12-19T15:28:21.940917Z",
     "shell.execute_reply": "2023-12-19T15:28:21.939752Z"
    },
    "papermill": {
     "duration": 0.052026,
     "end_time": "2023-12-19T15:28:21.943361",
     "exception": false,
     "start_time": "2023-12-19T15:28:21.891335",
     "status": "completed"
    },
    "tags": []
   },
   "outputs": [
    {
     "data": {
      "text/plain": [
       "(tensor([[ 91.,  88.,  64.],\n",
       "         [102.,  43.,  37.],\n",
       "         [ 74.,  66.,  43.],\n",
       "         [ 88., 134.,  59.]]),\n",
       " tensor([[ 81., 101.],\n",
       "         [ 22.,  37.],\n",
       "         [ 57.,  69.],\n",
       "         [118., 132.]]))"
      ]
     },
     "execution_count": 37,
     "metadata": {},
     "output_type": "execute_result"
    }
   ],
   "source": [
    "# Define dataset\n",
    "train_ds = TensorDataset(inputs, targets)\n",
    "# train_ds[0:3]\n",
    "train_ds[[1, 3, 5, 7]]"
   ]
  },
  {
   "cell_type": "markdown",
   "id": "e8291fef",
   "metadata": {
    "papermill": {
     "duration": 0.035146,
     "end_time": "2023-12-19T15:28:22.011581",
     "exception": false,
     "start_time": "2023-12-19T15:28:21.976435",
     "status": "completed"
    },
    "tags": []
   },
   "source": [
    "The `TensorDataset` allows us to access a small section of the training data using the array indexing notation (`[0:3]` in the above code). It returns a tuple with two elements. The first element contains the input variables for the selected rows, and the second contains the targets."
   ]
  },
  {
   "cell_type": "markdown",
   "id": "e27c8c46",
   "metadata": {
    "papermill": {
     "duration": 0.03162,
     "end_time": "2023-12-19T15:28:22.075960",
     "exception": false,
     "start_time": "2023-12-19T15:28:22.044340",
     "status": "completed"
    },
    "tags": []
   },
   "source": [
    "We'll also create a `DataLoader`, which can split the data into batches of a predefined size while training. It also provides other utilities like shuffling and random sampling of the data."
   ]
  },
  {
   "cell_type": "code",
   "execution_count": 38,
   "id": "b379f658",
   "metadata": {
    "execution": {
     "iopub.execute_input": "2023-12-19T15:28:22.143323Z",
     "iopub.status.busy": "2023-12-19T15:28:22.142884Z",
     "iopub.status.idle": "2023-12-19T15:28:22.147860Z",
     "shell.execute_reply": "2023-12-19T15:28:22.146682Z"
    },
    "papermill": {
     "duration": 0.04087,
     "end_time": "2023-12-19T15:28:22.150126",
     "exception": false,
     "start_time": "2023-12-19T15:28:22.109256",
     "status": "completed"
    },
    "tags": []
   },
   "outputs": [],
   "source": [
    "from torch.utils.data import DataLoader"
   ]
  },
  {
   "cell_type": "code",
   "execution_count": 39,
   "id": "9a9eb988",
   "metadata": {
    "execution": {
     "iopub.execute_input": "2023-12-19T15:28:22.219134Z",
     "iopub.status.busy": "2023-12-19T15:28:22.218444Z",
     "iopub.status.idle": "2023-12-19T15:28:22.225110Z",
     "shell.execute_reply": "2023-12-19T15:28:22.223736Z"
    },
    "papermill": {
     "duration": 0.044522,
     "end_time": "2023-12-19T15:28:22.227953",
     "exception": false,
     "start_time": "2023-12-19T15:28:22.183431",
     "status": "completed"
    },
    "tags": []
   },
   "outputs": [],
   "source": [
    "# Define data loader\n",
    "batch_size = 5\n",
    "# shuffle the datas randomly and choose 5 data for training\n",
    "train_dl = DataLoader(train_ds, batch_size, shuffle=True)"
   ]
  },
  {
   "cell_type": "markdown",
   "id": "0ee88aaa",
   "metadata": {
    "papermill": {
     "duration": 0.033845,
     "end_time": "2023-12-19T15:28:22.294095",
     "exception": false,
     "start_time": "2023-12-19T15:28:22.260250",
     "status": "completed"
    },
    "tags": []
   },
   "source": [
    "We can use the data loader in a `for` loop. Let's look at an example."
   ]
  },
  {
   "cell_type": "code",
   "execution_count": 40,
   "id": "a7f10203",
   "metadata": {
    "execution": {
     "iopub.execute_input": "2023-12-19T15:28:22.361720Z",
     "iopub.status.busy": "2023-12-19T15:28:22.361325Z",
     "iopub.status.idle": "2023-12-19T15:28:22.375517Z",
     "shell.execute_reply": "2023-12-19T15:28:22.374361Z"
    },
    "papermill": {
     "duration": 0.051523,
     "end_time": "2023-12-19T15:28:22.378175",
     "exception": false,
     "start_time": "2023-12-19T15:28:22.326652",
     "status": "completed"
    },
    "tags": []
   },
   "outputs": [
    {
     "name": "stdout",
     "output_type": "stream",
     "text": [
      "tensor([[ 91.,  88.,  64.],\n",
      "        [ 68.,  96.,  71.],\n",
      "        [ 73.,  66.,  44.],\n",
      "        [ 74.,  66.,  43.],\n",
      "        [ 87., 135.,  57.]])\n",
      "tensor([[ 81., 101.],\n",
      "        [104., 118.],\n",
      "        [ 57.,  69.],\n",
      "        [ 57.,  69.],\n",
      "        [118., 134.]])\n",
      "tensor([[101.,  44.,  37.],\n",
      "        [103.,  43.,  36.],\n",
      "        [102.,  43.,  37.],\n",
      "        [ 73.,  67.,  43.],\n",
      "        [ 87., 134.,  58.]])\n",
      "tensor([[ 21.,  38.],\n",
      "        [ 20.,  38.],\n",
      "        [ 22.,  37.],\n",
      "        [ 56.,  70.],\n",
      "        [119., 133.]])\n",
      "tensor([[ 69.,  96.,  70.],\n",
      "        [ 92.,  87.,  64.],\n",
      "        [ 88., 134.,  59.],\n",
      "        [ 68.,  97.,  70.],\n",
      "        [ 91.,  87.,  65.]])\n",
      "tensor([[103., 119.],\n",
      "        [ 82., 100.],\n",
      "        [118., 132.],\n",
      "        [102., 120.],\n",
      "        [ 80., 102.]])\n"
     ]
    }
   ],
   "source": [
    "for xb, yb in train_dl:\n",
    "    print(xb)\n",
    "    print(yb)\n",
    "#     break"
   ]
  },
  {
   "cell_type": "markdown",
   "id": "7c76467c",
   "metadata": {
    "papermill": {
     "duration": 0.033959,
     "end_time": "2023-12-19T15:28:22.446702",
     "exception": false,
     "start_time": "2023-12-19T15:28:22.412743",
     "status": "completed"
    },
    "tags": []
   },
   "source": [
    "In each iteration, the data loader returns one batch of data with the given batch size. If `shuffle` is set to `True`, it shuffles the training data before creating batches. Shuffling helps randomize the input to the optimization algorithm, leading to a faster reduction in the loss."
   ]
  },
  {
   "cell_type": "markdown",
   "id": "bd5a8d0c",
   "metadata": {
    "papermill": {
     "duration": 0.03361,
     "end_time": "2023-12-19T15:28:22.514613",
     "exception": false,
     "start_time": "2023-12-19T15:28:22.481003",
     "status": "completed"
    },
    "tags": []
   },
   "source": [
    "## nn.Linear\n",
    "\n",
    "Instead of initializing the weights & biases manually, we can define the model using the `nn.Linear` class from PyTorch, which does it automatically."
   ]
  },
  {
   "cell_type": "code",
   "execution_count": 41,
   "id": "aa9d4fd0",
   "metadata": {
    "execution": {
     "iopub.execute_input": "2023-12-19T15:28:22.582103Z",
     "iopub.status.busy": "2023-12-19T15:28:22.581322Z",
     "iopub.status.idle": "2023-12-19T15:28:22.591370Z",
     "shell.execute_reply": "2023-12-19T15:28:22.589855Z"
    },
    "papermill": {
     "duration": 0.047984,
     "end_time": "2023-12-19T15:28:22.595248",
     "exception": false,
     "start_time": "2023-12-19T15:28:22.547264",
     "status": "completed"
    },
    "tags": []
   },
   "outputs": [
    {
     "name": "stdout",
     "output_type": "stream",
     "text": [
      "Parameter containing:\n",
      "tensor([[-0.1437,  0.1040, -0.5348],\n",
      "        [ 0.3096, -0.5566, -0.4262]], requires_grad=True)\n",
      "Parameter containing:\n",
      "tensor([-0.1215, -0.3264], requires_grad=True)\n"
     ]
    }
   ],
   "source": [
    "# Define model\n",
    "# how many inputs temp, humidity and rainfall (3) and 2 o/p \n",
    "model = nn.Linear(3, 2)\n",
    "print(model.weight)\n",
    "print(model.bias)"
   ]
  },
  {
   "cell_type": "markdown",
   "id": "13d96100",
   "metadata": {
    "papermill": {
     "duration": 0.031971,
     "end_time": "2023-12-19T15:28:22.660056",
     "exception": false,
     "start_time": "2023-12-19T15:28:22.628085",
     "status": "completed"
    },
    "tags": []
   },
   "source": [
    "PyTorch models also have a helpful `.parameters` method, which returns a list containing all the weights and bias matrices present in the model. For our linear regression model, we have one weight matrix and one bias matrix."
   ]
  },
  {
   "cell_type": "code",
   "execution_count": 42,
   "id": "ab8d11b9",
   "metadata": {
    "execution": {
     "iopub.execute_input": "2023-12-19T15:28:22.729660Z",
     "iopub.status.busy": "2023-12-19T15:28:22.729121Z",
     "iopub.status.idle": "2023-12-19T15:28:22.738399Z",
     "shell.execute_reply": "2023-12-19T15:28:22.737245Z"
    },
    "papermill": {
     "duration": 0.046887,
     "end_time": "2023-12-19T15:28:22.740770",
     "exception": false,
     "start_time": "2023-12-19T15:28:22.693883",
     "status": "completed"
    },
    "tags": []
   },
   "outputs": [
    {
     "data": {
      "text/plain": [
       "[Parameter containing:\n",
       " tensor([[-0.1437,  0.1040, -0.5348],\n",
       "         [ 0.3096, -0.5566, -0.4262]], requires_grad=True),\n",
       " Parameter containing:\n",
       " tensor([-0.1215, -0.3264], requires_grad=True)]"
      ]
     },
     "execution_count": 42,
     "metadata": {},
     "output_type": "execute_result"
    }
   ],
   "source": [
    "# Parameters\n",
    "list(model.parameters())"
   ]
  },
  {
   "cell_type": "markdown",
   "id": "05e3de09",
   "metadata": {
    "papermill": {
     "duration": 0.034919,
     "end_time": "2023-12-19T15:28:22.809782",
     "exception": false,
     "start_time": "2023-12-19T15:28:22.774863",
     "status": "completed"
    },
    "tags": []
   },
   "source": [
    "We can use the model to generate predictions in the same way as before."
   ]
  },
  {
   "cell_type": "code",
   "execution_count": 43,
   "id": "436fd08f",
   "metadata": {
    "execution": {
     "iopub.execute_input": "2023-12-19T15:28:22.880243Z",
     "iopub.status.busy": "2023-12-19T15:28:22.878738Z",
     "iopub.status.idle": "2023-12-19T15:28:22.889564Z",
     "shell.execute_reply": "2023-12-19T15:28:22.888387Z"
    },
    "papermill": {
     "duration": 0.048183,
     "end_time": "2023-12-19T15:28:22.892014",
     "exception": false,
     "start_time": "2023-12-19T15:28:22.843831",
     "status": "completed"
    },
    "tags": []
   },
   "outputs": [
    {
     "data": {
      "text/plain": [
       "tensor([[-26.6368, -33.3392],\n",
       "        [-38.2691, -48.4035],\n",
       "        [-29.7018, -72.6886],\n",
       "        [-30.0908,  -8.4442],\n",
       "        [-37.4849, -62.2254],\n",
       "        [-26.8845, -32.4729],\n",
       "        [-38.9079, -48.2730],\n",
       "        [-30.3802, -72.8051],\n",
       "        [-29.8431,  -9.3104],\n",
       "        [-37.8760, -62.9612],\n",
       "        [-27.2756, -33.2088],\n",
       "        [-38.5168, -47.5372],\n",
       "        [-29.0630, -72.8190],\n",
       "        [-29.6997,  -7.7084],\n",
       "        [-37.2372, -63.0916]], grad_fn=<AddmmBackward0>)"
      ]
     },
     "execution_count": 43,
     "metadata": {},
     "output_type": "execute_result"
    }
   ],
   "source": [
    "# Generate predictions\n",
    "preds = model(inputs)\n",
    "preds"
   ]
  },
  {
   "cell_type": "markdown",
   "id": "8dd3d497",
   "metadata": {
    "papermill": {
     "duration": 0.03338,
     "end_time": "2023-12-19T15:28:22.958143",
     "exception": false,
     "start_time": "2023-12-19T15:28:22.924763",
     "status": "completed"
    },
    "tags": []
   },
   "source": [
    "## Loss Function\n",
    "\n",
    "Instead of defining a loss function manually, we can use the built-in loss function `mse_loss`."
   ]
  },
  {
   "cell_type": "code",
   "execution_count": 44,
   "id": "1a5b8491",
   "metadata": {
    "execution": {
     "iopub.execute_input": "2023-12-19T15:28:23.027878Z",
     "iopub.status.busy": "2023-12-19T15:28:23.026576Z",
     "iopub.status.idle": "2023-12-19T15:28:23.032757Z",
     "shell.execute_reply": "2023-12-19T15:28:23.031547Z"
    },
    "papermill": {
     "duration": 0.044773,
     "end_time": "2023-12-19T15:28:23.035553",
     "exception": false,
     "start_time": "2023-12-19T15:28:22.990780",
     "status": "completed"
    },
    "tags": []
   },
   "outputs": [],
   "source": [
    "# Import nn.functional\n",
    "import torch.nn.functional as F"
   ]
  },
  {
   "cell_type": "code",
   "execution_count": 45,
   "id": "62272b86",
   "metadata": {
    "execution": {
     "iopub.execute_input": "2023-12-19T15:28:23.104185Z",
     "iopub.status.busy": "2023-12-19T15:28:23.103765Z",
     "iopub.status.idle": "2023-12-19T15:28:23.186547Z",
     "shell.execute_reply": "2023-12-19T15:28:23.185180Z"
    },
    "papermill": {
     "duration": 0.119942,
     "end_time": "2023-12-19T15:28:23.189386",
     "exception": false,
     "start_time": "2023-12-19T15:28:23.069444",
     "status": "completed"
    },
    "tags": []
   },
   "outputs": [],
   "source": [
    "?nn.Linear"
   ]
  },
  {
   "cell_type": "markdown",
   "id": "ca52ddc3",
   "metadata": {
    "papermill": {
     "duration": 0.034491,
     "end_time": "2023-12-19T15:28:23.257727",
     "exception": false,
     "start_time": "2023-12-19T15:28:23.223236",
     "status": "completed"
    },
    "tags": []
   },
   "source": [
    "The `nn.functional` package contains many useful loss functions and several other utilities. "
   ]
  },
  {
   "cell_type": "code",
   "execution_count": 46,
   "id": "5b71afa6",
   "metadata": {
    "execution": {
     "iopub.execute_input": "2023-12-19T15:28:23.330034Z",
     "iopub.status.busy": "2023-12-19T15:28:23.329534Z",
     "iopub.status.idle": "2023-12-19T15:28:23.334686Z",
     "shell.execute_reply": "2023-12-19T15:28:23.333797Z"
    },
    "papermill": {
     "duration": 0.04266,
     "end_time": "2023-12-19T15:28:23.337108",
     "exception": false,
     "start_time": "2023-12-19T15:28:23.294448",
     "status": "completed"
    },
    "tags": []
   },
   "outputs": [],
   "source": [
    "# Define loss function\n",
    "loss_fn = F.mse_loss"
   ]
  },
  {
   "cell_type": "markdown",
   "id": "1a3c2394",
   "metadata": {
    "papermill": {
     "duration": 0.033028,
     "end_time": "2023-12-19T15:28:23.404441",
     "exception": false,
     "start_time": "2023-12-19T15:28:23.371413",
     "status": "completed"
    },
    "tags": []
   },
   "source": [
    "Let's compute the loss for the current predictions of our model."
   ]
  },
  {
   "cell_type": "code",
   "execution_count": 47,
   "id": "f9b431dc",
   "metadata": {
    "execution": {
     "iopub.execute_input": "2023-12-19T15:28:23.478199Z",
     "iopub.status.busy": "2023-12-19T15:28:23.477247Z",
     "iopub.status.idle": "2023-12-19T15:28:23.486846Z",
     "shell.execute_reply": "2023-12-19T15:28:23.485534Z"
    },
    "papermill": {
     "duration": 0.048313,
     "end_time": "2023-12-19T15:28:23.490245",
     "exception": false,
     "start_time": "2023-12-19T15:28:23.441932",
     "status": "completed"
    },
    "tags": []
   },
   "outputs": [
    {
     "name": "stdout",
     "output_type": "stream",
     "text": [
      "tensor(17575.2676, grad_fn=<MseLossBackward0>)\n"
     ]
    }
   ],
   "source": [
    "loss = loss_fn(model(inputs), targets)\n",
    "# loss = loss_fn(preds, targets)\n",
    "print(loss)"
   ]
  },
  {
   "cell_type": "markdown",
   "id": "ae145628",
   "metadata": {
    "papermill": {
     "duration": 0.035449,
     "end_time": "2023-12-19T15:28:23.561019",
     "exception": false,
     "start_time": "2023-12-19T15:28:23.525570",
     "status": "completed"
    },
    "tags": []
   },
   "source": [
    "## Optimizer\n",
    "\n",
    "Instead of manually manipulating the model's weights & biases using gradients, we can use the optimizer `optim.SGD`. SGD is short for \"stochastic gradient descent\". The term _stochastic_ indicates that samples are selected in random batches instead of as a single group."
   ]
  },
  {
   "cell_type": "code",
   "execution_count": 48,
   "id": "6f42a48a",
   "metadata": {
    "execution": {
     "iopub.execute_input": "2023-12-19T15:28:23.631693Z",
     "iopub.status.busy": "2023-12-19T15:28:23.630910Z",
     "iopub.status.idle": "2023-12-19T15:28:23.635963Z",
     "shell.execute_reply": "2023-12-19T15:28:23.634921Z"
    },
    "papermill": {
     "duration": 0.042895,
     "end_time": "2023-12-19T15:28:23.638407",
     "exception": false,
     "start_time": "2023-12-19T15:28:23.595512",
     "status": "completed"
    },
    "tags": []
   },
   "outputs": [],
   "source": [
    "# Define optimizer\n",
    "# lr is a learning rate\n",
    "opt = torch.optim.SGD(model.parameters(), lr=1e-5)"
   ]
  },
  {
   "cell_type": "markdown",
   "id": "40f9950c",
   "metadata": {
    "papermill": {
     "duration": 0.034656,
     "end_time": "2023-12-19T15:28:23.707184",
     "exception": false,
     "start_time": "2023-12-19T15:28:23.672528",
     "status": "completed"
    },
    "tags": []
   },
   "source": [
    "Note that `model.parameters()` is passed as an argument to `optim.SGD` so that the optimizer knows which matrices should be modified during the update step. Also, we can specify a learning rate that controls the amount by which the parameters are modified."
   ]
  },
  {
   "cell_type": "markdown",
   "id": "e5981460",
   "metadata": {
    "papermill": {
     "duration": 0.032369,
     "end_time": "2023-12-19T15:28:23.774587",
     "exception": false,
     "start_time": "2023-12-19T15:28:23.742218",
     "status": "completed"
    },
    "tags": []
   },
   "source": [
    "## Train the model\n",
    "\n",
    "We are now ready to train the model. We'll follow the same process to implement gradient descent:\n",
    "\n",
    "1. Generate predictions\n",
    "\n",
    "2. Calculate the loss\n",
    "\n",
    "3. Compute gradients w.r.t the weights and biases\n",
    "\n",
    "4. Adjust the weights by subtracting a small quantity proportional to the gradient\n",
    "\n",
    "5. Reset the gradients to zero\n",
    "\n",
    "The only change is that we'll work batches of data instead of processing the entire training data in every iteration. Let's define a utility function `fit` that trains the model for a given number of epochs."
   ]
  },
  {
   "cell_type": "code",
   "execution_count": 49,
   "id": "78268c51",
   "metadata": {
    "execution": {
     "iopub.execute_input": "2023-12-19T15:28:23.844301Z",
     "iopub.status.busy": "2023-12-19T15:28:23.843807Z",
     "iopub.status.idle": "2023-12-19T15:28:23.851768Z",
     "shell.execute_reply": "2023-12-19T15:28:23.850329Z"
    },
    "papermill": {
     "duration": 0.045944,
     "end_time": "2023-12-19T15:28:23.854240",
     "exception": false,
     "start_time": "2023-12-19T15:28:23.808296",
     "status": "completed"
    },
    "tags": []
   },
   "outputs": [],
   "source": [
    "# Utility function to train the model\n",
    "def fit(num_epochs, model, loss_fn, opt, train_dl):\n",
    "    \n",
    "    # Repeat for given number of epochs\n",
    "    for epoch in range(num_epochs):\n",
    "        \n",
    "        # Train with batches of data\n",
    "        for xb,yb in train_dl:\n",
    "            \n",
    "            # 1. Generate predictions\n",
    "            pred = model(xb)\n",
    "            \n",
    "            # 2. Calculate loss\n",
    "            loss = loss_fn(pred, yb)\n",
    "            \n",
    "            # 3. Compute gradients\n",
    "            loss.backward()\n",
    "            \n",
    "            # 4. Update parameters using gradients\n",
    "            opt.step()\n",
    "            \n",
    "            # 5. Reset the gradients to zero\n",
    "            opt.zero_grad()\n",
    "        \n",
    "        # Print the progress\n",
    "        if (epoch+1) % 10 == 0:\n",
    "            print('Epoch [{}/{}], Loss: {:.4f}'.format(epoch+1, num_epochs, loss.item()))"
   ]
  },
  {
   "cell_type": "markdown",
   "id": "e156fe79",
   "metadata": {
    "papermill": {
     "duration": 0.032579,
     "end_time": "2023-12-19T15:28:23.921487",
     "exception": false,
     "start_time": "2023-12-19T15:28:23.888908",
     "status": "completed"
    },
    "tags": []
   },
   "source": [
    "Some things to note above:\n",
    "\n",
    "* We use the data loader defined earlier to get batches of data for every iteration.\n",
    "\n",
    "* Instead of updating parameters (weights and biases) manually, we use `opt.step` to perform the update and `opt.zero_grad` to reset the gradients to zero.\n",
    "\n",
    "* We've also added a log statement that prints the loss from the last batch of data for every 10th epoch to track training progress. `loss.item` returns the actual value stored in the loss tensor.\n",
    "\n",
    "Let's train the model for 100 epochs."
   ]
  },
  {
   "cell_type": "code",
   "execution_count": 50,
   "id": "6dfec1e8",
   "metadata": {
    "execution": {
     "iopub.execute_input": "2023-12-19T15:28:23.988910Z",
     "iopub.status.busy": "2023-12-19T15:28:23.988501Z",
     "iopub.status.idle": "2023-12-19T15:28:24.138860Z",
     "shell.execute_reply": "2023-12-19T15:28:24.137096Z"
    },
    "papermill": {
     "duration": 0.187818,
     "end_time": "2023-12-19T15:28:24.142095",
     "exception": false,
     "start_time": "2023-12-19T15:28:23.954277",
     "status": "completed"
    },
    "tags": []
   },
   "outputs": [
    {
     "name": "stdout",
     "output_type": "stream",
     "text": [
      "Epoch [10/100], Loss: 242.0732\n",
      "Epoch [20/100], Loss: 677.0858\n",
      "Epoch [30/100], Loss: 341.7625\n",
      "Epoch [40/100], Loss: 22.2242\n",
      "Epoch [50/100], Loss: 121.3364\n",
      "Epoch [60/100], Loss: 138.8481\n",
      "Epoch [70/100], Loss: 19.1962\n",
      "Epoch [80/100], Loss: 119.8789\n",
      "Epoch [90/100], Loss: 47.1548\n",
      "Epoch [100/100], Loss: 68.2144\n"
     ]
    }
   ],
   "source": [
    "fit(100, model, loss_fn, opt, train_dl)"
   ]
  },
  {
   "cell_type": "markdown",
   "id": "f4344fb7",
   "metadata": {
    "papermill": {
     "duration": 0.034175,
     "end_time": "2023-12-19T15:28:24.211409",
     "exception": false,
     "start_time": "2023-12-19T15:28:24.177234",
     "status": "completed"
    },
    "tags": []
   },
   "source": [
    "Let's generate predictions using our model and verify that they're close to our targets."
   ]
  },
  {
   "cell_type": "code",
   "execution_count": 51,
   "id": "161130ec",
   "metadata": {
    "execution": {
     "iopub.execute_input": "2023-12-19T15:28:24.279278Z",
     "iopub.status.busy": "2023-12-19T15:28:24.278833Z",
     "iopub.status.idle": "2023-12-19T15:28:24.287255Z",
     "shell.execute_reply": "2023-12-19T15:28:24.285938Z"
    },
    "papermill": {
     "duration": 0.045397,
     "end_time": "2023-12-19T15:28:24.289783",
     "exception": false,
     "start_time": "2023-12-19T15:28:24.244386",
     "status": "completed"
    },
    "tags": []
   },
   "outputs": [
    {
     "data": {
      "text/plain": [
       "tensor([[ 58.3493,  72.3592],\n",
       "        [ 78.1563,  97.5103],\n",
       "        [124.9806, 136.1784],\n",
       "        [ 28.4007,  49.3203],\n",
       "        [ 90.6530, 106.4445],\n",
       "        [ 57.1589,  71.4780],\n",
       "        [ 77.2250,  96.9439],\n",
       "        [124.8853, 136.4944],\n",
       "        [ 29.5911,  50.2015],\n",
       "        [ 90.9122, 106.7593],\n",
       "        [ 57.4181,  71.7928],\n",
       "        [ 76.9658,  96.6291],\n",
       "        [125.9119, 136.7448],\n",
       "        [ 28.1415,  49.0055],\n",
       "        [ 91.8435, 107.3258]], grad_fn=<AddmmBackward0>)"
      ]
     },
     "execution_count": 51,
     "metadata": {},
     "output_type": "execute_result"
    }
   ],
   "source": [
    "# Generate predictions\n",
    "preds = model(inputs)\n",
    "preds"
   ]
  },
  {
   "cell_type": "code",
   "execution_count": 52,
   "id": "1df41e7f",
   "metadata": {
    "execution": {
     "iopub.execute_input": "2023-12-19T15:28:24.358776Z",
     "iopub.status.busy": "2023-12-19T15:28:24.358327Z",
     "iopub.status.idle": "2023-12-19T15:28:24.366618Z",
     "shell.execute_reply": "2023-12-19T15:28:24.365373Z"
    },
    "papermill": {
     "duration": 0.045887,
     "end_time": "2023-12-19T15:28:24.369000",
     "exception": false,
     "start_time": "2023-12-19T15:28:24.323113",
     "status": "completed"
    },
    "tags": []
   },
   "outputs": [
    {
     "data": {
      "text/plain": [
       "tensor([[ 56.,  70.],\n",
       "        [ 81., 101.],\n",
       "        [119., 133.],\n",
       "        [ 22.,  37.],\n",
       "        [103., 119.],\n",
       "        [ 57.,  69.],\n",
       "        [ 80., 102.],\n",
       "        [118., 132.],\n",
       "        [ 21.,  38.],\n",
       "        [104., 118.],\n",
       "        [ 57.,  69.],\n",
       "        [ 82., 100.],\n",
       "        [118., 134.],\n",
       "        [ 20.,  38.],\n",
       "        [102., 120.]])"
      ]
     },
     "execution_count": 52,
     "metadata": {},
     "output_type": "execute_result"
    }
   ],
   "source": [
    "# Compare with targets\n",
    "targets"
   ]
  },
  {
   "cell_type": "markdown",
   "id": "f3cd95d3",
   "metadata": {
    "papermill": {
     "duration": 0.033706,
     "end_time": "2023-12-19T15:28:24.437157",
     "exception": false,
     "start_time": "2023-12-19T15:28:24.403451",
     "status": "completed"
    },
    "tags": []
   },
   "source": [
    "Indeed, the predictions are quite close to our targets. We have a trained a reasonably good model to predict crop yields for apples and oranges by looking at the average temperature, rainfall, and humidity in a region. We can use it to make predictions of crop yields for new regions by passing a batch containing a single row of input."
   ]
  },
  {
   "cell_type": "code",
   "execution_count": 53,
   "id": "2d63ea3d",
   "metadata": {
    "execution": {
     "iopub.execute_input": "2023-12-19T15:28:24.507255Z",
     "iopub.status.busy": "2023-12-19T15:28:24.506560Z",
     "iopub.status.idle": "2023-12-19T15:28:24.518450Z",
     "shell.execute_reply": "2023-12-19T15:28:24.517081Z"
    },
    "papermill": {
     "duration": 0.050869,
     "end_time": "2023-12-19T15:28:24.521905",
     "exception": false,
     "start_time": "2023-12-19T15:28:24.471036",
     "status": "completed"
    },
    "tags": []
   },
   "outputs": [
    {
     "data": {
      "text/plain": [
       "tensor([[54.0240, 69.1486]], grad_fn=<AddmmBackward0>)"
      ]
     },
     "execution_count": 53,
     "metadata": {},
     "output_type": "execute_result"
    }
   ],
   "source": [
    "model(torch.tensor([[75, 63, 44.]]))"
   ]
  },
  {
   "cell_type": "markdown",
   "id": "e147ecf8",
   "metadata": {
    "papermill": {
     "duration": 0.033562,
     "end_time": "2023-12-19T15:28:24.590342",
     "exception": false,
     "start_time": "2023-12-19T15:28:24.556780",
     "status": "completed"
    },
    "tags": []
   },
   "source": [
    "The predicted yield of apples is 53.3869 tons per hectare, and that of oranges is 67.3752 tons per hectare."
   ]
  },
  {
   "cell_type": "markdown",
   "id": "acac1f5e",
   "metadata": {
    "papermill": {
     "duration": 0.035585,
     "end_time": "2023-12-19T15:28:24.662849",
     "exception": false,
     "start_time": "2023-12-19T15:28:24.627264",
     "status": "completed"
    },
    "tags": []
   },
   "source": [
    "## Machine Learning vs. Classical Programming\n",
    "\n",
    "The approach we've taken in this tutorial is very different from programming as you might know it. Usually, we write programs that take some inputs, perform some operations, and return a result. \n",
    "\n",
    "However, in this notebook, we've defined a \"model\" that assumes a specific relationship between the inputs and the outputs, expressed using some unknown parameters (weights & biases). We then show the model some know inputs and outputs and _train_ the model to come up with good values for the unknown parameters. Once trained, the model can be used to compute the outputs for new inputs.\n",
    "\n",
    "This paradigm of programming is known as _machine learning_, where we use data to figure out the relationship between inputs and outputs. _Deep learning_ is a branch of machine learning that uses matrix operations, non-linear activation functions and gradient descent to build and train models. Andrej Karpathy, the director of AI at Tesla Motors, has written a great blog post on this topics, titled [Software 2.0](https://medium.com/@karpathy/software-2-0-a64152b37c35).\n",
    "\n",
    "This picture from book [Deep Learning with Python](https://www.manning.com/books/deep-learning-with-python) by Francois Chollet captures the difference between classical programming and machine learning:\n",
    "\n",
    "![](https://i.imgur.com/oJEQe7k.png)\n",
    "\n",
    "Keep this picture in mind as you work through the next few tutorials. \n",
    "\n"
   ]
  },
  {
   "cell_type": "markdown",
   "id": "47190184",
   "metadata": {
    "papermill": {
     "duration": 0.033961,
     "end_time": "2023-12-19T15:28:24.730610",
     "exception": false,
     "start_time": "2023-12-19T15:28:24.696649",
     "status": "completed"
    },
    "tags": []
   },
   "source": [
    "## Commit and update the notebook\n",
    "\n",
    "As a final step, we can record a new version of the notebook using the `jovian` library."
   ]
  },
  {
   "cell_type": "code",
   "execution_count": 54,
   "id": "b15dd8cb",
   "metadata": {
    "execution": {
     "iopub.execute_input": "2023-12-19T15:28:24.801714Z",
     "iopub.status.busy": "2023-12-19T15:28:24.800740Z",
     "iopub.status.idle": "2023-12-19T15:28:24.806339Z",
     "shell.execute_reply": "2023-12-19T15:28:24.805065Z"
    },
    "papermill": {
     "duration": 0.044054,
     "end_time": "2023-12-19T15:28:24.808833",
     "exception": false,
     "start_time": "2023-12-19T15:28:24.764779",
     "status": "completed"
    },
    "tags": []
   },
   "outputs": [],
   "source": [
    "import jovian"
   ]
  },
  {
   "cell_type": "code",
   "execution_count": 55,
   "id": "13eefde3",
   "metadata": {
    "execution": {
     "iopub.execute_input": "2023-12-19T15:28:24.878100Z",
     "iopub.status.busy": "2023-12-19T15:28:24.877662Z",
     "iopub.status.idle": "2023-12-19T15:28:25.889776Z",
     "shell.execute_reply": "2023-12-19T15:28:25.888253Z"
    },
    "papermill": {
     "duration": 1.05042,
     "end_time": "2023-12-19T15:28:25.893008",
     "exception": false,
     "start_time": "2023-12-19T15:28:24.842588",
     "status": "completed"
    },
    "tags": []
   },
   "outputs": [
    {
     "data": {
      "application/javascript": [
       "window.require && require([\"base/js/namespace\"],function(Jupyter){Jupyter.notebook.save_checkpoint()})"
      ],
      "text/plain": [
       "<IPython.core.display.Javascript object>"
      ]
     },
     "metadata": {},
     "output_type": "display_data"
    },
    {
     "data": {
      "application/javascript": [
       "if (window.IPython && IPython.notebook.kernel) IPython.notebook.kernel.execute('jovian.utils.jupyter.get_notebook_name_saved = lambda: \"' + IPython.notebook.notebook_name + '\"')"
      ],
      "text/plain": [
       "<IPython.core.display.Javascript object>"
      ]
     },
     "metadata": {},
     "output_type": "display_data"
    },
    {
     "name": "stderr",
     "output_type": "stream",
     "text": [
      "\u001b[31m[jovian] Error: Failed to read the Jupyter notebook. Please re-run this cell to try again. If the issue persists, provide the \"filename\" argument to \"jovian.commit\" e.g. \"jovian.commit(filename='my-notebook.ipynb')\"\u001b[0m\n"
     ]
    }
   ],
   "source": [
    "jovian.commit(project='02-linear-regression')"
   ]
  },
  {
   "cell_type": "markdown",
   "id": "897fd5e1",
   "metadata": {
    "papermill": {
     "duration": 0.034982,
     "end_time": "2023-12-19T15:28:25.963895",
     "exception": false,
     "start_time": "2023-12-19T15:28:25.928913",
     "status": "completed"
    },
    "tags": []
   },
   "source": [
    "Note that running `jovian.commit` a second time records a new version of your existing notebook. With Jovian.ml, you can avoid creating copies of your Jupyter notebooks and keep versions organized. Jovian also provides a visual diff ([example](https://jovian.ai/aakashns/keras-mnist-jovian/diff?base=8&remote=2)) so you can inspect what has changed between different versions:\n",
    "\n",
    "![jovian-commenting](https://i.imgur.com/HF1cOVt.png)"
   ]
  },
  {
   "cell_type": "markdown",
   "id": "1cb8d983",
   "metadata": {
    "papermill": {
     "duration": 0.035839,
     "end_time": "2023-12-19T15:28:26.035213",
     "exception": false,
     "start_time": "2023-12-19T15:28:25.999374",
     "status": "completed"
    },
    "tags": []
   },
   "source": [
    "## Exercises and Further Reading\n",
    "\n",
    "We've covered the following topics in this tutorial:\n",
    "\n",
    "- Introduction to linear regression and gradient descent\n",
    "- Implementing a linear regression model using PyTorch tensors\n",
    "- Training a linear regression model using the gradient descent algorithm\n",
    "- Implementing gradient descent and linear regression using PyTorch built-in\n",
    "\n",
    "\n",
    "Here are some resources for learning more about linear regression and gradient descent:\n",
    "\n",
    "* An visual & animated explanation of gradient descent: https://www.youtube.com/watch?v=IHZwWFHWa-w\n",
    "\n",
    "* For a more detailed explanation of derivates and gradient descent, see [these notes from a Udacity course](https://storage.googleapis.com/supplemental_media/udacityu/315142919/Gradient%20Descent.pdf). \n",
    "\n",
    "* For an animated visualization of how linear regression works, [see this post](https://hackernoon.com/visualizing-linear-regression-with-pytorch-9261f49edb09).\n",
    "\n",
    "* For a more mathematical treatment of matrix calculus, linear regression and gradient descent, you should check out [Andrew Ng's excellent course notes](https://github.com/Cleo-Stanford-CS/CS229_Notes/blob/master/lectures/cs229-notes1.pdf) from CS229 at Stanford University.\n",
    "\n",
    "* To practice and test your skills, you can participate in the [Boston Housing Price Prediction](https://www.kaggle.com/c/boston-housing) competition on Kaggle, a website that hosts data science competitions.\n",
    "\n",
    "With this, we complete our discussion of linear regression in PyTorch, and we’re ready to move on to the next topic: [Working with Images & Logistic Regression](https://jovian.ai/aakashns/03-logistic-regression)."
   ]
  },
  {
   "cell_type": "markdown",
   "id": "9d685b07",
   "metadata": {
    "papermill": {
     "duration": 0.035423,
     "end_time": "2023-12-19T15:28:26.105846",
     "exception": false,
     "start_time": "2023-12-19T15:28:26.070423",
     "status": "completed"
    },
    "tags": []
   },
   "source": [
    "## Questions for Review\n",
    "\n",
    "Try answering the following questions to test your understanding of the topics covered in this notebook:\n",
    "\n",
    "1. What is a linear regression model? Give an example of a problem formulated as a linear regression model.\n",
    "2. What are input and target variables in a dataset? Give an example.\n",
    "3. What are weights and biases in a linear regression model?\n",
    "4. How do you represent tabular data using PyTorch tensors?\n",
    "5. Why do we create separate matrices for inputs and targets while training a linear regression model?\n",
    "6. How do you determine the shape of the weights matrix & bias vector given some training data?\n",
    "7. How do you create randomly initialized weights & biases with a given shape?\n",
    "8. How is a linear regression model implemented using matrix operations? Explain with an example.\n",
    "9. How do you generate predictions using a linear regression model?\n",
    "10. Why are the predictions of a randomly initialized model different from the actual targets?\n",
    "11. What is a loss function? What does the term “loss” signify?\n",
    "12. What is mean squared error?\n",
    "13. Write a function to calculate mean squared using model predictions and actual targets.\n",
    "14. What happens when you invoke the `.backward` function on the result of the mean squared error loss function?\n",
    "15. Why is the derivative of the loss w.r.t. the weights matrix itself a matrix? What do its elements represent?\n",
    "16. How is the derivate of the loss w.r.t. a weight element useful for reducing the loss? Explain with an example.\n",
    "17. Suppose the derivative  of the loss w.r.t. a weight element is positive. Should you increase or decrease the element’s value slightly to get a lower loss?\n",
    "18. Suppose the derivative  of the loss w.r.t. a weight element is negative. Should you increase or decrease the element’s value slightly to get a lower loss?\n",
    "19. How do you update the weights and biases of a model using their respective gradients to reduce the loss slightly?\n",
    "20. What is the gradient descent optimization algorithm? Why is it called “gradient descent”?\n",
    "21. Why do you subtract a “small quantity” proportional to the gradient from the weights & biases, not the actual gradient itself?\n",
    "22. What is learning rate? Why is it important?\n",
    "23. What is `torch.no_grad`?\n",
    "24. Why do you reset gradients to zero after updating weights and biases?\n",
    "25. What are the steps involved in training a linear regression model using gradient descent?\n",
    "26. What is an epoch?\n",
    "27. What is the benefit of training a model for multiple epochs?\n",
    "28. How do you make predictions using a trained model?\n",
    "29. What should you do if your model’s loss doesn’t decrease while training? Hint: learning rate.\n",
    "30. What is `torch.nn`?\n",
    "31. What is the purpose of the `TensorDataset` class in PyTorch? Give an example.\n",
    "32. What is a data loader in PyTorch? Give an example.\n",
    "33. How do you use a data loader to retrieve batches of data?\n",
    "34. What are the benefits of shuffling the training data before creating batches?\n",
    "35. What is the benefit of training in small batches instead of training with the entire dataset?\n",
    "36. What is the purpose of the `nn.Linear` class in PyTorch? Give an example.\n",
    "37. How do you see the weights and biases of a `nn.Linear` model?\n",
    "38. What is the purpose of the `torch.nn.functional` module?\n",
    "39. How do you compute mean squared error loss using a PyTorch built-in function?\n",
    "40. What is an optimizer in PyTorch?\n",
    "41. What is `torch.optim.SGD`? What does SGD stand for?\n",
    "42. What are the inputs to a PyTorch optimizer? \n",
    "43. Give an example of creating an optimizer for training a linear regression model.\n",
    "44. Write a function to train a `nn.Linear` model in batches using gradient descent.\n",
    "45. How do you use a linear regression model to make predictions on previously unseen data? ",
    "\n"
   ]
  }
 ],
 "metadata": {
  "kaggle": {
   "accelerator": "none",
   "dataSources": [],
   "dockerImageVersionId": 30626,
   "isGpuEnabled": false,
   "isInternetEnabled": true,
   "language": "python",
   "sourceType": "notebook"
  },
  "kernelspec": {
   "display_name": "Python 3",
   "language": "python",
   "name": "python3"
  },
  "language_info": {
   "codemirror_mode": {
    "name": "ipython",
    "version": 3
   },
   "file_extension": ".py",
   "mimetype": "text/x-python",
   "name": "python",
   "nbconvert_exporter": "python",
   "pygments_lexer": "ipython3",
   "version": "3.10.12"
  },
  "papermill": {
   "default_parameters": {},
   "duration": 40.159518,
   "end_time": "2023-12-19T15:28:27.468324",
   "environment_variables": {},
   "exception": null,
   "input_path": "__notebook__.ipynb",
   "output_path": "__notebook__.ipynb",
   "parameters": {},
   "start_time": "2023-12-19T15:27:47.308806",
   "version": "2.4.0"
  }
 },
 "nbformat": 4,
 "nbformat_minor": 5
}
