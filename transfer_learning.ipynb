{
  "metadata": {
    "accelerator": "GPU",
    "colab": {
      "machine_shape": "hm",
      "provenance": [],
      "include_colab_link": true
    },
    "kernelspec": {
      "display_name": "Python 3",
      "language": "python",
      "name": "python3"
    },
    "language_info": {
      "name": "python",
      "version": "3.10.12",
      "mimetype": "text/x-python",
      "codemirror_mode": {
        "name": "ipython",
        "version": 3
      },
      "pygments_lexer": "ipython3",
      "nbconvert_exporter": "python",
      "file_extension": ".py"
    },
    "widgets": {
      "application/vnd.jupyter.widget-state+json": {
        "03735efbfb7a48a09b950c25819b7bad": {
          "model_module": "@jupyter-widgets/controls",
          "model_name": "HBoxModel",
          "state": {
            "_dom_classes": [],
            "_model_module": "@jupyter-widgets/controls",
            "_model_module_version": "1.5.0",
            "_model_name": "HBoxModel",
            "_view_count": null,
            "_view_module": "@jupyter-widgets/controls",
            "_view_module_version": "1.5.0",
            "_view_name": "HBoxView",
            "box_style": "",
            "children": [
              "IPY_MODEL_e3c0622728dc4787905cbccc41dae825",
              "IPY_MODEL_5a6e2c4056604606a075df466b49564a"
            ],
            "layout": "IPY_MODEL_f995920d78444169897d8293e5d8f2ed"
          },
          "model_module_version": "1.5.0"
        },
        "055b03ded5e243fb9641afe188277fd1": {
          "model_module": "@jupyter-widgets/controls",
          "model_name": "HBoxModel",
          "state": {
            "_dom_classes": [],
            "_model_module": "@jupyter-widgets/controls",
            "_model_module_version": "1.5.0",
            "_model_name": "HBoxModel",
            "_view_count": null,
            "_view_module": "@jupyter-widgets/controls",
            "_view_module_version": "1.5.0",
            "_view_name": "HBoxView",
            "box_style": "",
            "children": [
              "IPY_MODEL_5f706a9e782c40b5a5f4f2a0d55d4be5",
              "IPY_MODEL_a4af36959df646f68afb5396c0506672"
            ],
            "layout": "IPY_MODEL_c824552aa746465b9e5c960e7c499e96"
          },
          "model_module_version": "1.5.0"
        },
        "062c322c7849439b965ff94c36986b02": {
          "model_module": "@jupyter-widgets/base",
          "model_name": "LayoutModel",
          "state": {
            "_model_module": "@jupyter-widgets/base",
            "_model_module_version": "1.2.0",
            "_model_name": "LayoutModel",
            "_view_count": null,
            "_view_module": "@jupyter-widgets/base",
            "_view_module_version": "1.2.0",
            "_view_name": "LayoutView",
            "align_content": null,
            "align_items": null,
            "align_self": null,
            "border": null,
            "bottom": null,
            "display": null,
            "flex": null,
            "flex_flow": null,
            "grid_area": null,
            "grid_auto_columns": null,
            "grid_auto_flow": null,
            "grid_auto_rows": null,
            "grid_column": null,
            "grid_gap": null,
            "grid_row": null,
            "grid_template_areas": null,
            "grid_template_columns": null,
            "grid_template_rows": null,
            "height": null,
            "justify_content": null,
            "justify_items": null,
            "left": null,
            "margin": null,
            "max_height": null,
            "max_width": null,
            "min_height": null,
            "min_width": null,
            "object_fit": null,
            "object_position": null,
            "order": null,
            "overflow": null,
            "overflow_x": null,
            "overflow_y": null,
            "padding": null,
            "right": null,
            "top": null,
            "visibility": null,
            "width": null
          },
          "model_module_version": "1.2.0"
        },
        "091dbd6bed0f4031b462e71541186c31": {
          "model_module": "@jupyter-widgets/base",
          "model_name": "LayoutModel",
          "state": {
            "_model_module": "@jupyter-widgets/base",
            "_model_module_version": "1.2.0",
            "_model_name": "LayoutModel",
            "_view_count": null,
            "_view_module": "@jupyter-widgets/base",
            "_view_module_version": "1.2.0",
            "_view_name": "LayoutView",
            "align_content": null,
            "align_items": null,
            "align_self": null,
            "border": null,
            "bottom": null,
            "display": null,
            "flex": null,
            "flex_flow": null,
            "grid_area": null,
            "grid_auto_columns": null,
            "grid_auto_flow": null,
            "grid_auto_rows": null,
            "grid_column": null,
            "grid_gap": null,
            "grid_row": null,
            "grid_template_areas": null,
            "grid_template_columns": null,
            "grid_template_rows": null,
            "height": null,
            "justify_content": null,
            "justify_items": null,
            "left": null,
            "margin": null,
            "max_height": null,
            "max_width": null,
            "min_height": null,
            "min_width": null,
            "object_fit": null,
            "object_position": null,
            "order": null,
            "overflow": null,
            "overflow_x": null,
            "overflow_y": null,
            "padding": null,
            "right": null,
            "top": null,
            "visibility": null,
            "width": null
          },
          "model_module_version": "1.2.0"
        },
        "0ab86a00ee7f4f73bb19a439e77662df": {
          "model_module": "@jupyter-widgets/controls",
          "model_name": "HTMLModel",
          "state": {
            "_dom_classes": [],
            "_model_module": "@jupyter-widgets/controls",
            "_model_module_version": "1.5.0",
            "_model_name": "HTMLModel",
            "_view_count": null,
            "_view_module": "@jupyter-widgets/controls",
            "_view_module_version": "1.5.0",
            "_view_name": "HTMLView",
            "description": "",
            "description_tooltip": null,
            "layout": "IPY_MODEL_7c8aae9571f94419853cafb7d57abdd9",
            "placeholder": "​",
            "style": "IPY_MODEL_c13fe17713f7418e83e21ce40f55b1d7",
            "value": " 26/26 [00:25&lt;00:00,  1.04it/s]"
          },
          "model_module_version": "1.5.0"
        },
        "0bfe1287b0f049739222fdd984a1953b": {
          "model_module": "@jupyter-widgets/base",
          "model_name": "LayoutModel",
          "state": {
            "_model_module": "@jupyter-widgets/base",
            "_model_module_version": "1.2.0",
            "_model_name": "LayoutModel",
            "_view_count": null,
            "_view_module": "@jupyter-widgets/base",
            "_view_module_version": "1.2.0",
            "_view_name": "LayoutView",
            "align_content": null,
            "align_items": null,
            "align_self": null,
            "border": null,
            "bottom": null,
            "display": null,
            "flex": null,
            "flex_flow": null,
            "grid_area": null,
            "grid_auto_columns": null,
            "grid_auto_flow": null,
            "grid_auto_rows": null,
            "grid_column": null,
            "grid_gap": null,
            "grid_row": null,
            "grid_template_areas": null,
            "grid_template_columns": null,
            "grid_template_rows": null,
            "height": null,
            "justify_content": null,
            "justify_items": null,
            "left": null,
            "margin": null,
            "max_height": null,
            "max_width": null,
            "min_height": null,
            "min_width": null,
            "object_fit": null,
            "object_position": null,
            "order": null,
            "overflow": null,
            "overflow_x": null,
            "overflow_y": null,
            "padding": null,
            "right": null,
            "top": null,
            "visibility": null,
            "width": null
          },
          "model_module_version": "1.2.0"
        },
        "12953c9f4954496d92102299e94bc13b": {
          "model_module": "@jupyter-widgets/base",
          "model_name": "LayoutModel",
          "state": {
            "_model_module": "@jupyter-widgets/base",
            "_model_module_version": "1.2.0",
            "_model_name": "LayoutModel",
            "_view_count": null,
            "_view_module": "@jupyter-widgets/base",
            "_view_module_version": "1.2.0",
            "_view_name": "LayoutView",
            "align_content": null,
            "align_items": null,
            "align_self": null,
            "border": null,
            "bottom": null,
            "display": null,
            "flex": null,
            "flex_flow": null,
            "grid_area": null,
            "grid_auto_columns": null,
            "grid_auto_flow": null,
            "grid_auto_rows": null,
            "grid_column": null,
            "grid_gap": null,
            "grid_row": null,
            "grid_template_areas": null,
            "grid_template_columns": null,
            "grid_template_rows": null,
            "height": null,
            "justify_content": null,
            "justify_items": null,
            "left": null,
            "margin": null,
            "max_height": null,
            "max_width": null,
            "min_height": null,
            "min_width": null,
            "object_fit": null,
            "object_position": null,
            "order": null,
            "overflow": null,
            "overflow_x": null,
            "overflow_y": null,
            "padding": null,
            "right": null,
            "top": null,
            "visibility": null,
            "width": null
          },
          "model_module_version": "1.2.0"
        },
        "13f93ba7576145fea296bfd9d6393564": {
          "model_module": "@jupyter-widgets/base",
          "model_name": "LayoutModel",
          "state": {
            "_model_module": "@jupyter-widgets/base",
            "_model_module_version": "1.2.0",
            "_model_name": "LayoutModel",
            "_view_count": null,
            "_view_module": "@jupyter-widgets/base",
            "_view_module_version": "1.2.0",
            "_view_name": "LayoutView",
            "align_content": null,
            "align_items": null,
            "align_self": null,
            "border": null,
            "bottom": null,
            "display": null,
            "flex": null,
            "flex_flow": null,
            "grid_area": null,
            "grid_auto_columns": null,
            "grid_auto_flow": null,
            "grid_auto_rows": null,
            "grid_column": null,
            "grid_gap": null,
            "grid_row": null,
            "grid_template_areas": null,
            "grid_template_columns": null,
            "grid_template_rows": null,
            "height": null,
            "justify_content": null,
            "justify_items": null,
            "left": null,
            "margin": null,
            "max_height": null,
            "max_width": null,
            "min_height": null,
            "min_width": null,
            "object_fit": null,
            "object_position": null,
            "order": null,
            "overflow": null,
            "overflow_x": null,
            "overflow_y": null,
            "padding": null,
            "right": null,
            "top": null,
            "visibility": null,
            "width": null
          },
          "model_module_version": "1.2.0"
        },
        "1485fce5f6e943088f6297445e8952c7": {
          "model_module": "@jupyter-widgets/base",
          "model_name": "LayoutModel",
          "state": {
            "_model_module": "@jupyter-widgets/base",
            "_model_module_version": "1.2.0",
            "_model_name": "LayoutModel",
            "_view_count": null,
            "_view_module": "@jupyter-widgets/base",
            "_view_module_version": "1.2.0",
            "_view_name": "LayoutView",
            "align_content": null,
            "align_items": null,
            "align_self": null,
            "border": null,
            "bottom": null,
            "display": null,
            "flex": null,
            "flex_flow": null,
            "grid_area": null,
            "grid_auto_columns": null,
            "grid_auto_flow": null,
            "grid_auto_rows": null,
            "grid_column": null,
            "grid_gap": null,
            "grid_row": null,
            "grid_template_areas": null,
            "grid_template_columns": null,
            "grid_template_rows": null,
            "height": null,
            "justify_content": null,
            "justify_items": null,
            "left": null,
            "margin": null,
            "max_height": null,
            "max_width": null,
            "min_height": null,
            "min_width": null,
            "object_fit": null,
            "object_position": null,
            "order": null,
            "overflow": null,
            "overflow_x": null,
            "overflow_y": null,
            "padding": null,
            "right": null,
            "top": null,
            "visibility": null,
            "width": null
          },
          "model_module_version": "1.2.0"
        },
        "15e40f12524c47588b4b0e290a11b8d9": {
          "model_module": "@jupyter-widgets/base",
          "model_name": "LayoutModel",
          "state": {
            "_model_module": "@jupyter-widgets/base",
            "_model_module_version": "1.2.0",
            "_model_name": "LayoutModel",
            "_view_count": null,
            "_view_module": "@jupyter-widgets/base",
            "_view_module_version": "1.2.0",
            "_view_name": "LayoutView",
            "align_content": null,
            "align_items": null,
            "align_self": null,
            "border": null,
            "bottom": null,
            "display": null,
            "flex": null,
            "flex_flow": null,
            "grid_area": null,
            "grid_auto_columns": null,
            "grid_auto_flow": null,
            "grid_auto_rows": null,
            "grid_column": null,
            "grid_gap": null,
            "grid_row": null,
            "grid_template_areas": null,
            "grid_template_columns": null,
            "grid_template_rows": null,
            "height": null,
            "justify_content": null,
            "justify_items": null,
            "left": null,
            "margin": null,
            "max_height": null,
            "max_width": null,
            "min_height": null,
            "min_width": null,
            "object_fit": null,
            "object_position": null,
            "order": null,
            "overflow": null,
            "overflow_x": null,
            "overflow_y": null,
            "padding": null,
            "right": null,
            "top": null,
            "visibility": null,
            "width": null
          },
          "model_module_version": "1.2.0"
        },
        "17353f67019746c887c56914161a8ecf": {
          "model_module": "@jupyter-widgets/base",
          "model_name": "LayoutModel",
          "state": {
            "_model_module": "@jupyter-widgets/base",
            "_model_module_version": "1.2.0",
            "_model_name": "LayoutModel",
            "_view_count": null,
            "_view_module": "@jupyter-widgets/base",
            "_view_module_version": "1.2.0",
            "_view_name": "LayoutView",
            "align_content": null,
            "align_items": null,
            "align_self": null,
            "border": null,
            "bottom": null,
            "display": null,
            "flex": null,
            "flex_flow": null,
            "grid_area": null,
            "grid_auto_columns": null,
            "grid_auto_flow": null,
            "grid_auto_rows": null,
            "grid_column": null,
            "grid_gap": null,
            "grid_row": null,
            "grid_template_areas": null,
            "grid_template_columns": null,
            "grid_template_rows": null,
            "height": null,
            "justify_content": null,
            "justify_items": null,
            "left": null,
            "margin": null,
            "max_height": null,
            "max_width": null,
            "min_height": null,
            "min_width": null,
            "object_fit": null,
            "object_position": null,
            "order": null,
            "overflow": null,
            "overflow_x": null,
            "overflow_y": null,
            "padding": null,
            "right": null,
            "top": null,
            "visibility": null,
            "width": null
          },
          "model_module_version": "1.2.0"
        },
        "18a67e558e6e4078abbb5137eded08ed": {
          "model_module": "@jupyter-widgets/base",
          "model_name": "LayoutModel",
          "state": {
            "_model_module": "@jupyter-widgets/base",
            "_model_module_version": "1.2.0",
            "_model_name": "LayoutModel",
            "_view_count": null,
            "_view_module": "@jupyter-widgets/base",
            "_view_module_version": "1.2.0",
            "_view_name": "LayoutView",
            "align_content": null,
            "align_items": null,
            "align_self": null,
            "border": null,
            "bottom": null,
            "display": null,
            "flex": null,
            "flex_flow": null,
            "grid_area": null,
            "grid_auto_columns": null,
            "grid_auto_flow": null,
            "grid_auto_rows": null,
            "grid_column": null,
            "grid_gap": null,
            "grid_row": null,
            "grid_template_areas": null,
            "grid_template_columns": null,
            "grid_template_rows": null,
            "height": null,
            "justify_content": null,
            "justify_items": null,
            "left": null,
            "margin": null,
            "max_height": null,
            "max_width": null,
            "min_height": null,
            "min_width": null,
            "object_fit": null,
            "object_position": null,
            "order": null,
            "overflow": null,
            "overflow_x": null,
            "overflow_y": null,
            "padding": null,
            "right": null,
            "top": null,
            "visibility": null,
            "width": null
          },
          "model_module_version": "1.2.0"
        },
        "2665e233daad4d788541749463b9deb6": {
          "model_module": "@jupyter-widgets/controls",
          "model_name": "HTMLModel",
          "state": {
            "_dom_classes": [],
            "_model_module": "@jupyter-widgets/controls",
            "_model_module_version": "1.5.0",
            "_model_name": "HTMLModel",
            "_view_count": null,
            "_view_module": "@jupyter-widgets/controls",
            "_view_module_version": "1.5.0",
            "_view_name": "HTMLView",
            "description": "",
            "description_tooltip": null,
            "layout": "IPY_MODEL_576ec4dcfdac4d40859121b048f4ad80",
            "placeholder": "​",
            "style": "IPY_MODEL_5ca6b57051ba451aa54f5a5eef424a90",
            "value": " 26/26 [03:14&lt;00:00,  7.50s/it]"
          },
          "model_module_version": "1.5.0"
        },
        "2e09dd3f1ffd4092a4b1e7bf788584c2": {
          "model_module": "@jupyter-widgets/base",
          "model_name": "LayoutModel",
          "state": {
            "_model_module": "@jupyter-widgets/base",
            "_model_module_version": "1.2.0",
            "_model_name": "LayoutModel",
            "_view_count": null,
            "_view_module": "@jupyter-widgets/base",
            "_view_module_version": "1.2.0",
            "_view_name": "LayoutView",
            "align_content": null,
            "align_items": null,
            "align_self": null,
            "border": null,
            "bottom": null,
            "display": null,
            "flex": null,
            "flex_flow": null,
            "grid_area": null,
            "grid_auto_columns": null,
            "grid_auto_flow": null,
            "grid_auto_rows": null,
            "grid_column": null,
            "grid_gap": null,
            "grid_row": null,
            "grid_template_areas": null,
            "grid_template_columns": null,
            "grid_template_rows": null,
            "height": null,
            "justify_content": null,
            "justify_items": null,
            "left": null,
            "margin": null,
            "max_height": null,
            "max_width": null,
            "min_height": null,
            "min_width": null,
            "object_fit": null,
            "object_position": null,
            "order": null,
            "overflow": null,
            "overflow_x": null,
            "overflow_y": null,
            "padding": null,
            "right": null,
            "top": null,
            "visibility": null,
            "width": null
          },
          "model_module_version": "1.2.0"
        },
        "2f5091be9bfe45008b0c787e4e2be404": {
          "model_module": "@jupyter-widgets/controls",
          "model_name": "ProgressStyleModel",
          "state": {
            "_model_module": "@jupyter-widgets/controls",
            "_model_module_version": "1.5.0",
            "_model_name": "ProgressStyleModel",
            "_view_count": null,
            "_view_module": "@jupyter-widgets/base",
            "_view_module_version": "1.2.0",
            "_view_name": "StyleView",
            "bar_color": null,
            "description_width": "initial"
          },
          "model_module_version": "1.5.0"
        },
        "2fea711b186e473db36f6a1e7eb48ec3": {
          "model_module": "@jupyter-widgets/base",
          "model_name": "LayoutModel",
          "state": {
            "_model_module": "@jupyter-widgets/base",
            "_model_module_version": "1.2.0",
            "_model_name": "LayoutModel",
            "_view_count": null,
            "_view_module": "@jupyter-widgets/base",
            "_view_module_version": "1.2.0",
            "_view_name": "LayoutView",
            "align_content": null,
            "align_items": null,
            "align_self": null,
            "border": null,
            "bottom": null,
            "display": null,
            "flex": null,
            "flex_flow": null,
            "grid_area": null,
            "grid_auto_columns": null,
            "grid_auto_flow": null,
            "grid_auto_rows": null,
            "grid_column": null,
            "grid_gap": null,
            "grid_row": null,
            "grid_template_areas": null,
            "grid_template_columns": null,
            "grid_template_rows": null,
            "height": null,
            "justify_content": null,
            "justify_items": null,
            "left": null,
            "margin": null,
            "max_height": null,
            "max_width": null,
            "min_height": null,
            "min_width": null,
            "object_fit": null,
            "object_position": null,
            "order": null,
            "overflow": null,
            "overflow_x": null,
            "overflow_y": null,
            "padding": null,
            "right": null,
            "top": null,
            "visibility": null,
            "width": null
          },
          "model_module_version": "1.2.0"
        },
        "359f7a5ff8a949fa9e7bcba283b26d26": {
          "model_module": "@jupyter-widgets/base",
          "model_name": "LayoutModel",
          "state": {
            "_model_module": "@jupyter-widgets/base",
            "_model_module_version": "1.2.0",
            "_model_name": "LayoutModel",
            "_view_count": null,
            "_view_module": "@jupyter-widgets/base",
            "_view_module_version": "1.2.0",
            "_view_name": "LayoutView",
            "align_content": null,
            "align_items": null,
            "align_self": null,
            "border": null,
            "bottom": null,
            "display": null,
            "flex": null,
            "flex_flow": null,
            "grid_area": null,
            "grid_auto_columns": null,
            "grid_auto_flow": null,
            "grid_auto_rows": null,
            "grid_column": null,
            "grid_gap": null,
            "grid_row": null,
            "grid_template_areas": null,
            "grid_template_columns": null,
            "grid_template_rows": null,
            "height": null,
            "justify_content": null,
            "justify_items": null,
            "left": null,
            "margin": null,
            "max_height": null,
            "max_width": null,
            "min_height": null,
            "min_width": null,
            "object_fit": null,
            "object_position": null,
            "order": null,
            "overflow": null,
            "overflow_x": null,
            "overflow_y": null,
            "padding": null,
            "right": null,
            "top": null,
            "visibility": null,
            "width": null
          },
          "model_module_version": "1.2.0"
        },
        "3619c9309e7c47739ba6adebf60d3d73": {
          "model_module": "@jupyter-widgets/controls",
          "model_name": "HTMLModel",
          "state": {
            "_dom_classes": [],
            "_model_module": "@jupyter-widgets/controls",
            "_model_module_version": "1.5.0",
            "_model_name": "HTMLModel",
            "_view_count": null,
            "_view_module": "@jupyter-widgets/controls",
            "_view_module_version": "1.5.0",
            "_view_name": "HTMLView",
            "description": "",
            "description_tooltip": null,
            "layout": "IPY_MODEL_87d782067cc04519a10b7beae1af2cb3",
            "placeholder": "​",
            "style": "IPY_MODEL_d8e3b9863827443da908997271440ad1",
            "value": " 26/26 [02:45&lt;00:00,  6.36s/it]"
          },
          "model_module_version": "1.5.0"
        },
        "374a090625004041acd1eb070b2e2260": {
          "model_module": "@jupyter-widgets/base",
          "model_name": "LayoutModel",
          "state": {
            "_model_module": "@jupyter-widgets/base",
            "_model_module_version": "1.2.0",
            "_model_name": "LayoutModel",
            "_view_count": null,
            "_view_module": "@jupyter-widgets/base",
            "_view_module_version": "1.2.0",
            "_view_name": "LayoutView",
            "align_content": null,
            "align_items": null,
            "align_self": null,
            "border": null,
            "bottom": null,
            "display": null,
            "flex": null,
            "flex_flow": null,
            "grid_area": null,
            "grid_auto_columns": null,
            "grid_auto_flow": null,
            "grid_auto_rows": null,
            "grid_column": null,
            "grid_gap": null,
            "grid_row": null,
            "grid_template_areas": null,
            "grid_template_columns": null,
            "grid_template_rows": null,
            "height": null,
            "justify_content": null,
            "justify_items": null,
            "left": null,
            "margin": null,
            "max_height": null,
            "max_width": null,
            "min_height": null,
            "min_width": null,
            "object_fit": null,
            "object_position": null,
            "order": null,
            "overflow": null,
            "overflow_x": null,
            "overflow_y": null,
            "padding": null,
            "right": null,
            "top": null,
            "visibility": null,
            "width": null
          },
          "model_module_version": "1.2.0"
        },
        "3cf6a86feeea4850851e539d9fa6ae31": {
          "model_module": "@jupyter-widgets/controls",
          "model_name": "HTMLModel",
          "state": {
            "_dom_classes": [],
            "_model_module": "@jupyter-widgets/controls",
            "_model_module_version": "1.5.0",
            "_model_name": "HTMLModel",
            "_view_count": null,
            "_view_module": "@jupyter-widgets/controls",
            "_view_module_version": "1.5.0",
            "_view_name": "HTMLView",
            "description": "",
            "description_tooltip": null,
            "layout": "IPY_MODEL_2fea711b186e473db36f6a1e7eb48ec3",
            "placeholder": "​",
            "style": "IPY_MODEL_ab4599f0013e42229e478ac9024b5800",
            "value": " 26/26 [00:24&lt;00:00,  1.05it/s]"
          },
          "model_module_version": "1.5.0"
        },
        "428e02448cf24c62a8af18a2841d55c0": {
          "model_module": "@jupyter-widgets/controls",
          "model_name": "FloatProgressModel",
          "state": {
            "_dom_classes": [],
            "_model_module": "@jupyter-widgets/controls",
            "_model_module_version": "1.5.0",
            "_model_name": "FloatProgressModel",
            "_view_count": null,
            "_view_module": "@jupyter-widgets/controls",
            "_view_module_version": "1.5.0",
            "_view_name": "ProgressView",
            "bar_style": "success",
            "description": "100%",
            "description_tooltip": null,
            "layout": "IPY_MODEL_bd91b594be5d4da4a4548fe3a45f876a",
            "max": 26,
            "min": 0,
            "orientation": "horizontal",
            "style": "IPY_MODEL_9dde63cbe677493cb55c432958d52a6d",
            "value": 26
          },
          "model_module_version": "1.5.0"
        },
        "43baa1d3641145d08ad042fcd73e5bb3": {
          "model_module": "@jupyter-widgets/base",
          "model_name": "LayoutModel",
          "state": {
            "_model_module": "@jupyter-widgets/base",
            "_model_module_version": "1.2.0",
            "_model_name": "LayoutModel",
            "_view_count": null,
            "_view_module": "@jupyter-widgets/base",
            "_view_module_version": "1.2.0",
            "_view_name": "LayoutView",
            "align_content": null,
            "align_items": null,
            "align_self": null,
            "border": null,
            "bottom": null,
            "display": null,
            "flex": null,
            "flex_flow": null,
            "grid_area": null,
            "grid_auto_columns": null,
            "grid_auto_flow": null,
            "grid_auto_rows": null,
            "grid_column": null,
            "grid_gap": null,
            "grid_row": null,
            "grid_template_areas": null,
            "grid_template_columns": null,
            "grid_template_rows": null,
            "height": null,
            "justify_content": null,
            "justify_items": null,
            "left": null,
            "margin": null,
            "max_height": null,
            "max_width": null,
            "min_height": null,
            "min_width": null,
            "object_fit": null,
            "object_position": null,
            "order": null,
            "overflow": null,
            "overflow_x": null,
            "overflow_y": null,
            "padding": null,
            "right": null,
            "top": null,
            "visibility": null,
            "width": null
          },
          "model_module_version": "1.2.0"
        },
        "46417223ec5640ebbea379a9cc6ea1e3": {
          "model_module": "@jupyter-widgets/controls",
          "model_name": "HBoxModel",
          "state": {
            "_dom_classes": [],
            "_model_module": "@jupyter-widgets/controls",
            "_model_module_version": "1.5.0",
            "_model_name": "HBoxModel",
            "_view_count": null,
            "_view_module": "@jupyter-widgets/controls",
            "_view_module_version": "1.5.0",
            "_view_name": "HBoxView",
            "box_style": "",
            "children": [
              "IPY_MODEL_a4bef748c0534670b29e6db300e98353",
              "IPY_MODEL_61b58c8b0fae4cba938fc7c4be85d74b"
            ],
            "layout": "IPY_MODEL_b53d221621474cd2a31d62c66ec5b3cb"
          },
          "model_module_version": "1.5.0"
        },
        "4816f29dbd4341e88f99469d19ccb073": {
          "model_module": "@jupyter-widgets/controls",
          "model_name": "ProgressStyleModel",
          "state": {
            "_model_module": "@jupyter-widgets/controls",
            "_model_module_version": "1.5.0",
            "_model_name": "ProgressStyleModel",
            "_view_count": null,
            "_view_module": "@jupyter-widgets/base",
            "_view_module_version": "1.2.0",
            "_view_name": "StyleView",
            "bar_color": null,
            "description_width": "initial"
          },
          "model_module_version": "1.5.0"
        },
        "48642c53200a4566ba7c224f0e7c6bb1": {
          "model_module": "@jupyter-widgets/controls",
          "model_name": "ProgressStyleModel",
          "state": {
            "_model_module": "@jupyter-widgets/controls",
            "_model_module_version": "1.5.0",
            "_model_name": "ProgressStyleModel",
            "_view_count": null,
            "_view_module": "@jupyter-widgets/base",
            "_view_module_version": "1.2.0",
            "_view_name": "StyleView",
            "bar_color": null,
            "description_width": "initial"
          },
          "model_module_version": "1.5.0"
        },
        "4a8f218745094aaf9e499926323ffa6f": {
          "model_module": "@jupyter-widgets/controls",
          "model_name": "ProgressStyleModel",
          "state": {
            "_model_module": "@jupyter-widgets/controls",
            "_model_module_version": "1.5.0",
            "_model_name": "ProgressStyleModel",
            "_view_count": null,
            "_view_module": "@jupyter-widgets/base",
            "_view_module_version": "1.2.0",
            "_view_name": "StyleView",
            "bar_color": null,
            "description_width": "initial"
          },
          "model_module_version": "1.5.0"
        },
        "5399905d652143d49a6f70daa71d3b4c": {
          "model_module": "@jupyter-widgets/base",
          "model_name": "LayoutModel",
          "state": {
            "_model_module": "@jupyter-widgets/base",
            "_model_module_version": "1.2.0",
            "_model_name": "LayoutModel",
            "_view_count": null,
            "_view_module": "@jupyter-widgets/base",
            "_view_module_version": "1.2.0",
            "_view_name": "LayoutView",
            "align_content": null,
            "align_items": null,
            "align_self": null,
            "border": null,
            "bottom": null,
            "display": null,
            "flex": null,
            "flex_flow": null,
            "grid_area": null,
            "grid_auto_columns": null,
            "grid_auto_flow": null,
            "grid_auto_rows": null,
            "grid_column": null,
            "grid_gap": null,
            "grid_row": null,
            "grid_template_areas": null,
            "grid_template_columns": null,
            "grid_template_rows": null,
            "height": null,
            "justify_content": null,
            "justify_items": null,
            "left": null,
            "margin": null,
            "max_height": null,
            "max_width": null,
            "min_height": null,
            "min_width": null,
            "object_fit": null,
            "object_position": null,
            "order": null,
            "overflow": null,
            "overflow_x": null,
            "overflow_y": null,
            "padding": null,
            "right": null,
            "top": null,
            "visibility": null,
            "width": null
          },
          "model_module_version": "1.2.0"
        },
        "540e29d0a24b442fa6eafff179a5b1ea": {
          "model_module": "@jupyter-widgets/controls",
          "model_name": "ProgressStyleModel",
          "state": {
            "_model_module": "@jupyter-widgets/controls",
            "_model_module_version": "1.5.0",
            "_model_name": "ProgressStyleModel",
            "_view_count": null,
            "_view_module": "@jupyter-widgets/base",
            "_view_module_version": "1.2.0",
            "_view_name": "StyleView",
            "bar_color": null,
            "description_width": "initial"
          },
          "model_module_version": "1.5.0"
        },
        "5559491f4b0248ff96a2d8f3833967c3": {
          "model_module": "@jupyter-widgets/base",
          "model_name": "LayoutModel",
          "state": {
            "_model_module": "@jupyter-widgets/base",
            "_model_module_version": "1.2.0",
            "_model_name": "LayoutModel",
            "_view_count": null,
            "_view_module": "@jupyter-widgets/base",
            "_view_module_version": "1.2.0",
            "_view_name": "LayoutView",
            "align_content": null,
            "align_items": null,
            "align_self": null,
            "border": null,
            "bottom": null,
            "display": null,
            "flex": null,
            "flex_flow": null,
            "grid_area": null,
            "grid_auto_columns": null,
            "grid_auto_flow": null,
            "grid_auto_rows": null,
            "grid_column": null,
            "grid_gap": null,
            "grid_row": null,
            "grid_template_areas": null,
            "grid_template_columns": null,
            "grid_template_rows": null,
            "height": null,
            "justify_content": null,
            "justify_items": null,
            "left": null,
            "margin": null,
            "max_height": null,
            "max_width": null,
            "min_height": null,
            "min_width": null,
            "object_fit": null,
            "object_position": null,
            "order": null,
            "overflow": null,
            "overflow_x": null,
            "overflow_y": null,
            "padding": null,
            "right": null,
            "top": null,
            "visibility": null,
            "width": null
          },
          "model_module_version": "1.2.0"
        },
        "576ec4dcfdac4d40859121b048f4ad80": {
          "model_module": "@jupyter-widgets/base",
          "model_name": "LayoutModel",
          "state": {
            "_model_module": "@jupyter-widgets/base",
            "_model_module_version": "1.2.0",
            "_model_name": "LayoutModel",
            "_view_count": null,
            "_view_module": "@jupyter-widgets/base",
            "_view_module_version": "1.2.0",
            "_view_name": "LayoutView",
            "align_content": null,
            "align_items": null,
            "align_self": null,
            "border": null,
            "bottom": null,
            "display": null,
            "flex": null,
            "flex_flow": null,
            "grid_area": null,
            "grid_auto_columns": null,
            "grid_auto_flow": null,
            "grid_auto_rows": null,
            "grid_column": null,
            "grid_gap": null,
            "grid_row": null,
            "grid_template_areas": null,
            "grid_template_columns": null,
            "grid_template_rows": null,
            "height": null,
            "justify_content": null,
            "justify_items": null,
            "left": null,
            "margin": null,
            "max_height": null,
            "max_width": null,
            "min_height": null,
            "min_width": null,
            "object_fit": null,
            "object_position": null,
            "order": null,
            "overflow": null,
            "overflow_x": null,
            "overflow_y": null,
            "padding": null,
            "right": null,
            "top": null,
            "visibility": null,
            "width": null
          },
          "model_module_version": "1.2.0"
        },
        "5a32bb0380ed490faa89b8bc52c8a973": {
          "model_module": "@jupyter-widgets/controls",
          "model_name": "FloatProgressModel",
          "state": {
            "_dom_classes": [],
            "_model_module": "@jupyter-widgets/controls",
            "_model_module_version": "1.5.0",
            "_model_name": "FloatProgressModel",
            "_view_count": null,
            "_view_module": "@jupyter-widgets/controls",
            "_view_module_version": "1.5.0",
            "_view_name": "ProgressView",
            "bar_style": "success",
            "description": "100%",
            "description_tooltip": null,
            "layout": "IPY_MODEL_98115a17cfb0431cb4501b7de6f4dade",
            "max": 26,
            "min": 0,
            "orientation": "horizontal",
            "style": "IPY_MODEL_4816f29dbd4341e88f99469d19ccb073",
            "value": 26
          },
          "model_module_version": "1.5.0"
        },
        "5a6e2c4056604606a075df466b49564a": {
          "model_module": "@jupyter-widgets/controls",
          "model_name": "HTMLModel",
          "state": {
            "_dom_classes": [],
            "_model_module": "@jupyter-widgets/controls",
            "_model_module_version": "1.5.0",
            "_model_name": "HTMLModel",
            "_view_count": null,
            "_view_module": "@jupyter-widgets/controls",
            "_view_module_version": "1.5.0",
            "_view_name": "HTMLView",
            "description": "",
            "description_tooltip": null,
            "layout": "IPY_MODEL_1485fce5f6e943088f6297445e8952c7",
            "placeholder": "​",
            "style": "IPY_MODEL_9adf6a707c8048a9b48f6f2bad4b21c0",
            "value": " 26/26 [00:30&lt;00:00,  1.16s/it]"
          },
          "model_module_version": "1.5.0"
        },
        "5ca6b57051ba451aa54f5a5eef424a90": {
          "model_module": "@jupyter-widgets/controls",
          "model_name": "DescriptionStyleModel",
          "state": {
            "_model_module": "@jupyter-widgets/controls",
            "_model_module_version": "1.5.0",
            "_model_name": "DescriptionStyleModel",
            "_view_count": null,
            "_view_module": "@jupyter-widgets/base",
            "_view_module_version": "1.2.0",
            "_view_name": "StyleView",
            "description_width": ""
          },
          "model_module_version": "1.5.0"
        },
        "5d0f132d80c44b86964cebc19cd77d16": {
          "model_module": "@jupyter-widgets/base",
          "model_name": "LayoutModel",
          "state": {
            "_model_module": "@jupyter-widgets/base",
            "_model_module_version": "1.2.0",
            "_model_name": "LayoutModel",
            "_view_count": null,
            "_view_module": "@jupyter-widgets/base",
            "_view_module_version": "1.2.0",
            "_view_name": "LayoutView",
            "align_content": null,
            "align_items": null,
            "align_self": null,
            "border": null,
            "bottom": null,
            "display": null,
            "flex": null,
            "flex_flow": null,
            "grid_area": null,
            "grid_auto_columns": null,
            "grid_auto_flow": null,
            "grid_auto_rows": null,
            "grid_column": null,
            "grid_gap": null,
            "grid_row": null,
            "grid_template_areas": null,
            "grid_template_columns": null,
            "grid_template_rows": null,
            "height": null,
            "justify_content": null,
            "justify_items": null,
            "left": null,
            "margin": null,
            "max_height": null,
            "max_width": null,
            "min_height": null,
            "min_width": null,
            "object_fit": null,
            "object_position": null,
            "order": null,
            "overflow": null,
            "overflow_x": null,
            "overflow_y": null,
            "padding": null,
            "right": null,
            "top": null,
            "visibility": null,
            "width": null
          },
          "model_module_version": "1.2.0"
        },
        "5d61e8c9ef1743d580143df86651017f": {
          "model_module": "@jupyter-widgets/controls",
          "model_name": "ProgressStyleModel",
          "state": {
            "_model_module": "@jupyter-widgets/controls",
            "_model_module_version": "1.5.0",
            "_model_name": "ProgressStyleModel",
            "_view_count": null,
            "_view_module": "@jupyter-widgets/base",
            "_view_module_version": "1.2.0",
            "_view_name": "StyleView",
            "bar_color": null,
            "description_width": "initial"
          },
          "model_module_version": "1.5.0"
        },
        "5f706a9e782c40b5a5f4f2a0d55d4be5": {
          "model_module": "@jupyter-widgets/controls",
          "model_name": "FloatProgressModel",
          "state": {
            "_dom_classes": [],
            "_model_module": "@jupyter-widgets/controls",
            "_model_module_version": "1.5.0",
            "_model_name": "FloatProgressModel",
            "_view_count": null,
            "_view_module": "@jupyter-widgets/controls",
            "_view_module_version": "1.5.0",
            "_view_name": "ProgressView",
            "bar_style": "success",
            "description": "100%",
            "description_tooltip": null,
            "layout": "IPY_MODEL_d6b38fbcca0649a9ab52b05836d5c931",
            "max": 26,
            "min": 0,
            "orientation": "horizontal",
            "style": "IPY_MODEL_e2efb24c0b944800b4144e04589b5531",
            "value": 26
          },
          "model_module_version": "1.5.0"
        },
        "61b58c8b0fae4cba938fc7c4be85d74b": {
          "model_module": "@jupyter-widgets/controls",
          "model_name": "HTMLModel",
          "state": {
            "_dom_classes": [],
            "_model_module": "@jupyter-widgets/controls",
            "_model_module_version": "1.5.0",
            "_model_name": "HTMLModel",
            "_view_count": null,
            "_view_module": "@jupyter-widgets/controls",
            "_view_module_version": "1.5.0",
            "_view_name": "HTMLView",
            "description": "",
            "description_tooltip": null,
            "layout": "IPY_MODEL_5559491f4b0248ff96a2d8f3833967c3",
            "placeholder": "​",
            "style": "IPY_MODEL_eb8fd82cd705461a9850596f7cecb95e",
            "value": " 26/26 [00:24&lt;00:00,  1.05it/s]"
          },
          "model_module_version": "1.5.0"
        },
        "63c2379d65a44629a5e0df5fb2bdc492": {
          "model_module": "@jupyter-widgets/controls",
          "model_name": "ProgressStyleModel",
          "state": {
            "_model_module": "@jupyter-widgets/controls",
            "_model_module_version": "1.5.0",
            "_model_name": "ProgressStyleModel",
            "_view_count": null,
            "_view_module": "@jupyter-widgets/base",
            "_view_module_version": "1.2.0",
            "_view_name": "StyleView",
            "bar_color": null,
            "description_width": "initial"
          },
          "model_module_version": "1.5.0"
        },
        "6b4032bee11745908cbd271d2ef98c40": {
          "model_module": "@jupyter-widgets/controls",
          "model_name": "HTMLModel",
          "state": {
            "_dom_classes": [],
            "_model_module": "@jupyter-widgets/controls",
            "_model_module_version": "1.5.0",
            "_model_name": "HTMLModel",
            "_view_count": null,
            "_view_module": "@jupyter-widgets/controls",
            "_view_module_version": "1.5.0",
            "_view_name": "HTMLView",
            "description": "",
            "description_tooltip": null,
            "layout": "IPY_MODEL_930b06e61f09446296c5ad16ddffa39a",
            "placeholder": "​",
            "style": "IPY_MODEL_f022698bf2504ba4875366f6cf10cdec",
            "value": " 26/26 [00:25&lt;00:00,  1.03it/s]"
          },
          "model_module_version": "1.5.0"
        },
        "6b66002901db4a2389a6cfd3b6526a29": {
          "model_module": "@jupyter-widgets/base",
          "model_name": "LayoutModel",
          "state": {
            "_model_module": "@jupyter-widgets/base",
            "_model_module_version": "1.2.0",
            "_model_name": "LayoutModel",
            "_view_count": null,
            "_view_module": "@jupyter-widgets/base",
            "_view_module_version": "1.2.0",
            "_view_name": "LayoutView",
            "align_content": null,
            "align_items": null,
            "align_self": null,
            "border": null,
            "bottom": null,
            "display": null,
            "flex": null,
            "flex_flow": null,
            "grid_area": null,
            "grid_auto_columns": null,
            "grid_auto_flow": null,
            "grid_auto_rows": null,
            "grid_column": null,
            "grid_gap": null,
            "grid_row": null,
            "grid_template_areas": null,
            "grid_template_columns": null,
            "grid_template_rows": null,
            "height": null,
            "justify_content": null,
            "justify_items": null,
            "left": null,
            "margin": null,
            "max_height": null,
            "max_width": null,
            "min_height": null,
            "min_width": null,
            "object_fit": null,
            "object_position": null,
            "order": null,
            "overflow": null,
            "overflow_x": null,
            "overflow_y": null,
            "padding": null,
            "right": null,
            "top": null,
            "visibility": null,
            "width": null
          },
          "model_module_version": "1.2.0"
        },
        "71fe40885fc3467d8fc4986f364775ae": {
          "model_module": "@jupyter-widgets/controls",
          "model_name": "HBoxModel",
          "state": {
            "_dom_classes": [],
            "_model_module": "@jupyter-widgets/controls",
            "_model_module_version": "1.5.0",
            "_model_name": "HBoxModel",
            "_view_count": null,
            "_view_module": "@jupyter-widgets/controls",
            "_view_module_version": "1.5.0",
            "_view_name": "HBoxView",
            "box_style": "",
            "children": [
              "IPY_MODEL_794261b071cf4833ae124c49a1df52ce",
              "IPY_MODEL_3cf6a86feeea4850851e539d9fa6ae31"
            ],
            "layout": "IPY_MODEL_12953c9f4954496d92102299e94bc13b"
          },
          "model_module_version": "1.5.0"
        },
        "721cc6592be74c98a1b822ff16382675": {
          "model_module": "@jupyter-widgets/controls",
          "model_name": "FloatProgressModel",
          "state": {
            "_dom_classes": [],
            "_model_module": "@jupyter-widgets/controls",
            "_model_module_version": "1.5.0",
            "_model_name": "FloatProgressModel",
            "_view_count": null,
            "_view_module": "@jupyter-widgets/controls",
            "_view_module_version": "1.5.0",
            "_view_name": "ProgressView",
            "bar_style": "success",
            "description": "100%",
            "description_tooltip": null,
            "layout": "IPY_MODEL_6b66002901db4a2389a6cfd3b6526a29",
            "max": 26,
            "min": 0,
            "orientation": "horizontal",
            "style": "IPY_MODEL_e5397780209347c9b3268d1efeaaf73d",
            "value": 26
          },
          "model_module_version": "1.5.0"
        },
        "75a656319b1d4737aab0c112b593c3c1": {
          "model_module": "@jupyter-widgets/controls",
          "model_name": "DescriptionStyleModel",
          "state": {
            "_model_module": "@jupyter-widgets/controls",
            "_model_module_version": "1.5.0",
            "_model_name": "DescriptionStyleModel",
            "_view_count": null,
            "_view_module": "@jupyter-widgets/base",
            "_view_module_version": "1.2.0",
            "_view_name": "StyleView",
            "description_width": ""
          },
          "model_module_version": "1.5.0"
        },
        "794261b071cf4833ae124c49a1df52ce": {
          "model_module": "@jupyter-widgets/controls",
          "model_name": "FloatProgressModel",
          "state": {
            "_dom_classes": [],
            "_model_module": "@jupyter-widgets/controls",
            "_model_module_version": "1.5.0",
            "_model_name": "FloatProgressModel",
            "_view_count": null,
            "_view_module": "@jupyter-widgets/controls",
            "_view_module_version": "1.5.0",
            "_view_name": "ProgressView",
            "bar_style": "success",
            "description": "100%",
            "description_tooltip": null,
            "layout": "IPY_MODEL_b4d2e286d8054634abd485084689ba8c",
            "max": 26,
            "min": 0,
            "orientation": "horizontal",
            "style": "IPY_MODEL_8124e67545e74251a27d2f940ee608ad",
            "value": 26
          },
          "model_module_version": "1.5.0"
        },
        "79be0dc3d1a348cd9cf7404d853831d8": {
          "model_module": "@jupyter-widgets/controls",
          "model_name": "HBoxModel",
          "state": {
            "_dom_classes": [],
            "_model_module": "@jupyter-widgets/controls",
            "_model_module_version": "1.5.0",
            "_model_name": "HBoxModel",
            "_view_count": null,
            "_view_module": "@jupyter-widgets/controls",
            "_view_module_version": "1.5.0",
            "_view_name": "HBoxView",
            "box_style": "",
            "children": [
              "IPY_MODEL_5a32bb0380ed490faa89b8bc52c8a973",
              "IPY_MODEL_6b4032bee11745908cbd271d2ef98c40"
            ],
            "layout": "IPY_MODEL_359f7a5ff8a949fa9e7bcba283b26d26"
          },
          "model_module_version": "1.5.0"
        },
        "7c8aae9571f94419853cafb7d57abdd9": {
          "model_module": "@jupyter-widgets/base",
          "model_name": "LayoutModel",
          "state": {
            "_model_module": "@jupyter-widgets/base",
            "_model_module_version": "1.2.0",
            "_model_name": "LayoutModel",
            "_view_count": null,
            "_view_module": "@jupyter-widgets/base",
            "_view_module_version": "1.2.0",
            "_view_name": "LayoutView",
            "align_content": null,
            "align_items": null,
            "align_self": null,
            "border": null,
            "bottom": null,
            "display": null,
            "flex": null,
            "flex_flow": null,
            "grid_area": null,
            "grid_auto_columns": null,
            "grid_auto_flow": null,
            "grid_auto_rows": null,
            "grid_column": null,
            "grid_gap": null,
            "grid_row": null,
            "grid_template_areas": null,
            "grid_template_columns": null,
            "grid_template_rows": null,
            "height": null,
            "justify_content": null,
            "justify_items": null,
            "left": null,
            "margin": null,
            "max_height": null,
            "max_width": null,
            "min_height": null,
            "min_width": null,
            "object_fit": null,
            "object_position": null,
            "order": null,
            "overflow": null,
            "overflow_x": null,
            "overflow_y": null,
            "padding": null,
            "right": null,
            "top": null,
            "visibility": null,
            "width": null
          },
          "model_module_version": "1.2.0"
        },
        "80b72d6bee664adda994653e51a59733": {
          "model_module": "@jupyter-widgets/base",
          "model_name": "LayoutModel",
          "state": {
            "_model_module": "@jupyter-widgets/base",
            "_model_module_version": "1.2.0",
            "_model_name": "LayoutModel",
            "_view_count": null,
            "_view_module": "@jupyter-widgets/base",
            "_view_module_version": "1.2.0",
            "_view_name": "LayoutView",
            "align_content": null,
            "align_items": null,
            "align_self": null,
            "border": null,
            "bottom": null,
            "display": null,
            "flex": null,
            "flex_flow": null,
            "grid_area": null,
            "grid_auto_columns": null,
            "grid_auto_flow": null,
            "grid_auto_rows": null,
            "grid_column": null,
            "grid_gap": null,
            "grid_row": null,
            "grid_template_areas": null,
            "grid_template_columns": null,
            "grid_template_rows": null,
            "height": null,
            "justify_content": null,
            "justify_items": null,
            "left": null,
            "margin": null,
            "max_height": null,
            "max_width": null,
            "min_height": null,
            "min_width": null,
            "object_fit": null,
            "object_position": null,
            "order": null,
            "overflow": null,
            "overflow_x": null,
            "overflow_y": null,
            "padding": null,
            "right": null,
            "top": null,
            "visibility": null,
            "width": null
          },
          "model_module_version": "1.2.0"
        },
        "8124e67545e74251a27d2f940ee608ad": {
          "model_module": "@jupyter-widgets/controls",
          "model_name": "ProgressStyleModel",
          "state": {
            "_model_module": "@jupyter-widgets/controls",
            "_model_module_version": "1.5.0",
            "_model_name": "ProgressStyleModel",
            "_view_count": null,
            "_view_module": "@jupyter-widgets/base",
            "_view_module_version": "1.2.0",
            "_view_name": "StyleView",
            "bar_color": null,
            "description_width": "initial"
          },
          "model_module_version": "1.5.0"
        },
        "81b833545ab540d7ab7a715bfae4612b": {
          "model_module": "@jupyter-widgets/controls",
          "model_name": "DescriptionStyleModel",
          "state": {
            "_model_module": "@jupyter-widgets/controls",
            "_model_module_version": "1.5.0",
            "_model_name": "DescriptionStyleModel",
            "_view_count": null,
            "_view_module": "@jupyter-widgets/base",
            "_view_module_version": "1.2.0",
            "_view_name": "StyleView",
            "description_width": ""
          },
          "model_module_version": "1.5.0"
        },
        "857028a0047a46779c908530a1d7a33e": {
          "model_module": "@jupyter-widgets/controls",
          "model_name": "HBoxModel",
          "state": {
            "_dom_classes": [],
            "_model_module": "@jupyter-widgets/controls",
            "_model_module_version": "1.5.0",
            "_model_name": "HBoxModel",
            "_view_count": null,
            "_view_module": "@jupyter-widgets/controls",
            "_view_module_version": "1.5.0",
            "_view_name": "HBoxView",
            "box_style": "",
            "children": [
              "IPY_MODEL_428e02448cf24c62a8af18a2841d55c0",
              "IPY_MODEL_0ab86a00ee7f4f73bb19a439e77662df"
            ],
            "layout": "IPY_MODEL_5399905d652143d49a6f70daa71d3b4c"
          },
          "model_module_version": "1.5.0"
        },
        "87d782067cc04519a10b7beae1af2cb3": {
          "model_module": "@jupyter-widgets/base",
          "model_name": "LayoutModel",
          "state": {
            "_model_module": "@jupyter-widgets/base",
            "_model_module_version": "1.2.0",
            "_model_name": "LayoutModel",
            "_view_count": null,
            "_view_module": "@jupyter-widgets/base",
            "_view_module_version": "1.2.0",
            "_view_name": "LayoutView",
            "align_content": null,
            "align_items": null,
            "align_self": null,
            "border": null,
            "bottom": null,
            "display": null,
            "flex": null,
            "flex_flow": null,
            "grid_area": null,
            "grid_auto_columns": null,
            "grid_auto_flow": null,
            "grid_auto_rows": null,
            "grid_column": null,
            "grid_gap": null,
            "grid_row": null,
            "grid_template_areas": null,
            "grid_template_columns": null,
            "grid_template_rows": null,
            "height": null,
            "justify_content": null,
            "justify_items": null,
            "left": null,
            "margin": null,
            "max_height": null,
            "max_width": null,
            "min_height": null,
            "min_width": null,
            "object_fit": null,
            "object_position": null,
            "order": null,
            "overflow": null,
            "overflow_x": null,
            "overflow_y": null,
            "padding": null,
            "right": null,
            "top": null,
            "visibility": null,
            "width": null
          },
          "model_module_version": "1.2.0"
        },
        "8c78f9523bc34b84904dd7e7da3ea2f4": {
          "model_module": "@jupyter-widgets/controls",
          "model_name": "HTMLModel",
          "state": {
            "_dom_classes": [],
            "_model_module": "@jupyter-widgets/controls",
            "_model_module_version": "1.5.0",
            "_model_name": "HTMLModel",
            "_view_count": null,
            "_view_module": "@jupyter-widgets/controls",
            "_view_module_version": "1.5.0",
            "_view_name": "HTMLView",
            "description": "",
            "description_tooltip": null,
            "layout": "IPY_MODEL_43baa1d3641145d08ad042fcd73e5bb3",
            "placeholder": "​",
            "style": "IPY_MODEL_f18c021a3107472ca0c59b6a3f46b8be",
            "value": " 26/26 [02:15&lt;00:00,  5.21s/it]"
          },
          "model_module_version": "1.5.0"
        },
        "8f39129f6a7d49fe88a704bcd60417ee": {
          "model_module": "@jupyter-widgets/controls",
          "model_name": "DescriptionStyleModel",
          "state": {
            "_model_module": "@jupyter-widgets/controls",
            "_model_module_version": "1.5.0",
            "_model_name": "DescriptionStyleModel",
            "_view_count": null,
            "_view_module": "@jupyter-widgets/base",
            "_view_module_version": "1.2.0",
            "_view_name": "StyleView",
            "description_width": ""
          },
          "model_module_version": "1.5.0"
        },
        "930b06e61f09446296c5ad16ddffa39a": {
          "model_module": "@jupyter-widgets/base",
          "model_name": "LayoutModel",
          "state": {
            "_model_module": "@jupyter-widgets/base",
            "_model_module_version": "1.2.0",
            "_model_name": "LayoutModel",
            "_view_count": null,
            "_view_module": "@jupyter-widgets/base",
            "_view_module_version": "1.2.0",
            "_view_name": "LayoutView",
            "align_content": null,
            "align_items": null,
            "align_self": null,
            "border": null,
            "bottom": null,
            "display": null,
            "flex": null,
            "flex_flow": null,
            "grid_area": null,
            "grid_auto_columns": null,
            "grid_auto_flow": null,
            "grid_auto_rows": null,
            "grid_column": null,
            "grid_gap": null,
            "grid_row": null,
            "grid_template_areas": null,
            "grid_template_columns": null,
            "grid_template_rows": null,
            "height": null,
            "justify_content": null,
            "justify_items": null,
            "left": null,
            "margin": null,
            "max_height": null,
            "max_width": null,
            "min_height": null,
            "min_width": null,
            "object_fit": null,
            "object_position": null,
            "order": null,
            "overflow": null,
            "overflow_x": null,
            "overflow_y": null,
            "padding": null,
            "right": null,
            "top": null,
            "visibility": null,
            "width": null
          },
          "model_module_version": "1.2.0"
        },
        "98115a17cfb0431cb4501b7de6f4dade": {
          "model_module": "@jupyter-widgets/base",
          "model_name": "LayoutModel",
          "state": {
            "_model_module": "@jupyter-widgets/base",
            "_model_module_version": "1.2.0",
            "_model_name": "LayoutModel",
            "_view_count": null,
            "_view_module": "@jupyter-widgets/base",
            "_view_module_version": "1.2.0",
            "_view_name": "LayoutView",
            "align_content": null,
            "align_items": null,
            "align_self": null,
            "border": null,
            "bottom": null,
            "display": null,
            "flex": null,
            "flex_flow": null,
            "grid_area": null,
            "grid_auto_columns": null,
            "grid_auto_flow": null,
            "grid_auto_rows": null,
            "grid_column": null,
            "grid_gap": null,
            "grid_row": null,
            "grid_template_areas": null,
            "grid_template_columns": null,
            "grid_template_rows": null,
            "height": null,
            "justify_content": null,
            "justify_items": null,
            "left": null,
            "margin": null,
            "max_height": null,
            "max_width": null,
            "min_height": null,
            "min_width": null,
            "object_fit": null,
            "object_position": null,
            "order": null,
            "overflow": null,
            "overflow_x": null,
            "overflow_y": null,
            "padding": null,
            "right": null,
            "top": null,
            "visibility": null,
            "width": null
          },
          "model_module_version": "1.2.0"
        },
        "9937738cb225427e8bf842b5a74e66bf": {
          "model_module": "@jupyter-widgets/controls",
          "model_name": "FloatProgressModel",
          "state": {
            "_dom_classes": [],
            "_model_module": "@jupyter-widgets/controls",
            "_model_module_version": "1.5.0",
            "_model_name": "FloatProgressModel",
            "_view_count": null,
            "_view_module": "@jupyter-widgets/controls",
            "_view_module_version": "1.5.0",
            "_view_name": "ProgressView",
            "bar_style": "success",
            "description": "100%",
            "description_tooltip": null,
            "layout": "IPY_MODEL_9a2171580fbc4c8fb16e52972c08e128",
            "max": 26,
            "min": 0,
            "orientation": "horizontal",
            "style": "IPY_MODEL_63c2379d65a44629a5e0df5fb2bdc492",
            "value": 26
          },
          "model_module_version": "1.5.0"
        },
        "9a2171580fbc4c8fb16e52972c08e128": {
          "model_module": "@jupyter-widgets/base",
          "model_name": "LayoutModel",
          "state": {
            "_model_module": "@jupyter-widgets/base",
            "_model_module_version": "1.2.0",
            "_model_name": "LayoutModel",
            "_view_count": null,
            "_view_module": "@jupyter-widgets/base",
            "_view_module_version": "1.2.0",
            "_view_name": "LayoutView",
            "align_content": null,
            "align_items": null,
            "align_self": null,
            "border": null,
            "bottom": null,
            "display": null,
            "flex": null,
            "flex_flow": null,
            "grid_area": null,
            "grid_auto_columns": null,
            "grid_auto_flow": null,
            "grid_auto_rows": null,
            "grid_column": null,
            "grid_gap": null,
            "grid_row": null,
            "grid_template_areas": null,
            "grid_template_columns": null,
            "grid_template_rows": null,
            "height": null,
            "justify_content": null,
            "justify_items": null,
            "left": null,
            "margin": null,
            "max_height": null,
            "max_width": null,
            "min_height": null,
            "min_width": null,
            "object_fit": null,
            "object_position": null,
            "order": null,
            "overflow": null,
            "overflow_x": null,
            "overflow_y": null,
            "padding": null,
            "right": null,
            "top": null,
            "visibility": null,
            "width": null
          },
          "model_module_version": "1.2.0"
        },
        "9a80ffd7b5a246fb82fb023ae77e64e0": {
          "model_module": "@jupyter-widgets/controls",
          "model_name": "HBoxModel",
          "state": {
            "_dom_classes": [],
            "_model_module": "@jupyter-widgets/controls",
            "_model_module_version": "1.5.0",
            "_model_name": "HBoxModel",
            "_view_count": null,
            "_view_module": "@jupyter-widgets/controls",
            "_view_module_version": "1.5.0",
            "_view_name": "HBoxView",
            "box_style": "",
            "children": [
              "IPY_MODEL_edbdb8485fdf4349997518ede98662cd",
              "IPY_MODEL_3619c9309e7c47739ba6adebf60d3d73"
            ],
            "layout": "IPY_MODEL_faef9ad6882940be8208a181c00a45f9"
          },
          "model_module_version": "1.5.0"
        },
        "9adf6a707c8048a9b48f6f2bad4b21c0": {
          "model_module": "@jupyter-widgets/controls",
          "model_name": "DescriptionStyleModel",
          "state": {
            "_model_module": "@jupyter-widgets/controls",
            "_model_module_version": "1.5.0",
            "_model_name": "DescriptionStyleModel",
            "_view_count": null,
            "_view_module": "@jupyter-widgets/base",
            "_view_module_version": "1.2.0",
            "_view_name": "StyleView",
            "description_width": ""
          },
          "model_module_version": "1.5.0"
        },
        "9dde63cbe677493cb55c432958d52a6d": {
          "model_module": "@jupyter-widgets/controls",
          "model_name": "ProgressStyleModel",
          "state": {
            "_model_module": "@jupyter-widgets/controls",
            "_model_module_version": "1.5.0",
            "_model_name": "ProgressStyleModel",
            "_view_count": null,
            "_view_module": "@jupyter-widgets/base",
            "_view_module_version": "1.2.0",
            "_view_name": "StyleView",
            "bar_color": null,
            "description_width": "initial"
          },
          "model_module_version": "1.5.0"
        },
        "9e9bb264e8284c8196c44a408d7191eb": {
          "model_module": "@jupyter-widgets/controls",
          "model_name": "ProgressStyleModel",
          "state": {
            "_model_module": "@jupyter-widgets/controls",
            "_model_module_version": "1.5.0",
            "_model_name": "ProgressStyleModel",
            "_view_count": null,
            "_view_module": "@jupyter-widgets/base",
            "_view_module_version": "1.2.0",
            "_view_name": "StyleView",
            "bar_color": null,
            "description_width": "initial"
          },
          "model_module_version": "1.5.0"
        },
        "a11f3df175a64f498dfa08660c06ab19": {
          "model_module": "@jupyter-widgets/base",
          "model_name": "LayoutModel",
          "state": {
            "_model_module": "@jupyter-widgets/base",
            "_model_module_version": "1.2.0",
            "_model_name": "LayoutModel",
            "_view_count": null,
            "_view_module": "@jupyter-widgets/base",
            "_view_module_version": "1.2.0",
            "_view_name": "LayoutView",
            "align_content": null,
            "align_items": null,
            "align_self": null,
            "border": null,
            "bottom": null,
            "display": null,
            "flex": null,
            "flex_flow": null,
            "grid_area": null,
            "grid_auto_columns": null,
            "grid_auto_flow": null,
            "grid_auto_rows": null,
            "grid_column": null,
            "grid_gap": null,
            "grid_row": null,
            "grid_template_areas": null,
            "grid_template_columns": null,
            "grid_template_rows": null,
            "height": null,
            "justify_content": null,
            "justify_items": null,
            "left": null,
            "margin": null,
            "max_height": null,
            "max_width": null,
            "min_height": null,
            "min_width": null,
            "object_fit": null,
            "object_position": null,
            "order": null,
            "overflow": null,
            "overflow_x": null,
            "overflow_y": null,
            "padding": null,
            "right": null,
            "top": null,
            "visibility": null,
            "width": null
          },
          "model_module_version": "1.2.0"
        },
        "a4af36959df646f68afb5396c0506672": {
          "model_module": "@jupyter-widgets/controls",
          "model_name": "HTMLModel",
          "state": {
            "_dom_classes": [],
            "_model_module": "@jupyter-widgets/controls",
            "_model_module_version": "1.5.0",
            "_model_name": "HTMLModel",
            "_view_count": null,
            "_view_module": "@jupyter-widgets/controls",
            "_view_module_version": "1.5.0",
            "_view_name": "HTMLView",
            "description": "",
            "description_tooltip": null,
            "layout": "IPY_MODEL_17353f67019746c887c56914161a8ecf",
            "placeholder": "​",
            "style": "IPY_MODEL_dc0a248ec4b34b639d26fa726654587f",
            "value": " 26/26 [01:15&lt;00:00,  2.91s/it]"
          },
          "model_module_version": "1.5.0"
        },
        "a4bef748c0534670b29e6db300e98353": {
          "model_module": "@jupyter-widgets/controls",
          "model_name": "FloatProgressModel",
          "state": {
            "_dom_classes": [],
            "_model_module": "@jupyter-widgets/controls",
            "_model_module_version": "1.5.0",
            "_model_name": "FloatProgressModel",
            "_view_count": null,
            "_view_module": "@jupyter-widgets/controls",
            "_view_module_version": "1.5.0",
            "_view_name": "ProgressView",
            "bar_style": "success",
            "description": "100%",
            "description_tooltip": null,
            "layout": "IPY_MODEL_13f93ba7576145fea296bfd9d6393564",
            "max": 26,
            "min": 0,
            "orientation": "horizontal",
            "style": "IPY_MODEL_9e9bb264e8284c8196c44a408d7191eb",
            "value": 26
          },
          "model_module_version": "1.5.0"
        },
        "a5db48b6ab6345598047453ca72c52af": {
          "model_module": "@jupyter-widgets/controls",
          "model_name": "HBoxModel",
          "state": {
            "_dom_classes": [],
            "_model_module": "@jupyter-widgets/controls",
            "_model_module_version": "1.5.0",
            "_model_name": "HBoxModel",
            "_view_count": null,
            "_view_module": "@jupyter-widgets/controls",
            "_view_module_version": "1.5.0",
            "_view_name": "HBoxView",
            "box_style": "",
            "children": [
              "IPY_MODEL_ca21bbd7adea43d6bbea335bcb129b5e",
              "IPY_MODEL_2665e233daad4d788541749463b9deb6"
            ],
            "layout": "IPY_MODEL_091dbd6bed0f4031b462e71541186c31"
          },
          "model_module_version": "1.5.0"
        },
        "ab4599f0013e42229e478ac9024b5800": {
          "model_module": "@jupyter-widgets/controls",
          "model_name": "DescriptionStyleModel",
          "state": {
            "_model_module": "@jupyter-widgets/controls",
            "_model_module_version": "1.5.0",
            "_model_name": "DescriptionStyleModel",
            "_view_count": null,
            "_view_module": "@jupyter-widgets/base",
            "_view_module_version": "1.2.0",
            "_view_name": "StyleView",
            "description_width": ""
          },
          "model_module_version": "1.5.0"
        },
        "b4d2e286d8054634abd485084689ba8c": {
          "model_module": "@jupyter-widgets/base",
          "model_name": "LayoutModel",
          "state": {
            "_model_module": "@jupyter-widgets/base",
            "_model_module_version": "1.2.0",
            "_model_name": "LayoutModel",
            "_view_count": null,
            "_view_module": "@jupyter-widgets/base",
            "_view_module_version": "1.2.0",
            "_view_name": "LayoutView",
            "align_content": null,
            "align_items": null,
            "align_self": null,
            "border": null,
            "bottom": null,
            "display": null,
            "flex": null,
            "flex_flow": null,
            "grid_area": null,
            "grid_auto_columns": null,
            "grid_auto_flow": null,
            "grid_auto_rows": null,
            "grid_column": null,
            "grid_gap": null,
            "grid_row": null,
            "grid_template_areas": null,
            "grid_template_columns": null,
            "grid_template_rows": null,
            "height": null,
            "justify_content": null,
            "justify_items": null,
            "left": null,
            "margin": null,
            "max_height": null,
            "max_width": null,
            "min_height": null,
            "min_width": null,
            "object_fit": null,
            "object_position": null,
            "order": null,
            "overflow": null,
            "overflow_x": null,
            "overflow_y": null,
            "padding": null,
            "right": null,
            "top": null,
            "visibility": null,
            "width": null
          },
          "model_module_version": "1.2.0"
        },
        "b53d221621474cd2a31d62c66ec5b3cb": {
          "model_module": "@jupyter-widgets/base",
          "model_name": "LayoutModel",
          "state": {
            "_model_module": "@jupyter-widgets/base",
            "_model_module_version": "1.2.0",
            "_model_name": "LayoutModel",
            "_view_count": null,
            "_view_module": "@jupyter-widgets/base",
            "_view_module_version": "1.2.0",
            "_view_name": "LayoutView",
            "align_content": null,
            "align_items": null,
            "align_self": null,
            "border": null,
            "bottom": null,
            "display": null,
            "flex": null,
            "flex_flow": null,
            "grid_area": null,
            "grid_auto_columns": null,
            "grid_auto_flow": null,
            "grid_auto_rows": null,
            "grid_column": null,
            "grid_gap": null,
            "grid_row": null,
            "grid_template_areas": null,
            "grid_template_columns": null,
            "grid_template_rows": null,
            "height": null,
            "justify_content": null,
            "justify_items": null,
            "left": null,
            "margin": null,
            "max_height": null,
            "max_width": null,
            "min_height": null,
            "min_width": null,
            "object_fit": null,
            "object_position": null,
            "order": null,
            "overflow": null,
            "overflow_x": null,
            "overflow_y": null,
            "padding": null,
            "right": null,
            "top": null,
            "visibility": null,
            "width": null
          },
          "model_module_version": "1.2.0"
        },
        "bd91b594be5d4da4a4548fe3a45f876a": {
          "model_module": "@jupyter-widgets/base",
          "model_name": "LayoutModel",
          "state": {
            "_model_module": "@jupyter-widgets/base",
            "_model_module_version": "1.2.0",
            "_model_name": "LayoutModel",
            "_view_count": null,
            "_view_module": "@jupyter-widgets/base",
            "_view_module_version": "1.2.0",
            "_view_name": "LayoutView",
            "align_content": null,
            "align_items": null,
            "align_self": null,
            "border": null,
            "bottom": null,
            "display": null,
            "flex": null,
            "flex_flow": null,
            "grid_area": null,
            "grid_auto_columns": null,
            "grid_auto_flow": null,
            "grid_auto_rows": null,
            "grid_column": null,
            "grid_gap": null,
            "grid_row": null,
            "grid_template_areas": null,
            "grid_template_columns": null,
            "grid_template_rows": null,
            "height": null,
            "justify_content": null,
            "justify_items": null,
            "left": null,
            "margin": null,
            "max_height": null,
            "max_width": null,
            "min_height": null,
            "min_width": null,
            "object_fit": null,
            "object_position": null,
            "order": null,
            "overflow": null,
            "overflow_x": null,
            "overflow_y": null,
            "padding": null,
            "right": null,
            "top": null,
            "visibility": null,
            "width": null
          },
          "model_module_version": "1.2.0"
        },
        "c13fe17713f7418e83e21ce40f55b1d7": {
          "model_module": "@jupyter-widgets/controls",
          "model_name": "DescriptionStyleModel",
          "state": {
            "_model_module": "@jupyter-widgets/controls",
            "_model_module_version": "1.5.0",
            "_model_name": "DescriptionStyleModel",
            "_view_count": null,
            "_view_module": "@jupyter-widgets/base",
            "_view_module_version": "1.2.0",
            "_view_name": "StyleView",
            "description_width": ""
          },
          "model_module_version": "1.5.0"
        },
        "c3ebdca2a67b405c8cd3fbcb47aacf83": {
          "model_module": "@jupyter-widgets/controls",
          "model_name": "HBoxModel",
          "state": {
            "_dom_classes": [],
            "_model_module": "@jupyter-widgets/controls",
            "_model_module_version": "1.5.0",
            "_model_name": "HBoxModel",
            "_view_count": null,
            "_view_module": "@jupyter-widgets/controls",
            "_view_module_version": "1.5.0",
            "_view_name": "HBoxView",
            "box_style": "",
            "children": [
              "IPY_MODEL_f012291576384014abbc539b6a809891",
              "IPY_MODEL_8c78f9523bc34b84904dd7e7da3ea2f4"
            ],
            "layout": "IPY_MODEL_2e09dd3f1ffd4092a4b1e7bf788584c2"
          },
          "model_module_version": "1.5.0"
        },
        "c4bfa7a519f64f5c9289f39fbef057b7": {
          "model_module": "@jupyter-widgets/controls",
          "model_name": "FloatProgressModel",
          "state": {
            "_dom_classes": [],
            "_model_module": "@jupyter-widgets/controls",
            "_model_module_version": "1.5.0",
            "_model_name": "FloatProgressModel",
            "_view_count": null,
            "_view_module": "@jupyter-widgets/controls",
            "_view_module_version": "1.5.0",
            "_view_name": "ProgressView",
            "bar_style": "success",
            "description": "100%",
            "description_tooltip": null,
            "layout": "IPY_MODEL_efc7a2d4a47a4164a3b13636fd5d10c8",
            "max": 26,
            "min": 0,
            "orientation": "horizontal",
            "style": "IPY_MODEL_48642c53200a4566ba7c224f0e7c6bb1",
            "value": 26
          },
          "model_module_version": "1.5.0"
        },
        "c824552aa746465b9e5c960e7c499e96": {
          "model_module": "@jupyter-widgets/base",
          "model_name": "LayoutModel",
          "state": {
            "_model_module": "@jupyter-widgets/base",
            "_model_module_version": "1.2.0",
            "_model_name": "LayoutModel",
            "_view_count": null,
            "_view_module": "@jupyter-widgets/base",
            "_view_module_version": "1.2.0",
            "_view_name": "LayoutView",
            "align_content": null,
            "align_items": null,
            "align_self": null,
            "border": null,
            "bottom": null,
            "display": null,
            "flex": null,
            "flex_flow": null,
            "grid_area": null,
            "grid_auto_columns": null,
            "grid_auto_flow": null,
            "grid_auto_rows": null,
            "grid_column": null,
            "grid_gap": null,
            "grid_row": null,
            "grid_template_areas": null,
            "grid_template_columns": null,
            "grid_template_rows": null,
            "height": null,
            "justify_content": null,
            "justify_items": null,
            "left": null,
            "margin": null,
            "max_height": null,
            "max_width": null,
            "min_height": null,
            "min_width": null,
            "object_fit": null,
            "object_position": null,
            "order": null,
            "overflow": null,
            "overflow_x": null,
            "overflow_y": null,
            "padding": null,
            "right": null,
            "top": null,
            "visibility": null,
            "width": null
          },
          "model_module_version": "1.2.0"
        },
        "c8e36bd84fc241d0a3d6ed181bb99a21": {
          "model_module": "@jupyter-widgets/controls",
          "model_name": "HTMLModel",
          "state": {
            "_dom_classes": [],
            "_model_module": "@jupyter-widgets/controls",
            "_model_module_version": "1.5.0",
            "_model_name": "HTMLModel",
            "_view_count": null,
            "_view_module": "@jupyter-widgets/controls",
            "_view_module_version": "1.5.0",
            "_view_name": "HTMLView",
            "description": "",
            "description_tooltip": null,
            "layout": "IPY_MODEL_5d0f132d80c44b86964cebc19cd77d16",
            "placeholder": "​",
            "style": "IPY_MODEL_8f39129f6a7d49fe88a704bcd60417ee",
            "value": " 26/26 [01:45&lt;00:00,  4.06s/it]"
          },
          "model_module_version": "1.5.0"
        },
        "ca21bbd7adea43d6bbea335bcb129b5e": {
          "model_module": "@jupyter-widgets/controls",
          "model_name": "FloatProgressModel",
          "state": {
            "_dom_classes": [],
            "_model_module": "@jupyter-widgets/controls",
            "_model_module_version": "1.5.0",
            "_model_name": "FloatProgressModel",
            "_view_count": null,
            "_view_module": "@jupyter-widgets/controls",
            "_view_module_version": "1.5.0",
            "_view_name": "ProgressView",
            "bar_style": "success",
            "description": "100%",
            "description_tooltip": null,
            "layout": "IPY_MODEL_0bfe1287b0f049739222fdd984a1953b",
            "max": 26,
            "min": 0,
            "orientation": "horizontal",
            "style": "IPY_MODEL_2f5091be9bfe45008b0c787e4e2be404",
            "value": 26
          },
          "model_module_version": "1.5.0"
        },
        "cdf5a724955847c693becb2019c32b8e": {
          "model_module": "@jupyter-widgets/controls",
          "model_name": "HBoxModel",
          "state": {
            "_dom_classes": [],
            "_model_module": "@jupyter-widgets/controls",
            "_model_module_version": "1.5.0",
            "_model_name": "HBoxModel",
            "_view_count": null,
            "_view_module": "@jupyter-widgets/controls",
            "_view_module_version": "1.5.0",
            "_view_name": "HBoxView",
            "box_style": "",
            "children": [
              "IPY_MODEL_c4bfa7a519f64f5c9289f39fbef057b7",
              "IPY_MODEL_de8628afeb744144a36230f95929f17d"
            ],
            "layout": "IPY_MODEL_374a090625004041acd1eb070b2e2260"
          },
          "model_module_version": "1.5.0"
        },
        "cecf4a25652e424993ae1d56f182dc4e": {
          "model_module": "@jupyter-widgets/base",
          "model_name": "LayoutModel",
          "state": {
            "_model_module": "@jupyter-widgets/base",
            "_model_module_version": "1.2.0",
            "_model_name": "LayoutModel",
            "_view_count": null,
            "_view_module": "@jupyter-widgets/base",
            "_view_module_version": "1.2.0",
            "_view_name": "LayoutView",
            "align_content": null,
            "align_items": null,
            "align_self": null,
            "border": null,
            "bottom": null,
            "display": null,
            "flex": null,
            "flex_flow": null,
            "grid_area": null,
            "grid_auto_columns": null,
            "grid_auto_flow": null,
            "grid_auto_rows": null,
            "grid_column": null,
            "grid_gap": null,
            "grid_row": null,
            "grid_template_areas": null,
            "grid_template_columns": null,
            "grid_template_rows": null,
            "height": null,
            "justify_content": null,
            "justify_items": null,
            "left": null,
            "margin": null,
            "max_height": null,
            "max_width": null,
            "min_height": null,
            "min_width": null,
            "object_fit": null,
            "object_position": null,
            "order": null,
            "overflow": null,
            "overflow_x": null,
            "overflow_y": null,
            "padding": null,
            "right": null,
            "top": null,
            "visibility": null,
            "width": null
          },
          "model_module_version": "1.2.0"
        },
        "cfff98cad595492295d1a87ac86d82c9": {
          "model_module": "@jupyter-widgets/controls",
          "model_name": "HBoxModel",
          "state": {
            "_dom_classes": [],
            "_model_module": "@jupyter-widgets/controls",
            "_model_module_version": "1.5.0",
            "_model_name": "HBoxModel",
            "_view_count": null,
            "_view_module": "@jupyter-widgets/controls",
            "_view_module_version": "1.5.0",
            "_view_name": "HBoxView",
            "box_style": "",
            "children": [
              "IPY_MODEL_721cc6592be74c98a1b822ff16382675",
              "IPY_MODEL_d7cfa054e1664bc988135ea66de2d4a4"
            ],
            "layout": "IPY_MODEL_15e40f12524c47588b4b0e290a11b8d9"
          },
          "model_module_version": "1.5.0"
        },
        "d6b38fbcca0649a9ab52b05836d5c931": {
          "model_module": "@jupyter-widgets/base",
          "model_name": "LayoutModel",
          "state": {
            "_model_module": "@jupyter-widgets/base",
            "_model_module_version": "1.2.0",
            "_model_name": "LayoutModel",
            "_view_count": null,
            "_view_module": "@jupyter-widgets/base",
            "_view_module_version": "1.2.0",
            "_view_name": "LayoutView",
            "align_content": null,
            "align_items": null,
            "align_self": null,
            "border": null,
            "bottom": null,
            "display": null,
            "flex": null,
            "flex_flow": null,
            "grid_area": null,
            "grid_auto_columns": null,
            "grid_auto_flow": null,
            "grid_auto_rows": null,
            "grid_column": null,
            "grid_gap": null,
            "grid_row": null,
            "grid_template_areas": null,
            "grid_template_columns": null,
            "grid_template_rows": null,
            "height": null,
            "justify_content": null,
            "justify_items": null,
            "left": null,
            "margin": null,
            "max_height": null,
            "max_width": null,
            "min_height": null,
            "min_width": null,
            "object_fit": null,
            "object_position": null,
            "order": null,
            "overflow": null,
            "overflow_x": null,
            "overflow_y": null,
            "padding": null,
            "right": null,
            "top": null,
            "visibility": null,
            "width": null
          },
          "model_module_version": "1.2.0"
        },
        "d7cfa054e1664bc988135ea66de2d4a4": {
          "model_module": "@jupyter-widgets/controls",
          "model_name": "HTMLModel",
          "state": {
            "_dom_classes": [],
            "_model_module": "@jupyter-widgets/controls",
            "_model_module_version": "1.5.0",
            "_model_name": "HTMLModel",
            "_view_count": null,
            "_view_module": "@jupyter-widgets/controls",
            "_view_module_version": "1.5.0",
            "_view_name": "HTMLView",
            "description": "",
            "description_tooltip": null,
            "layout": "IPY_MODEL_e5aba23ab82649ba9c767b3e996679df",
            "placeholder": "​",
            "style": "IPY_MODEL_81b833545ab540d7ab7a715bfae4612b",
            "value": " 26/26 [00:24&lt;00:00,  1.07it/s]"
          },
          "model_module_version": "1.5.0"
        },
        "d8e3b9863827443da908997271440ad1": {
          "model_module": "@jupyter-widgets/controls",
          "model_name": "DescriptionStyleModel",
          "state": {
            "_model_module": "@jupyter-widgets/controls",
            "_model_module_version": "1.5.0",
            "_model_name": "DescriptionStyleModel",
            "_view_count": null,
            "_view_module": "@jupyter-widgets/base",
            "_view_module_version": "1.2.0",
            "_view_name": "StyleView",
            "description_width": ""
          },
          "model_module_version": "1.5.0"
        },
        "dc0a248ec4b34b639d26fa726654587f": {
          "model_module": "@jupyter-widgets/controls",
          "model_name": "DescriptionStyleModel",
          "state": {
            "_model_module": "@jupyter-widgets/controls",
            "_model_module_version": "1.5.0",
            "_model_name": "DescriptionStyleModel",
            "_view_count": null,
            "_view_module": "@jupyter-widgets/base",
            "_view_module_version": "1.2.0",
            "_view_name": "StyleView",
            "description_width": ""
          },
          "model_module_version": "1.5.0"
        },
        "de8628afeb744144a36230f95929f17d": {
          "model_module": "@jupyter-widgets/controls",
          "model_name": "HTMLModel",
          "state": {
            "_dom_classes": [],
            "_model_module": "@jupyter-widgets/controls",
            "_model_module_version": "1.5.0",
            "_model_name": "HTMLModel",
            "_view_count": null,
            "_view_module": "@jupyter-widgets/controls",
            "_view_module_version": "1.5.0",
            "_view_name": "HTMLView",
            "description": "",
            "description_tooltip": null,
            "layout": "IPY_MODEL_062c322c7849439b965ff94c36986b02",
            "placeholder": "​",
            "style": "IPY_MODEL_75a656319b1d4737aab0c112b593c3c1",
            "value": " 26/26 [00:24&lt;00:00,  1.05it/s]"
          },
          "model_module_version": "1.5.0"
        },
        "e2efb24c0b944800b4144e04589b5531": {
          "model_module": "@jupyter-widgets/controls",
          "model_name": "ProgressStyleModel",
          "state": {
            "_model_module": "@jupyter-widgets/controls",
            "_model_module_version": "1.5.0",
            "_model_name": "ProgressStyleModel",
            "_view_count": null,
            "_view_module": "@jupyter-widgets/base",
            "_view_module_version": "1.2.0",
            "_view_name": "StyleView",
            "bar_color": null,
            "description_width": "initial"
          },
          "model_module_version": "1.5.0"
        },
        "e3c0622728dc4787905cbccc41dae825": {
          "model_module": "@jupyter-widgets/controls",
          "model_name": "FloatProgressModel",
          "state": {
            "_dom_classes": [],
            "_model_module": "@jupyter-widgets/controls",
            "_model_module_version": "1.5.0",
            "_model_name": "FloatProgressModel",
            "_view_count": null,
            "_view_module": "@jupyter-widgets/controls",
            "_view_module_version": "1.5.0",
            "_view_name": "ProgressView",
            "bar_style": "success",
            "description": "100%",
            "description_tooltip": null,
            "layout": "IPY_MODEL_cecf4a25652e424993ae1d56f182dc4e",
            "max": 26,
            "min": 0,
            "orientation": "horizontal",
            "style": "IPY_MODEL_540e29d0a24b442fa6eafff179a5b1ea",
            "value": 26
          },
          "model_module_version": "1.5.0"
        },
        "e5397780209347c9b3268d1efeaaf73d": {
          "model_module": "@jupyter-widgets/controls",
          "model_name": "ProgressStyleModel",
          "state": {
            "_model_module": "@jupyter-widgets/controls",
            "_model_module_version": "1.5.0",
            "_model_name": "ProgressStyleModel",
            "_view_count": null,
            "_view_module": "@jupyter-widgets/base",
            "_view_module_version": "1.2.0",
            "_view_name": "StyleView",
            "bar_color": null,
            "description_width": "initial"
          },
          "model_module_version": "1.5.0"
        },
        "e5aba23ab82649ba9c767b3e996679df": {
          "model_module": "@jupyter-widgets/base",
          "model_name": "LayoutModel",
          "state": {
            "_model_module": "@jupyter-widgets/base",
            "_model_module_version": "1.2.0",
            "_model_name": "LayoutModel",
            "_view_count": null,
            "_view_module": "@jupyter-widgets/base",
            "_view_module_version": "1.2.0",
            "_view_name": "LayoutView",
            "align_content": null,
            "align_items": null,
            "align_self": null,
            "border": null,
            "bottom": null,
            "display": null,
            "flex": null,
            "flex_flow": null,
            "grid_area": null,
            "grid_auto_columns": null,
            "grid_auto_flow": null,
            "grid_auto_rows": null,
            "grid_column": null,
            "grid_gap": null,
            "grid_row": null,
            "grid_template_areas": null,
            "grid_template_columns": null,
            "grid_template_rows": null,
            "height": null,
            "justify_content": null,
            "justify_items": null,
            "left": null,
            "margin": null,
            "max_height": null,
            "max_width": null,
            "min_height": null,
            "min_width": null,
            "object_fit": null,
            "object_position": null,
            "order": null,
            "overflow": null,
            "overflow_x": null,
            "overflow_y": null,
            "padding": null,
            "right": null,
            "top": null,
            "visibility": null,
            "width": null
          },
          "model_module_version": "1.2.0"
        },
        "e7523d89746d4a199e6c1b88f447c8bf": {
          "model_module": "@jupyter-widgets/controls",
          "model_name": "HBoxModel",
          "state": {
            "_dom_classes": [],
            "_model_module": "@jupyter-widgets/controls",
            "_model_module_version": "1.5.0",
            "_model_name": "HBoxModel",
            "_view_count": null,
            "_view_module": "@jupyter-widgets/controls",
            "_view_module_version": "1.5.0",
            "_view_name": "HBoxView",
            "box_style": "",
            "children": [
              "IPY_MODEL_9937738cb225427e8bf842b5a74e66bf",
              "IPY_MODEL_c8e36bd84fc241d0a3d6ed181bb99a21"
            ],
            "layout": "IPY_MODEL_18a67e558e6e4078abbb5137eded08ed"
          },
          "model_module_version": "1.5.0"
        },
        "eb8fd82cd705461a9850596f7cecb95e": {
          "model_module": "@jupyter-widgets/controls",
          "model_name": "DescriptionStyleModel",
          "state": {
            "_model_module": "@jupyter-widgets/controls",
            "_model_module_version": "1.5.0",
            "_model_name": "DescriptionStyleModel",
            "_view_count": null,
            "_view_module": "@jupyter-widgets/base",
            "_view_module_version": "1.2.0",
            "_view_name": "StyleView",
            "description_width": ""
          },
          "model_module_version": "1.5.0"
        },
        "edbdb8485fdf4349997518ede98662cd": {
          "model_module": "@jupyter-widgets/controls",
          "model_name": "FloatProgressModel",
          "state": {
            "_dom_classes": [],
            "_model_module": "@jupyter-widgets/controls",
            "_model_module_version": "1.5.0",
            "_model_name": "FloatProgressModel",
            "_view_count": null,
            "_view_module": "@jupyter-widgets/controls",
            "_view_module_version": "1.5.0",
            "_view_name": "ProgressView",
            "bar_style": "success",
            "description": "100%",
            "description_tooltip": null,
            "layout": "IPY_MODEL_a11f3df175a64f498dfa08660c06ab19",
            "max": 26,
            "min": 0,
            "orientation": "horizontal",
            "style": "IPY_MODEL_4a8f218745094aaf9e499926323ffa6f",
            "value": 26
          },
          "model_module_version": "1.5.0"
        },
        "efc7a2d4a47a4164a3b13636fd5d10c8": {
          "model_module": "@jupyter-widgets/base",
          "model_name": "LayoutModel",
          "state": {
            "_model_module": "@jupyter-widgets/base",
            "_model_module_version": "1.2.0",
            "_model_name": "LayoutModel",
            "_view_count": null,
            "_view_module": "@jupyter-widgets/base",
            "_view_module_version": "1.2.0",
            "_view_name": "LayoutView",
            "align_content": null,
            "align_items": null,
            "align_self": null,
            "border": null,
            "bottom": null,
            "display": null,
            "flex": null,
            "flex_flow": null,
            "grid_area": null,
            "grid_auto_columns": null,
            "grid_auto_flow": null,
            "grid_auto_rows": null,
            "grid_column": null,
            "grid_gap": null,
            "grid_row": null,
            "grid_template_areas": null,
            "grid_template_columns": null,
            "grid_template_rows": null,
            "height": null,
            "justify_content": null,
            "justify_items": null,
            "left": null,
            "margin": null,
            "max_height": null,
            "max_width": null,
            "min_height": null,
            "min_width": null,
            "object_fit": null,
            "object_position": null,
            "order": null,
            "overflow": null,
            "overflow_x": null,
            "overflow_y": null,
            "padding": null,
            "right": null,
            "top": null,
            "visibility": null,
            "width": null
          },
          "model_module_version": "1.2.0"
        },
        "f012291576384014abbc539b6a809891": {
          "model_module": "@jupyter-widgets/controls",
          "model_name": "FloatProgressModel",
          "state": {
            "_dom_classes": [],
            "_model_module": "@jupyter-widgets/controls",
            "_model_module_version": "1.5.0",
            "_model_name": "FloatProgressModel",
            "_view_count": null,
            "_view_module": "@jupyter-widgets/controls",
            "_view_module_version": "1.5.0",
            "_view_name": "ProgressView",
            "bar_style": "success",
            "description": "100%",
            "description_tooltip": null,
            "layout": "IPY_MODEL_80b72d6bee664adda994653e51a59733",
            "max": 26,
            "min": 0,
            "orientation": "horizontal",
            "style": "IPY_MODEL_5d61e8c9ef1743d580143df86651017f",
            "value": 26
          },
          "model_module_version": "1.5.0"
        },
        "f022698bf2504ba4875366f6cf10cdec": {
          "model_module": "@jupyter-widgets/controls",
          "model_name": "DescriptionStyleModel",
          "state": {
            "_model_module": "@jupyter-widgets/controls",
            "_model_module_version": "1.5.0",
            "_model_name": "DescriptionStyleModel",
            "_view_count": null,
            "_view_module": "@jupyter-widgets/base",
            "_view_module_version": "1.2.0",
            "_view_name": "StyleView",
            "description_width": ""
          },
          "model_module_version": "1.5.0"
        },
        "f18c021a3107472ca0c59b6a3f46b8be": {
          "model_module": "@jupyter-widgets/controls",
          "model_name": "DescriptionStyleModel",
          "state": {
            "_model_module": "@jupyter-widgets/controls",
            "_model_module_version": "1.5.0",
            "_model_name": "DescriptionStyleModel",
            "_view_count": null,
            "_view_module": "@jupyter-widgets/base",
            "_view_module_version": "1.2.0",
            "_view_name": "StyleView",
            "description_width": ""
          },
          "model_module_version": "1.5.0"
        },
        "f995920d78444169897d8293e5d8f2ed": {
          "model_module": "@jupyter-widgets/base",
          "model_name": "LayoutModel",
          "state": {
            "_model_module": "@jupyter-widgets/base",
            "_model_module_version": "1.2.0",
            "_model_name": "LayoutModel",
            "_view_count": null,
            "_view_module": "@jupyter-widgets/base",
            "_view_module_version": "1.2.0",
            "_view_name": "LayoutView",
            "align_content": null,
            "align_items": null,
            "align_self": null,
            "border": null,
            "bottom": null,
            "display": null,
            "flex": null,
            "flex_flow": null,
            "grid_area": null,
            "grid_auto_columns": null,
            "grid_auto_flow": null,
            "grid_auto_rows": null,
            "grid_column": null,
            "grid_gap": null,
            "grid_row": null,
            "grid_template_areas": null,
            "grid_template_columns": null,
            "grid_template_rows": null,
            "height": null,
            "justify_content": null,
            "justify_items": null,
            "left": null,
            "margin": null,
            "max_height": null,
            "max_width": null,
            "min_height": null,
            "min_width": null,
            "object_fit": null,
            "object_position": null,
            "order": null,
            "overflow": null,
            "overflow_x": null,
            "overflow_y": null,
            "padding": null,
            "right": null,
            "top": null,
            "visibility": null,
            "width": null
          },
          "model_module_version": "1.2.0"
        },
        "faef9ad6882940be8208a181c00a45f9": {
          "model_module": "@jupyter-widgets/base",
          "model_name": "LayoutModel",
          "state": {
            "_model_module": "@jupyter-widgets/base",
            "_model_module_version": "1.2.0",
            "_model_name": "LayoutModel",
            "_view_count": null,
            "_view_module": "@jupyter-widgets/base",
            "_view_module_version": "1.2.0",
            "_view_name": "LayoutView",
            "align_content": null,
            "align_items": null,
            "align_self": null,
            "border": null,
            "bottom": null,
            "display": null,
            "flex": null,
            "flex_flow": null,
            "grid_area": null,
            "grid_auto_columns": null,
            "grid_auto_flow": null,
            "grid_auto_rows": null,
            "grid_column": null,
            "grid_gap": null,
            "grid_row": null,
            "grid_template_areas": null,
            "grid_template_columns": null,
            "grid_template_rows": null,
            "height": null,
            "justify_content": null,
            "justify_items": null,
            "left": null,
            "margin": null,
            "max_height": null,
            "max_width": null,
            "min_height": null,
            "min_width": null,
            "object_fit": null,
            "object_position": null,
            "order": null,
            "overflow": null,
            "overflow_x": null,
            "overflow_y": null,
            "padding": null,
            "right": null,
            "top": null,
            "visibility": null,
            "width": null
          },
          "model_module_version": "1.2.0"
        }
      }
    },
    "kaggle": {
      "accelerator": "gpu",
      "dataSources": [],
      "dockerImageVersionId": 30636,
      "isInternetEnabled": true,
      "language": "python",
      "sourceType": "notebook",
      "isGpuEnabled": true
    }
  },
  "nbformat_minor": 0,
  "nbformat": 4,
  "cells": [
    {
      "cell_type": "markdown",
      "metadata": {
        "id": "view-in-github",
        "colab_type": "text"
      },
      "source": [
        "<a href=\"https://colab.research.google.com/github/sushanttwayana/ML-DL-Strategies-Toolkit/blob/main/transfer_learning.ipynb\" target=\"_parent\"><img src=\"https://colab.research.google.com/assets/colab-badge.svg\" alt=\"Open In Colab\"/></a>"
      ]
    },
    {
      "cell_type": "markdown",
      "source": [
        "# Transfer Learning for Image Classification in PyTorch\n",
        "\n",
        "How a CNN learns ([source](https://developer.nvidia.com/discover/convolutional-neural-network)):\n",
        "\n",
        "![cnn-learning](https://developer.nvidia.com/sites/default/files/pictures/2018/convolutional_neural_network.png)\n",
        "\n",
        "Layer visualization ([source](https://medium.com/analytics-vidhya/deep-learning-visualization-and-interpretation-of-neural-networks-2f3f82f501c5)):\n",
        "\n",
        "![cnn-learning](https://miro.medium.com/max/1610/1*WysCJ6Ynecvviwctt6WDlQ.png)\n"
      ],
      "metadata": {
        "id": "oJBKy-KZcz7N"
      }
    },
    {
      "cell_type": "markdown",
      "source": [
        "**Transfer Learning**\n",
        "\n",
        "The idea behind the transfer learning is that we take a CNN that has already been trained on the very large dataset called pretrained models(there is a large dataset which contains 1million categories across thousands categories and several companies have trained on this ImageNet dataset) and then we use some of the layers of this model to train custom models that we are working on. The features learned in lower layers low-level feature, mid-level, high-level features and they are going to be useful to solve any image classfication problem in general.The only thing that we might need to change may be classifier at the very end."
      ],
      "metadata": {
        "id": "kee273f5A-L0"
      }
    },
    {
      "cell_type": "markdown",
      "source": [
        "## Downloading the Dataset\n",
        "\n",
        "We'll use the Oxford-IIIT Pets dataset from https://course.fast.ai/datasets . It is 37 category (breeds) pet dataset with roughly 200 images for each class. The images have a large variations in scale, pose and lighting."
      ],
      "metadata": {
        "id": "z5dyyvpZdOY8"
      }
    },
    {
      "cell_type": "code",
      "source": [
        "from torchvision.datasets.utils import download_url"
      ],
      "metadata": {
        "id": "MQcZETb0HKR7",
        "execution": {
          "iopub.status.busy": "2024-01-16T11:04:10.022892Z",
          "iopub.execute_input": "2024-01-16T11:04:10.023570Z",
          "iopub.status.idle": "2024-01-16T11:04:10.027888Z",
          "shell.execute_reply.started": "2024-01-16T11:04:10.023536Z",
          "shell.execute_reply": "2024-01-16T11:04:10.026893Z"
        },
        "trusted": true
      },
      "execution_count": null,
      "outputs": []
    },
    {
      "cell_type": "code",
      "source": [
        "download_url('https://s3.amazonaws.com/fast-ai-imageclas/oxford-iiit-pet.tgz', '.')"
      ],
      "metadata": {
        "colab": {
          "base_uri": "https://localhost:8080/"
        },
        "id": "f1J5v5UwHp1J",
        "outputId": "ca7accf5-2248-413d-a6ab-19fb3b6e01fd",
        "execution": {
          "iopub.status.busy": "2024-01-16T10:49:13.181360Z",
          "iopub.execute_input": "2024-01-16T10:49:13.181867Z",
          "iopub.status.idle": "2024-01-16T10:50:01.076664Z",
          "shell.execute_reply.started": "2024-01-16T10:49:13.181833Z",
          "shell.execute_reply": "2024-01-16T10:50:01.075616Z"
        },
        "trusted": true
      },
      "execution_count": null,
      "outputs": [
        {
          "name": "stdout",
          "text": "Downloading https://s3.amazonaws.com/fast-ai-imageclas/oxford-iiit-pet.tgz to ./oxford-iiit-pet.tgz\n",
          "output_type": "stream"
        },
        {
          "name": "stderr",
          "text": "100%|██████████| 811706944/811706944 [00:46<00:00, 17570282.18it/s]\n",
          "output_type": "stream"
        }
      ]
    },
    {
      "cell_type": "code",
      "source": [
        "import tarfile\n",
        "\n",
        "with tarfile.open('./oxford-iiit-pet.tgz', 'r:gz') as tar:\n",
        "    tar.extractall(path='./data')"
      ],
      "metadata": {
        "id": "iQYM4RRCH02h",
        "execution": {
          "iopub.status.busy": "2024-01-16T11:02:15.774305Z",
          "iopub.execute_input": "2024-01-16T11:02:15.775205Z",
          "iopub.status.idle": "2024-01-16T11:02:24.637123Z",
          "shell.execute_reply.started": "2024-01-16T11:02:15.775169Z",
          "shell.execute_reply": "2024-01-16T11:02:24.636175Z"
        },
        "trusted": true
      },
      "execution_count": null,
      "outputs": []
    },
    {
      "cell_type": "code",
      "source": [
        "from torch.utils.data import Dataset"
      ],
      "metadata": {
        "id": "TUVtGLztIMkP",
        "execution": {
          "iopub.status.busy": "2024-01-16T11:02:32.370396Z",
          "iopub.execute_input": "2024-01-16T11:02:32.371203Z",
          "iopub.status.idle": "2024-01-16T11:02:32.376579Z",
          "shell.execute_reply.started": "2024-01-16T11:02:32.371160Z",
          "shell.execute_reply": "2024-01-16T11:02:32.375520Z"
        },
        "trusted": true
      },
      "execution_count": null,
      "outputs": []
    },
    {
      "cell_type": "code",
      "source": [
        "import os\n",
        "\n",
        "DATA_DIR = './data/oxford-iiit-pet/images'\n",
        "\n",
        "files = os.listdir(DATA_DIR)\n",
        "files[:5]"
      ],
      "metadata": {
        "colab": {
          "base_uri": "https://localhost:8080/"
        },
        "id": "GYzdvsRyKpyB",
        "outputId": "0fa5618b-80e5-4ff1-ac19-a65d5aa1fa9e",
        "execution": {
          "iopub.status.busy": "2024-01-16T11:02:34.485866Z",
          "iopub.execute_input": "2024-01-16T11:02:34.486786Z",
          "iopub.status.idle": "2024-01-16T11:02:34.501867Z",
          "shell.execute_reply.started": "2024-01-16T11:02:34.486744Z",
          "shell.execute_reply": "2024-01-16T11:02:34.500866Z"
        },
        "trusted": true
      },
      "execution_count": null,
      "outputs": [
        {
          "execution_count": 6,
          "output_type": "execute_result",
          "data": {
            "text/plain": "['great_pyrenees_91.jpg',\n 'Maine_Coon_8.jpg',\n 'newfoundland_130.jpg',\n 'Abyssinian_49.jpg',\n 'yorkshire_terrier_54.jpg']"
          },
          "metadata": {}
        }
      ]
    },
    {
      "cell_type": "markdown",
      "source": [
        "The class is actually the part of filename\n"
      ],
      "metadata": {
        "id": "Ew-OnYTBA-Mu"
      }
    },
    {
      "cell_type": "code",
      "source": [
        "def parse_breed(fname):\n",
        "    parts = fname.split('_')\n",
        "    return ' '.join(parts[:-1])"
      ],
      "metadata": {
        "id": "YXYNOmK2K6bc",
        "execution": {
          "iopub.status.busy": "2024-01-16T11:02:38.053323Z",
          "iopub.execute_input": "2024-01-16T11:02:38.053924Z",
          "iopub.status.idle": "2024-01-16T11:02:38.058651Z",
          "shell.execute_reply.started": "2024-01-16T11:02:38.053892Z",
          "shell.execute_reply": "2024-01-16T11:02:38.057570Z"
        },
        "trusted": true
      },
      "execution_count": null,
      "outputs": []
    },
    {
      "cell_type": "code",
      "source": [
        "parse_breed(files[4])"
      ],
      "metadata": {
        "colab": {
          "base_uri": "https://localhost:8080/",
          "height": 37
        },
        "id": "PanYoSzZLMt9",
        "outputId": "c3e8fe92-cec6-41e6-aff9-56cbc900de94",
        "execution": {
          "iopub.status.busy": "2024-01-16T11:02:40.318909Z",
          "iopub.execute_input": "2024-01-16T11:02:40.320077Z",
          "iopub.status.idle": "2024-01-16T11:02:40.325790Z",
          "shell.execute_reply.started": "2024-01-16T11:02:40.320037Z",
          "shell.execute_reply": "2024-01-16T11:02:40.324726Z"
        },
        "trusted": true
      },
      "execution_count": null,
      "outputs": [
        {
          "execution_count": 9,
          "output_type": "execute_result",
          "data": {
            "text/plain": "'yorkshire terrier'"
          },
          "metadata": {}
        }
      ]
    },
    {
      "cell_type": "code",
      "source": [
        "from PIL import Image\n",
        "\n",
        "def open_image(path):\n",
        "    with open(path, 'rb') as f:\n",
        "        img = Image.open(f)\n",
        "        return img.convert('RGB')"
      ],
      "metadata": {
        "id": "opuCsWGVLwDc",
        "execution": {
          "iopub.status.busy": "2024-01-16T11:02:43.952320Z",
          "iopub.execute_input": "2024-01-16T11:02:43.953219Z",
          "iopub.status.idle": "2024-01-16T11:02:43.958026Z",
          "shell.execute_reply.started": "2024-01-16T11:02:43.953185Z",
          "shell.execute_reply": "2024-01-16T11:02:43.956866Z"
        },
        "trusted": true
      },
      "execution_count": null,
      "outputs": []
    },
    {
      "cell_type": "code",
      "source": [
        "import matplotlib.pyplot as plt\n",
        "\n",
        "plt.imshow(open_image(os.path.join(DATA_DIR, files[4])))"
      ],
      "metadata": {
        "execution": {
          "iopub.status.busy": "2024-01-16T11:02:46.132139Z",
          "iopub.execute_input": "2024-01-16T11:02:46.133164Z",
          "iopub.status.idle": "2024-01-16T11:02:46.494383Z",
          "shell.execute_reply.started": "2024-01-16T11:02:46.133131Z",
          "shell.execute_reply": "2024-01-16T11:02:46.493380Z"
        },
        "trusted": true,
        "id": "W3RB-HilA-My",
        "outputId": "adeab90e-6e38-4655-c2f9-1c71b3420826"
      },
      "execution_count": null,
      "outputs": [
        {
          "execution_count": 12,
          "output_type": "execute_result",
          "data": {
            "text/plain": "<matplotlib.image.AxesImage at 0x79386f423220>"
          },
          "metadata": {}
        },
        {
          "output_type": "display_data",
          "data": {
            "text/plain": "<Figure size 640x480 with 1 Axes>",
            "image/png": "[encoded data removed]"
          },
          "metadata": {}
        }
      ]
    },
    {
      "cell_type": "markdown",
      "source": [
        "## Creating a Custom PyTorch Dataset"
      ],
      "metadata": {
        "id": "soE56PiFdvFm"
      }
    },
    {
      "cell_type": "code",
      "source": [
        "import os\n",
        "import torch\n",
        "from torch.utils.data import Dataset\n",
        "\n",
        "class PetsDataset(Dataset):\n",
        "    def __init__(self, root, transform):\n",
        "        super().__init__()\n",
        "        self.root = root\n",
        "        self.files = [fname for fname in os.listdir(root) if fname.endswith('.jpg')]\n",
        "        self.classes = list(set(parse_breed(fname) for fname in files))\n",
        "        self.transform = transform\n",
        "\n",
        "    def __len__(self):\n",
        "        return len(self.files)\n",
        "\n",
        "    def __getitem__(self, i):\n",
        "        fname = self.files[i]\n",
        "        fpath = os.path.join(self.root, fname)\n",
        "        img = self.transform(open_image(fpath))\n",
        "        class_idx = self.classes.index(parse_breed(fname))\n",
        "        return img, class_idx"
      ],
      "metadata": {
        "id": "_6hzzAFSJYVd",
        "execution": {
          "iopub.status.busy": "2024-01-16T11:04:32.388544Z",
          "iopub.execute_input": "2024-01-16T11:04:32.389503Z",
          "iopub.status.idle": "2024-01-16T11:04:32.400304Z",
          "shell.execute_reply.started": "2024-01-16T11:04:32.389445Z",
          "shell.execute_reply": "2024-01-16T11:04:32.398935Z"
        },
        "trusted": true
      },
      "execution_count": null,
      "outputs": []
    },
    {
      "cell_type": "code",
      "source": [
        "import torchvision.transforms as T\n",
        "\n",
        "img_size = 224\n",
        "imagenet_stats = ([0.485, 0.456, 0.406], [0.229, 0.224, 0.225])\n",
        "dataset = PetsDataset(DATA_DIR, T.Compose([T.Resize(img_size),\n",
        "                                           T.Pad(8, padding_mode='reflect'),\n",
        "                                           T.RandomCrop(img_size),\n",
        "                                           T.ToTensor(),\n",
        "                                           T.Normalize(*imagenet_stats)]))"
      ],
      "metadata": {
        "id": "hqcdd4PQLosT",
        "execution": {
          "iopub.status.busy": "2024-01-16T11:04:34.959217Z",
          "iopub.execute_input": "2024-01-16T11:04:34.960086Z",
          "iopub.status.idle": "2024-01-16T11:04:34.979456Z",
          "shell.execute_reply.started": "2024-01-16T11:04:34.960054Z",
          "shell.execute_reply": "2024-01-16T11:04:34.978459Z"
        },
        "trusted": true
      },
      "execution_count": null,
      "outputs": []
    },
    {
      "cell_type": "code",
      "source": [
        "len(dataset)"
      ],
      "metadata": {
        "colab": {
          "base_uri": "https://localhost:8080/"
        },
        "id": "EMOugklHaMmP",
        "outputId": "620fd7d5-1c93-4df6-88d2-1a53f79b07e5",
        "execution": {
          "iopub.status.busy": "2024-01-16T11:04:38.635681Z",
          "iopub.execute_input": "2024-01-16T11:04:38.636545Z",
          "iopub.status.idle": "2024-01-16T11:04:38.642241Z",
          "shell.execute_reply.started": "2024-01-16T11:04:38.636508Z",
          "shell.execute_reply": "2024-01-16T11:04:38.641259Z"
        },
        "trusted": true
      },
      "execution_count": null,
      "outputs": [
        {
          "execution_count": 19,
          "output_type": "execute_result",
          "data": {
            "text/plain": "7390"
          },
          "metadata": {}
        }
      ]
    },
    {
      "cell_type": "code",
      "source": [
        "dataset.classes"
      ],
      "metadata": {
        "execution": {
          "iopub.status.busy": "2024-01-16T11:04:40.995687Z",
          "iopub.execute_input": "2024-01-16T11:04:40.996627Z",
          "iopub.status.idle": "2024-01-16T11:04:41.002930Z",
          "shell.execute_reply.started": "2024-01-16T11:04:40.996575Z",
          "shell.execute_reply": "2024-01-16T11:04:41.001997Z"
        },
        "trusted": true,
        "id": "dFIQhUFrA-M3",
        "outputId": "84d34b92-7d83-47e5-e2c9-d2c71c0be2da"
      },
      "execution_count": null,
      "outputs": [
        {
          "execution_count": 20,
          "output_type": "execute_result",
          "data": {
            "text/plain": "['Sphynx',\n 'saint bernard',\n 'British Shorthair',\n 'keeshond',\n 'wheaten terrier',\n 'Abyssinian',\n 'basset hound',\n 'pomeranian',\n 'Persian',\n 'havanese',\n 'newfoundland',\n 'english cocker spaniel',\n 'Siamese',\n 'great pyrenees',\n 'samoyed',\n 'Birman',\n 'beagle',\n 'american bulldog',\n 'japanese chin',\n 'yorkshire terrier',\n 'chihuahua',\n 'Bombay',\n 'Bengal',\n 'american pit bull terrier',\n 'shiba inu',\n 'miniature pinscher',\n 'boxer',\n 'german shorthaired',\n 'Maine Coon',\n 'Ragdoll',\n 'scottish terrier',\n 'pug',\n 'english setter',\n 'Egyptian Mau',\n 'leonberger',\n 'Russian Blue',\n 'staffordshire bull terrier']"
          },
          "metadata": {}
        }
      ]
    },
    {
      "cell_type": "code",
      "source": [
        "len(dataset.classes)"
      ],
      "metadata": {
        "execution": {
          "iopub.status.busy": "2024-01-16T11:04:44.501142Z",
          "iopub.execute_input": "2024-01-16T11:04:44.501523Z",
          "iopub.status.idle": "2024-01-16T11:04:44.507705Z",
          "shell.execute_reply.started": "2024-01-16T11:04:44.501486Z",
          "shell.execute_reply": "2024-01-16T11:04:44.506753Z"
        },
        "trusted": true,
        "id": "aeSEWd7cA-M3",
        "outputId": "9b880220-5e84-42bf-f33d-7f0492763b2d"
      },
      "execution_count": null,
      "outputs": [
        {
          "execution_count": 21,
          "output_type": "execute_result",
          "data": {
            "text/plain": "37"
          },
          "metadata": {}
        }
      ]
    },
    {
      "cell_type": "code",
      "source": [
        "import torch\n",
        "import matplotlib.pyplot as plt\n",
        "%matplotlib inline\n",
        "\n",
        "def denormalize(images, means, stds):\n",
        "    if len(images.shape) == 3:\n",
        "        images = images.unsqueeze(0)\n",
        "    means = torch.tensor(means).reshape(1, 3, 1, 1)\n",
        "    stds = torch.tensor(stds).reshape(1, 3, 1, 1)\n",
        "    return images * stds + means\n",
        "\n",
        "def show_image(img_tensor, label):\n",
        "    print('Label:', dataset.classes[label], '(' + str(label) + ')')\n",
        "    img_tensor = denormalize(img_tensor, *imagenet_stats)[0].permute((1, 2, 0))\n",
        "    plt.imshow(img_tensor)"
      ],
      "metadata": {
        "id": "90E8gWNbMJYe",
        "execution": {
          "iopub.status.busy": "2024-01-16T11:04:48.064203Z",
          "iopub.execute_input": "2024-01-16T11:04:48.065146Z",
          "iopub.status.idle": "2024-01-16T11:04:48.077792Z",
          "shell.execute_reply.started": "2024-01-16T11:04:48.065103Z",
          "shell.execute_reply": "2024-01-16T11:04:48.076527Z"
        },
        "trusted": true
      },
      "execution_count": null,
      "outputs": []
    },
    {
      "cell_type": "code",
      "source": [
        "show_image(*dataset[2])"
      ],
      "metadata": {
        "colab": {
          "base_uri": "https://localhost:8080/",
          "height": 286
        },
        "id": "k4ZE57pEMd3b",
        "outputId": "ec610362-d20a-4542-bea4-4fc89bb3de97",
        "execution": {
          "iopub.status.busy": "2024-01-16T11:04:51.705326Z",
          "iopub.execute_input": "2024-01-16T11:04:51.706197Z",
          "iopub.status.idle": "2024-01-16T11:04:52.185558Z",
          "shell.execute_reply.started": "2024-01-16T11:04:51.706163Z",
          "shell.execute_reply": "2024-01-16T11:04:52.184538Z"
        },
        "trusted": true
      },
      "execution_count": null,
      "outputs": [
        {
          "name": "stdout",
          "text": "Label: newfoundland (10)\n",
          "output_type": "stream"
        },
        {
          "output_type": "display_data",
          "data": {
            "text/plain": "<Figure size 640x480 with 1 Axes>",
            "image/png": "[encoded data removed]"
          },
          "metadata": {}
        }
      ]
    },
    {
      "cell_type": "markdown",
      "source": [
        "## Creating Training and Validation Sets"
      ],
      "metadata": {
        "id": "QBcg3QCXdUs2"
      }
    },
    {
      "cell_type": "code",
      "source": [
        "from torch.utils.data import random_split"
      ],
      "metadata": {
        "id": "sGRlQydrNhch",
        "execution": {
          "iopub.status.busy": "2024-01-16T11:04:56.462634Z",
          "iopub.execute_input": "2024-01-16T11:04:56.463305Z",
          "iopub.status.idle": "2024-01-16T11:04:56.467519Z",
          "shell.execute_reply.started": "2024-01-16T11:04:56.463269Z",
          "shell.execute_reply": "2024-01-16T11:04:56.466600Z"
        },
        "trusted": true
      },
      "execution_count": null,
      "outputs": []
    },
    {
      "cell_type": "code",
      "source": [
        "val_pct = 0.1\n",
        "val_size = int(val_pct * len(dataset))\n",
        "\n",
        "train_ds, valid_ds = random_split(dataset, [len(dataset) - val_size, val_size])"
      ],
      "metadata": {
        "id": "R24KaIozPvUZ",
        "execution": {
          "iopub.status.busy": "2024-01-16T11:04:58.708887Z",
          "iopub.execute_input": "2024-01-16T11:04:58.709617Z",
          "iopub.status.idle": "2024-01-16T11:04:58.716700Z",
          "shell.execute_reply.started": "2024-01-16T11:04:58.709582Z",
          "shell.execute_reply": "2024-01-16T11:04:58.715846Z"
        },
        "trusted": true
      },
      "execution_count": null,
      "outputs": []
    },
    {
      "cell_type": "code",
      "source": [
        "from torch.utils.data import DataLoader\n",
        "batch_size = 256\n",
        "\n",
        "train_dl = DataLoader(train_ds, batch_size, shuffle=True, num_workers=4, pin_memory=True)\n",
        "valid_dl = DataLoader(valid_ds, batch_size*2, num_workers=4, pin_memory=True)"
      ],
      "metadata": {
        "id": "K2KSDOlVP6Rh",
        "execution": {
          "iopub.status.busy": "2024-01-16T11:05:10.477808Z",
          "iopub.execute_input": "2024-01-16T11:05:10.478560Z",
          "iopub.status.idle": "2024-01-16T11:05:10.483506Z",
          "shell.execute_reply.started": "2024-01-16T11:05:10.478529Z",
          "shell.execute_reply": "2024-01-16T11:05:10.482584Z"
        },
        "trusted": true
      },
      "execution_count": null,
      "outputs": []
    },
    {
      "cell_type": "code",
      "source": [
        "print(len(train_dl))\n",
        "print(len(valid_dl))"
      ],
      "metadata": {
        "execution": {
          "iopub.status.busy": "2024-01-16T11:05:47.999913Z",
          "iopub.execute_input": "2024-01-16T11:05:48.000312Z",
          "iopub.status.idle": "2024-01-16T11:05:48.006044Z",
          "shell.execute_reply.started": "2024-01-16T11:05:48.000279Z",
          "shell.execute_reply": "2024-01-16T11:05:48.005044Z"
        },
        "trusted": true,
        "id": "jBNfKtRqA-M5",
        "outputId": "64da7aad-b87c-4663-9eae-9df3747a8956"
      },
      "execution_count": null,
      "outputs": [
        {
          "name": "stdout",
          "text": "26\n2\n",
          "output_type": "stream"
        }
      ]
    },
    {
      "cell_type": "code",
      "source": [
        "from torchvision.utils import make_grid\n",
        "\n",
        "def show_batch(dl):\n",
        "    for images, labels in dl:\n",
        "        fig, ax = plt.subplots(figsize=(16, 16))\n",
        "        ax.set_xticks([]); ax.set_yticks([])\n",
        "        images = denormalize(images[:64], *imagenet_stats)\n",
        "        ax.imshow(make_grid(images, nrow=8).permute(1, 2, 0))\n",
        "        break\n"
      ],
      "metadata": {
        "id": "f0rvJI-fQgiN",
        "execution": {
          "iopub.status.busy": "2024-01-16T11:05:53.110061Z",
          "iopub.execute_input": "2024-01-16T11:05:53.110444Z",
          "iopub.status.idle": "2024-01-16T11:05:53.116501Z",
          "shell.execute_reply.started": "2024-01-16T11:05:53.110414Z",
          "shell.execute_reply": "2024-01-16T11:05:53.115554Z"
        },
        "trusted": true
      },
      "execution_count": null,
      "outputs": []
    },
    {
      "cell_type": "code",
      "source": [
        "show_batch(train_dl)"
      ],
      "metadata": {
        "colab": {
          "base_uri": "https://localhost:8080/",
          "height": 904
        },
        "id": "5aNGKoZMQq7i",
        "outputId": "5abc3278-ed44-476a-dfba-86dee2407f7b",
        "execution": {
          "iopub.status.busy": "2024-01-16T11:05:56.284439Z",
          "iopub.execute_input": "2024-01-16T11:05:56.284871Z",
          "iopub.status.idle": "2024-01-16T11:06:04.721699Z",
          "shell.execute_reply.started": "2024-01-16T11:05:56.284837Z",
          "shell.execute_reply": "2024-01-16T11:06:04.720236Z"
        },
        "trusted": true
      },
      "execution_count": null,
      "outputs": []
    },
    {
      "cell_type": "markdown",
      "source": [
        "## Modifying a Pretrained Model (ResNet34)\n",
        "\n",
        "Transfer learning ([source](https://mc.ai/transfer-learning-with-deep-learning-machine-learning-techniques/)):\n",
        "![transfer-learning](https://miro.medium.com/max/1000/1*LUFUl_8fqS97nUzpcFjgWw.png)\n"
      ],
      "metadata": {
        "id": "4RNuArO0d9Gz"
      }
    },
    {
      "cell_type": "code",
      "source": [
        "import torch.nn as nn\n",
        "import torch.nn.functional as F\n",
        "\n",
        "def accuracy(outputs, labels):\n",
        "    _, preds = torch.max(outputs, dim=1)\n",
        "    return torch.tensor(torch.sum(preds == labels).item() / len(preds))\n",
        "\n",
        "\n",
        "class ImageClassificationBase(nn.Module):\n",
        "    def training_step(self, batch):\n",
        "        images, labels = batch\n",
        "        out = self(images)                  # Generate predictions\n",
        "        loss = F.cross_entropy(out, labels)  # Calculate loss\n",
        "        return loss\n",
        "\n",
        "    def validation_step(self, batch):\n",
        "        images, labels = batch\n",
        "        out = self(images)                    # Generate predictions\n",
        "        loss = F.cross_entropy(out, labels)   # Calculate loss\n",
        "        acc = accuracy(out, labels)           # Calculate accuracy\n",
        "        return {'val_loss': loss.detach(), 'val_acc': acc}\n",
        "\n",
        "    def validation_epoch_end(self, outputs):\n",
        "        batch_losses = [x['val_loss'] for x in outputs]\n",
        "        epoch_loss = torch.stack(batch_losses).mean()   # Combine losses\n",
        "        batch_accs = [x['val_acc'] for x in outputs]\n",
        "        epoch_acc = torch.stack(batch_accs).mean()      # Combine accuracies\n",
        "        return {'val_loss': epoch_loss.item(), 'val_acc': epoch_acc.item()}\n",
        "\n",
        "    def epoch_end(self, epoch, result):\n",
        "        print(\"Epoch [{}],{} train_loss: {:.4f}, val_loss: {:.4f}, val_acc: {:.4f}\".format(\n",
        "            epoch, \"last_lr: {:.5f},\".format(result['lrs'][-1]) if 'lrs' in result else '',\n",
        "            result['train_loss'], result['val_loss'], result['val_acc']))\n"
      ],
      "metadata": {
        "id": "K-pIWJXBXVSj",
        "execution": {
          "iopub.status.busy": "2024-01-16T11:07:14.656397Z",
          "iopub.execute_input": "2024-01-16T11:07:14.656784Z",
          "iopub.status.idle": "2024-01-16T11:07:14.667649Z",
          "shell.execute_reply.started": "2024-01-16T11:07:14.656754Z",
          "shell.execute_reply": "2024-01-16T11:07:14.666617Z"
        },
        "trusted": true
      },
      "execution_count": null,
      "outputs": []
    },
    {
      "cell_type": "code",
      "source": [
        "from torchvision import models\n",
        "\n",
        "class PetsModel(ImageClassificationBase):\n",
        "    def __init__(self, num_classes, pretrained=True):\n",
        "        super().__init__()\n",
        "        # Use a pretrained model\n",
        "        self.network = models.resnet34(pretrained=pretrained)\n",
        "        # Replace last layer\n",
        "        self.network.fc = nn.Linear(self.network.fc.in_features, num_classes)\n",
        "\n",
        "    def forward(self, xb):\n",
        "        return self.network(xb)"
      ],
      "metadata": {
        "id": "7ncIQlzhXVME",
        "execution": {
          "iopub.status.busy": "2024-01-16T11:07:17.231646Z",
          "iopub.execute_input": "2024-01-16T11:07:17.232603Z",
          "iopub.status.idle": "2024-01-16T11:07:17.238499Z",
          "shell.execute_reply.started": "2024-01-16T11:07:17.232559Z",
          "shell.execute_reply": "2024-01-16T11:07:17.237530Z"
        },
        "trusted": true
      },
      "execution_count": null,
      "outputs": []
    },
    {
      "cell_type": "code",
      "source": [
        "model.resnets34()"
      ],
      "metadata": {
        "execution": {
          "iopub.status.busy": "2024-01-16T11:15:20.627030Z",
          "iopub.execute_input": "2024-01-16T11:15:20.627740Z",
          "iopub.status.idle": "2024-01-16T11:15:20.666413Z",
          "shell.execute_reply.started": "2024-01-16T11:15:20.627705Z",
          "shell.execute_reply": "2024-01-16T11:15:20.665086Z"
        },
        "trusted": true,
        "id": "TRgiPTS2A-M7",
        "outputId": "5c11b1f2-5ca6-420c-ac50-58269b4fad81"
      },
      "execution_count": null,
      "outputs": [
        {
          "traceback": [
            "\u001b[0;31m---------------------------------------------------------------------------\u001b[0m",
            "\u001b[0;31mAttributeError\u001b[0m                            Traceback (most recent call last)",
            "Cell \u001b[0;32mIn[50], line 1\u001b[0m\n\u001b[0;32m----> 1\u001b[0m \u001b[43mmodel\u001b[49m\u001b[38;5;241;43m.\u001b[39;49m\u001b[43mresnets34\u001b[49m()\n",
            "File \u001b[0;32m/opt/conda/lib/python3.10/site-packages/torch/nn/modules/module.py:1614\u001b[0m, in \u001b[0;36mModule.__getattr__\u001b[0;34m(self, name)\u001b[0m\n\u001b[1;32m   1612\u001b[0m     \u001b[38;5;28;01mif\u001b[39;00m name \u001b[38;5;129;01min\u001b[39;00m modules:\n\u001b[1;32m   1613\u001b[0m         \u001b[38;5;28;01mreturn\u001b[39;00m modules[name]\n\u001b[0;32m-> 1614\u001b[0m \u001b[38;5;28;01mraise\u001b[39;00m \u001b[38;5;167;01mAttributeError\u001b[39;00m(\u001b[38;5;124m\"\u001b[39m\u001b[38;5;124m'\u001b[39m\u001b[38;5;132;01m{}\u001b[39;00m\u001b[38;5;124m'\u001b[39m\u001b[38;5;124m object has no attribute \u001b[39m\u001b[38;5;124m'\u001b[39m\u001b[38;5;132;01m{}\u001b[39;00m\u001b[38;5;124m'\u001b[39m\u001b[38;5;124m\"\u001b[39m\u001b[38;5;241m.\u001b[39mformat(\n\u001b[1;32m   1615\u001b[0m     \u001b[38;5;28mtype\u001b[39m(\u001b[38;5;28mself\u001b[39m)\u001b[38;5;241m.\u001b[39m\u001b[38;5;18m__name__\u001b[39m, name))\n",
            "\u001b[0;31mAttributeError\u001b[0m: 'PetsModel' object has no attribute 'resnets34'"
          ],
          "ename": "AttributeError",
          "evalue": "'PetsModel' object has no attribute 'resnets34'",
          "output_type": "error"
        }
      ]
    },
    {
      "cell_type": "code",
      "source": [
        "# Also loads the corresponding required weights\n",
        "model.resnet34(pretrained=True)\n",
        "resnets = model.resnet34(pretrained=True)"
      ],
      "metadata": {
        "execution": {
          "iopub.status.busy": "2024-01-16T11:07:24.242829Z",
          "iopub.execute_input": "2024-01-16T11:07:24.243713Z",
          "iopub.status.idle": "2024-01-16T11:07:24.272113Z",
          "shell.execute_reply.started": "2024-01-16T11:07:24.243677Z",
          "shell.execute_reply": "2024-01-16T11:07:24.270934Z"
        },
        "trusted": true,
        "id": "WcHPe82rA-M8",
        "outputId": "73144e6c-c9a6-4ecd-865d-d4f556b39159"
      },
      "execution_count": null,
      "outputs": [
        {
          "traceback": [
            "\u001b[0;31m---------------------------------------------------------------------------\u001b[0m",
            "\u001b[0;31mNameError\u001b[0m                                 Traceback (most recent call last)",
            "Cell \u001b[0;32mIn[43], line 2\u001b[0m\n\u001b[1;32m      1\u001b[0m \u001b[38;5;66;03m# Also loads the corresponding required weights\u001b[39;00m\n\u001b[0;32m----> 2\u001b[0m \u001b[43mmodel\u001b[49m\u001b[38;5;241m.\u001b[39mresnet34(pretrained\u001b[38;5;241m=\u001b[39m\u001b[38;5;28;01mTrue\u001b[39;00m)\n\u001b[1;32m      3\u001b[0m resnets \u001b[38;5;241m=\u001b[39m model\u001b[38;5;241m.\u001b[39mresnet34(pretrained\u001b[38;5;241m=\u001b[39m\u001b[38;5;28;01mTrue\u001b[39;00m)\n",
            "\u001b[0;31mNameError\u001b[0m: name 'model' is not defined"
          ],
          "ename": "NameError",
          "evalue": "name 'model' is not defined",
          "output_type": "error"
        }
      ]
    },
    {
      "cell_type": "markdown",
      "source": [
        "## GPU Utilities and Training Loop"
      ],
      "metadata": {
        "id": "-bvKLeNffc2P"
      }
    },
    {
      "cell_type": "code",
      "source": [
        "def get_default_device():\n",
        "    \"\"\"Pick GPU if available, else CPU\"\"\"\n",
        "    if torch.cuda.is_available():\n",
        "        return torch.device('cuda')\n",
        "    else:\n",
        "        return torch.device('cpu')\n",
        "\n",
        "\n",
        "def to_device(data, device):\n",
        "    \"\"\"Move tensor(s) to chosen device\"\"\"\n",
        "    if isinstance(data, (list, tuple)):\n",
        "        return [to_device(x, device) for x in data]\n",
        "    return data.to(device, non_blocking=True)\n",
        "\n",
        "\n",
        "class DeviceDataLoader():\n",
        "    \"\"\"Wrap a dataloader to move data to a device\"\"\"\n",
        "\n",
        "    def __init__(self, dl, device):\n",
        "        self.dl = dl\n",
        "        self.device = device\n",
        "\n",
        "    def __iter__(self):\n",
        "        \"\"\"Yield a batch of data after moving it to device\"\"\"\n",
        "        for b in self.dl:\n",
        "            yield to_device(b, self.device)\n",
        "\n",
        "    def __len__(self):\n",
        "        \"\"\"Number of batches\"\"\"\n",
        "        return len(self.dl)\n"
      ],
      "metadata": {
        "id": "weYjvsVcXVGp",
        "execution": {
          "iopub.status.busy": "2024-01-16T11:14:46.396369Z",
          "iopub.execute_input": "2024-01-16T11:14:46.397309Z",
          "iopub.status.idle": "2024-01-16T11:14:46.405454Z",
          "shell.execute_reply.started": "2024-01-16T11:14:46.397274Z",
          "shell.execute_reply": "2024-01-16T11:14:46.404388Z"
        },
        "trusted": true
      },
      "execution_count": null,
      "outputs": []
    },
    {
      "cell_type": "code",
      "source": [
        "import torch\n",
        "from tqdm.notebook import tqdm\n",
        "\n",
        "@torch.no_grad()\n",
        "def evaluate(model, val_loader):\n",
        "    model.eval()\n",
        "    outputs = [model.validation_step(batch) for batch in val_loader]\n",
        "    return model.validation_epoch_end(outputs)\n",
        "\n",
        "\n",
        "def fit(epochs, lr, model, train_loader, val_loader, opt_func=torch.optim.SGD):\n",
        "    history = []\n",
        "    optimizer = opt_func(model.parameters(), lr)\n",
        "    for epoch in range(epochs):\n",
        "        # Training Phase\n",
        "        model.train()\n",
        "        train_losses = []\n",
        "        for batch in tqdm(train_loader):\n",
        "            loss = model.training_step(batch)\n",
        "            train_losses.append(loss)\n",
        "            loss.backward()\n",
        "            optimizer.step()\n",
        "            optimizer.zero_grad()\n",
        "        # Validation phase\n",
        "        result = evaluate(model, val_loader)\n",
        "        result['train_loss'] = torch.stack(train_losses).mean().item()\n",
        "        model.epoch_end(epoch, result)\n",
        "        history.append(result)\n",
        "    return history\n",
        "\n",
        "def get_lr(optimizer):\n",
        "    for param_group in optimizer.param_groups:\n",
        "        return param_group['lr']\n",
        "\n",
        "def fit_one_cycle(epochs, max_lr, model, train_loader, val_loader,\n",
        "                  weight_decay=0, grad_clip=None, opt_func=torch.optim.SGD):\n",
        "    torch.cuda.empty_cache()\n",
        "    history = []\n",
        "\n",
        "    # Set up custom optimizer with weight decay\n",
        "    optimizer = opt_func(model.parameters(), max_lr, weight_decay=weight_decay)\n",
        "    # Set up one-cycle learning rate scheduler\n",
        "    sched = torch.optim.lr_scheduler.OneCycleLR(optimizer, max_lr, epochs=epochs,\n",
        "                                                steps_per_epoch=len(train_loader))\n",
        "\n",
        "    for epoch in range(epochs):\n",
        "        # Training Phase\n",
        "        model.train()\n",
        "        train_losses = []\n",
        "        lrs = []\n",
        "        for batch in tqdm(train_loader):\n",
        "            loss = model.training_step(batch)\n",
        "            train_losses.append(loss)\n",
        "            loss.backward()\n",
        "\n",
        "            # Gradient clipping\n",
        "            if grad_clip:\n",
        "                nn.utils.clip_grad_value_(model.parameters(), grad_clip)\n",
        "\n",
        "            optimizer.step()\n",
        "            optimizer.zero_grad()\n",
        "\n",
        "            # Record & update learning rate\n",
        "            lrs.append(get_lr(optimizer))\n",
        "            sched.step()\n",
        "\n",
        "        # Validation phase\n",
        "        result = evaluate(model, val_loader)\n",
        "        result['train_loss'] = torch.stack(train_losses).mean().item()\n",
        "        result['lrs'] = lrs\n",
        "        model.epoch_end(epoch, result)\n",
        "        history.append(result)\n",
        "    return history"
      ],
      "metadata": {
        "id": "-j7wv19nXVAg",
        "execution": {
          "iopub.status.busy": "2024-01-16T11:16:53.913553Z",
          "iopub.execute_input": "2024-01-16T11:16:53.914396Z",
          "iopub.status.idle": "2024-01-16T11:16:53.928785Z",
          "shell.execute_reply.started": "2024-01-16T11:16:53.914361Z",
          "shell.execute_reply": "2024-01-16T11:16:53.927541Z"
        },
        "trusted": true
      },
      "execution_count": null,
      "outputs": []
    },
    {
      "cell_type": "code",
      "source": [
        "device = get_default_device()\n",
        "device"
      ],
      "metadata": {
        "colab": {
          "base_uri": "https://localhost:8080/"
        },
        "id": "SV3Li7zwf670",
        "outputId": "fca12409-fe1b-4a26-fe0f-b79c6ff38e09",
        "execution": {
          "iopub.status.busy": "2024-01-16T11:14:56.321428Z",
          "iopub.execute_input": "2024-01-16T11:14:56.321815Z",
          "iopub.status.idle": "2024-01-16T11:14:56.328399Z",
          "shell.execute_reply.started": "2024-01-16T11:14:56.321788Z",
          "shell.execute_reply": "2024-01-16T11:14:56.327372Z"
        },
        "trusted": true
      },
      "execution_count": null,
      "outputs": [
        {
          "execution_count": 46,
          "output_type": "execute_result",
          "data": {
            "text/plain": "device(type='cuda')"
          },
          "metadata": {}
        }
      ]
    },
    {
      "cell_type": "code",
      "source": [
        "train_dl = DeviceDataLoader(train_dl, device)\n",
        "valid_dl = DeviceDataLoader(valid_dl, device)"
      ],
      "metadata": {
        "id": "J4_ziabQX707",
        "execution": {
          "iopub.status.busy": "2024-01-16T11:16:58.366626Z",
          "iopub.execute_input": "2024-01-16T11:16:58.367000Z",
          "iopub.status.idle": "2024-01-16T11:16:58.371791Z",
          "shell.execute_reply.started": "2024-01-16T11:16:58.366971Z",
          "shell.execute_reply": "2024-01-16T11:16:58.370770Z"
        },
        "trusted": true
      },
      "execution_count": null,
      "outputs": []
    },
    {
      "cell_type": "markdown",
      "source": [
        "## Finetuning the Pretrained Model"
      ],
      "metadata": {
        "id": "LWdLxtcaeTXL"
      }
    },
    {
      "cell_type": "code",
      "source": [
        "model = PetsModel(len(dataset.classes),pretrained=True)\n",
        "to_device(model, device);"
      ],
      "metadata": {
        "id": "ObJp776jYBop",
        "execution": {
          "iopub.status.busy": "2024-01-16T11:15:01.457110Z",
          "iopub.execute_input": "2024-01-16T11:15:01.457977Z",
          "iopub.status.idle": "2024-01-16T11:15:03.571833Z",
          "shell.execute_reply.started": "2024-01-16T11:15:01.457941Z",
          "shell.execute_reply": "2024-01-16T11:15:03.570902Z"
        },
        "trusted": true,
        "outputId": "30bb5c6c-c128-4f4c-c37b-15b16b6b8441"
      },
      "execution_count": null,
      "outputs": [
        {
          "name": "stderr",
          "text": "/opt/conda/lib/python3.10/site-packages/torchvision/models/_utils.py:208: UserWarning: The parameter 'pretrained' is deprecated since 0.13 and may be removed in the future, please use 'weights' instead.\n  warnings.warn(\n/opt/conda/lib/python3.10/site-packages/torchvision/models/_utils.py:223: UserWarning: Arguments other than a weight enum or `None` for 'weights' are deprecated since 0.13 and may be removed in the future. The current behavior is equivalent to passing `weights=ResNet34_Weights.IMAGENET1K_V1`. You can also use `weights=ResNet34_Weights.DEFAULT` to get the most up-to-date weights.\n  warnings.warn(msg)\nDownloading: \"https://download.pytorch.org/models/resnet34-b627a593.pth\" to /root/.cache/torch/hub/checkpoints/resnet34-b627a593.pth\n100%|██████████| 83.3M/83.3M [00:01<00:00, 54.3MB/s]\n",
          "output_type": "stream"
        }
      ]
    },
    {
      "cell_type": "code",
      "source": [
        "history = [evaluate(model, valid_dl)]\n",
        "history"
      ],
      "metadata": {
        "colab": {
          "base_uri": "https://localhost:8080/"
        },
        "id": "Kxhsgt6xYC-8",
        "outputId": "4c5774e3-d53c-41d8-cc0b-22aaee54aef5",
        "execution": {
          "iopub.status.busy": "2024-01-16T11:17:01.074409Z",
          "iopub.execute_input": "2024-01-16T11:17:01.075373Z",
          "iopub.status.idle": "2024-01-16T11:17:06.088668Z",
          "shell.execute_reply.started": "2024-01-16T11:17:01.075335Z",
          "shell.execute_reply": "2024-01-16T11:17:06.087436Z"
        },
        "trusted": true
      },
      "execution_count": null,
      "outputs": [
        {
          "execution_count": 53,
          "output_type": "execute_result",
          "data": {
            "text/plain": "[{'val_loss': 3.874664306640625, 'val_acc': 0.03029494732618332}]"
          },
          "metadata": {}
        }
      ]
    },
    {
      "cell_type": "code",
      "source": [
        "epochs = 6\n",
        "max_lr = 0.01\n",
        "grad_clip = 0.1\n",
        "weight_decay = 1e-4\n",
        "opt_func = torch.optim.Adam"
      ],
      "metadata": {
        "id": "bqZD-wgfaF2D",
        "execution": {
          "iopub.status.busy": "2024-01-16T11:17:10.378073Z",
          "iopub.execute_input": "2024-01-16T11:17:10.378846Z",
          "iopub.status.idle": "2024-01-16T11:17:10.383376Z",
          "shell.execute_reply.started": "2024-01-16T11:17:10.378814Z",
          "shell.execute_reply": "2024-01-16T11:17:10.382364Z"
        },
        "trusted": true
      },
      "execution_count": null,
      "outputs": []
    },
    {
      "cell_type": "code",
      "source": [
        "%%time\n",
        "history += fit_one_cycle(epochs, max_lr, model, train_dl, valid_dl,\n",
        "                         grad_clip=grad_clip,\n",
        "                         weight_decay=weight_decay,\n",
        "                         opt_func=opt_func)"
      ],
      "metadata": {
        "colab": {
          "base_uri": "https://localhost:8080/",
          "height": 447,
          "referenced_widgets": [
            "a5db48b6ab6345598047453ca72c52af",
            "091dbd6bed0f4031b462e71541186c31",
            "ca21bbd7adea43d6bbea335bcb129b5e",
            "2665e233daad4d788541749463b9deb6",
            "2f5091be9bfe45008b0c787e4e2be404",
            "0bfe1287b0f049739222fdd984a1953b",
            "5ca6b57051ba451aa54f5a5eef424a90",
            "576ec4dcfdac4d40859121b048f4ad80",
            "9a80ffd7b5a246fb82fb023ae77e64e0",
            "faef9ad6882940be8208a181c00a45f9",
            "edbdb8485fdf4349997518ede98662cd",
            "3619c9309e7c47739ba6adebf60d3d73",
            "4a8f218745094aaf9e499926323ffa6f",
            "a11f3df175a64f498dfa08660c06ab19",
            "d8e3b9863827443da908997271440ad1",
            "87d782067cc04519a10b7beae1af2cb3",
            "c3ebdca2a67b405c8cd3fbcb47aacf83",
            "2e09dd3f1ffd4092a4b1e7bf788584c2",
            "f012291576384014abbc539b6a809891",
            "8c78f9523bc34b84904dd7e7da3ea2f4",
            "5d61e8c9ef1743d580143df86651017f",
            "80b72d6bee664adda994653e51a59733",
            "f18c021a3107472ca0c59b6a3f46b8be",
            "43baa1d3641145d08ad042fcd73e5bb3",
            "e7523d89746d4a199e6c1b88f447c8bf",
            "18a67e558e6e4078abbb5137eded08ed",
            "9937738cb225427e8bf842b5a74e66bf",
            "c8e36bd84fc241d0a3d6ed181bb99a21",
            "63c2379d65a44629a5e0df5fb2bdc492",
            "9a2171580fbc4c8fb16e52972c08e128",
            "8f39129f6a7d49fe88a704bcd60417ee",
            "5d0f132d80c44b86964cebc19cd77d16",
            "055b03ded5e243fb9641afe188277fd1",
            "c824552aa746465b9e5c960e7c499e96",
            "5f706a9e782c40b5a5f4f2a0d55d4be5",
            "a4af36959df646f68afb5396c0506672",
            "e2efb24c0b944800b4144e04589b5531",
            "d6b38fbcca0649a9ab52b05836d5c931",
            "dc0a248ec4b34b639d26fa726654587f",
            "17353f67019746c887c56914161a8ecf",
            "03735efbfb7a48a09b950c25819b7bad",
            "f995920d78444169897d8293e5d8f2ed",
            "e3c0622728dc4787905cbccc41dae825",
            "5a6e2c4056604606a075df466b49564a",
            "540e29d0a24b442fa6eafff179a5b1ea",
            "cecf4a25652e424993ae1d56f182dc4e",
            "9adf6a707c8048a9b48f6f2bad4b21c0",
            "1485fce5f6e943088f6297445e8952c7",
            "c8dba183b3a44413a4f8f31c0b60a264",
            "1f01bd75029e48fa94b505f33ed91db8",
            "f1912d6e29b9426381954a724be77e6f",
            "7ed69c5d89ad415982d766ad22b19314",
            "80ab62d05c164dffa4f68bc498e12e54",
            "b5e18a8f0d5b4614ab11a02bebfb9876"
          ]
        },
        "id": "KmiNWolheh-f",
        "outputId": "0624ca2d-0190-4e0a-c248-bbe55f696b4e",
        "execution": {
          "iopub.status.busy": "2024-01-16T11:17:14.403825Z",
          "iopub.execute_input": "2024-01-16T11:17:14.404683Z",
          "iopub.status.idle": "2024-01-16T11:19:36.606950Z",
          "shell.execute_reply.started": "2024-01-16T11:17:14.404628Z",
          "shell.execute_reply": "2024-01-16T11:19:36.605722Z"
        },
        "trusted": true
      },
      "execution_count": null,
      "outputs": [
        {
          "output_type": "display_data",
          "data": {
            "text/plain": "  0%|          | 0/26 [00:00<?, ?it/s]",
            "application/vnd.jupyter.widget-view+json": {
              "version_major": 2,
              "version_minor": 0,
              "model_id": "c8dba183b3a44413a4f8f31c0b60a264"
            }
          },
          "metadata": {}
        },
        {
          "name": "stdout",
          "text": "Epoch [0],last_lr: 0.00589, train_loss: 1.2896, val_loss: 39.9499, val_acc: 0.0824\n",
          "output_type": "stream"
        },
        {
          "output_type": "display_data",
          "data": {
            "text/plain": "  0%|          | 0/26 [00:00<?, ?it/s]",
            "application/vnd.jupyter.widget-view+json": {
              "version_major": 2,
              "version_minor": 0,
              "model_id": "1f01bd75029e48fa94b505f33ed91db8"
            }
          },
          "metadata": {}
        },
        {
          "name": "stdout",
          "text": "Epoch [1],last_lr: 0.00994, train_loss: 2.1283, val_loss: 2.9395, val_acc: 0.2393\n",
          "output_type": "stream"
        },
        {
          "output_type": "display_data",
          "data": {
            "text/plain": "  0%|          | 0/26 [00:00<?, ?it/s]",
            "application/vnd.jupyter.widget-view+json": {
              "version_major": 2,
              "version_minor": 0,
              "model_id": "f1912d6e29b9426381954a724be77e6f"
            }
          },
          "metadata": {}
        },
        {
          "name": "stdout",
          "text": "Epoch [2],last_lr: 0.00812, train_loss: 1.3715, val_loss: 2.9348, val_acc: 0.3276\n",
          "output_type": "stream"
        },
        {
          "output_type": "display_data",
          "data": {
            "text/plain": "  0%|          | 0/26 [00:00<?, ?it/s]",
            "application/vnd.jupyter.widget-view+json": {
              "version_major": 2,
              "version_minor": 0,
              "model_id": "7ed69c5d89ad415982d766ad22b19314"
            }
          },
          "metadata": {}
        },
        {
          "name": "stdout",
          "text": "Epoch [3],last_lr: 0.00463, train_loss: 0.8822, val_loss: 1.7124, val_acc: 0.5454\n",
          "output_type": "stream"
        },
        {
          "output_type": "display_data",
          "data": {
            "text/plain": "  0%|          | 0/26 [00:00<?, ?it/s]",
            "application/vnd.jupyter.widget-view+json": {
              "version_major": 2,
              "version_minor": 0,
              "model_id": "80ab62d05c164dffa4f68bc498e12e54"
            }
          },
          "metadata": {}
        },
        {
          "name": "stdout",
          "text": "Epoch [4],last_lr: 0.00133, train_loss: 0.5413, val_loss: 0.8469, val_acc: 0.7529\n",
          "output_type": "stream"
        },
        {
          "output_type": "display_data",
          "data": {
            "text/plain": "  0%|          | 0/26 [00:00<?, ?it/s]",
            "application/vnd.jupyter.widget-view+json": {
              "version_major": 2,
              "version_minor": 0,
              "model_id": "b5e18a8f0d5b4614ab11a02bebfb9876"
            }
          },
          "metadata": {}
        },
        {
          "name": "stdout",
          "text": "Epoch [5],last_lr: 0.00000, train_loss: 0.3409, val_loss: 0.6533, val_acc: 0.7910\nCPU times: user 29.7 s, sys: 20.4 s, total: 50.1 s\nWall time: 2min 22s\n",
          "output_type": "stream"
        }
      ]
    },
    {
      "cell_type": "markdown",
      "source": [
        "## Training a model from scratch\n",
        "\n",
        "Let's repeat the training without using weights from the pretrained ResNet34 model."
      ],
      "metadata": {
        "id": "LVPFDYjrfqP_"
      }
    },
    {
      "cell_type": "code",
      "source": [
        "model2 = PetsModel(len(dataset.classes), pretrained=False)\n",
        "to_device(model2, device);"
      ],
      "metadata": {
        "id": "o5ifHK7aaPvS",
        "execution": {
          "iopub.status.busy": "2024-01-16T11:20:01.390505Z",
          "iopub.execute_input": "2024-01-16T11:20:01.390875Z",
          "iopub.status.idle": "2024-01-16T11:20:01.720941Z",
          "shell.execute_reply.started": "2024-01-16T11:20:01.390846Z",
          "shell.execute_reply": "2024-01-16T11:20:01.720102Z"
        },
        "trusted": true
      },
      "execution_count": null,
      "outputs": []
    },
    {
      "cell_type": "code",
      "source": [
        "history2 = [evaluate(model2, valid_dl)]\n",
        "history2"
      ],
      "metadata": {
        "colab": {
          "base_uri": "https://localhost:8080/"
        },
        "id": "y2ml_PscgStb",
        "outputId": "e571216f-0b86-43c4-b4bf-b203b69c97bd",
        "execution": {
          "iopub.status.busy": "2024-01-16T11:20:05.013677Z",
          "iopub.execute_input": "2024-01-16T11:20:05.014563Z",
          "iopub.status.idle": "2024-01-16T11:20:09.288393Z",
          "shell.execute_reply.started": "2024-01-16T11:20:05.014528Z",
          "shell.execute_reply": "2024-01-16T11:20:09.287265Z"
        },
        "trusted": true
      },
      "execution_count": null,
      "outputs": [
        {
          "execution_count": 60,
          "output_type": "execute_result",
          "data": {
            "text/plain": "[{'val_loss': 77.91902923583984, 'val_acc': 0.030316457152366638}]"
          },
          "metadata": {}
        }
      ]
    },
    {
      "cell_type": "code",
      "source": [
        "%%time\n",
        "history2 += fit_one_cycle(epochs, max_lr, model2, train_dl, valid_dl,\n",
        "                         grad_clip=grad_clip,\n",
        "                         weight_decay=weight_decay,\n",
        "                         opt_func=opt_func)"
      ],
      "metadata": {
        "colab": {
          "base_uri": "https://localhost:8080/",
          "height": 447,
          "referenced_widgets": [
            "71fe40885fc3467d8fc4986f364775ae",
            "12953c9f4954496d92102299e94bc13b",
            "794261b071cf4833ae124c49a1df52ce",
            "3cf6a86feeea4850851e539d9fa6ae31",
            "8124e67545e74251a27d2f940ee608ad",
            "b4d2e286d8054634abd485084689ba8c",
            "ab4599f0013e42229e478ac9024b5800",
            "2fea711b186e473db36f6a1e7eb48ec3",
            "46417223ec5640ebbea379a9cc6ea1e3",
            "b53d221621474cd2a31d62c66ec5b3cb",
            "a4bef748c0534670b29e6db300e98353",
            "61b58c8b0fae4cba938fc7c4be85d74b",
            "9e9bb264e8284c8196c44a408d7191eb",
            "13f93ba7576145fea296bfd9d6393564",
            "eb8fd82cd705461a9850596f7cecb95e",
            "5559491f4b0248ff96a2d8f3833967c3",
            "79be0dc3d1a348cd9cf7404d853831d8",
            "359f7a5ff8a949fa9e7bcba283b26d26",
            "5a32bb0380ed490faa89b8bc52c8a973",
            "6b4032bee11745908cbd271d2ef98c40",
            "4816f29dbd4341e88f99469d19ccb073",
            "98115a17cfb0431cb4501b7de6f4dade",
            "f022698bf2504ba4875366f6cf10cdec",
            "930b06e61f09446296c5ad16ddffa39a",
            "cfff98cad595492295d1a87ac86d82c9",
            "15e40f12524c47588b4b0e290a11b8d9",
            "721cc6592be74c98a1b822ff16382675",
            "d7cfa054e1664bc988135ea66de2d4a4",
            "e5397780209347c9b3268d1efeaaf73d",
            "6b66002901db4a2389a6cfd3b6526a29",
            "81b833545ab540d7ab7a715bfae4612b",
            "e5aba23ab82649ba9c767b3e996679df",
            "857028a0047a46779c908530a1d7a33e",
            "5399905d652143d49a6f70daa71d3b4c",
            "428e02448cf24c62a8af18a2841d55c0",
            "0ab86a00ee7f4f73bb19a439e77662df",
            "9dde63cbe677493cb55c432958d52a6d",
            "bd91b594be5d4da4a4548fe3a45f876a",
            "c13fe17713f7418e83e21ce40f55b1d7",
            "7c8aae9571f94419853cafb7d57abdd9",
            "cdf5a724955847c693becb2019c32b8e",
            "374a090625004041acd1eb070b2e2260",
            "c4bfa7a519f64f5c9289f39fbef057b7",
            "de8628afeb744144a36230f95929f17d",
            "48642c53200a4566ba7c224f0e7c6bb1",
            "efc7a2d4a47a4164a3b13636fd5d10c8",
            "75a656319b1d4737aab0c112b593c3c1",
            "062c322c7849439b965ff94c36986b02",
            "1011e6bf0d1544f7a19733a5a3e5953e",
            "3d7812237f364a5793ed1d6f15c87377",
            "38f47a4c091f40f0aa27efe0b0d02ad4",
            "a9537563210944a4ab488112da8b5ea6",
            "b2146e9a0ef4438cb03bec4363b9882d",
            "29896b79d4d94f1187142157e5f2c059"
          ]
        },
        "id": "B9fNyltFghkt",
        "outputId": "7ef5adac-f3ee-4195-f758-ccfb7a859b78",
        "execution": {
          "iopub.status.busy": "2024-01-16T11:20:19.755980Z",
          "iopub.execute_input": "2024-01-16T11:20:19.756343Z",
          "iopub.status.idle": "2024-01-16T11:22:45.846802Z",
          "shell.execute_reply.started": "2024-01-16T11:20:19.756313Z",
          "shell.execute_reply": "2024-01-16T11:22:45.845551Z"
        },
        "trusted": true
      },
      "execution_count": null,
      "outputs": [
        {
          "output_type": "display_data",
          "data": {
            "text/plain": "  0%|          | 0/26 [00:00<?, ?it/s]",
            "application/vnd.jupyter.widget-view+json": {
              "version_major": 2,
              "version_minor": 0,
              "model_id": "1011e6bf0d1544f7a19733a5a3e5953e"
            }
          },
          "metadata": {}
        },
        {
          "name": "stdout",
          "text": "Epoch [0],last_lr: 0.00589, train_loss: 3.5882, val_loss: 122.8458, val_acc: 0.0240\n",
          "output_type": "stream"
        },
        {
          "output_type": "display_data",
          "data": {
            "text/plain": "  0%|          | 0/26 [00:00<?, ?it/s]",
            "application/vnd.jupyter.widget-view+json": {
              "version_major": 2,
              "version_minor": 0,
              "model_id": "3d7812237f364a5793ed1d6f15c87377"
            }
          },
          "metadata": {}
        },
        {
          "name": "stdout",
          "text": "Epoch [1],last_lr: 0.00994, train_loss: 3.4328, val_loss: 4.3124, val_acc: 0.0692\n",
          "output_type": "stream"
        },
        {
          "output_type": "display_data",
          "data": {
            "text/plain": "  0%|          | 0/26 [00:00<?, ?it/s]",
            "application/vnd.jupyter.widget-view+json": {
              "version_major": 2,
              "version_minor": 0,
              "model_id": "38f47a4c091f40f0aa27efe0b0d02ad4"
            }
          },
          "metadata": {}
        },
        {
          "name": "stdout",
          "text": "Epoch [2],last_lr: 0.00812, train_loss: 3.1612, val_loss: 3.6285, val_acc: 0.0875\n",
          "output_type": "stream"
        },
        {
          "output_type": "display_data",
          "data": {
            "text/plain": "  0%|          | 0/26 [00:00<?, ?it/s]",
            "application/vnd.jupyter.widget-view+json": {
              "version_major": 2,
              "version_minor": 0,
              "model_id": "a9537563210944a4ab488112da8b5ea6"
            }
          },
          "metadata": {}
        },
        {
          "name": "stdout",
          "text": "Epoch [3],last_lr: 0.00463, train_loss: 2.9008, val_loss: 3.1846, val_acc: 0.1484\n",
          "output_type": "stream"
        },
        {
          "output_type": "display_data",
          "data": {
            "text/plain": "  0%|          | 0/26 [00:00<?, ?it/s]",
            "application/vnd.jupyter.widget-view+json": {
              "version_major": 2,
              "version_minor": 0,
              "model_id": "b2146e9a0ef4438cb03bec4363b9882d"
            }
          },
          "metadata": {}
        },
        {
          "name": "stdout",
          "text": "Epoch [4],last_lr: 0.00133, train_loss: 2.6612, val_loss: 3.0503, val_acc: 0.1765\n",
          "output_type": "stream"
        },
        {
          "output_type": "display_data",
          "data": {
            "text/plain": "  0%|          | 0/26 [00:00<?, ?it/s]",
            "application/vnd.jupyter.widget-view+json": {
              "version_major": 2,
              "version_minor": 0,
              "model_id": "29896b79d4d94f1187142157e5f2c059"
            }
          },
          "metadata": {}
        },
        {
          "name": "stdout",
          "text": "Epoch [5],last_lr: 0.00000, train_loss: 2.4516, val_loss: 2.6059, val_acc: 0.2459\nCPU times: user 33.1 s, sys: 23.7 s, total: 56.8 s\nWall time: 2min 26s\n",
          "output_type": "stream"
        }
      ]
    },
    {
      "cell_type": "markdown",
      "source": [
        "While the pretrained model reached an accuracy of 80% in less than 3 minutes, the model without pretrained weights could only reach an accuracy of 24%."
      ],
      "metadata": {
        "id": "y2LKA3IkiiaI"
      }
    }
  ]
}